{
 "cells": [
  {
   "metadata": {},
   "cell_type": "markdown",
   "source": [
    "# Adjust Source CSVs\n",
    "This is for tracking purposes only and will not be reproducible.  It makes some small adjustments to previously produced csvs"
   ],
   "id": "4578049ef1941a25"
  },
  {
   "metadata": {},
   "cell_type": "markdown",
   "source": "## Adjust CSVs",
   "id": "f8fb7c4738ca9505"
  },
  {
   "metadata": {
    "ExecuteTime": {
     "end_time": "2025-04-23T00:02:33.847932Z",
     "start_time": "2025-04-23T00:02:33.223341Z"
    }
   },
   "cell_type": "code",
   "source": [
    "import pandas as pd\n",
    "\n",
    "# Items\n",
    "res_df = pd.read_csv('source-csvs/old-items.csv')\n",
    "res_df['family'] = res_df['name'].str.split('_').str[0]\n",
    "res_df.rename(columns={'item_type': 'type'}, inplace=True)\n",
    "res_df[\"is_finished_product\"] = res_df['type'] == \"PRODUCT\"\n",
    "res_df.drop(columns=['type'], inplace=True)\n",
    "res_df"
   ],
   "id": "b0000b243084cd8a",
   "outputs": [
    {
     "data": {
      "text/plain": [
       "          sku_id                   name           family  is_finished_product\n",
       "0       12243661       MachineRig_RJ5GJ       MachineRig                False\n",
       "1       28499719       MachineRig_UDX6O       MachineRig                False\n",
       "2       28246025    DrivePlatform_3BBGZ    DrivePlatform                False\n",
       "3       28722634  HydraulicSystem_L2JQB  HydraulicSystem                False\n",
       "4       28263736     ChassisFrame_GGKHK     ChassisFrame                False\n",
       "...          ...                    ...              ...                  ...\n",
       "233604  25367709    CropHarvester_LN658    CropHarvester                 True\n",
       "233605  25372957     HayCollector_NJ25P     HayCollector                 True\n",
       "233606  28052594     HayCollector_DAGOZ     HayCollector                 True\n",
       "233607  28092207    CropHarvester_0P88T    CropHarvester                 True\n",
       "233608  28441313      SeedPlanter_8OGPX      SeedPlanter                 True\n",
       "\n",
       "[233609 rows x 4 columns]"
      ],
      "text/html": [
       "<div>\n",
       "<style scoped>\n",
       "    .dataframe tbody tr th:only-of-type {\n",
       "        vertical-align: middle;\n",
       "    }\n",
       "\n",
       "    .dataframe tbody tr th {\n",
       "        vertical-align: top;\n",
       "    }\n",
       "\n",
       "    .dataframe thead th {\n",
       "        text-align: right;\n",
       "    }\n",
       "</style>\n",
       "<table border=\"1\" class=\"dataframe\">\n",
       "  <thead>\n",
       "    <tr style=\"text-align: right;\">\n",
       "      <th></th>\n",
       "      <th>sku_id</th>\n",
       "      <th>name</th>\n",
       "      <th>family</th>\n",
       "      <th>is_finished_product</th>\n",
       "    </tr>\n",
       "  </thead>\n",
       "  <tbody>\n",
       "    <tr>\n",
       "      <th>0</th>\n",
       "      <td>12243661</td>\n",
       "      <td>MachineRig_RJ5GJ</td>\n",
       "      <td>MachineRig</td>\n",
       "      <td>False</td>\n",
       "    </tr>\n",
       "    <tr>\n",
       "      <th>1</th>\n",
       "      <td>28499719</td>\n",
       "      <td>MachineRig_UDX6O</td>\n",
       "      <td>MachineRig</td>\n",
       "      <td>False</td>\n",
       "    </tr>\n",
       "    <tr>\n",
       "      <th>2</th>\n",
       "      <td>28246025</td>\n",
       "      <td>DrivePlatform_3BBGZ</td>\n",
       "      <td>DrivePlatform</td>\n",
       "      <td>False</td>\n",
       "    </tr>\n",
       "    <tr>\n",
       "      <th>3</th>\n",
       "      <td>28722634</td>\n",
       "      <td>HydraulicSystem_L2JQB</td>\n",
       "      <td>HydraulicSystem</td>\n",
       "      <td>False</td>\n",
       "    </tr>\n",
       "    <tr>\n",
       "      <th>4</th>\n",
       "      <td>28263736</td>\n",
       "      <td>ChassisFrame_GGKHK</td>\n",
       "      <td>ChassisFrame</td>\n",
       "      <td>False</td>\n",
       "    </tr>\n",
       "    <tr>\n",
       "      <th>...</th>\n",
       "      <td>...</td>\n",
       "      <td>...</td>\n",
       "      <td>...</td>\n",
       "      <td>...</td>\n",
       "    </tr>\n",
       "    <tr>\n",
       "      <th>233604</th>\n",
       "      <td>25367709</td>\n",
       "      <td>CropHarvester_LN658</td>\n",
       "      <td>CropHarvester</td>\n",
       "      <td>True</td>\n",
       "    </tr>\n",
       "    <tr>\n",
       "      <th>233605</th>\n",
       "      <td>25372957</td>\n",
       "      <td>HayCollector_NJ25P</td>\n",
       "      <td>HayCollector</td>\n",
       "      <td>True</td>\n",
       "    </tr>\n",
       "    <tr>\n",
       "      <th>233606</th>\n",
       "      <td>28052594</td>\n",
       "      <td>HayCollector_DAGOZ</td>\n",
       "      <td>HayCollector</td>\n",
       "      <td>True</td>\n",
       "    </tr>\n",
       "    <tr>\n",
       "      <th>233607</th>\n",
       "      <td>28092207</td>\n",
       "      <td>CropHarvester_0P88T</td>\n",
       "      <td>CropHarvester</td>\n",
       "      <td>True</td>\n",
       "    </tr>\n",
       "    <tr>\n",
       "      <th>233608</th>\n",
       "      <td>28441313</td>\n",
       "      <td>SeedPlanter_8OGPX</td>\n",
       "      <td>SeedPlanter</td>\n",
       "      <td>True</td>\n",
       "    </tr>\n",
       "  </tbody>\n",
       "</table>\n",
       "<p>233609 rows × 4 columns</p>\n",
       "</div>"
      ]
     },
     "execution_count": 17,
     "metadata": {},
     "output_type": "execute_result"
    }
   ],
   "execution_count": 17
  },
  {
   "metadata": {
    "ExecuteTime": {
     "end_time": "2025-04-23T00:03:15.575900Z",
     "start_time": "2025-04-23T00:03:15.381343Z"
    }
   },
   "cell_type": "code",
   "source": "res_df.to_csv('source-csvs/items.csv', index=False)",
   "id": "a0571e7f489fa777",
   "outputs": [],
   "execution_count": 18
  },
  {
   "metadata": {},
   "cell_type": "markdown",
   "source": "## Upload to Google Cloud Storage",
   "id": "9869b7a615192306"
  },
  {
   "metadata": {
    "ExecuteTime": {
     "end_time": "2025-04-23T00:03:25.909682Z",
     "start_time": "2025-04-23T00:03:18.999948Z"
    }
   },
   "cell_type": "code",
   "source": "!gcloud auth application-default login > /dev/null 2>&1",
   "id": "1f1881cb74698d0d",
   "outputs": [],
   "execution_count": 19
  },
  {
   "metadata": {
    "ExecuteTime": {
     "end_time": "2025-04-23T00:03:37.810820Z",
     "start_time": "2025-04-23T00:03:31.052631Z"
    }
   },
   "cell_type": "code",
   "source": "!gsutil cp source-csvs/items.csv gs://neo4j-workshop-data/genai-bom",
   "id": "67458b0db182266a",
   "outputs": [
    {
     "name": "stdout",
     "output_type": "stream",
     "text": [
      "Copying file://source-csvs/items.csv [Content-Type=text/csv]...\r\n",
      "\\ [1 files][ 10.6 MiB/ 10.6 MiB]                                                \r [0 files][  1.0 MiB/ 10.6 MiB]                                                |/-\r\n",
      "Operation completed over 1 objects/10.6 MiB.                                     \r\n"
     ]
    }
   ],
   "execution_count": 20
  }
 ],
 "metadata": {
  "kernelspec": {
   "display_name": "Python 3",
   "language": "python",
   "name": "python3"
  },
  "language_info": {
   "codemirror_mode": {
    "name": "ipython",
    "version": 2
   },
   "file_extension": ".py",
   "mimetype": "text/x-python",
   "name": "python",
   "nbconvert_exporter": "python",
   "pygments_lexer": "ipython2",
   "version": "2.7.6"
  }
 },
 "nbformat": 4,
 "nbformat_minor": 5
}
