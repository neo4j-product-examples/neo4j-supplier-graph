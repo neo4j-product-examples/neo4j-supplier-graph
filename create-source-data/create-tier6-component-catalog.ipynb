{
 "cells": [
  {
   "metadata": {},
   "cell_type": "markdown",
   "source": "# Generate Components Catalog",
   "id": "1c12f5617f652d3"
  },
  {
   "metadata": {},
   "cell_type": "markdown",
   "source": "## Setup",
   "id": "2f4815a1844230a7"
  },
  {
   "metadata": {
    "ExecuteTime": {
     "end_time": "2025-04-22T16:58:36.508416Z",
     "start_time": "2025-04-22T16:58:36.498845Z"
    }
   },
   "cell_type": "code",
   "outputs": [],
   "execution_count": 1,
   "source": [
    "import getpass\n",
    "import os\n",
    "\n",
    "from dotenv import load_dotenv\n",
    "\n",
    "load_dotenv(override=True)\n",
    "\n",
    "if \"GOOGLE_API_KEY\" not in os.environ:\n",
    "    os.environ[\"GOOGLE_API_KEY\"] = getpass.getpass(\"Enter your Google AI API key: \")"
   ],
   "id": "8f33bc12f1c6d7a2"
  },
  {
   "metadata": {
    "ExecuteTime": {
     "end_time": "2025-04-22T16:19:55.700994Z",
     "start_time": "2025-04-22T16:19:51.800504Z"
    }
   },
   "cell_type": "code",
   "source": "%pip install -qU langchain-google-genai",
   "id": "4c4f47dc75d109be",
   "outputs": [
    {
     "name": "stdout",
     "output_type": "stream",
     "text": [
      "Note: you may need to restart the kernel to use updated packages.\n"
     ]
    }
   ],
   "execution_count": 15
  },
  {
   "metadata": {
    "ExecuteTime": {
     "end_time": "2025-04-22T16:58:37.270744Z",
     "start_time": "2025-04-22T16:58:36.683102Z"
    }
   },
   "cell_type": "code",
   "source": [
    "from langchain_google_genai import ChatGoogleGenerativeAI\n",
    "\n",
    "llm = ChatGoogleGenerativeAI(\n",
    "    model=\"gemini-2.5-pro-preview-03-25\",\n",
    "    temperature=0,\n",
    "    max_tokens=None,\n",
    "    timeout=None,\n",
    "    max_retries=2,\n",
    "    # other params...\n",
    ")"
   ],
   "id": "afefeb57307df6f4",
   "outputs": [],
   "execution_count": 2
  },
  {
   "metadata": {
    "ExecuteTime": {
     "end_time": "2025-04-22T16:58:49.915239Z",
     "start_time": "2025-04-22T16:58:38.616554Z"
    }
   },
   "cell_type": "code",
   "source": [
    "messages = [\n",
    "    (\n",
    "        \"system\",\n",
    "        \"You are a helpful assistant that translates English to French. Translate the user sentence.\",\n",
    "    ),\n",
    "    (\"human\", \"I love programming.\"),\n",
    "]\n",
    "ai_msg = llm.invoke(messages)\n",
    "ai_msg"
   ],
   "id": "88caa95d87f7341f",
   "outputs": [
    {
     "data": {
      "text/plain": [
       "AIMessage(content='Here are a few options, depending on the nuance you want:\\n\\n1.  **J\\'adore programmer.** (This is the most common and natural way to express strong liking or \"love\" for an activity like programming. \"Adorer\" means \"to adore\" or \"to love\" in this context.)\\n2.  **J\\'aime beaucoup programmer.** (This means \"I like programming a lot\" or \"I really like programming\", which is also a very good translation for \"I love programming\".)\\n3.  **J\\'aime la programmation.** (This uses the noun \"programming\" and means \"I like programming\" or \"I love programming\" - focusing slightly more on the field itself.)\\n4.  **J\\'adore la programmation.** (Similar to the previous one, but with stronger emphasis using \"adorer\".)\\n\\nThe most idiomatic and frequently used translation is **J\\'adore programmer.**', additional_kwargs={}, response_metadata={'prompt_feedback': {'block_reason': 0, 'safety_ratings': []}, 'finish_reason': 'STOP', 'model_name': 'gemini-2.5-pro-preview-03-25', 'safety_ratings': []}, id='run-dc4cd281-d0d7-4057-a168-ca52aa0957b3-0', usage_metadata={'input_tokens': 21, 'output_tokens': 1042, 'total_tokens': 1063, 'input_token_details': {'cache_read': 0}})"
      ]
     },
     "execution_count": 3,
     "metadata": {},
     "output_type": "execute_result"
    }
   ],
   "execution_count": 3
  },
  {
   "metadata": {},
   "cell_type": "markdown",
   "source": "## Simulate Content",
   "id": "3e65cf819f0e4086"
  },
  {
   "metadata": {
    "collapsed": true,
    "ExecuteTime": {
     "end_time": "2025-04-22T16:58:49.939973Z",
     "start_time": "2025-04-22T16:58:49.928675Z"
    }
   },
   "cell_type": "code",
   "source": [
    "from langchain_core.prompts import PromptTemplate\n",
    "\n",
    "PROMPT_TEMPLATE = PromptTemplate.from_template(\"\"\"\n",
    "You are helping simulate a bill of materials (BOM) dataset that will demonstrate the power of GraphRAG (Graph Retrieval Augmented Generation) for BOM and supply chain analysis.\n",
    "A big topic/concern now is finding the impact of tariffs and supply chain shortages. Specifically how such prices and disruptions for upstream components may effect downstream product costs and availability.\n",
    "\n",
    "This specific supply chain we are simulating is focused on manufacturing agricultural equipment.\n",
    "\n",
    "Below is a list of components that are part of a bill of materials. For each component please provide a component catalog entry. The entry should\n",
    "\n",
    "1. be in the narrative style of a catalog section\n",
    "2. include information about the raw materials used to make the component and where they are sourced (to provide for the analytics described above)\n",
    "3. include descriptions about what the component is and its uses.\n",
    "\n",
    "\n",
    "## Component List\n",
    "{componentList}\n",
    "\"\"\")"
   ],
   "id": "initial_id",
   "outputs": [],
   "execution_count": 4
  },
  {
   "metadata": {
    "ExecuteTime": {
     "end_time": "2025-04-22T16:58:49.949453Z",
     "start_time": "2025-04-22T16:58:49.945240Z"
    }
   },
   "cell_type": "code",
   "source": [
    "from typing import List\n",
    "from pydantic import BaseModel, Field\n",
    "\n",
    "\n",
    "#define inputs\n",
    "class Component(BaseModel):\n",
    "    skuId: str = Field(..., description=\"The unique identifier for the component\")\n",
    "    name: str = Field(..., description=\"The descriptive name of the component\")\n",
    "\n",
    "class ComponentList(BaseModel):\n",
    "    components: list[Component] = Field(..., description=\"A list of components to be included in the catalog\")\n",
    "\n",
    "#define outputs\n",
    "class CatalogEntry(BaseModel):\n",
    "    \"\"\"\n",
    "    Represents a catalog entry with detailed information for a single component\n",
    "    \"\"\"\n",
    "    skuId: str = Field(..., description=\"The provided component sku_id to trace back this entry to the product in downstream data processing\")\n",
    "    name: str = Field(..., description=\"The provided component name to trace back this entry to the product in downstream data processing\")\n",
    "    entry: str = Field(..., description=\"The catalog entry that includes the raw materials, sourcing, and descriptions\")\n",
    "\n",
    "class CatalogEntries(BaseModel):\n",
    "    \"\"\"\n",
    "    A list of catalog entries\n",
    "    \"\"\"\n",
    "    entries: List[CatalogEntry] = Field(..., description=\"A list of catalog entries for each component\")"
   ],
   "id": "6e38813e5ac745dd",
   "outputs": [],
   "execution_count": 5
  },
  {
   "metadata": {
    "ExecuteTime": {
     "end_time": "2025-04-22T16:58:49.965336Z",
     "start_time": "2025-04-22T16:58:49.960848Z"
    }
   },
   "cell_type": "code",
   "source": "llm_for_catalog = llm.with_structured_output(CatalogEntries)",
   "id": "759b44c1fc1c7765",
   "outputs": [],
   "execution_count": 6
  },
  {
   "metadata": {
    "ExecuteTime": {
     "end_time": "2025-04-22T16:58:50.037174Z",
     "start_time": "2025-04-22T16:58:49.992450Z"
    }
   },
   "cell_type": "code",
   "source": [
    "from tqdm.asyncio import tqdm as tqdm_async\n",
    "import asyncio\n",
    "\n",
    "\n",
    "def chunks(xs, n=10):\n",
    "    n = max(1, n)\n",
    "    return [xs[i:i + n] for i in range(0, len(xs), n)]\n",
    "\n",
    "async def placeholder_llm(components:List[Component]) -> List[CatalogEntry]:\n",
    "    component_list = ComponentList(components=components)\n",
    "    entries = []\n",
    "    for component in component_list.components:\n",
    "        entries.append(CatalogEntry(skuId=component.skuId, name=component.name, entry=\"placeholder entry....\"))\n",
    "    return entries\n",
    "\n",
    "async def sim_entries(components:List[Component], semaphore) -> List[CatalogEntry]:\n",
    "    async with semaphore:\n",
    "        prompt = PROMPT_TEMPLATE.invoke({'componentList': ComponentList(components=components).model_dump_json(indent=4)})\n",
    "        # pprint(prompt.text)\n",
    "        # Use structured LLM for extraction\n",
    "        catalog_entries:CatalogEntries = await llm_for_catalog.ainvoke(prompt)\n",
    "    return catalog_entries.entries\n",
    "\n",
    "async def sim_all_entries(components:List[Component], chunk_size=10, max_workers=10) -> List[CatalogEntry]:\n",
    "\n",
    "    # Create a semaphore with the desired number of workers\n",
    "    semaphore = asyncio.Semaphore(max_workers)\n",
    "\n",
    "    # Create tasks with the semaphore\n",
    "    component_chunks = chunks(components, chunk_size)\n",
    "    tasks = [sim_entries(component_chunk, semaphore) for component_chunk in component_chunks]\n",
    "\n",
    "    # Explicitly update progress using `tqdm` as tasks complete\n",
    "    entries: List[CatalogEntry] = []\n",
    "    with tqdm_async(total=len(tasks), desc=\"Simulating Catalog Entries\") as pbar:\n",
    "        for future in asyncio.as_completed(tasks):\n",
    "            result = await future\n",
    "            entries.extend(result)\n",
    "            pbar.update(1)  # Increment progress bar for each completed task\n",
    "    return entries\n"
   ],
   "id": "15d5b4bb72b200ac",
   "outputs": [],
   "execution_count": 7
  },
  {
   "metadata": {
    "ExecuteTime": {
     "end_time": "2025-04-22T16:58:51.529886Z",
     "start_time": "2025-04-22T16:58:51.116529Z"
    }
   },
   "cell_type": "code",
   "source": [
    "import pandas as pd\n",
    "\n",
    "df = pd.read_csv(\"source-csvs/items-estimated-tier-6.csv\")\n",
    "df"
   ],
   "id": "5be901b35f58fa82",
   "outputs": [
    {
     "data": {
      "text/plain": [
       "         sku_id                 name\n",
       "0     M1519819X       Fastener_TDE9S\n",
       "1      KM100605           Bolt_HZU3P\n",
       "2    M5637H75FX       Fastener_UJIDT\n",
       "3      KM100373     RubberSeal_QLYES\n",
       "4      M7687Q89     RubberSeal_7Y9HE\n",
       "..          ...                  ...\n",
       "289    KM100368            Rod_A11CF\n",
       "290    KM100335        RawWire_B2QZM\n",
       "291   M5272R68X  PrecisionBolt_OP7DY\n",
       "292    M7669U85        Casting_KKZJL\n",
       "293   M8976XN7X     RubberSeal_G4BQ5\n",
       "\n",
       "[294 rows x 2 columns]"
      ],
      "text/html": [
       "<div>\n",
       "<style scoped>\n",
       "    .dataframe tbody tr th:only-of-type {\n",
       "        vertical-align: middle;\n",
       "    }\n",
       "\n",
       "    .dataframe tbody tr th {\n",
       "        vertical-align: top;\n",
       "    }\n",
       "\n",
       "    .dataframe thead th {\n",
       "        text-align: right;\n",
       "    }\n",
       "</style>\n",
       "<table border=\"1\" class=\"dataframe\">\n",
       "  <thead>\n",
       "    <tr style=\"text-align: right;\">\n",
       "      <th></th>\n",
       "      <th>sku_id</th>\n",
       "      <th>name</th>\n",
       "    </tr>\n",
       "  </thead>\n",
       "  <tbody>\n",
       "    <tr>\n",
       "      <th>0</th>\n",
       "      <td>M1519819X</td>\n",
       "      <td>Fastener_TDE9S</td>\n",
       "    </tr>\n",
       "    <tr>\n",
       "      <th>1</th>\n",
       "      <td>KM100605</td>\n",
       "      <td>Bolt_HZU3P</td>\n",
       "    </tr>\n",
       "    <tr>\n",
       "      <th>2</th>\n",
       "      <td>M5637H75FX</td>\n",
       "      <td>Fastener_UJIDT</td>\n",
       "    </tr>\n",
       "    <tr>\n",
       "      <th>3</th>\n",
       "      <td>KM100373</td>\n",
       "      <td>RubberSeal_QLYES</td>\n",
       "    </tr>\n",
       "    <tr>\n",
       "      <th>4</th>\n",
       "      <td>M7687Q89</td>\n",
       "      <td>RubberSeal_7Y9HE</td>\n",
       "    </tr>\n",
       "    <tr>\n",
       "      <th>...</th>\n",
       "      <td>...</td>\n",
       "      <td>...</td>\n",
       "    </tr>\n",
       "    <tr>\n",
       "      <th>289</th>\n",
       "      <td>KM100368</td>\n",
       "      <td>Rod_A11CF</td>\n",
       "    </tr>\n",
       "    <tr>\n",
       "      <th>290</th>\n",
       "      <td>KM100335</td>\n",
       "      <td>RawWire_B2QZM</td>\n",
       "    </tr>\n",
       "    <tr>\n",
       "      <th>291</th>\n",
       "      <td>M5272R68X</td>\n",
       "      <td>PrecisionBolt_OP7DY</td>\n",
       "    </tr>\n",
       "    <tr>\n",
       "      <th>292</th>\n",
       "      <td>M7669U85</td>\n",
       "      <td>Casting_KKZJL</td>\n",
       "    </tr>\n",
       "    <tr>\n",
       "      <th>293</th>\n",
       "      <td>M8976XN7X</td>\n",
       "      <td>RubberSeal_G4BQ5</td>\n",
       "    </tr>\n",
       "  </tbody>\n",
       "</table>\n",
       "<p>294 rows × 2 columns</p>\n",
       "</div>"
      ]
     },
     "execution_count": 8,
     "metadata": {},
     "output_type": "execute_result"
    }
   ],
   "execution_count": 8
  },
  {
   "metadata": {
    "ExecuteTime": {
     "end_time": "2025-04-22T16:58:53.296832Z",
     "start_time": "2025-04-22T16:58:53.291354Z"
    }
   },
   "cell_type": "code",
   "source": [
    "components = [Component(skuId=comp['sku_id'], name=comp['name']) for comp in df.to_dict('records')]\n",
    "components[:3]"
   ],
   "id": "a5c1d69517248942",
   "outputs": [
    {
     "data": {
      "text/plain": [
       "[Component(skuId='M1519819X', name='Fastener_TDE9S'),\n",
       " Component(skuId='KM100605', name='Bolt_HZU3P'),\n",
       " Component(skuId='M5637H75FX', name='Fastener_UJIDT')]"
      ]
     },
     "execution_count": 9,
     "metadata": {},
     "output_type": "execute_result"
    }
   ],
   "execution_count": 9
  },
  {
   "metadata": {
    "ExecuteTime": {
     "end_time": "2025-04-22T17:01:07.040616Z",
     "start_time": "2025-04-22T16:58:54.615075Z"
    }
   },
   "cell_type": "code",
   "source": [
    "entries = await sim_all_entries(components)\n",
    "entries[:3]"
   ],
   "id": "48c715515cfcf393",
   "outputs": [
    {
     "name": "stderr",
     "output_type": "stream",
     "text": [
      "Simulating Catalog Entries: 100%|██████████| 30/30 [02:12<00:00,  4.41s/it]\n"
     ]
    },
    {
     "data": {
      "text/plain": [
       "[CatalogEntry(skuId='M6673J13QX', name='PrecisionBolt_LKBIG', entry='The PrecisionBolt_LKBIG is a high-strength fastener engineered for critical applications within heavy agricultural machinery. Manufactured from a specialized high-carbon steel alloy containing chromium and molybdenum, it offers exceptional tensile strength and fatigue resistance. The primary steel component is sourced from mills in China, utilizing iron ore from Australia. Alloying elements are procured globally, with chromium originating from South Africa and molybdenum sourced from mines in Chile. These bolts are essential for securing high-stress assemblies such as engine mounts, transmission housings, and main chassis connections, ensuring operational integrity under demanding field conditions.'),\n",
       " CatalogEntry(skuId='M4882B36X', name='Rod_6TIHG', entry='Rod_6TIHG is a solid medium-carbon steel rod, providing robust performance in linkage and structural applications. The steel is produced in Germany using high-quality iron ore imported primarily from Brazil. This rod is characterized by its durability and machinability, making it suitable for use in steering mechanisms, hydraulic control linkages, and as support elements within the equipment frame. Its consistent material properties ensure reliable load transmission and long service life in typical agricultural operating environments.'),\n",
       " CatalogEntry(skuId='KM101260', name='Rod_T6RUM', entry='Designed for adjustability and tensioning, the Rod_T6RUM is a threaded rod made from Type 304 stainless steel. This material choice provides excellent corrosion resistance, crucial for components exposed to weather and agricultural chemicals. The stainless steel utilizes nickel sourced from Indonesia, chromium from Kazakhstan, and iron ore from Australia, with final processing and manufacturing occurring in India. Common applications include adjustable linkages for implements, tensioning rods for belt systems, and support structures requiring fine-tuning.')]"
      ]
     },
     "execution_count": 10,
     "metadata": {},
     "output_type": "execute_result"
    }
   ],
   "execution_count": 10
  },
  {
   "metadata": {},
   "cell_type": "markdown",
   "source": "## Write to PDF and Store in Google Cloud Storage",
   "id": "23072677701b04bd"
  },
  {
   "metadata": {
    "ExecuteTime": {
     "end_time": "2025-04-22T17:12:53.894719Z",
     "start_time": "2025-04-22T17:12:53.825238Z"
    }
   },
   "cell_type": "code",
   "source": [
    "from fpdf import FPDF\n",
    "from typing import List\n",
    "\n",
    "\n",
    "# Create a PDF generator\n",
    "class PDF(FPDF):\n",
    "    def header(self):\n",
    "        self.set_font(\"Arial\", size=12)\n",
    "        self.set_font(\"Arial\", size=16, style=\"B\")  # Larger font size and bold for a professional look\n",
    "        self.cell(0, 10, \"AG Inc. Components Catalog\", align=\"C\", ln=True)  # Updated title\n",
    "        self.ln(10)\n",
    "\n",
    "    def footer(self):\n",
    "        # Add a page number at the bottom\n",
    "        self.set_y(-15)\n",
    "        self.set_font(\"Arial\", size=8)\n",
    "        self.cell(0, 10, f\"Page {self.page_no()}\", align=\"C\")\n",
    "\n",
    "\n",
    "# Generate PDF\n",
    "pdf = PDF()\n",
    "\n",
    "# Add each entry to the PDF in a new page\n",
    "for entry in entries:\n",
    "    pdf.add_page()\n",
    "    # Enlarge and bold the SKU field\n",
    "    pdf.set_font(\"Arial\", size=14, style=\"B\")\n",
    "    pdf.cell(0, 10, f\"SKU: {entry.skuId}\", ln=True)\n",
    "\n",
    "    # Write the entry's data with normal font\n",
    "    pdf.set_font(\"Arial\", size=12)\n",
    "    pdf.multi_cell(0, 10, entry.entry)\n",
    "\n",
    "# Output the PDF to a file\n",
    "pdf.output(\"component-catalog.pdf\")"
   ],
   "id": "7aa43039345e41a7",
   "outputs": [
    {
     "data": {
      "text/plain": [
       "''"
      ]
     },
     "execution_count": 17,
     "metadata": {},
     "output_type": "execute_result"
    }
   ],
   "execution_count": 17
  },
  {
   "metadata": {
    "ExecuteTime": {
     "end_time": "2025-04-22T17:14:20.441387Z",
     "start_time": "2025-04-22T17:14:18.759474Z"
    }
   },
   "cell_type": "code",
   "source": "!gsutil cp component-catalog.pdf gs://neo4j-workshop-data/genai-bom",
   "id": "aae87f2772b4d811",
   "outputs": [
    {
     "name": "stderr",
     "output_type": "stream",
     "text": [
      "I0000 00:00:1745342058.761571 31881519 fork_posix.cc:75] Other threads are currently calling into gRPC, skipping fork() handlers\n"
     ]
    },
    {
     "name": "stdout",
     "output_type": "stream",
     "text": [
      "Copying file://component-catalog.pdf [Content-Type=application/pdf]...\r\n",
      "/ [1 files][232.1 KiB/232.1 KiB]                                                \r\n",
      "Operation completed over 1 objects/232.1 KiB.                                    \r\n"
     ]
    }
   ],
   "execution_count": 20
  }
 ],
 "metadata": {
  "kernelspec": {
   "display_name": "Python 3",
   "language": "python",
   "name": "python3"
  },
  "language_info": {
   "codemirror_mode": {
    "name": "ipython",
    "version": 2
   },
   "file_extension": ".py",
   "mimetype": "text/x-python",
   "name": "python",
   "nbconvert_exporter": "python",
   "pygments_lexer": "ipython2",
   "version": "2.7.6"
  }
 },
 "nbformat": 4,
 "nbformat_minor": 5
}
