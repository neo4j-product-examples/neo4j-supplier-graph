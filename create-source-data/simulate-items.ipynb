{
 "cells": [
  {
   "metadata": {
    "ExecuteTime": {
     "end_time": "2025-05-26T22:02:46.593533Z",
     "start_time": "2025-05-26T22:02:36.617720Z"
    }
   },
   "cell_type": "code",
   "source": "!gcloud auth application-default login > /dev/null 2>&1",
   "id": "b4e4e2428a128c47",
   "outputs": [],
   "execution_count": 31
  },
  {
   "metadata": {
    "ExecuteTime": {
     "end_time": "2025-05-26T22:21:24.962730Z",
     "start_time": "2025-05-26T22:21:24.958797Z"
    }
   },
   "cell_type": "code",
   "source": [
    "import os\n",
    "import random\n",
    "\n",
    "os.makedirs(\"source-data\", exist_ok=True)\n"
   ],
   "id": "a91a8ef3832debd3",
   "outputs": [],
   "execution_count": 46
  },
  {
   "metadata": {
    "collapsed": true,
    "ExecuteTime": {
     "end_time": "2025-05-26T22:21:26.837077Z",
     "start_time": "2025-05-26T22:21:26.832739Z"
    }
   },
   "cell_type": "code",
   "source": [
    "tier_archetypes = {\n",
    "    \"Tier6\": {\n",
    "        \"RSEL\": \"RubberSeal\",\n",
    "        \"PBLT\": \"PrecisionBolt\",\n",
    "        \"BOLT\": \"Bolt\",\n",
    "        \"TUBE\": \"Tubing\",\n",
    "        \"FAST\": \"Fastener\",\n",
    "        \"WIRE\": \"RawWire\",\n",
    "        \"CAST\": \"Casting\",\n",
    "        \"MROD\": \"Rod\"\n",
    "    },\n",
    "    \"Tier5\": {\n",
    "        \"HFIT\": \"HydraulicFitting\",\n",
    "        \"WRLM\": \"WiringLoom\",\n",
    "        \"BEAR\": \"Bearing\",\n",
    "        \"GSET\": \"GearSet\",\n",
    "        \"GEAR\": \"Gear\",\n",
    "        \"BELT\": \"Belt\",\n",
    "        \"SENS\": \"Sensor\",\n",
    "        \"HARN\": \"Harness\",\n",
    "        \"PULL\": \"Pulley\",\n",
    "        \"SPRG\": \"Spring\",\n",
    "        \"BUSH\": \"Bushing\",\n",
    "        \"CLMP\": \"Clamp\"\n",
    "    },\n",
    "    \"Tier4\": {\n",
    "        \"PUMP\": \"PumpAssembly\",\n",
    "        \"SUNT\": \"SensorUnit\",\n",
    "        \"CVLV\": \"ControlValve\",\n",
    "        \"MDRV\": \"MotorDrive\",\n",
    "        \"CONN\": \"Connector\",\n",
    "        \"CYLR\": \"Cylinder\"\n",
    "    },\n",
    "    \"Tier3\": {\n",
    "        \"ENGC\": \"EngineCore\",\n",
    "        \"AXLE\": \"AxleAssembly\",\n",
    "        \"SCLM\": \"SteeringColumn\",\n",
    "        \"EBOX\": \"ElectricalControlBox\",\n",
    "        \"FRME\": \"FrameSegment\",\n",
    "        \"CMOD\": \"ComponentModule\",\n",
    "        \"SMOD\": \"SensorModule\",\n",
    "        \"CTRL\": \"ControlUnit\",\n",
    "        \"BORD\": \"Board\"\n",
    "    },\n",
    "    \"Tier2\": {\n",
    "        \"MFRM\": \"MachineFrame\",\n",
    "        \"MARM\": \"MachineArm\",\n",
    "        \"OCAB\": \"OperatorCab\",\n",
    "        \"PMOD\": \"PowerSystemModule\",\n",
    "        \"TMKT\": \"ToolMountKit\"\n",
    "    },\n",
    "    \"Tier1\": {\n",
    "        \"DPLT\": \"DrivePlatform\",\n",
    "        \"HSYS\": \"HydraulicSystem\",\n",
    "        \"CFRM\": \"ChassisFrame\",\n",
    "        \"CWRE\": \"CabWiringUnit\",\n",
    "        \"MRIG\": \"MachineRig\",\n",
    "        \"CASM\": \"ControlAssembly\"\n",
    "    },\n",
    "    \"Tier0\": {\n",
    "        \"FTRC\": \"FarmTractor\",\n",
    "        \"CHRV\": \"CropHarvester\",\n",
    "        \"HCOL\": \"HayCollector\",\n",
    "        \"FSPR\": \"FieldSprayer\",\n",
    "        \"SPLT\": \"SeedPlanter\"\n",
    "    }\n",
    "}\n",
    "\n",
    "items_per_tier_arch = {\"Tier6\": (20,50), \"Tier5\": (40,90), \"Tier4\": (40,90), \"Tier3\": (20,50), \"Tier2\": (10,40), \"Tier1\": (8,20), \"Tier0\": (3,10)}"
   ],
   "id": "initial_id",
   "outputs": [],
   "execution_count": 47
  },
  {
   "metadata": {},
   "cell_type": "markdown",
   "source": "",
   "id": "8d715beb6c9456d3"
  },
  {
   "metadata": {
    "ExecuteTime": {
     "end_time": "2025-05-26T22:21:33.663632Z",
     "start_time": "2025-05-26T22:21:33.635070Z"
    }
   },
   "cell_type": "code",
   "source": [
    "import pandas as pd\n",
    "\n",
    "random.seed(7474) #set seed so simulation is consistent\n",
    "bom_items = []\n",
    "for tier, archetypes in tier_archetypes.items():\n",
    "    sample_size_window = items_per_tier_arch[tier]\n",
    "    for arch_sku, archetype in archetypes.items():\n",
    "        num_items = random.randint(sample_size_window[0], sample_size_window[1])\n",
    "        for i in range(num_items):\n",
    "            sku_id = f\"{arch_sku}{tier.replace('Tier', '')}_{i:04d}\"\n",
    "            bom_items.append({\n",
    "                \"sku_id\": sku_id,\n",
    "                \"family\": archetype,\n",
    "                \"tier\":tier})\n",
    "items_df = pd.DataFrame(bom_items)\n",
    "items_df.to_csv(\"source-data/items-stage.csv\", index=False)\n",
    "items_df"
   ],
   "id": "e29d43542b191c7c",
   "outputs": [
    {
     "data": {
      "text/plain": [
       "          sku_id       family   tier\n",
       "0     RSEL6_0000   RubberSeal  Tier6\n",
       "1     RSEL6_0001   RubberSeal  Tier6\n",
       "2     RSEL6_0002   RubberSeal  Tier6\n",
       "3     RSEL6_0003   RubberSeal  Tier6\n",
       "4     RSEL6_0004   RubberSeal  Tier6\n",
       "...          ...          ...    ...\n",
       "1923  SPLT0_0002  SeedPlanter  Tier0\n",
       "1924  SPLT0_0003  SeedPlanter  Tier0\n",
       "1925  SPLT0_0004  SeedPlanter  Tier0\n",
       "1926  SPLT0_0005  SeedPlanter  Tier0\n",
       "1927  SPLT0_0006  SeedPlanter  Tier0\n",
       "\n",
       "[1928 rows x 3 columns]"
      ],
      "text/html": [
       "<div>\n",
       "<style scoped>\n",
       "    .dataframe tbody tr th:only-of-type {\n",
       "        vertical-align: middle;\n",
       "    }\n",
       "\n",
       "    .dataframe tbody tr th {\n",
       "        vertical-align: top;\n",
       "    }\n",
       "\n",
       "    .dataframe thead th {\n",
       "        text-align: right;\n",
       "    }\n",
       "</style>\n",
       "<table border=\"1\" class=\"dataframe\">\n",
       "  <thead>\n",
       "    <tr style=\"text-align: right;\">\n",
       "      <th></th>\n",
       "      <th>sku_id</th>\n",
       "      <th>family</th>\n",
       "      <th>tier</th>\n",
       "    </tr>\n",
       "  </thead>\n",
       "  <tbody>\n",
       "    <tr>\n",
       "      <th>0</th>\n",
       "      <td>RSEL6_0000</td>\n",
       "      <td>RubberSeal</td>\n",
       "      <td>Tier6</td>\n",
       "    </tr>\n",
       "    <tr>\n",
       "      <th>1</th>\n",
       "      <td>RSEL6_0001</td>\n",
       "      <td>RubberSeal</td>\n",
       "      <td>Tier6</td>\n",
       "    </tr>\n",
       "    <tr>\n",
       "      <th>2</th>\n",
       "      <td>RSEL6_0002</td>\n",
       "      <td>RubberSeal</td>\n",
       "      <td>Tier6</td>\n",
       "    </tr>\n",
       "    <tr>\n",
       "      <th>3</th>\n",
       "      <td>RSEL6_0003</td>\n",
       "      <td>RubberSeal</td>\n",
       "      <td>Tier6</td>\n",
       "    </tr>\n",
       "    <tr>\n",
       "      <th>4</th>\n",
       "      <td>RSEL6_0004</td>\n",
       "      <td>RubberSeal</td>\n",
       "      <td>Tier6</td>\n",
       "    </tr>\n",
       "    <tr>\n",
       "      <th>...</th>\n",
       "      <td>...</td>\n",
       "      <td>...</td>\n",
       "      <td>...</td>\n",
       "    </tr>\n",
       "    <tr>\n",
       "      <th>1923</th>\n",
       "      <td>SPLT0_0002</td>\n",
       "      <td>SeedPlanter</td>\n",
       "      <td>Tier0</td>\n",
       "    </tr>\n",
       "    <tr>\n",
       "      <th>1924</th>\n",
       "      <td>SPLT0_0003</td>\n",
       "      <td>SeedPlanter</td>\n",
       "      <td>Tier0</td>\n",
       "    </tr>\n",
       "    <tr>\n",
       "      <th>1925</th>\n",
       "      <td>SPLT0_0004</td>\n",
       "      <td>SeedPlanter</td>\n",
       "      <td>Tier0</td>\n",
       "    </tr>\n",
       "    <tr>\n",
       "      <th>1926</th>\n",
       "      <td>SPLT0_0005</td>\n",
       "      <td>SeedPlanter</td>\n",
       "      <td>Tier0</td>\n",
       "    </tr>\n",
       "    <tr>\n",
       "      <th>1927</th>\n",
       "      <td>SPLT0_0006</td>\n",
       "      <td>SeedPlanter</td>\n",
       "      <td>Tier0</td>\n",
       "    </tr>\n",
       "  </tbody>\n",
       "</table>\n",
       "<p>1928 rows × 3 columns</p>\n",
       "</div>"
      ]
     },
     "execution_count": 48,
     "metadata": {},
     "output_type": "execute_result"
    }
   ],
   "execution_count": 48
  },
  {
   "metadata": {
    "ExecuteTime": {
     "end_time": "2025-05-26T22:21:49.131238Z",
     "start_time": "2025-05-26T22:21:49.126041Z"
    }
   },
   "cell_type": "code",
   "source": [
    "import getpass\n",
    "from dotenv import load_dotenv\n",
    "\n",
    "load_dotenv(override=True)\n",
    "\n",
    "if \"GOOGLE_API_KEY\" not in os.environ:\n",
    "    os.environ[\"GOOGLE_API_KEY\"] = getpass.getpass(\"Enter your Google AI API key: \")"
   ],
   "id": "84d760967c1e5ada",
   "outputs": [],
   "execution_count": 49
  },
  {
   "metadata": {
    "ExecuteTime": {
     "end_time": "2025-05-26T22:22:38.133505Z",
     "start_time": "2025-05-26T22:21:50.049755Z"
    }
   },
   "cell_type": "code",
   "source": [
    "from langchain_google_genai import ChatGoogleGenerativeAI\n",
    "\n",
    "llm = ChatGoogleGenerativeAI(\n",
    "    model=\"gemini-2.5-pro-preview-05-06\",\n",
    "    temperature=0,\n",
    "    max_tokens=None,\n",
    "    timeout=None,\n",
    "    max_retries=2\n",
    ")\n",
    "\n",
    "messages = [\n",
    "    (\n",
    "        \"system\",\n",
    "        \"You are a helpful assistant that translates English to French. Translate the user sentence.\",\n",
    "    ),\n",
    "    (\"human\", \"I love programming.\"),\n",
    "]\n",
    "ai_msg = llm.invoke(messages)\n",
    "ai_msg"
   ],
   "id": "1978c5ac1c3664aa",
   "outputs": [
    {
     "data": {
      "text/plain": [
       "AIMessage(content='J\\'aime la programmation.\\n\\nYou could also say:\\n*   **J\\'adore la programmation.** (This implies a stronger feeling, like \"I adore programming.\")\\n*   **J\\'aime programmer.** (This means \"I love to program,\" focusing on the action.)\\n*   **J\\'adore programmer.** (This means \"I adore programming/to program,\" also focusing on the action with strong emphasis.)\\n\\nThe first option, **J\\'aime la programmation.**, is a direct and common translation.', additional_kwargs={}, response_metadata={'prompt_feedback': {'block_reason': 0, 'safety_ratings': []}, 'finish_reason': 'STOP', 'model_name': 'models/gemini-2.5-pro-preview-05-06', 'safety_ratings': []}, id='run-71b999f6-d9a4-48a7-8ff3-b22778bf9fe6-0', usage_metadata={'input_tokens': 21, 'output_tokens': 110, 'total_tokens': 4600, 'input_token_details': {'cache_read': 0}})"
      ]
     },
     "execution_count": 50,
     "metadata": {},
     "output_type": "execute_result"
    }
   ],
   "execution_count": 50
  },
  {
   "metadata": {
    "ExecuteTime": {
     "end_time": "2025-05-26T22:22:38.149986Z",
     "start_time": "2025-05-26T22:22:38.147055Z"
    }
   },
   "cell_type": "code",
   "source": [
    "from langchain_core.prompts import PromptTemplate\n",
    "\n",
    "TIER_6_PROMPT_TEMPLATE = PromptTemplate.from_template(\"\"\"\n",
    "You are helping simulate a bill of materials (BOM) dataset that will demonstrate the power of GraphRAG (Graph Retrieval Augmented Generation) for BOM and supply chain analysis.\n",
    "A big topic/concern now is finding the impact of tariffs and supply chain shortages. Specifically how such prices and disruptions for upstream components may effect downstream product costs and availability.\n",
    "\n",
    "This specific supply chain we are simulating is focused on manufacturing agricultural equipment.\n",
    "\n",
    "Below is a list of components that are part of a bill of materials. For each component please provide a component catalog entry. The entry should\n",
    "\n",
    "1. be in the narrative style of a catalog section\n",
    "2. include information about the raw materials used to make the component and where they are sourced (to provide for the analytics described above)\n",
    "3. include descriptions about what the component is and its uses.\n",
    "\n",
    "Do not include any text that describes opinions/concerns about tariffs or potential risks. This is just information about the item and its sourcing.\n",
    "\n",
    "\n",
    "\n",
    "\n",
    "## Component List\n",
    "{componentList}\n",
    "\"\"\")"
   ],
   "id": "618c372ac3dffd9",
   "outputs": [],
   "execution_count": 51
  },
  {
   "metadata": {
    "ExecuteTime": {
     "end_time": "2025-05-26T22:22:38.182846Z",
     "start_time": "2025-05-26T22:22:38.171590Z"
    }
   },
   "cell_type": "code",
   "source": [
    "from typing import List\n",
    "from pydantic import BaseModel, Field\n",
    "\n",
    "\n",
    "#define inputs\n",
    "class Component(BaseModel):\n",
    "    skuId: str = Field(..., description=\"The unique identifier for the component\")\n",
    "    family: str = Field(..., description=\"The family the component belongs to describing what type of component it is\")\n",
    "\n",
    "\n",
    "class ComponentList(BaseModel):\n",
    "    components: list[Component] = Field(..., description=\"A list of components to be included in the catalog\")\n",
    "\n",
    "\n",
    "#define outputs\n",
    "class CatalogEntry(BaseModel):\n",
    "    \"\"\"\n",
    "    Represents a catalog entry with detailed information for a single component\n",
    "    \"\"\"\n",
    "    skuId: str = Field(...,\n",
    "                       description=\"The provided component sku_id to trace back this entry to the product in downstream data processing\")\n",
    "    name: str = Field(...,\n",
    "                      description=\"a descriptive name for the component based on the entry\")\n",
    "    entry: str = Field(..., description=\"The catalog entry that includes the raw materials, sourcing, and descriptions\")\n",
    "\n",
    "\n",
    "class CatalogEntries(BaseModel):\n",
    "    \"\"\"\n",
    "    A list of catalog entries\n",
    "    \"\"\"\n",
    "    entries: List[CatalogEntry] = Field(..., description=\"A list of catalog entries for each component\")\n",
    "\n",
    "\n",
    "llm_for_catalog = llm.with_structured_output(CatalogEntries)"
   ],
   "id": "c9955cb43728cc7b",
   "outputs": [],
   "execution_count": 52
  },
  {
   "metadata": {
    "ExecuteTime": {
     "end_time": "2025-05-26T22:22:38.200033Z",
     "start_time": "2025-05-26T22:22:38.196327Z"
    }
   },
   "cell_type": "code",
   "source": [
    "from tqdm.asyncio import tqdm as tqdm_async\n",
    "import asyncio\n",
    "\n",
    "\n",
    "def chunks(xs, n=10):\n",
    "    n = max(1, n)\n",
    "    return [xs[i:i + n] for i in range(0, len(xs), n)]\n",
    "\n",
    "\n",
    "async def sim_entries(components: List[Component], prompt_template, semaphore) -> List[CatalogEntry]:\n",
    "    async with semaphore:\n",
    "        prompt = prompt_template.invoke(\n",
    "            {'componentList': ComponentList(components=components).model_dump_json(indent=4)})\n",
    "        # pprint(prompt.text)\n",
    "        # Use structured LLM for extraction\n",
    "        catalog_entries: CatalogEntries = await llm_for_catalog.ainvoke(prompt)\n",
    "    return catalog_entries.entries\n",
    "\n",
    "\n",
    "async def sim_all_entries(components: List[Component], prompt_template, chunk_size=10, max_workers=10) -> List[CatalogEntry]:\n",
    "    # Create a semaphore with the desired number of workers\n",
    "    semaphore = asyncio.Semaphore(max_workers)\n",
    "\n",
    "    # Create tasks with the semaphore\n",
    "    component_chunks = chunks(components, chunk_size)\n",
    "    tasks = [sim_entries(component_chunk, prompt_template,semaphore) for component_chunk in component_chunks]\n",
    "\n",
    "    # Explicitly update progress using `tqdm` as tasks complete\n",
    "    entries: List[CatalogEntry] = []\n",
    "    with tqdm_async(total=len(tasks), desc=\"Simulating Catalog Entries\") as pbar:\n",
    "        for future in asyncio.as_completed(tasks):\n",
    "            result = await future\n",
    "            entries.extend(result)\n",
    "            pbar.update(1)  # Increment progress bar for each completed task\n",
    "    return entries"
   ],
   "id": "c94fa44828dbad16",
   "outputs": [],
   "execution_count": 53
  },
  {
   "metadata": {
    "ExecuteTime": {
     "end_time": "2025-05-26T22:23:57.437738Z",
     "start_time": "2025-05-26T22:23:57.411982Z"
    }
   },
   "cell_type": "code",
   "source": [
    "components = [Component(skuId=comp['sku_id'], family=comp['family']) for comp in items_df[items_df.tier=='Tier6'].to_dict('records')]\n",
    "components[:3]"
   ],
   "id": "b7ae290a5eeddfd0",
   "outputs": [
    {
     "data": {
      "text/plain": [
       "[Component(skuId='RSEL6_0000', family='RubberSeal'),\n",
       " Component(skuId='RSEL6_0001', family='RubberSeal'),\n",
       " Component(skuId='RSEL6_0002', family='RubberSeal')]"
      ]
     },
     "execution_count": 58,
     "metadata": {},
     "output_type": "execute_result"
    }
   ],
   "execution_count": 58
  },
  {
   "metadata": {
    "ExecuteTime": {
     "end_time": "2025-05-26T22:25:49.974179Z",
     "start_time": "2025-05-26T22:24:01.878058Z"
    }
   },
   "cell_type": "code",
   "source": [
    "entries = await sim_all_entries(components, TIER_6_PROMPT_TEMPLATE)\n",
    "entries[:3]"
   ],
   "id": "d264255fdbeab7b9",
   "outputs": [
    {
     "name": "stderr",
     "output_type": "stream",
     "text": [
      "Simulating Catalog Entries: 100%|██████████| 30/30 [01:48<00:00,  3.60s/it]\n"
     ]
    },
    {
     "data": {
      "text/plain": [
       "[CatalogEntry(skuId='MROD6_0009', name='Hydraulic Piston Rod - 4140 Steel', entry='The MROD6_0009 is a high-strength, precision-engineered steel rod, primarily used as a piston rod in hydraulic systems for heavy-duty agricultural machinery. This component is crafted from chromium-molybdenum steel (4140 grade), renowned for its toughness and wear resistance. The raw steel is predominantly sourced from mills in the United States, with supplementary quantities imported from Germany to ensure consistent supply. Its robust construction allows it to withstand high-pressure environments and repetitive stress cycles, making it ideal for applications such as tractor hydraulic lifts and harvester actuator mechanisms.'),\n",
       " CatalogEntry(skuId='MROD6_0010', name='Linkage Rod - Medium Carbon Steel', entry='Introducing the MROD6_0010, a versatile linkage rod designed for connecting various mechanical parts in agricultural implements. This rod is manufactured from medium-carbon steel (1045 grade), chosen for its excellent balance of strength and ductility. The primary source for this steel is Brazil, with secondary sourcing from India. The MROD6_0010 is often utilized in planter row units and cultivator linkages, providing reliable transmission of motion and force. Its surface is typically treated for corrosion resistance to endure harsh farming environments.'),\n",
       " CatalogEntry(skuId='MROD6_0011', name='Actuator Rod - 6061 Aluminum', entry='The MROD6_0011 model is a lightweight yet durable actuator rod, specifically developed for precision control systems in modern farming equipment. It is constructed from high-grade 6061 aluminum alloy, valued for its corrosion resistance and favorable strength-to-weight ratio. The aluminum billets are sourced from smelters in Canada and Australia. This rod is commonly found in automated steering systems and sensor adjustment mechanisms on sprayers and combines, where minimizing weight without compromising strength is critical.')]"
      ]
     },
     "execution_count": 59,
     "metadata": {},
     "output_type": "execute_result"
    }
   ],
   "execution_count": 59
  },
  {
   "metadata": {
    "ExecuteTime": {
     "end_time": "2025-05-26T22:29:01.094531Z",
     "start_time": "2025-05-26T22:29:01.017665Z"
    }
   },
   "cell_type": "code",
   "source": [
    "from fpdf import FPDF\n",
    "from typing import List\n",
    "\n",
    "\n",
    "# Create a PDF generator\n",
    "class PDF(FPDF):\n",
    "    def header(self):\n",
    "        self.set_font(\"Arial\", size=12)\n",
    "        self.set_font(\"Arial\", size=16, style=\"B\")  # Larger font size and bold for a professional look\n",
    "        self.cell(0, 10, \"AG Inc. Components Catalog\", align=\"C\", ln=True)  # Updated title\n",
    "        self.ln(10)\n",
    "\n",
    "    def footer(self):\n",
    "        # Add a page number at the bottom\n",
    "        self.set_y(-15)\n",
    "        self.set_font(\"Arial\", size=8)\n",
    "        self.cell(0, 10, f\"Page {self.page_no()}\", align=\"C\")\n",
    "\n",
    "\n",
    "# Generate PDF\n",
    "pdf = PDF()\n",
    "\n",
    "# Add each entry to the PDF in a new page\n",
    "for entry in entries:\n",
    "    pdf.add_page()\n",
    "    # Add product name as title with larger font\n",
    "    pdf.set_font(\"Arial\", size=18, style=\"B\")\n",
    "    pdf.cell(0, 15, entry.name, ln=True, align=\"C\")  # Centered alignment\n",
    "\n",
    "    # Add some space after the title\n",
    "    pdf.ln(5)\n",
    "\n",
    "    # Enlarge and bold the SKU field\n",
    "    pdf.set_font(\"Arial\", size=14, style=\"B\")\n",
    "\n",
    "\n",
    "    pdf.cell(0, 10, f\"SKU: {entry.skuId}\", ln=True)\n",
    "\n",
    "    # Write the entry's data with normal font\n",
    "    pdf.set_font(\"Arial\", size=12)\n",
    "    pdf.multi_cell(0, 10, entry.entry)\n",
    "\n",
    "# Output the PDF to a file\n",
    "pdf.output(\"source-data/component-catalog.pdf\")"
   ],
   "id": "ef76d02bbf9966e3",
   "outputs": [
    {
     "data": {
      "text/plain": [
       "''"
      ]
     },
     "execution_count": 62,
     "metadata": {},
     "output_type": "execute_result"
    }
   ],
   "execution_count": 62
  },
  {
   "metadata": {
    "ExecuteTime": {
     "end_time": "2025-05-26T23:27:09.246426Z",
     "start_time": "2025-05-26T23:27:09.240669Z"
    }
   },
   "cell_type": "code",
   "source": [
    "TIER_5_TO_1_PROMPT_TEMPLATE = PromptTemplate.from_template(\"\"\"\n",
    "You are helping simulate a bill of materials (BOM) dataset that will demonstrate the power of GraphRAG (Graph Retrieval Augmented Generation) for BOM and supply chain analysis. This is for a fictional company \"Ag Inc.\" that manufactures agricultural equipment.\n",
    "\n",
    "Below is a list of items that are part of the BOM. For each item please provide a\n",
    "1. name\n",
    "2. short description\n",
    "3. a list of inputs from the inputPartsList\n",
    "\n",
    "This BOM works in tiers that represents depth in the BOM chain.  the lower the tier, the closer it is to finished product, the higher it is, the more simple the item and closer to raw inputs it is.\n",
    "\n",
    "The list of items below are at Tier{tier}. When choosing inputs, prioritize those in the next highest tier: Tier{nextHighestTier} (this should maker up your biggest portion of inputs) followed by Tier{nextHighestTier2}, Tier{nextHighestTier3}, etc. each level making up a smaller portion of inputs.\n",
    "\n",
    "## Item List\n",
    "{inputItemList}\n",
    "\n",
    "## Input Part List\n",
    "{inputPartsList}`\n",
    "\"\"\")"
   ],
   "id": "f14f8653ed62752f",
   "outputs": [],
   "execution_count": 71
  },
  {
   "metadata": {
    "ExecuteTime": {
     "end_time": "2025-05-26T23:27:11.865545Z",
     "start_time": "2025-05-26T23:27:11.846434Z"
    }
   },
   "cell_type": "code",
   "source": [
    "# items\n",
    "class InputItem(BaseModel):\n",
    "    skuId: str = Field(..., description=\"The unique identifier for the item\")\n",
    "    family: str = Field(..., description=\"The family the item belongs to describing what type of item it is\")\n",
    "\n",
    "class InputItemList(BaseModel):\n",
    "    items: list[InputItem] = Field(..., description=\"A list of items to be included in the BOM\")\n",
    "\n",
    "#parts\n",
    "class InputPart(BaseModel):\n",
    "    tier:str = Field(..., description=\"The BOM tier of the part\")\n",
    "    skuId: str = Field(..., description=\"The unique identifier for the item\")\n",
    "    name: str = Field(...,\n",
    "                      description=\"a descriptive name for the part\")\n",
    "    description: str = Field(..., description=\"A short description of the part\")\n",
    "\n",
    "class InputPartsList(BaseModel):\n",
    "    parts: list[InputPart] = Field(..., description=\"A list of parts to be included in the BOM\")\n",
    "\n",
    "#outputs\n",
    "class OutputItem(BaseModel):\n",
    "    skuId: str = Field(..., description=\"The provided item sku_id to trace back this item in downstream data processing\")\n",
    "    name: str = Field(...,\n",
    "                      description=\"a descriptive name for the item.\")\n",
    "    description: str = Field(..., description=\"A short description of the item (a couple sentences). Don't mention the tier. \")\n",
    "    inputs: List[str] = Field(..., description=\"A list of input part sku_ids for the item\")\n",
    "\n",
    "class OutputItemList(BaseModel):\n",
    "    items: list[OutputItem] = Field(..., description=\"A list of items to be included in the BOM\")\n",
    "\n",
    "\n",
    "llm_for_bom = llm.with_structured_output(OutputItemList)\n",
    "\n",
    "async def sim_bom_items(\n",
    "        items: List[InputItem],\n",
    "        parts: List[InputPart],\n",
    "        tier: int,\n",
    "        semaphore) -> List[OutputItem]:\n",
    "    async with semaphore:\n",
    "        prompt = TIER_5_TO_1_PROMPT_TEMPLATE.invoke(\n",
    "            {\n",
    "                'tier': tier,\n",
    "                'nextHighestTier': tier + 1,\n",
    "                'nextHighestTier2': tier + 2,\n",
    "                'nextHighestTier3': tier + 3,\n",
    "                'inputItemList': InputItemList(items=items).model_dump_json(indent=4),\n",
    "                'inputPartsList': InputPartsList(parts=parts).model_dump_json(indent=4),\n",
    "             })\n",
    "        # pprint(prompt.text)\n",
    "        # Use structured LLM for extraction\n",
    "        output_times: OutputItemList = await llm_for_bom.ainvoke(prompt)\n",
    "    return output_times.items\n",
    "\n",
    "async def sim_all_bom_items_at_tier(\n",
    "        items: List[InputItem],\n",
    "        parts: List[InputPart],\n",
    "        tier: int,\n",
    "        chunk_size=10,\n",
    "        max_workers=10) -> List[OutputItem]:\n",
    "    # Create a semaphore with the desired number of workers\n",
    "    semaphore = asyncio.Semaphore(max_workers)\n",
    "\n",
    "    # Create tasks with the semaphore\n",
    "    item_chunks = chunks(items, chunk_size)\n",
    "    tasks = [sim_bom_items(item_chunk, parts, tier,semaphore) for item_chunk in item_chunks]\n",
    "\n",
    "    # Explicitly update progress using `tqdm` as tasks complete\n",
    "    output_items: List[OutputItem] = []\n",
    "    with tqdm_async(total=len(tasks), desc=\"Simulating BOM Items\") as pbar:\n",
    "        for future in asyncio.as_completed(tasks):\n",
    "            result = await future\n",
    "            output_items.extend(result)\n",
    "            pbar.update(1)  # Increment progress bar for each completed task\n",
    "    return output_items"
   ],
   "id": "560bb7b4af9ac116",
   "outputs": [],
   "execution_count": 72
  },
  {
   "metadata": {
    "ExecuteTime": {
     "end_time": "2025-05-26T23:53:02.111222Z",
     "start_time": "2025-05-26T23:45:23.017379Z"
    }
   },
   "cell_type": "code",
   "source": [
    "import json\n",
    "\n",
    "os.makedirs(\"source-data/tmp\", exist_ok=True)\n",
    "\n",
    "bom_items = []\n",
    "input_parts = [InputPart(tier='Tier6', skuId=part.skuId, name=part.name, description='') for part in entries][:3]\n",
    "for i in range(5,-1, -1):\n",
    "    print(f\"Simulating BOM Items at Tier{i}\")\n",
    "    input_items = [InputItem(skuId=comp['sku_id'], family=comp['family']) for comp in items_df[items_df.tier==f'Tier{i}'].to_dict('records')][:3]\n",
    "    output_items = await sim_all_bom_items_at_tier(input_items, input_parts, i)\n",
    "    pd.DataFrame([part.model_dump() for part in output_items]).to_csv()\n",
    "    with open(f\"source-data/tmp/bom-items-tier{i}.csv\", \"w\") as f:\n",
    "        json.dump(output_items.model, f, indent=4)\n",
    "    input_parts.extend([InputPart(tier=f'Tier{i}', skuId=part.skuId, name=part.name, description=part.description) for part in output_items])\n",
    "    bom_items.extend(output_items)"
   ],
   "id": "2ad3581b0f7f665e",
   "outputs": [
    {
     "name": "stdout",
     "output_type": "stream",
     "text": [
      "Simulating BOM Items at Tier5\n"
     ]
    },
    {
     "name": "stderr",
     "output_type": "stream",
     "text": [
      "Simulating BOM Items: 100%|██████████| 1/1 [00:18<00:00, 18.27s/it]\n"
     ]
    },
    {
     "name": "stdout",
     "output_type": "stream",
     "text": [
      "Simulating BOM Items at Tier4\n"
     ]
    },
    {
     "name": "stderr",
     "output_type": "stream",
     "text": [
      "Simulating BOM Items: 100%|██████████| 1/1 [00:20<00:00, 20.90s/it]\n"
     ]
    },
    {
     "name": "stdout",
     "output_type": "stream",
     "text": [
      "Simulating BOM Items at Tier3\n"
     ]
    },
    {
     "name": "stderr",
     "output_type": "stream",
     "text": [
      "Simulating BOM Items: 100%|██████████| 1/1 [00:14<00:00, 14.32s/it]\n"
     ]
    },
    {
     "name": "stdout",
     "output_type": "stream",
     "text": [
      "Simulating BOM Items at Tier2\n"
     ]
    },
    {
     "name": "stderr",
     "output_type": "stream",
     "text": [
      "Simulating BOM Items: 100%|██████████| 1/1 [02:19<00:00, 139.49s/it]\n"
     ]
    },
    {
     "name": "stdout",
     "output_type": "stream",
     "text": [
      "Simulating BOM Items at Tier1\n"
     ]
    },
    {
     "name": "stderr",
     "output_type": "stream",
     "text": [
      "Simulating BOM Items: 100%|██████████| 1/1 [02:25<00:00, 145.72s/it]\n"
     ]
    },
    {
     "name": "stdout",
     "output_type": "stream",
     "text": [
      "Simulating BOM Items at Tier0\n"
     ]
    },
    {
     "name": "stderr",
     "output_type": "stream",
     "text": [
      "Simulating BOM Items: 100%|██████████| 1/1 [02:00<00:00, 120.32s/it]\n"
     ]
    }
   ],
   "execution_count": 82
  },
  {
   "metadata": {
    "ExecuteTime": {
     "end_time": "2025-05-26T23:55:58.445475Z",
     "start_time": "2025-05-26T23:55:58.386469Z"
    }
   },
   "cell_type": "code",
   "source": "pd.DataFrame([part.model_dump() for part in input_parts]).to_csv()",
   "id": "a4fc01db1cb56f8c",
   "outputs": [
    {
     "data": {
      "text/plain": [
       "         skuId                                              name  \\\n",
       "0   MROD6_0009                 Hydraulic Piston Rod - 4140 Steel   \n",
       "1   MROD6_0010                 Linkage Rod - Medium Carbon Steel   \n",
       "2   MROD6_0011                      Actuator Rod - 6061 Aluminum   \n",
       "3   HFIT5_0000      Straight Hydraulic Connector Fitting - Steel   \n",
       "4   HFIT5_0001  90-Degree Elbow Hydraulic Fitting - Carbon Steel   \n",
       "5   HFIT5_0002             Bulkhead Hydraulic Fitting - Aluminum   \n",
       "6   PUMP4_0000             Standard Duty Hydraulic Pump Assembly   \n",
       "7   PUMP4_0001                Heavy Duty Hydraulic Pump Assembly   \n",
       "8   PUMP4_0002                   Compact Hydraulic Pump Assembly   \n",
       "9   ENGC3_0000         Standard Performance Engine Core Assembly   \n",
       "10  ENGC3_0001                  High-Output Engine Core Assembly   \n",
       "11  ENGC3_0002                      Compact Engine Core Assembly   \n",
       "12  MFRM2_0000                     Standard Machine Frame Module   \n",
       "13  MFRM2_0001                   Heavy-Duty Machine Frame Module   \n",
       "14  MFRM2_0002                      Compact Machine Frame Module   \n",
       "15  DPLT1_0000             Standard Drive Platform Core Assembly   \n",
       "16  DPLT1_0001           Heavy-Duty Drive Platform Core Assembly   \n",
       "17  DPLT1_0002              Compact Drive Platform Core Assembly   \n",
       "18  FTRC0_0000              AgInc FarmTractor Model S (Standard)   \n",
       "19  FTRC0_0001           AgInc FarmTractor Model HD (Heavy-Duty)   \n",
       "20  FTRC0_0002               AgInc FarmTractor Model C (Compact)   \n",
       "\n",
       "                                          description  \n",
       "0                                                      \n",
       "1                                                      \n",
       "2                                                      \n",
       "3   A Tier 5 straight connector fitting, machined ...  \n",
       "4   A Tier 5 90-degree elbow hydraulic fitting, cr...  \n",
       "5   A Tier 5 hydraulic bulkhead fitting, manufactu...  \n",
       "6   A Tier 4 standard duty hydraulic pump assembly...  \n",
       "7   A Tier 4 heavy-duty hydraulic pump assembly en...  \n",
       "8   A Tier 4 compact hydraulic pump assembly, opti...  \n",
       "9   A Tier 3 standard performance engine core for ...  \n",
       "10  A Tier 3 high-output engine core designed for ...  \n",
       "11  A Tier 3 compact engine core optimized for Ag ...  \n",
       "12  A Tier 2 standard machine frame module for Ag ...  \n",
       "13  A Tier 2 heavy-duty machine frame module desig...  \n",
       "14  A Tier 2 compact machine frame module optimize...  \n",
       "15  A Tier 1 core assembly for Ag Inc. standard ag...  \n",
       "16  A Tier 1 core assembly for Ag Inc. heavy-duty ...  \n",
       "17  A Tier 1 core assembly for Ag Inc. compact agr...  \n",
       "18  The AgInc FarmTractor Model S is a Tier 0 gene...  \n",
       "19  The AgInc FarmTractor Model HD is a robust Tie...  \n",
       "20  The AgInc FarmTractor Model C is a Tier 0 comp...  "
      ],
      "text/html": [
       "<div>\n",
       "<style scoped>\n",
       "    .dataframe tbody tr th:only-of-type {\n",
       "        vertical-align: middle;\n",
       "    }\n",
       "\n",
       "    .dataframe tbody tr th {\n",
       "        vertical-align: top;\n",
       "    }\n",
       "\n",
       "    .dataframe thead th {\n",
       "        text-align: right;\n",
       "    }\n",
       "</style>\n",
       "<table border=\"1\" class=\"dataframe\">\n",
       "  <thead>\n",
       "    <tr style=\"text-align: right;\">\n",
       "      <th></th>\n",
       "      <th>skuId</th>\n",
       "      <th>name</th>\n",
       "      <th>description</th>\n",
       "    </tr>\n",
       "  </thead>\n",
       "  <tbody>\n",
       "    <tr>\n",
       "      <th>0</th>\n",
       "      <td>MROD6_0009</td>\n",
       "      <td>Hydraulic Piston Rod - 4140 Steel</td>\n",
       "      <td></td>\n",
       "    </tr>\n",
       "    <tr>\n",
       "      <th>1</th>\n",
       "      <td>MROD6_0010</td>\n",
       "      <td>Linkage Rod - Medium Carbon Steel</td>\n",
       "      <td></td>\n",
       "    </tr>\n",
       "    <tr>\n",
       "      <th>2</th>\n",
       "      <td>MROD6_0011</td>\n",
       "      <td>Actuator Rod - 6061 Aluminum</td>\n",
       "      <td></td>\n",
       "    </tr>\n",
       "    <tr>\n",
       "      <th>3</th>\n",
       "      <td>HFIT5_0000</td>\n",
       "      <td>Straight Hydraulic Connector Fitting - Steel</td>\n",
       "      <td>A Tier 5 straight connector fitting, machined ...</td>\n",
       "    </tr>\n",
       "    <tr>\n",
       "      <th>4</th>\n",
       "      <td>HFIT5_0001</td>\n",
       "      <td>90-Degree Elbow Hydraulic Fitting - Carbon Steel</td>\n",
       "      <td>A Tier 5 90-degree elbow hydraulic fitting, cr...</td>\n",
       "    </tr>\n",
       "    <tr>\n",
       "      <th>5</th>\n",
       "      <td>HFIT5_0002</td>\n",
       "      <td>Bulkhead Hydraulic Fitting - Aluminum</td>\n",
       "      <td>A Tier 5 hydraulic bulkhead fitting, manufactu...</td>\n",
       "    </tr>\n",
       "    <tr>\n",
       "      <th>6</th>\n",
       "      <td>PUMP4_0000</td>\n",
       "      <td>Standard Duty Hydraulic Pump Assembly</td>\n",
       "      <td>A Tier 4 standard duty hydraulic pump assembly...</td>\n",
       "    </tr>\n",
       "    <tr>\n",
       "      <th>7</th>\n",
       "      <td>PUMP4_0001</td>\n",
       "      <td>Heavy Duty Hydraulic Pump Assembly</td>\n",
       "      <td>A Tier 4 heavy-duty hydraulic pump assembly en...</td>\n",
       "    </tr>\n",
       "    <tr>\n",
       "      <th>8</th>\n",
       "      <td>PUMP4_0002</td>\n",
       "      <td>Compact Hydraulic Pump Assembly</td>\n",
       "      <td>A Tier 4 compact hydraulic pump assembly, opti...</td>\n",
       "    </tr>\n",
       "    <tr>\n",
       "      <th>9</th>\n",
       "      <td>ENGC3_0000</td>\n",
       "      <td>Standard Performance Engine Core Assembly</td>\n",
       "      <td>A Tier 3 standard performance engine core for ...</td>\n",
       "    </tr>\n",
       "    <tr>\n",
       "      <th>10</th>\n",
       "      <td>ENGC3_0001</td>\n",
       "      <td>High-Output Engine Core Assembly</td>\n",
       "      <td>A Tier 3 high-output engine core designed for ...</td>\n",
       "    </tr>\n",
       "    <tr>\n",
       "      <th>11</th>\n",
       "      <td>ENGC3_0002</td>\n",
       "      <td>Compact Engine Core Assembly</td>\n",
       "      <td>A Tier 3 compact engine core optimized for Ag ...</td>\n",
       "    </tr>\n",
       "    <tr>\n",
       "      <th>12</th>\n",
       "      <td>MFRM2_0000</td>\n",
       "      <td>Standard Machine Frame Module</td>\n",
       "      <td>A Tier 2 standard machine frame module for Ag ...</td>\n",
       "    </tr>\n",
       "    <tr>\n",
       "      <th>13</th>\n",
       "      <td>MFRM2_0001</td>\n",
       "      <td>Heavy-Duty Machine Frame Module</td>\n",
       "      <td>A Tier 2 heavy-duty machine frame module desig...</td>\n",
       "    </tr>\n",
       "    <tr>\n",
       "      <th>14</th>\n",
       "      <td>MFRM2_0002</td>\n",
       "      <td>Compact Machine Frame Module</td>\n",
       "      <td>A Tier 2 compact machine frame module optimize...</td>\n",
       "    </tr>\n",
       "    <tr>\n",
       "      <th>15</th>\n",
       "      <td>DPLT1_0000</td>\n",
       "      <td>Standard Drive Platform Core Assembly</td>\n",
       "      <td>A Tier 1 core assembly for Ag Inc. standard ag...</td>\n",
       "    </tr>\n",
       "    <tr>\n",
       "      <th>16</th>\n",
       "      <td>DPLT1_0001</td>\n",
       "      <td>Heavy-Duty Drive Platform Core Assembly</td>\n",
       "      <td>A Tier 1 core assembly for Ag Inc. heavy-duty ...</td>\n",
       "    </tr>\n",
       "    <tr>\n",
       "      <th>17</th>\n",
       "      <td>DPLT1_0002</td>\n",
       "      <td>Compact Drive Platform Core Assembly</td>\n",
       "      <td>A Tier 1 core assembly for Ag Inc. compact agr...</td>\n",
       "    </tr>\n",
       "    <tr>\n",
       "      <th>18</th>\n",
       "      <td>FTRC0_0000</td>\n",
       "      <td>AgInc FarmTractor Model S (Standard)</td>\n",
       "      <td>The AgInc FarmTractor Model S is a Tier 0 gene...</td>\n",
       "    </tr>\n",
       "    <tr>\n",
       "      <th>19</th>\n",
       "      <td>FTRC0_0001</td>\n",
       "      <td>AgInc FarmTractor Model HD (Heavy-Duty)</td>\n",
       "      <td>The AgInc FarmTractor Model HD is a robust Tie...</td>\n",
       "    </tr>\n",
       "    <tr>\n",
       "      <th>20</th>\n",
       "      <td>FTRC0_0002</td>\n",
       "      <td>AgInc FarmTractor Model C (Compact)</td>\n",
       "      <td>The AgInc FarmTractor Model C is a Tier 0 comp...</td>\n",
       "    </tr>\n",
       "  </tbody>\n",
       "</table>\n",
       "</div>"
      ]
     },
     "execution_count": 87,
     "metadata": {},
     "output_type": "execute_result"
    }
   ],
   "execution_count": 87
  },
  {
   "metadata": {
    "ExecuteTime": {
     "end_time": "2025-05-26T23:56:53.056165Z",
     "start_time": "2025-05-26T23:56:53.035316Z"
    }
   },
   "cell_type": "code",
   "source": "pd.DataFrame([item.model_dump() for item in bom_items])",
   "id": "ca8a498a5b0c5fa8",
   "outputs": [
    {
     "data": {
      "text/plain": [
       "         skuId                                              name  \\\n",
       "0   HFIT5_0000      Straight Hydraulic Connector Fitting - Steel   \n",
       "1   HFIT5_0001  90-Degree Elbow Hydraulic Fitting - Carbon Steel   \n",
       "2   HFIT5_0002             Bulkhead Hydraulic Fitting - Aluminum   \n",
       "3   PUMP4_0000             Standard Duty Hydraulic Pump Assembly   \n",
       "4   PUMP4_0001                Heavy Duty Hydraulic Pump Assembly   \n",
       "5   PUMP4_0002                   Compact Hydraulic Pump Assembly   \n",
       "6   ENGC3_0000         Standard Performance Engine Core Assembly   \n",
       "7   ENGC3_0001                  High-Output Engine Core Assembly   \n",
       "8   ENGC3_0002                      Compact Engine Core Assembly   \n",
       "9   MFRM2_0000                     Standard Machine Frame Module   \n",
       "10  MFRM2_0001                   Heavy-Duty Machine Frame Module   \n",
       "11  MFRM2_0002                      Compact Machine Frame Module   \n",
       "12  DPLT1_0000             Standard Drive Platform Core Assembly   \n",
       "13  DPLT1_0001           Heavy-Duty Drive Platform Core Assembly   \n",
       "14  DPLT1_0002              Compact Drive Platform Core Assembly   \n",
       "15  FTRC0_0000              AgInc FarmTractor Model S (Standard)   \n",
       "16  FTRC0_0001           AgInc FarmTractor Model HD (Heavy-Duty)   \n",
       "17  FTRC0_0002               AgInc FarmTractor Model C (Compact)   \n",
       "\n",
       "                                          description  \\\n",
       "0   A Tier 5 straight connector fitting, machined ...   \n",
       "1   A Tier 5 90-degree elbow hydraulic fitting, cr...   \n",
       "2   A Tier 5 hydraulic bulkhead fitting, manufactu...   \n",
       "3   A Tier 4 standard duty hydraulic pump assembly...   \n",
       "4   A Tier 4 heavy-duty hydraulic pump assembly en...   \n",
       "5   A Tier 4 compact hydraulic pump assembly, opti...   \n",
       "6   A Tier 3 standard performance engine core for ...   \n",
       "7   A Tier 3 high-output engine core designed for ...   \n",
       "8   A Tier 3 compact engine core optimized for Ag ...   \n",
       "9   A Tier 2 standard machine frame module for Ag ...   \n",
       "10  A Tier 2 heavy-duty machine frame module desig...   \n",
       "11  A Tier 2 compact machine frame module optimize...   \n",
       "12  A Tier 1 core assembly for Ag Inc. standard ag...   \n",
       "13  A Tier 1 core assembly for Ag Inc. heavy-duty ...   \n",
       "14  A Tier 1 core assembly for Ag Inc. compact agr...   \n",
       "15  The AgInc FarmTractor Model S is a Tier 0 gene...   \n",
       "16  The AgInc FarmTractor Model HD is a robust Tie...   \n",
       "17  The AgInc FarmTractor Model C is a Tier 0 comp...   \n",
       "\n",
       "                                              inputs  \n",
       "0                                       [MROD6_0009]  \n",
       "1                                       [MROD6_0010]  \n",
       "2                                       [MROD6_0011]  \n",
       "3               [HFIT5_0000, HFIT5_0001, MROD6_0009]  \n",
       "4               [HFIT5_0000, HFIT5_0002, MROD6_0010]  \n",
       "5               [HFIT5_0001, HFIT5_0002, MROD6_0011]  \n",
       "6   [PUMP4_0000, HFIT5_0000, HFIT5_0001, MROD6_0009]  \n",
       "7   [PUMP4_0001, HFIT5_0000, HFIT5_0002, MROD6_0010]  \n",
       "8   [PUMP4_0002, HFIT5_0001, HFIT5_0002, MROD6_0011]  \n",
       "9                                       [ENGC3_0000]  \n",
       "10                                      [ENGC3_0001]  \n",
       "11                                      [ENGC3_0002]  \n",
       "12                                      [MFRM2_0000]  \n",
       "13                                      [MFRM2_0001]  \n",
       "14                                      [MFRM2_0002]  \n",
       "15                                      [DPLT1_0000]  \n",
       "16                                      [DPLT1_0001]  \n",
       "17                                      [DPLT1_0002]  "
      ],
      "text/html": [
       "<div>\n",
       "<style scoped>\n",
       "    .dataframe tbody tr th:only-of-type {\n",
       "        vertical-align: middle;\n",
       "    }\n",
       "\n",
       "    .dataframe tbody tr th {\n",
       "        vertical-align: top;\n",
       "    }\n",
       "\n",
       "    .dataframe thead th {\n",
       "        text-align: right;\n",
       "    }\n",
       "</style>\n",
       "<table border=\"1\" class=\"dataframe\">\n",
       "  <thead>\n",
       "    <tr style=\"text-align: right;\">\n",
       "      <th></th>\n",
       "      <th>skuId</th>\n",
       "      <th>name</th>\n",
       "      <th>description</th>\n",
       "      <th>inputs</th>\n",
       "    </tr>\n",
       "  </thead>\n",
       "  <tbody>\n",
       "    <tr>\n",
       "      <th>0</th>\n",
       "      <td>HFIT5_0000</td>\n",
       "      <td>Straight Hydraulic Connector Fitting - Steel</td>\n",
       "      <td>A Tier 5 straight connector fitting, machined ...</td>\n",
       "      <td>[MROD6_0009]</td>\n",
       "    </tr>\n",
       "    <tr>\n",
       "      <th>1</th>\n",
       "      <td>HFIT5_0001</td>\n",
       "      <td>90-Degree Elbow Hydraulic Fitting - Carbon Steel</td>\n",
       "      <td>A Tier 5 90-degree elbow hydraulic fitting, cr...</td>\n",
       "      <td>[MROD6_0010]</td>\n",
       "    </tr>\n",
       "    <tr>\n",
       "      <th>2</th>\n",
       "      <td>HFIT5_0002</td>\n",
       "      <td>Bulkhead Hydraulic Fitting - Aluminum</td>\n",
       "      <td>A Tier 5 hydraulic bulkhead fitting, manufactu...</td>\n",
       "      <td>[MROD6_0011]</td>\n",
       "    </tr>\n",
       "    <tr>\n",
       "      <th>3</th>\n",
       "      <td>PUMP4_0000</td>\n",
       "      <td>Standard Duty Hydraulic Pump Assembly</td>\n",
       "      <td>A Tier 4 standard duty hydraulic pump assembly...</td>\n",
       "      <td>[HFIT5_0000, HFIT5_0001, MROD6_0009]</td>\n",
       "    </tr>\n",
       "    <tr>\n",
       "      <th>4</th>\n",
       "      <td>PUMP4_0001</td>\n",
       "      <td>Heavy Duty Hydraulic Pump Assembly</td>\n",
       "      <td>A Tier 4 heavy-duty hydraulic pump assembly en...</td>\n",
       "      <td>[HFIT5_0000, HFIT5_0002, MROD6_0010]</td>\n",
       "    </tr>\n",
       "    <tr>\n",
       "      <th>5</th>\n",
       "      <td>PUMP4_0002</td>\n",
       "      <td>Compact Hydraulic Pump Assembly</td>\n",
       "      <td>A Tier 4 compact hydraulic pump assembly, opti...</td>\n",
       "      <td>[HFIT5_0001, HFIT5_0002, MROD6_0011]</td>\n",
       "    </tr>\n",
       "    <tr>\n",
       "      <th>6</th>\n",
       "      <td>ENGC3_0000</td>\n",
       "      <td>Standard Performance Engine Core Assembly</td>\n",
       "      <td>A Tier 3 standard performance engine core for ...</td>\n",
       "      <td>[PUMP4_0000, HFIT5_0000, HFIT5_0001, MROD6_0009]</td>\n",
       "    </tr>\n",
       "    <tr>\n",
       "      <th>7</th>\n",
       "      <td>ENGC3_0001</td>\n",
       "      <td>High-Output Engine Core Assembly</td>\n",
       "      <td>A Tier 3 high-output engine core designed for ...</td>\n",
       "      <td>[PUMP4_0001, HFIT5_0000, HFIT5_0002, MROD6_0010]</td>\n",
       "    </tr>\n",
       "    <tr>\n",
       "      <th>8</th>\n",
       "      <td>ENGC3_0002</td>\n",
       "      <td>Compact Engine Core Assembly</td>\n",
       "      <td>A Tier 3 compact engine core optimized for Ag ...</td>\n",
       "      <td>[PUMP4_0002, HFIT5_0001, HFIT5_0002, MROD6_0011]</td>\n",
       "    </tr>\n",
       "    <tr>\n",
       "      <th>9</th>\n",
       "      <td>MFRM2_0000</td>\n",
       "      <td>Standard Machine Frame Module</td>\n",
       "      <td>A Tier 2 standard machine frame module for Ag ...</td>\n",
       "      <td>[ENGC3_0000]</td>\n",
       "    </tr>\n",
       "    <tr>\n",
       "      <th>10</th>\n",
       "      <td>MFRM2_0001</td>\n",
       "      <td>Heavy-Duty Machine Frame Module</td>\n",
       "      <td>A Tier 2 heavy-duty machine frame module desig...</td>\n",
       "      <td>[ENGC3_0001]</td>\n",
       "    </tr>\n",
       "    <tr>\n",
       "      <th>11</th>\n",
       "      <td>MFRM2_0002</td>\n",
       "      <td>Compact Machine Frame Module</td>\n",
       "      <td>A Tier 2 compact machine frame module optimize...</td>\n",
       "      <td>[ENGC3_0002]</td>\n",
       "    </tr>\n",
       "    <tr>\n",
       "      <th>12</th>\n",
       "      <td>DPLT1_0000</td>\n",
       "      <td>Standard Drive Platform Core Assembly</td>\n",
       "      <td>A Tier 1 core assembly for Ag Inc. standard ag...</td>\n",
       "      <td>[MFRM2_0000]</td>\n",
       "    </tr>\n",
       "    <tr>\n",
       "      <th>13</th>\n",
       "      <td>DPLT1_0001</td>\n",
       "      <td>Heavy-Duty Drive Platform Core Assembly</td>\n",
       "      <td>A Tier 1 core assembly for Ag Inc. heavy-duty ...</td>\n",
       "      <td>[MFRM2_0001]</td>\n",
       "    </tr>\n",
       "    <tr>\n",
       "      <th>14</th>\n",
       "      <td>DPLT1_0002</td>\n",
       "      <td>Compact Drive Platform Core Assembly</td>\n",
       "      <td>A Tier 1 core assembly for Ag Inc. compact agr...</td>\n",
       "      <td>[MFRM2_0002]</td>\n",
       "    </tr>\n",
       "    <tr>\n",
       "      <th>15</th>\n",
       "      <td>FTRC0_0000</td>\n",
       "      <td>AgInc FarmTractor Model S (Standard)</td>\n",
       "      <td>The AgInc FarmTractor Model S is a Tier 0 gene...</td>\n",
       "      <td>[DPLT1_0000]</td>\n",
       "    </tr>\n",
       "    <tr>\n",
       "      <th>16</th>\n",
       "      <td>FTRC0_0001</td>\n",
       "      <td>AgInc FarmTractor Model HD (Heavy-Duty)</td>\n",
       "      <td>The AgInc FarmTractor Model HD is a robust Tie...</td>\n",
       "      <td>[DPLT1_0001]</td>\n",
       "    </tr>\n",
       "    <tr>\n",
       "      <th>17</th>\n",
       "      <td>FTRC0_0002</td>\n",
       "      <td>AgInc FarmTractor Model C (Compact)</td>\n",
       "      <td>The AgInc FarmTractor Model C is a Tier 0 comp...</td>\n",
       "      <td>[DPLT1_0002]</td>\n",
       "    </tr>\n",
       "  </tbody>\n",
       "</table>\n",
       "</div>"
      ]
     },
     "execution_count": 88,
     "metadata": {},
     "output_type": "execute_result"
    }
   ],
   "execution_count": 88
  },
  {
   "metadata": {
    "ExecuteTime": {
     "end_time": "2025-05-26T23:27:16.993503Z",
     "start_time": "2025-05-26T23:27:16.988045Z"
    }
   },
   "cell_type": "code",
   "outputs": [
    {
     "data": {
      "text/plain": [
       "[InputPart(skuId='MROD6_0009', name='Hydraulic Piston Rod - 4140 Steel', description=''),\n",
       " InputPart(skuId='MROD6_0010', name='Linkage Rod - Medium Carbon Steel', description=''),\n",
       " InputPart(skuId='MROD6_0011', name='Actuator Rod - 6061 Aluminum', description='')]"
      ]
     },
     "execution_count": 73,
     "metadata": {},
     "output_type": "execute_result"
    }
   ],
   "execution_count": 73,
   "source": [
    "input_parts = [InputPart(skuId=part.skuId, name=part.name, description='') for part in entries]\n",
    "input_parts[:3]"
   ],
   "id": "9ee0f6ee2e5fa55b"
  },
  {
   "metadata": {
    "ExecuteTime": {
     "end_time": "2025-05-26T23:27:33.409253Z",
     "start_time": "2025-05-26T23:27:33.363759Z"
    }
   },
   "cell_type": "code",
   "outputs": [
    {
     "data": {
      "text/plain": [
       "[InputItem(skuId='HFIT5_0000', family='HydraulicFitting'),\n",
       " InputItem(skuId='HFIT5_0001', family='HydraulicFitting'),\n",
       " InputItem(skuId='HFIT5_0002', family='HydraulicFitting')]"
      ]
     },
     "execution_count": 74,
     "metadata": {},
     "output_type": "execute_result"
    }
   ],
   "execution_count": 74,
   "source": [
    "input_items = [InputItem(skuId=comp['sku_id'], family=comp['family']) for comp in items_df[items_df.tier=='Tier5'].to_dict('records')]\n",
    "input_items[:3]"
   ],
   "id": "dd9d6500c5de9c2d"
  },
  {
   "metadata": {
    "ExecuteTime": {
     "end_time": "2025-05-26T23:39:53.995084Z",
     "start_time": "2025-05-26T23:30:39.481271Z"
    }
   },
   "cell_type": "code",
   "outputs": [
    {
     "name": "stderr",
     "output_type": "stream",
     "text": [
      "Simulating BOM Items: 100%|██████████| 79/79 [09:14<00:00,  7.02s/it] \n"
     ]
    }
   ],
   "execution_count": 78,
   "source": "output_items = await sim_all_bom_items_at_tier(input_items, input_parts, 5)",
   "id": "62a18bdfdebd2d42"
  },
  {
   "metadata": {
    "ExecuteTime": {
     "end_time": "2025-05-26T23:39:54.072965Z",
     "start_time": "2025-05-26T23:39:54.068566Z"
    }
   },
   "cell_type": "code",
   "outputs": [
    {
     "data": {
      "text/plain": [
       "[OutputItem(skuId='BELT5_0034', name='Heavy-Duty V-Belt BELT5_0034', description='A durable V-belt for power transmission in heavy-duty agricultural machinery. Assembled from various Tier 6 components like rods, wires, seals, and fasteners.', inputs=['MROD6_0000', 'WIRE6_0000', 'RSEL6_0000', 'FAST6_0000', 'PBLT6_0000', 'TUBE6_0000']),\n",
       " OutputItem(skuId='BELT5_0035', name='Conveyor Belt Segment BELT5_0035', description='A segment of a larger conveyor belt system used in harvesting equipment. Constructed with Tier 6 materials including castings, wires, seals, and bolts for resilience.', inputs=['CAST6_0000', 'WIRE6_0001', 'RSEL6_0001', 'BOLT6_0000', 'MROD6_0001']),\n",
       " OutputItem(skuId='BELT5_0036', name='Timing Belt BELT5_0036', description='Precision timing belt for synchronized shaft rotation in Ag Inc. engines and implements. This Tier 5 assembly incorporates precision bolts, specialized wiring, and durable seals.', inputs=['PBLT6_0011', 'WIRE6_0010', 'RSEL6_0010', 'FAST6_0013', 'TUBE6_0011']),\n",
       " OutputItem(skuId='BELT5_0037', name='Flat Drive Belt BELT5_0037', description='A wide flat drive belt for transferring power in various agricultural applications. Made from Tier 6 sub-components such as metal rods, insulated wires, rubber seals, and various fasteners.', inputs=['MROD6_0010', 'WIRE6_0019', 'RSEL6_0020', 'FAST6_0023', 'CAST6_0012', 'BOLT6_0006']),\n",
       " OutputItem(skuId='BELT5_0038', name='Serpentine Belt BELT5_0038', description='Multi-groove serpentine belt for driving multiple accessories in Ag Inc. equipment. This Tier 5 manufactured item is built from tubing, wiring, seals, precision bolts, and rods.', inputs=['TUBE6_0021', 'WIRE6_0020', 'RSEL6_0030', 'PBLT6_0021', 'MROD6_0019']),\n",
       " OutputItem(skuId='BELT5_0039', name='Round Baler Belt Section BELT5_0039', description='A section of a heavy-duty belt used in round balers for forming and compressing hay. Comprises Tier 6 parts including fasteners, wires, seals, castings, and bolts.', inputs=['FAST6_0033', 'WIRE6_0039', 'RSEL6_0002', 'CAST6_0022', 'BOLT6_0016', 'MROD6_0002']),\n",
       " OutputItem(skuId='BELT5_0040', name='Combine Harvester Thresher Belt BELT5_0040', description='Specialized thresher belt for combine harvesters, designed for high wear resistance. Assembled from Tier 6 inputs like precision bolts, high-tensile wires, robust seals, and structural tubing.', inputs=['PBLT6_0031', 'WIRE6_0009', 'RSEL6_0011', 'TUBE6_0001', 'MROD6_0012', 'FAST6_0004']),\n",
       " OutputItem(skuId='BELT5_0041', name='Seed Drill Metering Belt BELT5_0041', description='A precision belt for seed metering systems in Ag Inc. planters. This Tier 5 item requires specific Tier 6 components including cast parts, electrical wiring, and custom seals.', inputs=['CAST6_0032', 'WIRE6_0022', 'RSEL6_0021', 'BOLT6_0026', 'MROD6_0020']),\n",
       " OutputItem(skuId='BELT5_0042', name='Auger Drive Belt BELT5_0042', description='Robust belt for driving augers in grain handling systems. Constructed using durable Tier 6 parts such as steel tubing, heavy-gauge wire, specialized seals, and various fasteners.', inputs=['TUBE6_0012', 'WIRE6_0030', 'RSEL6_0031', 'FAST6_0014', 'PBLT6_0002', 'MROD6_0003']),\n",
       " OutputItem(skuId='BELT5_0043', name='Fan Belt BELT5_0043', description='Engine fan belt for cooling systems in agricultural vehicles. A Tier 5 assembly made from selected Tier 6 inputs including metal rods, insulated wiring, heat-resistant seals, and cast components.', inputs=['MROD6_0015', 'WIRE6_0033', 'RSEL6_0012', 'CAST6_0002', 'BOLT6_0010', 'FAST6_0008'])]"
      ]
     },
     "execution_count": 79,
     "metadata": {},
     "output_type": "execute_result"
    }
   ],
   "execution_count": 79,
   "source": "output_items[:10]",
   "id": "31402b3210c287b4"
  }
 ],
 "metadata": {
  "kernelspec": {
   "display_name": "Python 3",
   "language": "python",
   "name": "python3"
  },
  "language_info": {
   "codemirror_mode": {
    "name": "ipython",
    "version": 2
   },
   "file_extension": ".py",
   "mimetype": "text/x-python",
   "name": "python",
   "nbconvert_exporter": "python",
   "pygments_lexer": "ipython2",
   "version": "2.7.6"
  }
 },
 "nbformat": 4,
 "nbformat_minor": 5
}
