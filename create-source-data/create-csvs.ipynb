{
 "cells": [
  {
   "metadata": {},
   "cell_type": "markdown",
   "source": [
    "# Create Source CSVs\n",
    "This is for tracking purposes only and will not be reproducible.  It creates the source csv files and uploads them to google cloud storage"
   ],
   "id": "4578049ef1941a25"
  },
  {
   "metadata": {
    "collapsed": true,
    "ExecuteTime": {
     "end_time": "2025-04-22T13:13:04.645835Z",
     "start_time": "2025-04-22T13:13:04.635742Z"
    }
   },
   "cell_type": "code",
   "outputs": [],
   "execution_count": 1,
   "source": [
    "from os import times\n",
    "\n",
    "from dotenv import load_dotenv\n",
    "import os\n",
    "\n",
    "from nbclient.exceptions import timeout_err_msg\n",
    "\n",
    "env_file = '.env'\n",
    "if os.path.exists(env_file):\n",
    "    load_dotenv(env_file, override=True)\n",
    "\n",
    "    HOST = os.getenv('NEO4J_URI')\n",
    "    USERNAME = os.getenv('NEO4J_USERNAME')\n",
    "    PASSWORD = os.getenv('NEO4J_PASSWORD')\n",
    "\n",
    "else:\n",
    "    print(f\"File {env_file} not found.\")"
   ],
   "id": "initial_id"
  },
  {
   "metadata": {
    "ExecuteTime": {
     "end_time": "2025-04-22T13:15:03.540025Z",
     "start_time": "2025-04-22T13:15:03.537221Z"
    }
   },
   "cell_type": "code",
   "source": [
    "from neo4j import GraphDatabase\n",
    "\n",
    "driver = GraphDatabase.driver(HOST, auth=(USERNAME, PASSWORD))"
   ],
   "id": "3a30b9a9ba9b4a98",
   "outputs": [],
   "execution_count": 5
  },
  {
   "metadata": {},
   "cell_type": "markdown",
   "source": "## Create CSVs",
   "id": "f8fb7c4738ca9505"
  },
  {
   "metadata": {
    "ExecuteTime": {
     "end_time": "2025-04-22T13:15:04.815695Z",
     "start_time": "2025-04-22T13:15:04.813846Z"
    }
   },
   "cell_type": "code",
   "source": [
    "import os\n",
    "\n",
    "os.makedirs(\"source-csvs\", exist_ok=True)"
   ],
   "id": "c7fe9f3091783789",
   "outputs": [],
   "execution_count": 6
  },
  {
   "metadata": {
    "ExecuteTime": {
     "end_time": "2025-04-22T13:15:08.716432Z",
     "start_time": "2025-04-22T13:15:06.845559Z"
    }
   },
   "cell_type": "code",
   "source": [
    "# Suppliers\n",
    "res_df = driver.execute_query(\"\"\"\n",
    "MATCH (s:Supplier)\n",
    "OPTIONAL MATCH (s)-[:LOCATED_AT]->(l)\n",
    "    RETURN s.code AS code,\n",
    "        s.ANNUAL_SPEND AS annual_spend,\n",
    "        s.type AS tier,\n",
    "        s.sub_type AS sub_type,\n",
    "        s.category AS category,\n",
    "        l.latitude AS latitude,\n",
    "        l.longitude AS longitude\n",
    "\"\"\", result_transformer_= lambda r: r.to_df())\n",
    "res_df.to_csv('source-csvs/suppliers.csv', index=False)\n",
    "res_df"
   ],
   "id": "d3f087886f0c01c5",
   "outputs": [
    {
     "data": {
      "text/plain": [
       "         code  annual_spend   tier sub_type category   latitude  longitude\n",
       "0      1BYKA5          0.00  Tier1     Manu     None -71.854680  71.681478\n",
       "1      0Q6W9M          0.00  Tier1   Direct     None -71.854680  71.681478\n",
       "2      U5TLHT    8056092.85  Tier1   Direct     None -71.854680  71.681478\n",
       "3      1QZ9ME          0.00  Tier1   Direct     None -71.854680  71.681478\n",
       "4      WH3ZVG       4801.61  Tier1   Direct     None -71.629455  70.897790\n",
       "...       ...           ...    ...      ...      ...        ...        ...\n",
       "13885  07XTEF          0.00  Tier1     Manu     None -68.723473  66.523889\n",
       "13886  P3OZZV      98107.83  Tier1   Direct     None -68.723473  66.523889\n",
       "13887  7PM532     643743.20  Tier1   Direct     None -71.930702  71.005756\n",
       "13888  ENEDNC       5453.94  Tier1   Direct     None -71.536288  71.746616\n",
       "13889  KVP039          0.00  Tier1   Direct     None -71.239374  69.595754\n",
       "\n",
       "[13890 rows x 7 columns]"
      ],
      "text/html": [
       "<div>\n",
       "<style scoped>\n",
       "    .dataframe tbody tr th:only-of-type {\n",
       "        vertical-align: middle;\n",
       "    }\n",
       "\n",
       "    .dataframe tbody tr th {\n",
       "        vertical-align: top;\n",
       "    }\n",
       "\n",
       "    .dataframe thead th {\n",
       "        text-align: right;\n",
       "    }\n",
       "</style>\n",
       "<table border=\"1\" class=\"dataframe\">\n",
       "  <thead>\n",
       "    <tr style=\"text-align: right;\">\n",
       "      <th></th>\n",
       "      <th>code</th>\n",
       "      <th>annual_spend</th>\n",
       "      <th>tier</th>\n",
       "      <th>sub_type</th>\n",
       "      <th>category</th>\n",
       "      <th>latitude</th>\n",
       "      <th>longitude</th>\n",
       "    </tr>\n",
       "  </thead>\n",
       "  <tbody>\n",
       "    <tr>\n",
       "      <th>0</th>\n",
       "      <td>1BYKA5</td>\n",
       "      <td>0.00</td>\n",
       "      <td>Tier1</td>\n",
       "      <td>Manu</td>\n",
       "      <td>None</td>\n",
       "      <td>-71.854680</td>\n",
       "      <td>71.681478</td>\n",
       "    </tr>\n",
       "    <tr>\n",
       "      <th>1</th>\n",
       "      <td>0Q6W9M</td>\n",
       "      <td>0.00</td>\n",
       "      <td>Tier1</td>\n",
       "      <td>Direct</td>\n",
       "      <td>None</td>\n",
       "      <td>-71.854680</td>\n",
       "      <td>71.681478</td>\n",
       "    </tr>\n",
       "    <tr>\n",
       "      <th>2</th>\n",
       "      <td>U5TLHT</td>\n",
       "      <td>8056092.85</td>\n",
       "      <td>Tier1</td>\n",
       "      <td>Direct</td>\n",
       "      <td>None</td>\n",
       "      <td>-71.854680</td>\n",
       "      <td>71.681478</td>\n",
       "    </tr>\n",
       "    <tr>\n",
       "      <th>3</th>\n",
       "      <td>1QZ9ME</td>\n",
       "      <td>0.00</td>\n",
       "      <td>Tier1</td>\n",
       "      <td>Direct</td>\n",
       "      <td>None</td>\n",
       "      <td>-71.854680</td>\n",
       "      <td>71.681478</td>\n",
       "    </tr>\n",
       "    <tr>\n",
       "      <th>4</th>\n",
       "      <td>WH3ZVG</td>\n",
       "      <td>4801.61</td>\n",
       "      <td>Tier1</td>\n",
       "      <td>Direct</td>\n",
       "      <td>None</td>\n",
       "      <td>-71.629455</td>\n",
       "      <td>70.897790</td>\n",
       "    </tr>\n",
       "    <tr>\n",
       "      <th>...</th>\n",
       "      <td>...</td>\n",
       "      <td>...</td>\n",
       "      <td>...</td>\n",
       "      <td>...</td>\n",
       "      <td>...</td>\n",
       "      <td>...</td>\n",
       "      <td>...</td>\n",
       "    </tr>\n",
       "    <tr>\n",
       "      <th>13885</th>\n",
       "      <td>07XTEF</td>\n",
       "      <td>0.00</td>\n",
       "      <td>Tier1</td>\n",
       "      <td>Manu</td>\n",
       "      <td>None</td>\n",
       "      <td>-68.723473</td>\n",
       "      <td>66.523889</td>\n",
       "    </tr>\n",
       "    <tr>\n",
       "      <th>13886</th>\n",
       "      <td>P3OZZV</td>\n",
       "      <td>98107.83</td>\n",
       "      <td>Tier1</td>\n",
       "      <td>Direct</td>\n",
       "      <td>None</td>\n",
       "      <td>-68.723473</td>\n",
       "      <td>66.523889</td>\n",
       "    </tr>\n",
       "    <tr>\n",
       "      <th>13887</th>\n",
       "      <td>7PM532</td>\n",
       "      <td>643743.20</td>\n",
       "      <td>Tier1</td>\n",
       "      <td>Direct</td>\n",
       "      <td>None</td>\n",
       "      <td>-71.930702</td>\n",
       "      <td>71.005756</td>\n",
       "    </tr>\n",
       "    <tr>\n",
       "      <th>13888</th>\n",
       "      <td>ENEDNC</td>\n",
       "      <td>5453.94</td>\n",
       "      <td>Tier1</td>\n",
       "      <td>Direct</td>\n",
       "      <td>None</td>\n",
       "      <td>-71.536288</td>\n",
       "      <td>71.746616</td>\n",
       "    </tr>\n",
       "    <tr>\n",
       "      <th>13889</th>\n",
       "      <td>KVP039</td>\n",
       "      <td>0.00</td>\n",
       "      <td>Tier1</td>\n",
       "      <td>Direct</td>\n",
       "      <td>None</td>\n",
       "      <td>-71.239374</td>\n",
       "      <td>69.595754</td>\n",
       "    </tr>\n",
       "  </tbody>\n",
       "</table>\n",
       "<p>13890 rows × 7 columns</p>\n",
       "</div>"
      ]
     },
     "execution_count": 7,
     "metadata": {},
     "output_type": "execute_result"
    }
   ],
   "execution_count": 7
  },
  {
   "metadata": {
    "ExecuteTime": {
     "end_time": "2025-04-22T13:15:39.085300Z",
     "start_time": "2025-04-22T13:15:11.200127Z"
    }
   },
   "cell_type": "code",
   "source": [
    "# SupplierItems\n",
    "print(\"Reading Data...\")\n",
    "res = driver.execute_query(\"\"\"\n",
    "MATCH (i:Product|Component)-[:AT]->(s:Supplier)\n",
    "    RETURN s.code AS supplier_code,\n",
    "        i.skuId AS sku_id\n",
    "\"\"\", result_transformer_= lambda r: r.to_df())\n",
    "print(\"Writing CSV...\")\n",
    "res.to_csv('source-csvs/supplier-items.csv', index=False)\n"
   ],
   "id": "c4ad052776a07abd",
   "outputs": [
    {
     "name": "stdout",
     "output_type": "stream",
     "text": [
      "Reading Data...\n",
      "Writing CSV...\n"
     ]
    }
   ],
   "execution_count": 8
  },
  {
   "metadata": {
    "ExecuteTime": {
     "end_time": "2025-04-22T13:21:42.304784Z",
     "start_time": "2025-04-22T13:21:27.423128Z"
    }
   },
   "cell_type": "code",
   "source": [
    "# Items\n",
    "print(\"Reading Data...\")\n",
    "res_df = driver.execute_query(\"\"\"\n",
    "MATCH (i:Product|Component)\n",
    "OPTIONAL MATCH (i)-[:AT]->(s:Supplier)\n",
    "WITH i, coalesce(max(s.type), 'Tier0') AS estimated_tier\n",
    "OPTIONAL MATCH path=(i)-[:GROUP_OF]->(g:Group)-[:SUB_CAT]->(s)-[:CAT_OF]->(c)\n",
    "WHERE NOT (s.code STARTS WITH \"DL\" AND c.code = \"AW\") //throw out 2 odd cases\n",
    "WITH i, estimated_tier, g.code AS code, nodes(collect(path)[0]) AS path_nodes //minority of multi-subcategories...just picking first one\n",
    "with i, labels(i)[0] AS type, estimated_tier, code AS group_code, path_nodes[2].code AS sub_category,  path_nodes[3].code AS category\n",
    "RETURN i.skuId AS sku_id,\n",
    "    CASE labels(i)\n",
    "        WHEN ['Product'] THEN 'PRODUCT'\n",
    "        WHEN ['Component'] THEN 'COMPONENT'\n",
    "        ELSE 'PRODUCT_AND_COMPONENT'\n",
    "    END AS type,\n",
    "  group_code,\n",
    "  sub_category,\n",
    "  category,\n",
    "  estimated_tier\n",
    "\"\"\", result_transformer_= lambda r: r.to_df())\n",
    "res_df"
   ],
   "id": "b0000b243084cd8a",
   "outputs": [
    {
     "name": "stdout",
     "output_type": "stream",
     "text": [
      "Reading Data...\n"
     ]
    },
    {
     "name": "stderr",
     "output_type": "stream",
     "text": [
      "Received notification from DBMS server: {severity: WARNING} {code: Neo.ClientNotification.Statement.AggregationSkippedNull} {category: UNRECOGNIZED} {title: The query contains an aggregation function that skips null values.} {description: null value eliminated in set function.} {position: None} for query: '\\nMATCH (i:Product|Component)\\nOPTIONAL MATCH (i)-[:AT]->(s:Supplier)\\nWITH i, coalesce(max(s.type), \\'Tier0\\') AS estimated_tier\\nOPTIONAL MATCH path=(i)-[:GROUP_OF]->(g:Group)-[:SUB_CAT]->(s)-[:CAT_OF]->(c)\\nWHERE NOT (s.code STARTS WITH \"DL\" AND c.code = \"AW\") //throw out 2 odd cases\\nWITH i, estimated_tier, g.code AS code, nodes(collect(path)[0]) AS path_nodes //minority of multi-subcategories...just picking first one\\nwith i, labels(i)[0] AS type, estimated_tier, code AS group_code, path_nodes[2].code AS sub_category,  path_nodes[3].code AS category\\nRETURN i.skuId AS sku_id,\\n    CASE labels(i)\\n        WHEN [\\'Product\\'] THEN \\'PRODUCT\\'\\n        WHEN [\\'Component\\'] THEN \\'COMPONENT\\'\\n        ELSE \\'PRODUCT_AND_COMPONENT\\'\\n    END AS type,\\n  group_code,\\n  sub_category,\\n  category,\\n  estimated_tier\\n'\n"
     ]
    },
    {
     "data": {
      "text/plain": [
       "          sku_id       type  group_code sub_category category estimated_tier\n",
       "0       12243661  COMPONENT      1000.0      AW-0009       AW          Tier1\n",
       "1       28499719  COMPONENT      1001.0      AX-0013       AX          Tier1\n",
       "2       28246025  COMPONENT      1001.0      AX-0013       AX          Tier1\n",
       "3       28722634  COMPONENT      1001.0      AX-0013       AX          Tier1\n",
       "4       28263736  COMPONENT      1001.0      AX-0013       AX          Tier1\n",
       "...          ...        ...         ...          ...      ...            ...\n",
       "233604  25367709    PRODUCT         NaN         None     None          Tier0\n",
       "233605  25372957    PRODUCT         NaN         None     None          Tier0\n",
       "233606  28052594    PRODUCT         NaN         None     None          Tier0\n",
       "233607  28092207    PRODUCT         NaN         None     None          Tier0\n",
       "233608  28441313    PRODUCT         NaN         None     None          Tier0\n",
       "\n",
       "[233609 rows x 6 columns]"
      ],
      "text/html": [
       "<div>\n",
       "<style scoped>\n",
       "    .dataframe tbody tr th:only-of-type {\n",
       "        vertical-align: middle;\n",
       "    }\n",
       "\n",
       "    .dataframe tbody tr th {\n",
       "        vertical-align: top;\n",
       "    }\n",
       "\n",
       "    .dataframe thead th {\n",
       "        text-align: right;\n",
       "    }\n",
       "</style>\n",
       "<table border=\"1\" class=\"dataframe\">\n",
       "  <thead>\n",
       "    <tr style=\"text-align: right;\">\n",
       "      <th></th>\n",
       "      <th>sku_id</th>\n",
       "      <th>type</th>\n",
       "      <th>group_code</th>\n",
       "      <th>sub_category</th>\n",
       "      <th>category</th>\n",
       "      <th>estimated_tier</th>\n",
       "    </tr>\n",
       "  </thead>\n",
       "  <tbody>\n",
       "    <tr>\n",
       "      <th>0</th>\n",
       "      <td>12243661</td>\n",
       "      <td>COMPONENT</td>\n",
       "      <td>1000.0</td>\n",
       "      <td>AW-0009</td>\n",
       "      <td>AW</td>\n",
       "      <td>Tier1</td>\n",
       "    </tr>\n",
       "    <tr>\n",
       "      <th>1</th>\n",
       "      <td>28499719</td>\n",
       "      <td>COMPONENT</td>\n",
       "      <td>1001.0</td>\n",
       "      <td>AX-0013</td>\n",
       "      <td>AX</td>\n",
       "      <td>Tier1</td>\n",
       "    </tr>\n",
       "    <tr>\n",
       "      <th>2</th>\n",
       "      <td>28246025</td>\n",
       "      <td>COMPONENT</td>\n",
       "      <td>1001.0</td>\n",
       "      <td>AX-0013</td>\n",
       "      <td>AX</td>\n",
       "      <td>Tier1</td>\n",
       "    </tr>\n",
       "    <tr>\n",
       "      <th>3</th>\n",
       "      <td>28722634</td>\n",
       "      <td>COMPONENT</td>\n",
       "      <td>1001.0</td>\n",
       "      <td>AX-0013</td>\n",
       "      <td>AX</td>\n",
       "      <td>Tier1</td>\n",
       "    </tr>\n",
       "    <tr>\n",
       "      <th>4</th>\n",
       "      <td>28263736</td>\n",
       "      <td>COMPONENT</td>\n",
       "      <td>1001.0</td>\n",
       "      <td>AX-0013</td>\n",
       "      <td>AX</td>\n",
       "      <td>Tier1</td>\n",
       "    </tr>\n",
       "    <tr>\n",
       "      <th>...</th>\n",
       "      <td>...</td>\n",
       "      <td>...</td>\n",
       "      <td>...</td>\n",
       "      <td>...</td>\n",
       "      <td>...</td>\n",
       "      <td>...</td>\n",
       "    </tr>\n",
       "    <tr>\n",
       "      <th>233604</th>\n",
       "      <td>25367709</td>\n",
       "      <td>PRODUCT</td>\n",
       "      <td>NaN</td>\n",
       "      <td>None</td>\n",
       "      <td>None</td>\n",
       "      <td>Tier0</td>\n",
       "    </tr>\n",
       "    <tr>\n",
       "      <th>233605</th>\n",
       "      <td>25372957</td>\n",
       "      <td>PRODUCT</td>\n",
       "      <td>NaN</td>\n",
       "      <td>None</td>\n",
       "      <td>None</td>\n",
       "      <td>Tier0</td>\n",
       "    </tr>\n",
       "    <tr>\n",
       "      <th>233606</th>\n",
       "      <td>28052594</td>\n",
       "      <td>PRODUCT</td>\n",
       "      <td>NaN</td>\n",
       "      <td>None</td>\n",
       "      <td>None</td>\n",
       "      <td>Tier0</td>\n",
       "    </tr>\n",
       "    <tr>\n",
       "      <th>233607</th>\n",
       "      <td>28092207</td>\n",
       "      <td>PRODUCT</td>\n",
       "      <td>NaN</td>\n",
       "      <td>None</td>\n",
       "      <td>None</td>\n",
       "      <td>Tier0</td>\n",
       "    </tr>\n",
       "    <tr>\n",
       "      <th>233608</th>\n",
       "      <td>28441313</td>\n",
       "      <td>PRODUCT</td>\n",
       "      <td>NaN</td>\n",
       "      <td>None</td>\n",
       "      <td>None</td>\n",
       "      <td>Tier0</td>\n",
       "    </tr>\n",
       "  </tbody>\n",
       "</table>\n",
       "<p>233609 rows × 6 columns</p>\n",
       "</div>"
      ]
     },
     "execution_count": 12,
     "metadata": {},
     "output_type": "execute_result"
    }
   ],
   "execution_count": 12
  },
  {
   "metadata": {
    "ExecuteTime": {
     "end_time": "2025-04-22T13:34:26.265333Z",
     "start_time": "2025-04-22T13:34:25.800689Z"
    }
   },
   "cell_type": "code",
   "source": [
    "import random\n",
    "\n",
    "tier_archetypes = {\n",
    "    \"Tier6\": [ \"RubberSeal\", \"PrecisionBolt\", \"Bolt\", \"Tubing\", \"Fastener\", \"RawWire\", \"Casting\", \"Rod\"],\n",
    "    \"Tier5\": [\"HydraulicFitting\", \"WiringLoom\", \"Bearing\", \"GearSet\", \"Gear\", \"Belt\", \"Sensor\", \"Harness\", \"Pulley\", \"Spring\", \"Bushing\", \"Clamp\"],\n",
    "    \"Tier4\": [\"PumpAssembly\", \"SensorUnit\", \"ControlValve\", \"MotorDrive\", \"Connector\", \"Cylinder\"],\n",
    "    \"Tier3\": [\"EngineCore\", \"AxleAssembly\", \"SteeringColumn\", \"ElectricalControlBox\", \"FrameSegment\", \"ComponentModule\", \"SensorModule\", \"ControlUnit\", \"Board\"],\n",
    "    \"Tier2\": [\"MachineFrame\", \"MachineArm\", \"OperatorCab\", \"PowerSystemModule\", \"ToolMountKit\"],\n",
    "    \"Tier1\": [\"DrivePlatform\", \"HydraulicSystem\", \"ChassisFrame\", \"CabWiringUnit\", \"MachineRig\", \"ControlAssembly\"],\n",
    "    \"Tier0\": [\"FarmTractor\", \"CropHarvester\", \"HayCollector\", \"FieldSprayer\", \"SeedPlanter\"]\n",
    "}\n",
    "\n",
    "def generate_component_name(tier):\n",
    "    archetype = random.choice(tier_archetypes[tier])\n",
    "    suffix = ''.join(random.choices(\"ABCDEFGHIJKLMNOPQRSTUVWXYZ0123456789\", k=5))\n",
    "    return f\"{archetype}_{suffix}\"\n",
    "\n",
    "random.seed(7474)\n",
    "res_df['name'] = res_df.estimated_tier.apply(lambda x: generate_component_name(x))\n",
    "\n",
    "\n",
    "\n",
    "print(\"Writing CSVS...\")\n",
    "res_df[['sku_id', 'name', 'type']].to_csv('source-csvs/items.csv', index=False)\n",
    "res_df.loc[ res_df.estimated_tier == 'Tier6',['sku_id', 'name']].to_csv('source-csvs/items-estimated-tier-6.csv', index=False)"
   ],
   "id": "3cf5fa3dc2fa9437",
   "outputs": [
    {
     "name": "stdout",
     "output_type": "stream",
     "text": [
      "Writing CSVS...\n"
     ]
    }
   ],
   "execution_count": 17
  },
  {
   "metadata": {
    "ExecuteTime": {
     "end_time": "2025-04-22T13:41:36.078586Z",
     "start_time": "2025-04-22T13:34:35.238599Z"
    }
   },
   "cell_type": "code",
   "source": [
    "# BOMTable\n",
    "print(\"Reading Data...\")\n",
    "res = driver.execute_query(\"\"\"\n",
    "MATCH (parent:Product|Component)-[:BOM]->(child)\n",
    "RETURN parent.skuId AS parent_sku_id,\n",
    "    child.skuId AS child_sku_id\n",
    "\"\"\", result_transformer_= lambda r: r.to_df())\n",
    "print(\"Writing CSV...\")\n",
    "res.to_csv('source-csvs/bom-table.csv', index=False)"
   ],
   "id": "4870bf1fe223de7d",
   "outputs": [
    {
     "name": "stdout",
     "output_type": "stream",
     "text": [
      "Reading Data...\n",
      "Writing CSV...\n"
     ]
    }
   ],
   "execution_count": 18
  },
  {
   "metadata": {
    "ExecuteTime": {
     "end_time": "2025-04-22T13:41:36.907096Z",
     "start_time": "2025-04-22T13:41:36.107084Z"
    }
   },
   "cell_type": "code",
   "source": [
    "# ComponentGroups\n",
    "print(\"Reading Data...\")\n",
    "res = driver.execute_query(\"\"\"\n",
    "MATCH path=(g:Group)-[:SUB_CAT]->(s)-[:CAT_OF]->(c)\n",
    "WHERE NOT (s.code STARTS WITH \"DL\" AND c.code = \"AW\") //throw out 2 odd cases\n",
    "WITH g.code AS code, nodes(collect(path)[0]) AS path_nodes //minority of multi-subcategories...just picking first one\n",
    "RETURN code, path_nodes[1].code AS sub_category,  path_nodes[2].code AS category\n",
    "\"\"\", result_transformer_= lambda r: r.to_df())\n",
    "print(\"Writing CSV...\")\n",
    "res.to_csv('source-csvs/component-groups.csv', index=False)"
   ],
   "id": "58aa65dce7f8fb86",
   "outputs": [
    {
     "name": "stdout",
     "output_type": "stream",
     "text": [
      "Reading Data...\n",
      "Writing CSV...\n"
     ]
    }
   ],
   "execution_count": 19
  },
  {
   "metadata": {
    "ExecuteTime": {
     "end_time": "2025-04-22T13:41:37.126411Z",
     "start_time": "2025-04-22T13:41:36.916842Z"
    }
   },
   "cell_type": "code",
   "source": [
    "# CustomerFamilies\n",
    "print(\"Reading Data...\")\n",
    "res = driver.execute_query(\"\"\"\n",
    "MATCH (n:CustomerFamily)\n",
    "RETURN n.code AS code, n.ANNUAL_REVENUE AS annual_revenue\n",
    "\"\"\", result_transformer_= lambda r: r.to_df())\n",
    "print(\"Writing CSV...\")\n",
    "res.to_csv('source-csvs/customer-families.csv', index=False)"
   ],
   "id": "3464e621b8aca44a",
   "outputs": [
    {
     "name": "stdout",
     "output_type": "stream",
     "text": [
      "Reading Data...\n",
      "Writing CSV...\n"
     ]
    }
   ],
   "execution_count": 20
  },
  {
   "metadata": {
    "ExecuteTime": {
     "end_time": "2025-04-22T13:41:37.732199Z",
     "start_time": "2025-04-22T13:41:37.133732Z"
    }
   },
   "cell_type": "code",
   "source": [
    "# Customers\n",
    "print(\"Reading Data...\")\n",
    "res = driver.execute_query(\"\"\"\n",
    "MATCH (c:Customer)\n",
    "OPTIONAL MATCH (c)-[:LOCATED_AT]->(l)\n",
    "OPTIONAL MATCH (c)-[:PART_OF]->(customerFamily)\n",
    "    RETURN c.code AS code,\n",
    "        customerFamily.code AS cust_family_code,\n",
    "        c.ANNUAL_REVENUE AS annual_revenue,\n",
    "        l.latitude AS latitude,\n",
    "        l.longitude AS longitude\n",
    "\"\"\", result_transformer_= lambda r: r.to_df())\n",
    "print(\"Writing CSV...\")\n",
    "res.to_csv('source-csvs/customers.csv', index=False)"
   ],
   "id": "bdaa984fece8396b",
   "outputs": [
    {
     "name": "stdout",
     "output_type": "stream",
     "text": [
      "Reading Data...\n",
      "Writing CSV...\n"
     ]
    }
   ],
   "execution_count": 21
  },
  {
   "metadata": {
    "ExecuteTime": {
     "end_time": "2025-04-22T13:42:15.870667Z",
     "start_time": "2025-04-22T13:41:37.850043Z"
    }
   },
   "cell_type": "code",
   "source": [
    "# CustomerItems\n",
    "print(\"Reading Data...\")\n",
    "res = driver.execute_query(\"\"\"\n",
    "MATCH (i:Product|Component)-[:AT]->(c:Customer)\n",
    "    RETURN c.code AS customer_code,\n",
    "        i.skuId AS sku_id\n",
    "\"\"\", result_transformer_= lambda r: r.to_df())\n",
    "print(\"Writing CSV...\")\n",
    "res.to_csv('source-csvs/customer-items.csv', index=False)"
   ],
   "id": "ab3f636ada743eae",
   "outputs": [
    {
     "name": "stdout",
     "output_type": "stream",
     "text": [
      "Reading Data...\n",
      "Writing CSV...\n"
     ]
    }
   ],
   "execution_count": 22
  },
  {
   "metadata": {},
   "cell_type": "markdown",
   "source": "## Upload to Google Cloud Storage",
   "id": "9869b7a615192306"
  },
  {
   "metadata": {
    "ExecuteTime": {
     "end_time": "2025-04-22T13:47:19.764088Z",
     "start_time": "2025-04-22T13:47:12.443635Z"
    }
   },
   "cell_type": "code",
   "source": "!gcloud auth application-default login > /dev/null 2>&1",
   "id": "1f1881cb74698d0d",
   "outputs": [],
   "execution_count": 23
  },
  {
   "metadata": {
    "ExecuteTime": {
     "end_time": "2025-04-22T13:51:36.323509Z",
     "start_time": "2025-04-22T13:51:28.943155Z"
    }
   },
   "cell_type": "code",
   "source": "!gsutil cp source-csvs/bom-table.csv gs://neo4j-workshop-data/genai-bom",
   "id": "67458b0db182266a",
   "outputs": [
    {
     "name": "stdout",
     "output_type": "stream",
     "text": [
      "Copying file://source-csvs/bom-table.csv [Content-Type=text/csv]...\r\n",
      "/ [0 files][127.4 MiB/129.9 MiB]                                                \r [0 files][  6.7 MiB/129.9 MiB]                                                |/-\\ [0 files][ 97.2 MiB/129.9 MiB]                                                // [1 files][129.9 MiB/129.9 MiB]                                                \r\n",
      "Operation completed over 1 objects/129.9 MiB.                                    \r\n"
     ]
    }
   ],
   "execution_count": 27
  },
  {
   "metadata": {
    "ExecuteTime": {
     "end_time": "2025-04-22T13:52:18.007366Z",
     "start_time": "2025-04-22T13:52:15.290330Z"
    }
   },
   "cell_type": "code",
   "source": "!gsutil cp source-csvs/customer-items.csv gs://neo4j-workshop-data/genai-bom",
   "id": "1cb9a924dfbe5f9b",
   "outputs": [
    {
     "name": "stdout",
     "output_type": "stream",
     "text": [
      "Copying file://source-csvs/customer-items.csv [Content-Type=text/csv]...\r\n",
      "-\r[0 files][    0.0 B/  9.7 MiB]                                                - [1 files][  9.7 MiB/  9.7 MiB]                                                \r\n",
      "Operation completed over 1 objects/9.7 MiB.                                      \r\n"
     ]
    }
   ],
   "execution_count": 28
  },
  {
   "metadata": {
    "ExecuteTime": {
     "end_time": "2025-04-22T13:52:20.879688Z",
     "start_time": "2025-04-22T13:52:19.184027Z"
    }
   },
   "cell_type": "code",
   "source": "!gsutil cp source-csvs/customers.csv gs://neo4j-workshop-data/genai-bom",
   "id": "e12f160defd931c4",
   "outputs": [
    {
     "name": "stdout",
     "output_type": "stream",
     "text": [
      "Copying file://source-csvs/customers.csv [Content-Type=text/csv]...\r\n",
      "/ [1 files][268.4 KiB/268.4 KiB]                                                \r\n",
      "Operation completed over 1 objects/268.4 KiB.                                    \r\n"
     ]
    }
   ],
   "execution_count": 29
  },
  {
   "metadata": {
    "ExecuteTime": {
     "end_time": "2025-04-22T13:52:24.031458Z",
     "start_time": "2025-04-22T13:52:21.728748Z"
    }
   },
   "cell_type": "code",
   "source": "!gsutil cp source-csvs/items.csv gs://neo4j-workshop-data/genai-bom",
   "id": "3d93f2195ab53762",
   "outputs": [
    {
     "name": "stdout",
     "output_type": "stream",
     "text": [
      "Copying file://source-csvs/items.csv [Content-Type=text/csv]...\r\n",
      "-\r[0 files][    0.0 B/  8.4 MiB]                                                - [1 files][  8.4 MiB/  8.4 MiB]                                                \r\n",
      "Operation completed over 1 objects/8.4 MiB.                                      \r\n"
     ]
    }
   ],
   "execution_count": 30
  },
  {
   "metadata": {
    "ExecuteTime": {
     "end_time": "2025-04-22T13:52:28.119559Z",
     "start_time": "2025-04-22T13:52:25.772027Z"
    }
   },
   "cell_type": "code",
   "source": "!gsutil cp source-csvs/supplier-items.csv gs://neo4j-workshop-data/genai-bom",
   "id": "4c2aa5459c6678db",
   "outputs": [
    {
     "name": "stdout",
     "output_type": "stream",
     "text": [
      "Copying file://source-csvs/supplier-items.csv [Content-Type=text/csv]...\r\n",
      "-\r[0 files][    0.0 B/  7.4 MiB]                                                - [1 files][  7.4 MiB/  7.4 MiB]                                                \r\n",
      "Operation completed over 1 objects/7.4 MiB.                                      \r\n"
     ]
    }
   ],
   "execution_count": 31
  },
  {
   "metadata": {
    "ExecuteTime": {
     "end_time": "2025-04-22T13:52:31.277347Z",
     "start_time": "2025-04-22T13:52:29.577217Z"
    }
   },
   "cell_type": "code",
   "source": "!gsutil cp source-csvs/suppliers.csv gs://neo4j-workshop-data/genai-bom",
   "id": "9b8c0350b0aa2db",
   "outputs": [
    {
     "name": "stdout",
     "output_type": "stream",
     "text": [
      "Copying file://source-csvs/suppliers.csv [Content-Type=text/csv]...\r\n",
      "/ [1 files][613.8 KiB/613.8 KiB]                                                \r\n",
      "Operation completed over 1 objects/613.8 KiB.                                    \r\n"
     ]
    }
   ],
   "execution_count": 32
  }
 ],
 "metadata": {
  "kernelspec": {
   "display_name": "Python 3",
   "language": "python",
   "name": "python3"
  },
  "language_info": {
   "codemirror_mode": {
    "name": "ipython",
    "version": 2
   },
   "file_extension": ".py",
   "mimetype": "text/x-python",
   "name": "python",
   "nbconvert_exporter": "python",
   "pygments_lexer": "ipython2",
   "version": "2.7.6"
  }
 },
 "nbformat": 4,
 "nbformat_minor": 5
}
