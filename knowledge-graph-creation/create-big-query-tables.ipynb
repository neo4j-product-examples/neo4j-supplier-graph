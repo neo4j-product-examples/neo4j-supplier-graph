{
 "cells": [
  {
   "metadata": {},
   "cell_type": "markdown",
   "source": "# Create BigQuery Tables from CSVs",
   "id": "ee5cf98593dd38e2"
  },
  {
   "metadata": {},
   "cell_type": "code",
   "outputs": [],
   "execution_count": null,
   "source": "%pip install --upgrade google-cloud-bigquery",
   "id": "9d3a3539cdc53dca"
  },
  {
   "metadata": {
    "ExecuteTime": {
     "end_time": "2025-04-21T14:05:00.166809Z",
     "start_time": "2025-04-21T14:04:53.840475Z"
    }
   },
   "cell_type": "code",
   "source": "!gcloud auth application-default login > /dev/null 2>&1",
   "id": "1f1881cb74698d0d",
   "outputs": [],
   "execution_count": 3
  },
  {
   "metadata": {
    "ExecuteTime": {
     "end_time": "2025-04-23T00:03:55.155741Z",
     "start_time": "2025-04-23T00:03:52.432184Z"
    }
   },
   "cell_type": "code",
   "source": [
    "import datetime\n",
    "\n",
    "from google.cloud import bigquery\n",
    "import pandas\n",
    "import pytz\n",
    "\n",
    "# Construct a BigQuery client object.\n",
    "client = bigquery.Client()\n",
    "\n",
    "bq_data_id = \"neo4jeventdemos.bomv2\" #Change to your BQ Database"
   ],
   "id": "a4cf633091051c2e",
   "outputs": [],
   "execution_count": 1
  },
  {
   "metadata": {
    "ExecuteTime": {
     "end_time": "2025-04-23T00:04:01.263721Z",
     "start_time": "2025-04-23T00:04:00.282998Z"
    }
   },
   "cell_type": "code",
   "source": [
    "# Construct a full Dataset object to send to the API.\n",
    "dataset = bigquery.Dataset(bq_data_id)\n",
    "\n",
    "# TODO(developer): Specify the geographic location where the dataset should reside.\n",
    "dataset.location = \"US\"\n",
    "\n",
    "# Send the dataset to the API for creation, with an explicit timeout.\n",
    "# Raises google.api_core.exceptions.Conflict if the Dataset already\n",
    "# exists within the project.\n",
    "dataset = client.create_dataset(dataset, exists_ok=True, timeout=30)  # Make an API request.\n",
    "print(\"Created dataset {}.{}\".format(client.project, dataset.dataset_id))"
   ],
   "id": "a1dd66e604639d6e",
   "outputs": [
    {
     "name": "stdout",
     "output_type": "stream",
     "text": [
      "Created dataset neo4jeventdemos.bomv2\n"
     ]
    }
   ],
   "execution_count": 2
  },
  {
   "metadata": {
    "ExecuteTime": {
     "end_time": "2025-04-22T14:48:11.211807Z",
     "start_time": "2025-04-22T14:48:06.934706Z"
    }
   },
   "cell_type": "code",
   "source": [
    "#Suppliers\n",
    "job_config = bigquery.LoadJobConfig(\n",
    "    schema=[\n",
    "        bigquery.SchemaField(\"code\", \"STRING\", mode=\"REQUIRED\"),\n",
    "        bigquery.SchemaField(\"annual_spend\", \"FLOAT\"),\n",
    "        bigquery.SchemaField(\"tier\", \"STRING\"),\n",
    "        bigquery.SchemaField(\"sub_type\", \"STRING\"),\n",
    "        bigquery.SchemaField(\"category\", \"STRING\"),\n",
    "        bigquery.SchemaField(\"latitude\", \"FLOAT\"),\n",
    "        bigquery.SchemaField(\"longitude\", \"FLOAT\")\n",
    "    ],\n",
    "    skip_leading_rows=1,\n",
    "    write_disposition=\"WRITE_TRUNCATE\",\n",
    ")\n",
    "table_id = f\"{bq_data_id}.suppliers\"\n",
    "uri = \"gs://neo4j-workshop-data/genai-bom/suppliers.csv\"\n",
    "\n",
    "load_job = client.load_table_from_uri(\n",
    "    uri, table_id, job_config=job_config\n",
    ")  # Make an API request.\n",
    "load_job.result()  # Waits for the job to complete."
   ],
   "id": "5da4239216044749",
   "outputs": [
    {
     "data": {
      "text/plain": [
       "LoadJob<project=neo4jeventdemos, location=US, id=d56601e7-1cd5-40f4-86be-7d7472a6068f>"
      ]
     },
     "execution_count": 15,
     "metadata": {},
     "output_type": "execute_result"
    }
   ],
   "execution_count": 15
  },
  {
   "metadata": {
    "ExecuteTime": {
     "end_time": "2025-04-22T14:52:10.298789Z",
     "start_time": "2025-04-22T14:52:06.322246Z"
    }
   },
   "cell_type": "code",
   "source": [
    "# SupplierItems\n",
    "job_config = bigquery.LoadJobConfig(\n",
    "    schema=[\n",
    "        bigquery.SchemaField(\"supplier_code\", \"STRING\", mode=\"REQUIRED\"),\n",
    "        bigquery.SchemaField(\"sku_id\", \"STRING\", mode=\"REQUIRED\"),\n",
    "    ],\n",
    "    skip_leading_rows=1,\n",
    "    write_disposition=\"WRITE_TRUNCATE\",\n",
    ")\n",
    "table_id = f\"{bq_data_id}.supplier_items\"\n",
    "uri = \"gs://neo4j-workshop-data/genai-bom/supplier-items.csv\"\n",
    "\n",
    "load_job = client.load_table_from_uri(\n",
    "    uri, table_id, job_config=job_config\n",
    ")  # Make an API request.\n",
    "load_job.result()  # Waits for the job to complete."
   ],
   "id": "c4ad052776a07abd",
   "outputs": [
    {
     "data": {
      "text/plain": [
       "LoadJob<project=neo4jeventdemos, location=US, id=40fe84ec-e0cc-4049-aea8-07060533ac0a>"
      ]
     },
     "execution_count": 16,
     "metadata": {},
     "output_type": "execute_result"
    }
   ],
   "execution_count": 16
  },
  {
   "metadata": {
    "ExecuteTime": {
     "end_time": "2025-04-23T00:05:06.844412Z",
     "start_time": "2025-04-23T00:05:02.866834Z"
    }
   },
   "cell_type": "code",
   "source": [
    "# Items\n",
    "job_config = bigquery.LoadJobConfig(\n",
    "    schema=[\n",
    "        bigquery.SchemaField(\"sku_id\", \"STRING\", mode=\"REQUIRED\"),\n",
    "        bigquery.SchemaField(\"name\", \"STRING\", mode=\"REQUIRED\"),\n",
    "        bigquery.SchemaField(\"family\", \"STRING\", mode=\"REQUIRED\"),\n",
    "        bigquery.SchemaField(\"is_finished_product\", \"BOOLEAN\", mode=\"REQUIRED\")\n",
    "    ],\n",
    "    skip_leading_rows=1,\n",
    "    write_disposition=\"WRITE_TRUNCATE\",\n",
    ")\n",
    "table_id = f\"{bq_data_id}.items\"\n",
    "uri = \"gs://neo4j-workshop-data/genai-bom/items.csv\"\n",
    "\n",
    "load_job = client.load_table_from_uri(\n",
    "    uri, table_id, job_config=job_config\n",
    ")  # Make an API request.\n",
    "load_job.result()  # Waits for the job to complete."
   ],
   "id": "b0000b243084cd8a",
   "outputs": [
    {
     "data": {
      "text/plain": [
       "LoadJob<project=neo4jeventdemos, location=US, id=a75bb5e9-f1d6-4e4c-a9f0-78417bbab71c>"
      ]
     },
     "execution_count": 3,
     "metadata": {},
     "output_type": "execute_result"
    }
   ],
   "execution_count": 3
  },
  {
   "metadata": {
    "ExecuteTime": {
     "end_time": "2025-04-22T14:53:34.220396Z",
     "start_time": "2025-04-22T14:53:19.405946Z"
    }
   },
   "cell_type": "code",
   "source": [
    "# BOMTable\n",
    "job_config = bigquery.LoadJobConfig(\n",
    "    schema=[\n",
    "        bigquery.SchemaField(\"parent_sku_id\", \"STRING\", mode=\"REQUIRED\"),\n",
    "        bigquery.SchemaField(\"child_sku_id\", \"STRING\", mode=\"REQUIRED\")\n",
    "    ],\n",
    "    skip_leading_rows=1,\n",
    "    write_disposition=\"WRITE_TRUNCATE\",\n",
    ")\n",
    "table_id = f\"{bq_data_id}.bom_table\"\n",
    "uri = \"gs://neo4j-workshop-data/genai-bom/bom-table.csv\"\n",
    "\n",
    "load_job = client.load_table_from_uri(\n",
    "    uri, table_id, job_config=job_config\n",
    ")  # Make an API request.\n",
    "load_job.result()  # Waits for the job to complete."
   ],
   "id": "4870bf1fe223de7d",
   "outputs": [
    {
     "data": {
      "text/plain": [
       "LoadJob<project=neo4jeventdemos, location=US, id=a4bfb6c8-408e-43cc-832f-f6180f289efb>"
      ]
     },
     "execution_count": 18,
     "metadata": {},
     "output_type": "execute_result"
    }
   ],
   "execution_count": 18
  },
  {
   "metadata": {
    "ExecuteTime": {
     "end_time": "2025-04-22T14:56:50.849599Z",
     "start_time": "2025-04-22T14:56:47.545728Z"
    }
   },
   "cell_type": "code",
   "source": [
    "# Customers\n",
    "job_config = bigquery.LoadJobConfig(\n",
    "    schema=[\n",
    "        bigquery.SchemaField(\"code\", \"INTEGER\", mode=\"REQUIRED\"),\n",
    "        bigquery.SchemaField(\"cust_family_code\", \"STRING\"),\n",
    "        bigquery.SchemaField(\"annual_revenue\", \"FLOAT\"),\n",
    "        bigquery.SchemaField(\"latitude\", \"FLOAT\"),\n",
    "        bigquery.SchemaField(\"longitude\", \"FLOAT\"),\n",
    "    ],\n",
    "    skip_leading_rows=1,\n",
    "    write_disposition=\"WRITE_TRUNCATE\",\n",
    ")\n",
    "table_id = f\"{bq_data_id}.customers\"\n",
    "uri = \"gs://neo4j-workshop-data/genai-bom/customers.csv\"\n",
    "\n",
    "load_job = client.load_table_from_uri(\n",
    "    uri, table_id, job_config=job_config\n",
    ")  # Make an API request.\n",
    "load_job.result()  # Waits for the job to complete."
   ],
   "id": "bdaa984fece8396b",
   "outputs": [
    {
     "data": {
      "text/plain": [
       "LoadJob<project=neo4jeventdemos, location=US, id=91a6268d-28f7-4dc8-97c6-e8b670f01d7d>"
      ]
     },
     "execution_count": 19,
     "metadata": {},
     "output_type": "execute_result"
    }
   ],
   "execution_count": 19
  },
  {
   "metadata": {
    "ExecuteTime": {
     "end_time": "2025-04-22T14:58:01.213989Z",
     "start_time": "2025-04-22T14:57:56.390663Z"
    }
   },
   "cell_type": "code",
   "source": [
    "# CustomerItems\n",
    "job_config = bigquery.LoadJobConfig(\n",
    "    schema=[\n",
    "        bigquery.SchemaField(\"customer_code\", \"INTEGER\", mode=\"REQUIRED\"),\n",
    "        bigquery.SchemaField(\"sku_id\", \"STRING\", mode=\"REQUIRED\"),\n",
    "    ],\n",
    "    skip_leading_rows=1,\n",
    "    write_disposition=\"WRITE_TRUNCATE\",\n",
    ")\n",
    "table_id = f\"{bq_data_id}.customer_items\"\n",
    "uri = \"gs://neo4j-workshop-data/genai-bom/customer-items.csv\"\n",
    "\n",
    "load_job = client.load_table_from_uri(\n",
    "    uri, table_id, job_config=job_config\n",
    ")  # Make an API request.\n",
    "load_job.result()  # Waits for the job to complete."
   ],
   "id": "ab3f636ada743eae",
   "outputs": [
    {
     "data": {
      "text/plain": [
       "LoadJob<project=neo4jeventdemos, location=US, id=19a516dc-36af-4cac-81b1-435efc513c3b>"
      ]
     },
     "execution_count": 21,
     "metadata": {},
     "output_type": "execute_result"
    }
   ],
   "execution_count": 21
  }
 ],
 "metadata": {
  "kernelspec": {
   "display_name": "Python 3",
   "language": "python",
   "name": "python3"
  },
  "language_info": {
   "codemirror_mode": {
    "name": "ipython",
    "version": 2
   },
   "file_extension": ".py",
   "mimetype": "text/x-python",
   "name": "python",
   "nbconvert_exporter": "python",
   "pygments_lexer": "ipython2",
   "version": "2.7.6"
  }
 },
 "nbformat": 4,
 "nbformat_minor": 5
}
