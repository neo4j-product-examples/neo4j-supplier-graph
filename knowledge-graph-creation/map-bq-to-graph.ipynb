{
 "cells": [
  {
   "metadata": {},
   "cell_type": "markdown",
   "source": [
    "# Map BigQuery to Neo4j Graph\n",
    "\n",
    "![bq-to-neo4j](img/bq-to-neo4j.png)"
   ],
   "id": "9e137fde7d4f1d7d"
  },
  {
   "metadata": {},
   "cell_type": "markdown",
   "source": "## Setup",
   "id": "e0a6cb126044e2c4"
  },
  {
   "metadata": {
    "ExecuteTime": {
     "end_time": "2025-04-22T15:04:08.981802Z",
     "start_time": "2025-04-22T15:04:00.129507Z"
    }
   },
   "cell_type": "code",
   "source": "!gcloud auth application-default login > /dev/null 2>&1",
   "id": "1f1881cb74698d0d",
   "outputs": [],
   "execution_count": 37
  },
  {
   "metadata": {
    "collapsed": true,
    "ExecuteTime": {
     "end_time": "2025-04-23T00:06:17.930003Z",
     "start_time": "2025-04-23T00:06:17.921066Z"
    }
   },
   "cell_type": "code",
   "source": [
    "from dotenv import load_dotenv\n",
    "import os\n",
    "\n",
    "env_file = '.env'\n",
    "if os.path.exists(env_file):\n",
    "    load_dotenv(env_file, override=True)\n",
    "\n",
    "    NEO4J_URI = os.getenv('NEO4J_URI')\n",
    "    NEO4J_USERNAME = os.getenv('NEO4J_USERNAME')\n",
    "    NEO4J_PASSWORD = os.getenv('NEO4J_PASSWORD')\n",
    "\n",
    "else:\n",
    "    print(f\"File {env_file} not found.\")"
   ],
   "id": "initial_id",
   "outputs": [],
   "execution_count": 1
  },
  {
   "metadata": {
    "ExecuteTime": {
     "end_time": "2025-04-23T00:06:25.094211Z",
     "start_time": "2025-04-23T00:06:22.966598Z"
    }
   },
   "cell_type": "code",
   "source": [
    "from neo4j import GraphDatabase\n",
    "from google.cloud import bigquery\n",
    "\n",
    "# Construct neo4j driver\n",
    "driver = GraphDatabase.driver(NEO4J_URI, auth=(NEO4J_USERNAME, NEO4J_PASSWORD))\n",
    "\n",
    "# Construct a BigQuery client object.\n",
    "bq_client = bigquery.Client()"
   ],
   "id": "3a30b9a9ba9b4a98",
   "outputs": [],
   "execution_count": 2
  },
  {
   "metadata": {
    "ExecuteTime": {
     "end_time": "2025-04-23T00:06:28.133995Z",
     "start_time": "2025-04-23T00:06:28.125814Z"
    }
   },
   "cell_type": "code",
   "source": [
    "# Helper functions for loading Neo4j data\n",
    "from typing import List, Optional\n",
    "from tqdm import tqdm\n",
    "import pandas as pd\n",
    "\n",
    "def df_to_node_records(df:pd.DataFrame, id_column:str, include_properties: Optional[List[str]]=None):\n",
    "    #select relevant columns and drop duplicates\n",
    "    properties = [id_column]\n",
    "    if include_properties:\n",
    "        properties = properties + [col for col in include_properties if col != id_column]\n",
    "    df = df[properties].drop_duplicates()\n",
    "\n",
    "    # Create the \"properties\" by dropping the id column, then converting rows to dictionaries\n",
    "    property_records = df.drop(columns=[id_column]).to_dict(orient='records') if include_properties else [dict() for i in range(df.shape[0])]\n",
    "\n",
    "    # Combine \"id\" and \"properties\" into the desired format\n",
    "    return pd.DataFrame({\n",
    "        \"id\": df[id_column],\n",
    "        \"properties\": property_records\n",
    "    }).to_dict(orient='records')\n",
    "\n",
    "def df_to_relationship_records(df:pd.DataFrame, start_node_id:str, end_node_id:str, rel_key: Optional[str]=None, include_properties: Optional[List[str]]=None):\n",
    "    #select relevant columns and drop duplicates\n",
    "    id_props = [start_node_id, end_node_id]\n",
    "    if rel_key:\n",
    "        id_props.append(rel_key)\n",
    "\n",
    "    properties = id_props.copy()\n",
    "    if include_properties:\n",
    "        properties = properties + [col for col in include_properties if col != start_node_id and col != end_node_id and col != rel_key]\n",
    "    df = df[properties].drop_duplicates()\n",
    "\n",
    "    # Create the \"properties\" by dropping the id columns, then converting rows to dictionaries\n",
    "    property_records = df.drop(columns=id_props).to_dict(orient='records') if include_properties else [dict() for i in range(df.shape[0])]\n",
    "\n",
    "    # Combine \"id\" and \"properties\" into the desired format\n",
    "    if rel_key is None:\n",
    "        res = pd.DataFrame({\n",
    "            \"start_node_id\": df[start_node_id],\n",
    "            \"end_node_id\": df[end_node_id],\n",
    "            \"properties\": property_records\n",
    "        }).to_dict(orient='records')\n",
    "    else:\n",
    "        res = pd.DataFrame({\n",
    "            \"start_node_id\": df[start_node_id],\n",
    "            \"end_node_id\": df[end_node_id],\n",
    "            \"rel_key\": df[rel_key],\n",
    "            \"properties\": property_records\n",
    "        }).to_dict(orient='records')\n",
    "    return res\n",
    "\n",
    "def chunks(xs, n=5_000):\n",
    "    \"\"\"\n",
    "    Splits a list into smaller chunks of a given size.\n",
    "\n",
    "    This function takes a list `xs` and divides it into smaller list chunks, each\n",
    "    of size `n` (except possibly the last chunk, which may have fewer elements).\n",
    "    :param xs: The list to be split into smaller chunks.\n",
    "    :param n: The size of each chunk. Defaults to 1,000.\n",
    "    :return: A list of smaller list chunks, each containing `n` or fewer elements.\n",
    "    :rtype: list\n",
    "    \"\"\"\n",
    "    n = max(1, n)\n",
    "    return [xs[i:i + n] for i in range(0, len(xs), n)]\n",
    "\n",
    "\n",
    "def merge_nodes(label, id_name, records):\n",
    "    \"\"\"\n",
    "    Merges node records into a Neo4j graph database.\n",
    "    :param label: The label to assign to the node in the graph database.\n",
    "    :param id_name: The name of the unique identifier property for the node i.e. the node id\n",
    "    :param records: A list of node records to be merged into the graph database.\n",
    "    \"\"\"\n",
    "    query = f\"\"\"\n",
    "    UNWIND $records AS rec\n",
    "    MERGE(n:{label} {{{id_name}: rec.id}})\n",
    "    SET n += rec.properties\n",
    "    \"\"\"\n",
    "    for recs in tqdm(chunks(records), desc=\"merging nodes\"):\n",
    "        driver.execute_query(query, records=recs)\n",
    "\n",
    "class IncidentNode():\n",
    "    \"\"\"\n",
    "    Represents a start or end node for a relationship.\n",
    "    :ivar label: The label of the node.\n",
    "    :ivar idName: The unique identifier for the node  i.e. the node id\n",
    "    \"\"\"\n",
    "    label:str\n",
    "    idName:str\n",
    "    def __init__(self, label, id_name):\n",
    "        self.label = label\n",
    "        self.idName = id_name\n",
    "\n",
    "\n",
    "def merge_relationships(start_node:IncidentNode, end_node:IncidentNode, rel_type, records, rel_key=None, chunk_size=5_000):\n",
    "    \"\"\"\n",
    "    Generates a Cypher query string for creating or updating relationships between nodes in a Neo4j Database\n",
    "\n",
    "    :param start_node:IncidentNode The starting node of the relationship. It must include the node's label and\n",
    "        id name\n",
    "    :param end_node: IncidentNode The ending node of the relationship. It must include the node's label and\n",
    "        id name\n",
    "    :param rel_type:str The type of relationship to be created between the nodes.\n",
    "    :param records: A list of dictionaries containing the start node id, end node id, and relationship properties.\n",
    "    :param rel_key: Optional[str] The name of the relationship property to be used as a key for parallel relationships. Default is None\n",
    "    :param chunk_size: how many rel racerds to batch at once when merging. setting can effect ingest speed.  Default is 5,000.\n",
    "    \"\"\"\n",
    "\n",
    "    if rel_key is None:\n",
    "        query = f\"\"\"\n",
    "        UNWIND $records AS rec\n",
    "        MERGE(n1:{start_node.label} {{{start_node.idName}: rec.start_node_id}})\n",
    "        MERGE(n2:{end_node.label} {{{end_node.idName}: rec.end_node_id}})\n",
    "        MERGE(n1)-[r:{rel_type}]->(n2)\n",
    "        SET r += rec.properties\n",
    "        \"\"\"\n",
    "    else:\n",
    "        query = f\"\"\"\n",
    "        UNWIND $records AS rec\n",
    "        MERGE(n1:{start_node.label} {{{start_node.idName}: rec.start_node_id}})\n",
    "        MERGE(n2:{end_node.label} {{{end_node.idName}: rec.end_node_id}})\n",
    "        MERGE(n1)-[r:{rel_type} {{{rel_key}: rec.rel_key}}]->(n2)\n",
    "        SET r += rec.properties\n",
    "        \"\"\"\n",
    "    for recs in tqdm(chunks(records, chunk_size), desc=\"merging relationships\"):\n",
    "        driver.execute_query(query, records=recs)\n",
    "\n",
    "\n",
    "def bq_table_to_neo4j_node(bq_db_table:str, node_label:str, node_id_name:str, exclude_properties:Optional[List[str]]=None):\n",
    "    \"\"\"\n",
    "    This function retrieves data from a BigQuery table, transforms it into a format compatible with Neo4j,\n",
    "    creates a node constraint in Neo4j, and merges the transformed data as nodes into the Neo4j graph database.\n",
    "\n",
    "    :param bq_db_table: The BigQuery fully qualified table name, including the project ID, database, and table name\n",
    "    :param node_label: The label to be assigned to the nodes in the Neo4j graph.\n",
    "    :param node_id_name: The key attribute used as a unique identifier for the nodes in Neo4j.\n",
    "    :return: None\n",
    "    \"\"\"\n",
    "    # get BQ data\n",
    "    print(f\"Retrieving {bq_db_table} from BigQuery...\")\n",
    "    df = bq_client.query_and_wait(f'SELECT * FROM {bq_db_table}').to_dataframe()\n",
    "\n",
    "    # convert to records format\n",
    "    print(f\"Processing data...\")\n",
    "    include_props = [c for c in df.columns.tolist() if c not in exclude_properties] if exclude_properties else df.columns.tolist()\n",
    "    recs = df_to_node_records(df, node_id_name, include_props)\n",
    "\n",
    "    # create node constraint\n",
    "    print(f\"Setting node constraint for {node_label}...\")\n",
    "    driver.execute_query(f\"CREATE CONSTRAINT IF NOT EXISTS FOR (n:{node_label}) REQUIRE (n.{node_id_name}) IS NODE KEY\")\n",
    "\n",
    "    #merge node records\n",
    "    print(f\"Merging {len(recs)} node records into Neo4j...\")\n",
    "    merge_nodes(node_label, node_id_name, recs)\n"
   ],
   "id": "60b40305ffac57a7",
   "outputs": [],
   "execution_count": 3
  },
  {
   "metadata": {
    "ExecuteTime": {
     "end_time": "2025-04-23T00:06:35.328198Z",
     "start_time": "2025-04-23T00:06:35.326137Z"
    }
   },
   "cell_type": "code",
   "source": "bq_data_id = \"neo4jeventdemos.bomv2\"",
   "id": "a4cf633091051c2e",
   "outputs": [],
   "execution_count": 4
  },
  {
   "metadata": {},
   "cell_type": "markdown",
   "source": "## Load Nodes with Properties",
   "id": "217355ebabf95772"
  },
  {
   "metadata": {
    "ExecuteTime": {
     "end_time": "2025-04-22T15:05:16.140035Z",
     "start_time": "2025-04-22T15:05:09.494590Z"
    }
   },
   "cell_type": "code",
   "source": [
    "# Supplier Nodes\n",
    "bq_table_to_neo4j_node(f'{bq_data_id}.suppliers',\n",
    "                       node_label='Supplier',\n",
    "                       node_id_name='code',\n",
    "                       exclude_properties=['category','latitude','longitude'])"
   ],
   "id": "c05d3c9a083b0fa8",
   "outputs": [
    {
     "name": "stdout",
     "output_type": "stream",
     "text": [
      "Retrieving neo4jeventdemos.bomv2.suppliers from BigQuery...\n",
      "Processing data...\n",
      "Setting node constraint for Supplier...\n",
      "Merging 13890 node records into Neo4j...\n"
     ]
    },
    {
     "name": "stderr",
     "output_type": "stream",
     "text": [
      "merging nodes: 100%|██████████| 3/3 [00:01<00:00,  2.33it/s]\n"
     ]
    }
   ],
   "execution_count": 44
  },
  {
   "metadata": {
    "ExecuteTime": {
     "end_time": "2025-04-23T00:07:22.031924Z",
     "start_time": "2025-04-23T00:06:58.809687Z"
    }
   },
   "cell_type": "code",
   "source": [
    "# Item Nodes (Component + Product)\n",
    "bq_table_to_neo4j_node(f'{bq_data_id}.items',\n",
    "                       node_label='Item',\n",
    "                       node_id_name='sku_id')"
   ],
   "id": "2c8324538d408383",
   "outputs": [
    {
     "name": "stdout",
     "output_type": "stream",
     "text": [
      "Retrieving neo4jeventdemos.bomv2.items from BigQuery...\n"
     ]
    },
    {
     "name": "stderr",
     "output_type": "stream",
     "text": [
      "/Users/zachblumenfeld/interpeters/neo4j-google-ai-examples/lib/python3.11/site-packages/google/cloud/bigquery/table.py:1933: UserWarning: BigQuery Storage module not found, fetch data with the REST endpoint instead.\n",
      "  warnings.warn(\n"
     ]
    },
    {
     "name": "stdout",
     "output_type": "stream",
     "text": [
      "Processing data...\n",
      "Setting node constraint for Item...\n",
      "Merging 233609 node records into Neo4j...\n"
     ]
    },
    {
     "name": "stderr",
     "output_type": "stream",
     "text": [
      "merging nodes: 100%|██████████| 47/47 [00:08<00:00,  5.28it/s]\n"
     ]
    }
   ],
   "execution_count": 5
  },
  {
   "metadata": {
    "ExecuteTime": {
     "end_time": "2025-04-22T15:05:47.195425Z",
     "start_time": "2025-04-22T15:05:45.739930Z"
    }
   },
   "cell_type": "code",
   "source": [
    "# Customer Nodes\n",
    "bq_table_to_neo4j_node(f'{bq_data_id}.customers',\n",
    "                       node_label='Customer',\n",
    "                       node_id_name='code',\n",
    "                       exclude_properties=['cust_family_code','latitude','longitude'])"
   ],
   "id": "fbbccb59922eee8c",
   "outputs": [
    {
     "name": "stdout",
     "output_type": "stream",
     "text": [
      "Retrieving neo4jeventdemos.bomv2.customers from BigQuery...\n",
      "Processing data...\n",
      "Setting node constraint for Customer...\n",
      "Merging 5447 node records into Neo4j...\n"
     ]
    },
    {
     "name": "stderr",
     "output_type": "stream",
     "text": [
      "merging nodes: 100%|██████████| 2/2 [00:00<00:00,  4.57it/s]\n"
     ]
    }
   ],
   "execution_count": 46
  },
  {
   "metadata": {},
   "cell_type": "markdown",
   "source": "## Load Relationships",
   "id": "884c063122e3466c"
  },
  {
   "metadata": {
    "ExecuteTime": {
     "end_time": "2025-04-22T15:06:22.979733Z",
     "start_time": "2025-04-22T15:05:54.465534Z"
    }
   },
   "cell_type": "code",
   "source": [
    "bq_table = 'supplier_items'\n",
    "rel_type = 'AT'\n",
    "start_node = IncidentNode(label='Item', id_name='sku_id')\n",
    "end_node= IncidentNode(label='Supplier', id_name='code')\n",
    "start_node_id_table_name = 'sku_id'\n",
    "end_node_id_table_name = 'supplier_code'\n",
    "\n",
    "# get BQ data\n",
    "print(f\"Retrieving {bq_data_id}.{bq_table} from BigQuery...\")\n",
    "df = bq_client.query_and_wait(f'SELECT * FROM {bq_data_id}.{bq_table}').to_dataframe()\n",
    "\n",
    "# convert to records format\n",
    "print(f\"Processing data...\")\n",
    "recs = df_to_relationship_records(df,\n",
    "                                  start_node_id_table_name,\n",
    "                                  end_node_id_table_name)\n",
    "\n",
    "# create node constraints\n",
    "print(f\"Setting node constraint for {start_node.label} and {end_node.label}...\")\n",
    "driver.execute_query(f\"CREATE CONSTRAINT IF NOT EXISTS FOR (n:{start_node.label}) REQUIRE (n.{start_node.idName}) IS NODE KEY\")\n",
    "driver.execute_query(f\"CREATE CONSTRAINT IF NOT EXISTS FOR (n:{end_node.label}) REQUIRE (n.{end_node.idName}) IS NODE KEY\")\n",
    "\n",
    "#merge relationship records\n",
    "print(f\"Merging {len(recs)} relationship records into Neo4j...\")\n",
    "merge_relationships(\n",
    "    start_node=start_node,\n",
    "    end_node=end_node,\n",
    "    rel_type=rel_type,\n",
    "    records=recs)"
   ],
   "id": "258b39ed56b8804",
   "outputs": [
    {
     "name": "stdout",
     "output_type": "stream",
     "text": [
      "Retrieving neo4jeventdemos.bomv2.supplier_items from BigQuery...\n"
     ]
    },
    {
     "name": "stderr",
     "output_type": "stream",
     "text": [
      "/Users/zachblumenfeld/interpeters/neo4j-google-ai-examples/lib/python3.11/site-packages/google/cloud/bigquery/table.py:1933: UserWarning: BigQuery Storage module not found, fetch data with the REST endpoint instead.\n",
      "  warnings.warn(\n"
     ]
    },
    {
     "name": "stdout",
     "output_type": "stream",
     "text": [
      "Processing data...\n",
      "Setting node constraint for Item and Supplier...\n",
      "Merging 280463 relationship records into Neo4j...\n"
     ]
    },
    {
     "name": "stderr",
     "output_type": "stream",
     "text": [
      "merging relationships: 100%|██████████| 57/57 [00:14<00:00,  3.96it/s]\n"
     ]
    }
   ],
   "execution_count": 47
  },
  {
   "metadata": {
    "ExecuteTime": {
     "end_time": "2025-04-22T15:07:04.080886Z",
     "start_time": "2025-04-22T15:06:30.625408Z"
    }
   },
   "cell_type": "code",
   "source": [
    "bq_table = 'customer_items'\n",
    "rel_type = 'AT'\n",
    "start_node = IncidentNode(label='Item', id_name='sku_id')\n",
    "end_node= IncidentNode(label='Customer', id_name='code')\n",
    "start_node_id_table_name = 'sku_id'\n",
    "end_node_id_table_name = 'customer_code'\n",
    "\n",
    "# get BQ data\n",
    "print(f\"Retrieving {bq_data_id}.{bq_table} from BigQuery...\")\n",
    "df = bq_client.query_and_wait(f'SELECT * FROM {bq_data_id}.{bq_table}').to_dataframe()\n",
    "\n",
    "# convert to records format\n",
    "print(f\"Processing data...\")\n",
    "recs = df_to_relationship_records(df,\n",
    "                                  start_node_id_table_name,\n",
    "                                  end_node_id_table_name)\n",
    "\n",
    "# create node constraints\n",
    "print(f\"Setting node constraint for {start_node.label} and {end_node.label}...\")\n",
    "driver.execute_query(f\"CREATE CONSTRAINT IF NOT EXISTS FOR (n:{start_node.label}) REQUIRE (n.{start_node.idName}) IS NODE KEY\")\n",
    "driver.execute_query(f\"CREATE CONSTRAINT IF NOT EXISTS FOR (n:{end_node.label}) REQUIRE (n.{end_node.idName}) IS NODE KEY\")\n",
    "\n",
    "#merge relationship records\n",
    "print(f\"Merging {len(recs)} relationship records into Neo4j...\")\n",
    "merge_relationships(\n",
    "    start_node=start_node,\n",
    "    end_node=end_node,\n",
    "    rel_type=rel_type,\n",
    "    records=recs)"
   ],
   "id": "285685c613fddc5",
   "outputs": [
    {
     "name": "stdout",
     "output_type": "stream",
     "text": [
      "Retrieving neo4jeventdemos.bomv2.customer_items from BigQuery...\n"
     ]
    },
    {
     "name": "stderr",
     "output_type": "stream",
     "text": [
      "/Users/zachblumenfeld/interpeters/neo4j-google-ai-examples/lib/python3.11/site-packages/google/cloud/bigquery/table.py:1933: UserWarning: BigQuery Storage module not found, fetch data with the REST endpoint instead.\n",
      "  warnings.warn(\n"
     ]
    },
    {
     "name": "stdout",
     "output_type": "stream",
     "text": [
      "Processing data...\n",
      "Setting node constraint for Item and Customer...\n",
      "Merging 337810 relationship records into Neo4j...\n"
     ]
    },
    {
     "name": "stderr",
     "output_type": "stream",
     "text": [
      "merging relationships: 100%|██████████| 68/68 [00:16<00:00,  4.19it/s]\n"
     ]
    }
   ],
   "execution_count": 48
  },
  {
   "metadata": {
    "ExecuteTime": {
     "end_time": "2025-04-22T15:17:33.915359Z",
     "start_time": "2025-04-22T15:07:32.636740Z"
    }
   },
   "cell_type": "code",
   "source": [
    "bq_table = 'bom_table'\n",
    "rel_type = 'BOM'\n",
    "start_node = end_node = IncidentNode(label='Item', id_name='sku_id')\n",
    "start_node_id_table_name = 'parent_sku_id'\n",
    "end_node_id_table_name = 'child_sku_id'\n",
    "\n",
    "# get BQ data\n",
    "print(f\"Retrieving {bq_data_id}.{bq_table} from BigQuery...\")\n",
    "df = bq_client.query_and_wait(f'SELECT * FROM {bq_data_id}.{bq_table}').to_dataframe()\n",
    "\n",
    "# convert to records format\n",
    "print(f\"Processing data...\")\n",
    "recs = df_to_relationship_records(df,\n",
    "                                  start_node_id_table_name,\n",
    "                                  end_node_id_table_name)\n",
    "\n",
    "# create node constraints\n",
    "print(f\"Setting node constraint for {start_node.label} and {end_node.label}...\")\n",
    "driver.execute_query(f\"CREATE CONSTRAINT IF NOT EXISTS FOR (n:{start_node.label}) REQUIRE (n.{start_node.idName}) IS NODE KEY\")\n",
    "driver.execute_query(f\"CREATE CONSTRAINT IF NOT EXISTS FOR (n:{end_node.label}) REQUIRE (n.{end_node.idName}) IS NODE KEY\")\n",
    "\n",
    "#merge relationship records\n",
    "print(f\"Merging {len(recs)} relationship records into Neo4j...\")\n",
    "merge_relationships(\n",
    "    start_node=start_node,\n",
    "    end_node=end_node,\n",
    "    rel_type=rel_type,\n",
    "    records=recs,\n",
    "    chunk_size=20_000)"
   ],
   "id": "16b9d2af1dfc1559",
   "outputs": [
    {
     "name": "stdout",
     "output_type": "stream",
     "text": [
      "Retrieving neo4jeventdemos.bomv2.bom_table from BigQuery...\n"
     ]
    },
    {
     "name": "stderr",
     "output_type": "stream",
     "text": [
      "/Users/zachblumenfeld/interpeters/neo4j-google-ai-examples/lib/python3.11/site-packages/google/cloud/bigquery/table.py:1933: UserWarning: BigQuery Storage module not found, fetch data with the REST endpoint instead.\n",
      "  warnings.warn(\n"
     ]
    },
    {
     "name": "stdout",
     "output_type": "stream",
     "text": [
      "Processing data...\n",
      "Setting node constraint for Item and Item...\n",
      "Merging 7478476 relationship records into Neo4j...\n"
     ]
    },
    {
     "name": "stderr",
     "output_type": "stream",
     "text": [
      "merging relationships: 100%|██████████| 374/374 [06:39<00:00,  1.07s/it]\n"
     ]
    }
   ],
   "execution_count": 52
  },
  {
   "metadata": {},
   "cell_type": "markdown",
   "source": "## Load GeoLocations",
   "id": "69745ea1eccd0101"
  },
  {
   "metadata": {
    "ExecuteTime": {
     "end_time": "2025-04-22T15:07:12.741574Z",
     "start_time": "2025-04-22T15:07:12.275299Z"
    }
   },
   "cell_type": "code",
   "source": [
    "print(f\"Setting GeoLocation node constraint and geo_point index....\")\n",
    "driver.execute_query(f\"CREATE CONSTRAINT IF NOT EXISTS FOR (n:GeoLocation) REQUIRE (n.geo_point) IS NODE KEY\")\n",
    "driver.execute_query(f\"CREATE POINT INDEX geo_location FOR (n:GeoLocation) ON (n.geo_point)\")"
   ],
   "id": "1c1ed243309dea8d",
   "outputs": [
    {
     "name": "stdout",
     "output_type": "stream",
     "text": [
      "Setting GeoLocation node constraint and geo_point index....\n"
     ]
    },
    {
     "data": {
      "text/plain": [
       "EagerResult(records=[], summary=<neo4j._work.summary.ResultSummary object at 0x11e91f190>, keys=[])"
      ]
     },
     "execution_count": 49,
     "metadata": {},
     "output_type": "execute_result"
    }
   ],
   "execution_count": 49
  },
  {
   "metadata": {
    "ExecuteTime": {
     "end_time": "2025-04-22T15:07:17.707629Z",
     "start_time": "2025-04-22T15:07:16.063055Z"
    }
   },
   "cell_type": "code",
   "source": [
    "# Customer GeoLocations\n",
    "\n",
    "# get BQ data\n",
    "print(f\"Retrieving {bq_data_id}.customers from BigQuery...\")\n",
    "recs = bq_client.query_and_wait(f'''\n",
    "SELECT code, latitude, longitude\n",
    "FROM {bq_data_id}.customers\n",
    "WHERE latitude IS NOT NULL AND longitude IS NOT NULL\n",
    "''').to_dataframe().to_dict(orient='records')\n",
    "print(f\"Sample of records: \\n{recs[:5]}...\")\n",
    "\n",
    "# load data\n",
    "for rec_chunks in tqdm(chunks(recs), desc=\"Loading Customer GeoLocations\"):\n",
    "    driver.execute_query(\"\"\"\n",
    "    UNWIND $records AS rec\n",
    "    WITH rec.code AS code,\n",
    "        rec.latitude AS latitude,\n",
    "        rec.longitude AS longitude,\n",
    "        point({latitude: rec.latitude, longitude: rec.longitude}) AS geo_point\n",
    "\n",
    "    MATCH(c:Customer {code:code})\n",
    "    MERGE(n:GeoLocation {geo_point: geo_point})\n",
    "    MERGE (c)-[:LOCATED_AT]->(n)\n",
    "\n",
    "    SET n.latitude = latitude,\n",
    "        n.longitude = longitude\n",
    "    \"\"\", records = rec_chunks)\n"
   ],
   "id": "693036ecf96b3f1a",
   "outputs": [
    {
     "name": "stdout",
     "output_type": "stream",
     "text": [
      "Retrieving neo4jeventdemos.bomv2.customers from BigQuery...\n",
      "Sample of records: \n",
      "[{'code': 103055, 'latitude': 89.3055799, 'longitude': -179.9253201}, {'code': 102737, 'latitude': -89.1069501, 'longitude': -179.91195}, {'code': 98610, 'latitude': -89.7258501, 'longitude': -179.84485}, {'code': 98650, 'latitude': -89.7258501, 'longitude': -179.84485}, {'code': 81170, 'latitude': -86.6504901, 'longitude': -179.83836}]...\n"
     ]
    },
    {
     "name": "stderr",
     "output_type": "stream",
     "text": [
      "Loading Customer GeoLocations: 100%|██████████| 2/2 [00:00<00:00,  2.63it/s]\n"
     ]
    }
   ],
   "execution_count": 50
  },
  {
   "metadata": {
    "ExecuteTime": {
     "end_time": "2025-04-22T15:07:23.747740Z",
     "start_time": "2025-04-22T15:07:20.458924Z"
    }
   },
   "cell_type": "code",
   "source": [
    "# Supplier GeoLocations\n",
    "\n",
    "# get BQ data\n",
    "print(f\"Retrieving {bq_data_id}.suppliers from BigQuery...\")\n",
    "recs = bq_client.query_and_wait(f'''\n",
    "SELECT code, latitude, longitude\n",
    "FROM {bq_data_id}.suppliers\n",
    "WHERE latitude IS NOT NULL AND longitude IS NOT NULL\n",
    "''').to_dataframe().to_dict(orient='records')\n",
    "print(f\"Sample of records: \\n{recs[:5]}...\")\n",
    "\n",
    "# load data\n",
    "for rec_chunks in tqdm(chunks(recs), desc=\"Loading Supplier GeoLocations\"):\n",
    "    driver.execute_query(\"\"\"\n",
    "    UNWIND $records AS rec\n",
    "    WITH rec.code AS code,\n",
    "        rec.latitude AS latitude,\n",
    "        rec.longitude AS longitude,\n",
    "        point({latitude: rec.latitude, longitude: rec.longitude}) AS geo_point\n",
    "\n",
    "    MATCH(s:Supplier {code:code})\n",
    "    MERGE(n:GeoLocation {geo_point: geo_point})\n",
    "    MERGE (s)-[:LOCATED_AT]->(n)\n",
    "\n",
    "    SET n.latitude = latitude,\n",
    "        n.longitude = longitude\n",
    "    \"\"\", records = rec_chunks)"
   ],
   "id": "de63e0a88ce44593",
   "outputs": [
    {
     "name": "stdout",
     "output_type": "stream",
     "text": [
      "Retrieving neo4jeventdemos.bomv2.suppliers from BigQuery...\n",
      "Sample of records: \n",
      "[{'code': '1BYKA5', 'latitude': -71.85468, 'longitude': 71.681478}, {'code': '0Q6W9M', 'latitude': -71.85468, 'longitude': 71.681478}, {'code': 'U5TLHT', 'latitude': -71.85468, 'longitude': 71.681478}, {'code': '1QZ9ME', 'latitude': -71.85468, 'longitude': 71.681478}, {'code': 'WH3ZVG', 'latitude': -71.6294551, 'longitude': 70.89779}]...\n"
     ]
    },
    {
     "name": "stderr",
     "output_type": "stream",
     "text": [
      "Loading Supplier GeoLocations: 100%|██████████| 3/3 [00:01<00:00,  2.44it/s]\n"
     ]
    }
   ],
   "execution_count": 51
  },
  {
   "metadata": {},
   "cell_type": "code",
   "outputs": [],
   "execution_count": null,
   "source": "",
   "id": "25fe5b9aa28836ef"
  },
  {
   "metadata": {},
   "cell_type": "code",
   "outputs": [],
   "execution_count": null,
   "source": "",
   "id": "dd2754d149f41b7c"
  }
 ],
 "metadata": {
  "kernelspec": {
   "display_name": "Python 3",
   "language": "python",
   "name": "python3"
  },
  "language_info": {
   "codemirror_mode": {
    "name": "ipython",
    "version": 2
   },
   "file_extension": ".py",
   "mimetype": "text/x-python",
   "name": "python",
   "nbconvert_exporter": "python",
   "pygments_lexer": "ipython2",
   "version": "2.7.6"
  }
 },
 "nbformat": 4,
 "nbformat_minor": 5
}
