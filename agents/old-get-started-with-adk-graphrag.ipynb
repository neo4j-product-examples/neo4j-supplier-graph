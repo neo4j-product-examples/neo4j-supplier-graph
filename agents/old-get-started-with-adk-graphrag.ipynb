{
 "cells": [
  {
   "cell_type": "markdown",
   "metadata": {
    "id": "3OqG2k_o_zmb"
   },
   "source": [
    "# Getting Started with the Agent Development Kit (ADK) with Neo4j\n",
    "\n",
    "This notebook shows how to use the Vertex AI Agent Framework to setup a multi-agent system integrating Neo4j.\n",
    "\n",
    "The Vertex AI ADK is a python-based SDK that empowers developers to build multi-agent applications with custom logic, tools, and integrations.\n",
    "\n",
    "In this notebook you will learn how to do the following:\n",
    "\n",
    "*  Install Agent Development Kit\n",
    "*  Define functions as tools\n",
    "*  Define a database and analyst agent\n",
    "*  Create a \"Bom & Supplier Research\" Multi-Agent\n",
    "\n",
    "\n",
    "## Learn more about Neo4j\n",
    "\n",
    "* https://neo4j.com/genai\n",
    "* https://neo4j.com/developer\n",
    "* https://graphrag.com\n",
    "* https://neo4j.com/labs/genai-ecosystem\n",
    "* [Neo4j and MCP Toolbox](https://neo4j.com/blog/developer/ai-agents-gen-ai-toolbox/)\n",
    "\n",
    "## Learn more about the ADK\n",
    "\n",
    "* [Launch Blog](https://cloud.google.com/blog/products/ai-machine-learning/build-and-manage-multi-system-agents-with-vertex-ai)\n",
    "* [Developer Blog](https://developers.googleblog.com/en/agent-development-kit-easy-to-build-multi-agent-applications/)\n",
    "* https://pypi.org/project/google-adk/\n",
    "* https://google.github.io/adk-docs/\n",
    "* https://github.com/google/adk-samples/\n",
    "* [LLM Agents](https://google.github.io/adk-docs/agents/llm-agents/#putting-it-together-example)\n",
    "* [Deploy to Agent Engine](https://google.github.io/adk-docs/deploy/agent-engine/)"
   ]
  },
  {
   "cell_type": "markdown",
   "metadata": {
    "id": "E29jokLY8VRH"
   },
   "source": [
    "# Install the Agent Development Kit"
   ]
  },
  {
   "metadata": {
    "id": "chT-5K9yrrW9",
    "tags": [],
    "ExecuteTime": {
     "end_time": "2025-04-21T01:07:47.390995Z",
     "start_time": "2025-04-21T01:07:26.836356Z"
    }
   },
   "cell_type": "code",
   "source": [
    "# from google.colab import auth\n",
    "# auth.authenticate_user()\n",
    "!gcloud auth application-default login > /dev/null 2>&1"
   ],
   "outputs": [],
   "execution_count": 1
  },
  {
   "cell_type": "code",
   "execution_count": 6,
   "metadata": {
    "id": "RNrh4GXq8bVn",
    "tags": []
   },
   "outputs": [
    {
     "name": "stdout",
     "output_type": "stream",
     "text": [
      "Requirement already satisfied: neo4j-rust-ext in /opt/conda/lib/python3.10/site-packages (5.28.1.0)\n",
      "Requirement already satisfied: python-dotenv in /opt/conda/lib/python3.10/site-packages (1.1.0)\n",
      "Requirement already satisfied: google-cloud-aiplatform[adk,agent_engines] in /opt/conda/lib/python3.10/site-packages (1.89.0)\n",
      "Requirement already satisfied: google-api-core!=2.0.*,!=2.1.*,!=2.2.*,!=2.3.*,!=2.4.*,!=2.5.*,!=2.6.*,!=2.7.*,<3.0.0,>=1.34.1 in /opt/conda/lib/python3.10/site-packages (from google-api-core[grpc]!=2.0.*,!=2.1.*,!=2.2.*,!=2.3.*,!=2.4.*,!=2.5.*,!=2.6.*,!=2.7.*,<3.0.0,>=1.34.1->google-cloud-aiplatform[adk,agent_engines]) (2.24.2)\n",
      "Requirement already satisfied: google-auth<3.0.0,>=2.14.1 in /opt/conda/lib/python3.10/site-packages (from google-cloud-aiplatform[adk,agent_engines]) (2.38.0)\n",
      "Requirement already satisfied: proto-plus<2.0.0,>=1.22.3 in /opt/conda/lib/python3.10/site-packages (from google-cloud-aiplatform[adk,agent_engines]) (1.26.1)\n",
      "Requirement already satisfied: protobuf!=4.21.0,!=4.21.1,!=4.21.2,!=4.21.3,!=4.21.4,!=4.21.5,<7.0.0,>=3.20.2 in /opt/conda/lib/python3.10/site-packages (from google-cloud-aiplatform[adk,agent_engines]) (3.20.3)\n",
      "Requirement already satisfied: packaging>=14.3 in /opt/conda/lib/python3.10/site-packages (from google-cloud-aiplatform[adk,agent_engines]) (24.2)\n",
      "Requirement already satisfied: google-cloud-storage<3.0.0,>=1.32.0 in /opt/conda/lib/python3.10/site-packages (from google-cloud-aiplatform[adk,agent_engines]) (2.19.0)\n",
      "Requirement already satisfied: google-cloud-bigquery!=3.20.0,<4.0.0,>=1.15.0 in /opt/conda/lib/python3.10/site-packages (from google-cloud-aiplatform[adk,agent_engines]) (3.31.0)\n",
      "Requirement already satisfied: google-cloud-resource-manager<3.0.0,>=1.3.3 in /opt/conda/lib/python3.10/site-packages (from google-cloud-aiplatform[adk,agent_engines]) (1.14.2)\n",
      "Requirement already satisfied: shapely<3.0.0 in /opt/conda/lib/python3.10/site-packages (from google-cloud-aiplatform[adk,agent_engines]) (2.0.7)\n",
      "Requirement already satisfied: pydantic<3 in /opt/conda/lib/python3.10/site-packages (from google-cloud-aiplatform[adk,agent_engines]) (2.11.0)\n",
      "Requirement already satisfied: typing-extensions in /opt/conda/lib/python3.10/site-packages (from google-cloud-aiplatform[adk,agent_engines]) (4.13.0)\n",
      "Requirement already satisfied: docstring-parser<1 in /opt/conda/lib/python3.10/site-packages (from google-cloud-aiplatform[adk,agent_engines]) (0.16)\n",
      "Requirement already satisfied: google-adk>=0.0.2 in /opt/conda/lib/python3.10/site-packages (from google-cloud-aiplatform[adk,agent_engines]) (0.2.0)\n",
      "Requirement already satisfied: cloudpickle<4.0,>=3.0 in /opt/conda/lib/python3.10/site-packages (from google-cloud-aiplatform[adk,agent_engines]) (3.1.1)\n",
      "Requirement already satisfied: google-cloud-trace<2 in /opt/conda/lib/python3.10/site-packages (from google-cloud-aiplatform[adk,agent_engines]) (1.16.1)\n",
      "Requirement already satisfied: google-cloud-logging<4 in /opt/conda/lib/python3.10/site-packages (from google-cloud-aiplatform[adk,agent_engines]) (3.12.0)\n",
      "Requirement already satisfied: opentelemetry-sdk<2 in /opt/conda/lib/python3.10/site-packages (from google-cloud-aiplatform[adk,agent_engines]) (1.31.1)\n",
      "Requirement already satisfied: opentelemetry-exporter-gcp-trace<2 in /opt/conda/lib/python3.10/site-packages (from google-cloud-aiplatform[adk,agent_engines]) (1.9.0)\n",
      "Requirement already satisfied: neo4j==5.28.1 in /opt/conda/lib/python3.10/site-packages (from neo4j-rust-ext) (5.28.1)\n",
      "Requirement already satisfied: pytz in /opt/conda/lib/python3.10/site-packages (from neo4j==5.28.1->neo4j-rust-ext) (2025.2)\n",
      "Requirement already satisfied: authlib>=1.5.1 in /opt/conda/lib/python3.10/site-packages (from google-adk>=0.0.2->google-cloud-aiplatform[adk,agent_engines]) (1.5.2)\n",
      "Requirement already satisfied: click>=8.1.8 in /opt/conda/lib/python3.10/site-packages (from google-adk>=0.0.2->google-cloud-aiplatform[adk,agent_engines]) (8.1.8)\n",
      "Requirement already satisfied: fastapi>=0.115.0 in /opt/conda/lib/python3.10/site-packages (from google-adk>=0.0.2->google-cloud-aiplatform[adk,agent_engines]) (0.115.12)\n",
      "Requirement already satisfied: google-api-python-client>=2.157.0 in /opt/conda/lib/python3.10/site-packages (from google-adk>=0.0.2->google-cloud-aiplatform[adk,agent_engines]) (2.166.0)\n",
      "Requirement already satisfied: google-cloud-secret-manager>=2.22.0 in /opt/conda/lib/python3.10/site-packages (from google-adk>=0.0.2->google-cloud-aiplatform[adk,agent_engines]) (2.23.3)\n",
      "Requirement already satisfied: google-cloud-speech>=2.30.0 in /opt/conda/lib/python3.10/site-packages (from google-adk>=0.0.2->google-cloud-aiplatform[adk,agent_engines]) (2.32.0)\n",
      "Requirement already satisfied: google-genai>=1.9.0 in /opt/conda/lib/python3.10/site-packages (from google-adk>=0.0.2->google-cloud-aiplatform[adk,agent_engines]) (1.11.0)\n",
      "Requirement already satisfied: graphviz>=0.20.2 in /opt/conda/lib/python3.10/site-packages (from google-adk>=0.0.2->google-cloud-aiplatform[adk,agent_engines]) (0.20.3)\n",
      "Requirement already satisfied: mcp>=1.5.0 in /opt/conda/lib/python3.10/site-packages (from google-adk>=0.0.2->google-cloud-aiplatform[adk,agent_engines]) (1.6.0)\n",
      "Requirement already satisfied: opentelemetry-api>=1.31.0 in /opt/conda/lib/python3.10/site-packages (from google-adk>=0.0.2->google-cloud-aiplatform[adk,agent_engines]) (1.31.1)\n",
      "Requirement already satisfied: PyYAML>=6.0.2 in /opt/conda/lib/python3.10/site-packages (from google-adk>=0.0.2->google-cloud-aiplatform[adk,agent_engines]) (6.0.2)\n",
      "Requirement already satisfied: sqlalchemy>=2.0 in /opt/conda/lib/python3.10/site-packages (from google-adk>=0.0.2->google-cloud-aiplatform[adk,agent_engines]) (2.0.40)\n",
      "Requirement already satisfied: tzlocal>=5.3 in /opt/conda/lib/python3.10/site-packages (from google-adk>=0.0.2->google-cloud-aiplatform[adk,agent_engines]) (5.3.1)\n",
      "Requirement already satisfied: uvicorn>=0.34.0 in /opt/conda/lib/python3.10/site-packages (from google-adk>=0.0.2->google-cloud-aiplatform[adk,agent_engines]) (0.34.0)\n",
      "Requirement already satisfied: googleapis-common-protos<2.0.0,>=1.56.2 in /opt/conda/lib/python3.10/site-packages (from google-api-core!=2.0.*,!=2.1.*,!=2.2.*,!=2.3.*,!=2.4.*,!=2.5.*,!=2.6.*,!=2.7.*,<3.0.0,>=1.34.1->google-api-core[grpc]!=2.0.*,!=2.1.*,!=2.2.*,!=2.3.*,!=2.4.*,!=2.5.*,!=2.6.*,!=2.7.*,<3.0.0,>=1.34.1->google-cloud-aiplatform[adk,agent_engines]) (1.69.2)\n",
      "Requirement already satisfied: requests<3.0.0,>=2.18.0 in /opt/conda/lib/python3.10/site-packages (from google-api-core!=2.0.*,!=2.1.*,!=2.2.*,!=2.3.*,!=2.4.*,!=2.5.*,!=2.6.*,!=2.7.*,<3.0.0,>=1.34.1->google-api-core[grpc]!=2.0.*,!=2.1.*,!=2.2.*,!=2.3.*,!=2.4.*,!=2.5.*,!=2.6.*,!=2.7.*,<3.0.0,>=1.34.1->google-cloud-aiplatform[adk,agent_engines]) (2.32.3)\n",
      "Requirement already satisfied: grpcio<2.0dev,>=1.33.2 in /opt/conda/lib/python3.10/site-packages (from google-api-core[grpc]!=2.0.*,!=2.1.*,!=2.2.*,!=2.3.*,!=2.4.*,!=2.5.*,!=2.6.*,!=2.7.*,<3.0.0,>=1.34.1->google-cloud-aiplatform[adk,agent_engines]) (1.71.0)\n",
      "Requirement already satisfied: grpcio-status<2.0.dev0,>=1.33.2 in /opt/conda/lib/python3.10/site-packages (from google-api-core[grpc]!=2.0.*,!=2.1.*,!=2.2.*,!=2.3.*,!=2.4.*,!=2.5.*,!=2.6.*,!=2.7.*,<3.0.0,>=1.34.1->google-cloud-aiplatform[adk,agent_engines]) (1.49.0rc1)\n",
      "Requirement already satisfied: cachetools<6.0,>=2.0.0 in /opt/conda/lib/python3.10/site-packages (from google-auth<3.0.0,>=2.14.1->google-cloud-aiplatform[adk,agent_engines]) (5.5.2)\n",
      "Requirement already satisfied: pyasn1-modules>=0.2.1 in /opt/conda/lib/python3.10/site-packages (from google-auth<3.0.0,>=2.14.1->google-cloud-aiplatform[adk,agent_engines]) (0.4.2)\n",
      "Requirement already satisfied: rsa<5,>=3.1.4 in /opt/conda/lib/python3.10/site-packages (from google-auth<3.0.0,>=2.14.1->google-cloud-aiplatform[adk,agent_engines]) (4.9)\n",
      "Requirement already satisfied: google-cloud-core<3.0.0,>=2.4.1 in /opt/conda/lib/python3.10/site-packages (from google-cloud-bigquery!=3.20.0,<4.0.0,>=1.15.0->google-cloud-aiplatform[adk,agent_engines]) (2.4.3)\n",
      "Requirement already satisfied: google-resumable-media<3.0.0,>=2.0.0 in /opt/conda/lib/python3.10/site-packages (from google-cloud-bigquery!=3.20.0,<4.0.0,>=1.15.0->google-cloud-aiplatform[adk,agent_engines]) (2.7.2)\n",
      "Requirement already satisfied: python-dateutil<3.0.0,>=2.8.2 in /opt/conda/lib/python3.10/site-packages (from google-cloud-bigquery!=3.20.0,<4.0.0,>=1.15.0->google-cloud-aiplatform[adk,agent_engines]) (2.9.0.post0)\n",
      "Requirement already satisfied: google-cloud-appengine-logging<2.0.0,>=0.1.3 in /opt/conda/lib/python3.10/site-packages (from google-cloud-logging<4->google-cloud-aiplatform[adk,agent_engines]) (1.6.1)\n",
      "Requirement already satisfied: google-cloud-audit-log<1.0.0,>=0.3.1 in /opt/conda/lib/python3.10/site-packages (from google-cloud-logging<4->google-cloud-aiplatform[adk,agent_engines]) (0.3.2)\n",
      "Requirement already satisfied: grpc-google-iam-v1<1.0.0,>=0.12.4 in /opt/conda/lib/python3.10/site-packages (from google-cloud-logging<4->google-cloud-aiplatform[adk,agent_engines]) (0.14.2)\n",
      "Requirement already satisfied: google-crc32c<2.0dev,>=1.0 in /opt/conda/lib/python3.10/site-packages (from google-cloud-storage<3.0.0,>=1.32.0->google-cloud-aiplatform[adk,agent_engines]) (1.7.1)\n",
      "Requirement already satisfied: opentelemetry-resourcedetector-gcp==1.*,>=1.5.0dev0 in /opt/conda/lib/python3.10/site-packages (from opentelemetry-exporter-gcp-trace<2->google-cloud-aiplatform[adk,agent_engines]) (1.9.0a0)\n",
      "Requirement already satisfied: opentelemetry-semantic-conventions==0.52b1 in /opt/conda/lib/python3.10/site-packages (from opentelemetry-sdk<2->google-cloud-aiplatform[adk,agent_engines]) (0.52b1)\n",
      "Requirement already satisfied: deprecated>=1.2.6 in /opt/conda/lib/python3.10/site-packages (from opentelemetry-api>=1.31.0->google-adk>=0.0.2->google-cloud-aiplatform[adk,agent_engines]) (1.2.18)\n",
      "Requirement already satisfied: importlib-metadata<8.7.0,>=6.0 in /opt/conda/lib/python3.10/site-packages (from opentelemetry-api>=1.31.0->google-adk>=0.0.2->google-cloud-aiplatform[adk,agent_engines]) (8.6.1)\n",
      "Requirement already satisfied: annotated-types>=0.6.0 in /opt/conda/lib/python3.10/site-packages (from pydantic<3->google-cloud-aiplatform[adk,agent_engines]) (0.7.0)\n",
      "Requirement already satisfied: pydantic-core==2.33.0 in /opt/conda/lib/python3.10/site-packages (from pydantic<3->google-cloud-aiplatform[adk,agent_engines]) (2.33.0)\n",
      "Requirement already satisfied: typing-inspection>=0.4.0 in /opt/conda/lib/python3.10/site-packages (from pydantic<3->google-cloud-aiplatform[adk,agent_engines]) (0.4.0)\n",
      "Requirement already satisfied: numpy<3,>=1.14 in /opt/conda/lib/python3.10/site-packages (from shapely<3.0.0->google-cloud-aiplatform[adk,agent_engines]) (2.1.3)\n",
      "Requirement already satisfied: cryptography in /opt/conda/lib/python3.10/site-packages (from authlib>=1.5.1->google-adk>=0.0.2->google-cloud-aiplatform[adk,agent_engines]) (44.0.2)\n",
      "Requirement already satisfied: starlette<0.47.0,>=0.40.0 in /opt/conda/lib/python3.10/site-packages (from fastapi>=0.115.0->google-adk>=0.0.2->google-cloud-aiplatform[adk,agent_engines]) (0.46.1)\n",
      "Requirement already satisfied: httplib2<1.0.0,>=0.19.0 in /opt/conda/lib/python3.10/site-packages (from google-api-python-client>=2.157.0->google-adk>=0.0.2->google-cloud-aiplatform[adk,agent_engines]) (0.22.0)\n",
      "Requirement already satisfied: google-auth-httplib2<1.0.0,>=0.2.0 in /opt/conda/lib/python3.10/site-packages (from google-api-python-client>=2.157.0->google-adk>=0.0.2->google-cloud-aiplatform[adk,agent_engines]) (0.2.0)\n",
      "Requirement already satisfied: uritemplate<5,>=3.0.1 in /opt/conda/lib/python3.10/site-packages (from google-api-python-client>=2.157.0->google-adk>=0.0.2->google-cloud-aiplatform[adk,agent_engines]) (4.1.1)\n",
      "Requirement already satisfied: anyio<5.0.0,>=4.8.0 in /opt/conda/lib/python3.10/site-packages (from google-genai>=1.9.0->google-adk>=0.0.2->google-cloud-aiplatform[adk,agent_engines]) (4.9.0)\n",
      "Requirement already satisfied: httpx<1.0.0,>=0.28.1 in /opt/conda/lib/python3.10/site-packages (from google-genai>=1.9.0->google-adk>=0.0.2->google-cloud-aiplatform[adk,agent_engines]) (0.28.1)\n",
      "Requirement already satisfied: websockets<15.1.0,>=13.0.0 in /opt/conda/lib/python3.10/site-packages (from google-genai>=1.9.0->google-adk>=0.0.2->google-cloud-aiplatform[adk,agent_engines]) (15.0.1)\n",
      "Requirement already satisfied: httpx-sse>=0.4 in /opt/conda/lib/python3.10/site-packages (from mcp>=1.5.0->google-adk>=0.0.2->google-cloud-aiplatform[adk,agent_engines]) (0.4.0)\n",
      "Requirement already satisfied: pydantic-settings>=2.5.2 in /opt/conda/lib/python3.10/site-packages (from mcp>=1.5.0->google-adk>=0.0.2->google-cloud-aiplatform[adk,agent_engines]) (2.9.1)\n",
      "Requirement already satisfied: sse-starlette>=1.6.1 in /opt/conda/lib/python3.10/site-packages (from mcp>=1.5.0->google-adk>=0.0.2->google-cloud-aiplatform[adk,agent_engines]) (2.2.1)\n",
      "Requirement already satisfied: pyasn1<0.7.0,>=0.6.1 in /opt/conda/lib/python3.10/site-packages (from pyasn1-modules>=0.2.1->google-auth<3.0.0,>=2.14.1->google-cloud-aiplatform[adk,agent_engines]) (0.6.1)\n",
      "Requirement already satisfied: six>=1.5 in /opt/conda/lib/python3.10/site-packages (from python-dateutil<3.0.0,>=2.8.2->google-cloud-bigquery!=3.20.0,<4.0.0,>=1.15.0->google-cloud-aiplatform[adk,agent_engines]) (1.17.0)\n",
      "Requirement already satisfied: charset_normalizer<4,>=2 in /opt/conda/lib/python3.10/site-packages (from requests<3.0.0,>=2.18.0->google-api-core!=2.0.*,!=2.1.*,!=2.2.*,!=2.3.*,!=2.4.*,!=2.5.*,!=2.6.*,!=2.7.*,<3.0.0,>=1.34.1->google-api-core[grpc]!=2.0.*,!=2.1.*,!=2.2.*,!=2.3.*,!=2.4.*,!=2.5.*,!=2.6.*,!=2.7.*,<3.0.0,>=1.34.1->google-cloud-aiplatform[adk,agent_engines]) (3.4.1)\n",
      "Requirement already satisfied: idna<4,>=2.5 in /opt/conda/lib/python3.10/site-packages (from requests<3.0.0,>=2.18.0->google-api-core!=2.0.*,!=2.1.*,!=2.2.*,!=2.3.*,!=2.4.*,!=2.5.*,!=2.6.*,!=2.7.*,<3.0.0,>=1.34.1->google-api-core[grpc]!=2.0.*,!=2.1.*,!=2.2.*,!=2.3.*,!=2.4.*,!=2.5.*,!=2.6.*,!=2.7.*,<3.0.0,>=1.34.1->google-cloud-aiplatform[adk,agent_engines]) (3.10)\n",
      "Requirement already satisfied: urllib3<3,>=1.21.1 in /opt/conda/lib/python3.10/site-packages (from requests<3.0.0,>=2.18.0->google-api-core!=2.0.*,!=2.1.*,!=2.2.*,!=2.3.*,!=2.4.*,!=2.5.*,!=2.6.*,!=2.7.*,<3.0.0,>=1.34.1->google-api-core[grpc]!=2.0.*,!=2.1.*,!=2.2.*,!=2.3.*,!=2.4.*,!=2.5.*,!=2.6.*,!=2.7.*,<3.0.0,>=1.34.1->google-cloud-aiplatform[adk,agent_engines]) (1.26.20)\n",
      "Requirement already satisfied: certifi>=2017.4.17 in /opt/conda/lib/python3.10/site-packages (from requests<3.0.0,>=2.18.0->google-api-core!=2.0.*,!=2.1.*,!=2.2.*,!=2.3.*,!=2.4.*,!=2.5.*,!=2.6.*,!=2.7.*,<3.0.0,>=1.34.1->google-api-core[grpc]!=2.0.*,!=2.1.*,!=2.2.*,!=2.3.*,!=2.4.*,!=2.5.*,!=2.6.*,!=2.7.*,<3.0.0,>=1.34.1->google-cloud-aiplatform[adk,agent_engines]) (2025.1.31)\n",
      "Requirement already satisfied: greenlet>=1 in /opt/conda/lib/python3.10/site-packages (from sqlalchemy>=2.0->google-adk>=0.0.2->google-cloud-aiplatform[adk,agent_engines]) (3.1.1)\n",
      "Requirement already satisfied: h11>=0.8 in /opt/conda/lib/python3.10/site-packages (from uvicorn>=0.34.0->google-adk>=0.0.2->google-cloud-aiplatform[adk,agent_engines]) (0.14.0)\n",
      "Requirement already satisfied: exceptiongroup>=1.0.2 in /opt/conda/lib/python3.10/site-packages (from anyio<5.0.0,>=4.8.0->google-genai>=1.9.0->google-adk>=0.0.2->google-cloud-aiplatform[adk,agent_engines]) (1.2.2)\n",
      "Requirement already satisfied: sniffio>=1.1 in /opt/conda/lib/python3.10/site-packages (from anyio<5.0.0,>=4.8.0->google-genai>=1.9.0->google-adk>=0.0.2->google-cloud-aiplatform[adk,agent_engines]) (1.3.1)\n",
      "Requirement already satisfied: wrapt<2,>=1.10 in /opt/conda/lib/python3.10/site-packages (from deprecated>=1.2.6->opentelemetry-api>=1.31.0->google-adk>=0.0.2->google-cloud-aiplatform[adk,agent_engines]) (1.17.2)\n",
      "Requirement already satisfied: pyparsing!=3.0.0,!=3.0.1,!=3.0.2,!=3.0.3,<4,>=2.4.2 in /opt/conda/lib/python3.10/site-packages (from httplib2<1.0.0,>=0.19.0->google-api-python-client>=2.157.0->google-adk>=0.0.2->google-cloud-aiplatform[adk,agent_engines]) (3.2.3)\n",
      "Requirement already satisfied: httpcore==1.* in /opt/conda/lib/python3.10/site-packages (from httpx<1.0.0,>=0.28.1->google-genai>=1.9.0->google-adk>=0.0.2->google-cloud-aiplatform[adk,agent_engines]) (1.0.8)\n",
      "Requirement already satisfied: zipp>=3.20 in /opt/conda/lib/python3.10/site-packages (from importlib-metadata<8.7.0,>=6.0->opentelemetry-api>=1.31.0->google-adk>=0.0.2->google-cloud-aiplatform[adk,agent_engines]) (3.21.0)\n",
      "Requirement already satisfied: cffi>=1.12 in /opt/conda/lib/python3.10/site-packages (from cryptography->authlib>=1.5.1->google-adk>=0.0.2->google-cloud-aiplatform[adk,agent_engines]) (1.17.1)\n",
      "Requirement already satisfied: pycparser in /opt/conda/lib/python3.10/site-packages (from cffi>=1.12->cryptography->authlib>=1.5.1->google-adk>=0.0.2->google-cloud-aiplatform[adk,agent_engines]) (2.22)\n",
      "Note: you may need to restart the kernel to use updated packages.\n"
     ]
    }
   ],
   "source": [
    "%pip install --upgrade google-cloud-aiplatform[adk,agent_engines] neo4j-rust-ext python-dotenv"
   ]
  },
  {
   "cell_type": "markdown",
   "metadata": {
    "id": "osm6MztSEX2y"
   },
   "source": [
    "# Developer API or Vertex AI\n",
    "\n",
    "The ADK supports two APIs:\n",
    "\n",
    "* Google Gemini API (AI Studio)\n",
    "* Vertex AI Gemini API."
   ]
  },
  {
   "cell_type": "markdown",
   "metadata": {
    "id": "xXhN34h_4hBr"
   },
   "source": []
  },
  {
   "metadata": {
    "ExecuteTime": {
     "end_time": "2025-04-23T00:14:03.162678Z",
     "start_time": "2025-04-23T00:14:03.153572Z"
    }
   },
   "cell_type": "code",
   "source": [
    "from dotenv import load_dotenv\n",
    "import getpass\n",
    "import os\n",
    "\n",
    "load_dotenv('nb.env', override=True)\n",
    "\n",
    "if not os.environ.get('NEO4J_URI'):\n",
    "    os.environ['NEO4J_URI'] = getpass.getpass('NEO4J_URI:\\n')\n",
    "if not os.environ.get('NEO4J_USERNAME'):\n",
    "    os.environ['NEO4J_USERNAME'] = getpass.getpass('NEO4J_USERNAME:\\n')\n",
    "if not os.environ.get('NEO4J_PASSWORD'):\n",
    "    os.environ['NEO4J_PASSWORD'] = getpass.getpass('NEO4J_PASSWORD:\\n')\n",
    "\n",
    "NEO4J_URI = os.getenv('NEO4J_URI')\n",
    "NEO4J_USERNAME = os.getenv('NEO4J_USERNAME')\n",
    "NEO4J_PASSWORD = os.getenv('NEO4J_PASSWORD')"
   ],
   "outputs": [],
   "execution_count": 1
  },
  {
   "metadata": {
    "id": "va9nPjT186Xm",
    "tags": [],
    "ExecuteTime": {
     "end_time": "2025-04-23T00:14:06.975785Z",
     "start_time": "2025-04-23T00:14:06.973320Z"
    }
   },
   "cell_type": "code",
   "source": [
    "# Only run this block for ML Developer API. Use your own API key.\n",
    "import os\n",
    "\n",
    "GOOGLE_API_KEY = os.environ.get('GOOGLE_API_KEY')\n",
    "os.environ[\"GOOGLE_GENAI_USE_VERTEXAI\"] = \"0\"\n"
   ],
   "outputs": [],
   "execution_count": 2
  },
  {
   "metadata": {
    "id": "aCLvbsLp89o7",
    "tags": []
   },
   "cell_type": "code",
   "outputs": [],
   "execution_count": 9,
   "source": [
    "# Only run this block for Vertex AI API Use your own project / location.\n",
    "# import os\n",
    "#\n",
    "# GOOGLE_CLOUD_PROJECT = \"neo4jeventdemos\" #@param {type:\"string\"}\n",
    "#\n",
    "# os.environ[\"GOOGLE_GENAI_USE_VERTEXAI\"] = \"1\"\n",
    "# os.environ[\"GOOGLE_CLOUD_PROJECT\"] = GOOGLE_CLOUD_PROJECT\n",
    "# os.environ[\"GOOGLE_CLOUD_LOCATION\"] = \"us-central1\""
   ]
  },
  {
   "cell_type": "markdown",
   "metadata": {
    "id": "1-rAplcsx22u"
   },
   "source": [
    "# Neo4j Database Connectivity\n",
    "\n",
    "We define a small class `neo4jDatabase` that manages connecting to Neo4j and running read queries."
   ]
  },
  {
   "cell_type": "code",
   "metadata": {
    "id": "sRtCKjAlhrEs",
    "tags": [],
    "ExecuteTime": {
     "end_time": "2025-04-23T00:14:11.536423Z",
     "start_time": "2025-04-23T00:14:11.533497Z"
    }
   },
   "source": [
    "import logging\n",
    "\n",
    "logger = logging.getLogger('agent_neo4j_cypher')\n",
    "logger.info(\"Initializing Database for tools\")\n",
    "\n",
    "import logging\n",
    "\n",
    "logging.getLogger(\"neo4j\").setLevel(logging.ERROR)\n",
    "logging.getLogger(\"google_genai\").setLevel(logging.ERROR)\n",
    "\n",
    "import warnings\n",
    "warnings.filterwarnings(\"ignore\", category=UserWarning, module=\"google_genai.types\")\n",
    "warnings.filterwarnings(\"ignore\", category=UserWarning, module=\"neo4j.notifications\")\n"
   ],
   "outputs": [],
   "execution_count": 3
  },
  {
   "cell_type": "code",
   "metadata": {
    "id": "04x4PdPMgTtE",
    "tags": [],
    "ExecuteTime": {
     "end_time": "2025-04-23T00:14:14.024203Z",
     "start_time": "2025-04-23T00:14:13.499184Z"
    }
   },
   "source": [
    "from neo4j import GraphDatabase\n",
    "from typing import Any\n",
    "import re\n",
    "\n",
    "class neo4jDatabase:\n",
    "    def __init__(self,  neo4j_uri: str, neo4j_username: str, neo4j_password: str):\n",
    "        \"\"\"Initialize connection to the Neo4j database\"\"\"\n",
    "        logger.debug(f\"Initializing database connection to {neo4j_uri}\")\n",
    "        d = GraphDatabase.driver(neo4j_uri, auth=(neo4j_username, neo4j_password))\n",
    "        d.verify_connectivity()\n",
    "        self.driver = d\n",
    "\n",
    "    def is_write_query(self, query: str) -> bool:\n",
    "      return re.search(r\"\\b(MERGE|CREATE|SET|DELETE|REMOVE|ADD)\\b\", query, re.IGNORECASE) is not None\n",
    "\n",
    "    #TODO: Use result transformer here to r: r.data()\n",
    "    def _execute_query(self, query: str, params: dict[str, Any] | None = None) -> list[dict[str, Any]]:\n",
    "        \"\"\"Execute a Cypher query and return results as a list of dictionaries\"\"\"\n",
    "        logger.debug(f\"Executing query: {query}\")\n",
    "        try:\n",
    "            if self.is_write_query(query):\n",
    "                logger.error(f\"Write query not supported {query}\")\n",
    "                raise \"Write Queries are not supported in this agent\"\n",
    "                # logger.debug(f\"Write query affected {counters}\")\n",
    "                # result = self.driver.execute_query(query, params)\n",
    "                # counters = vars(result.summary.counters)\n",
    "                # return [counters]\n",
    "            else:\n",
    "                #TODO: Add Routing here for effciency\n",
    "                result = self.driver.execute_query(query, params)\n",
    "                results = [dict(r) for r in result.records]\n",
    "                logger.debug(f\"Read query returned {len(results)} rows\")\n",
    "                return results\n",
    "        except Exception as e:\n",
    "            logger.error(f\"Database error executing query: {e}\\n{query}\")\n",
    "            raise"
   ],
   "outputs": [],
   "execution_count": 4
  },
  {
   "cell_type": "code",
   "metadata": {
    "id": "1t5Nx3Yq2DKP",
    "tags": [],
    "ExecuteTime": {
     "end_time": "2025-04-23T00:14:18.558246Z",
     "start_time": "2025-04-23T00:14:17.646218Z"
    }
   },
   "source": [
    "db = neo4jDatabase(NEO4J_URI, NEO4J_USERNAME, NEO4J_PASSWORD)"
   ],
   "outputs": [],
   "execution_count": 5
  },
  {
   "cell_type": "code",
   "metadata": {
    "colab": {
     "base_uri": "https://localhost:8080/"
    },
    "id": "kSGPD5hxh2cw",
    "outputId": "9357864e-cb04-48f2-ab30-05df1f2f4216",
    "tags": [],
    "ExecuteTime": {
     "end_time": "2025-04-23T00:14:19.236663Z",
     "start_time": "2025-04-23T00:14:19.135353Z"
    }
   },
   "source": [
    "# Testing database connection\n",
    "db._execute_query(\"RETURN 1\")"
   ],
   "outputs": [
    {
     "data": {
      "text/plain": [
       "[{'1': 1}]"
      ]
     },
     "execution_count": 6,
     "metadata": {},
     "output_type": "execute_result"
    }
   ],
   "execution_count": 6
  },
  {
   "cell_type": "markdown",
   "metadata": {
    "id": "01R-3Y492OxN"
   },
   "source": [
    "## Defining Functions for our Database Agent\n",
    "\n",
    "* get_schema - Retrieve Database Schema for the LLM\n",
    "* execute_read_query - Execute Cypher Read Query"
   ]
  },
  {
   "cell_type": "code",
   "metadata": {
    "id": "l1G9gtSDw8yt",
    "tags": [],
    "ExecuteTime": {
     "end_time": "2025-04-23T00:14:23.104650Z",
     "start_time": "2025-04-23T00:14:23.101721Z"
    }
   },
   "source": [
    "def get_schema() -> list[dict[str,Any]]:\n",
    "  \"\"\"Get the schema of the database, returns node-types(labels) with their types and attributes and relationships between node-labels\n",
    "  Args: None\n",
    "  Returns:\n",
    "    list[dict[str,Any]]: A list of dictionaries representing the schema of the database\n",
    "    For example\n",
    "    ```\n",
    "    [{'label': 'Person','attributes': {'summary': 'STRING','id': 'STRING unique indexed', 'name': 'STRING indexed'},\n",
    "      'relationships': {'HAS_PARENT': 'Person', 'HAS_CHILD': 'Person'}}]\n",
    "    ```\n",
    "  \"\"\"\n",
    "  try:\n",
    "      results = db._execute_query(\n",
    "              \"\"\"\n",
    "call apoc.meta.data() yield label, property, type, other, unique, index, elementType\n",
    "where elementType = 'node' and not label starts with '_'\n",
    "with label,\n",
    "collect(case when type <> 'RELATIONSHIP' then [property, type + case when unique then \" unique\" else \"\" end + case when index then \" indexed\" else \"\" end] end) as attributes,\n",
    "collect(case when type = 'RELATIONSHIP' then [property, head(other)] end) as relationships\n",
    "RETURN label, apoc.map.fromPairs(attributes) as attributes, apoc.map.fromPairs(relationships) as relationships\n",
    "              \"\"\"\n",
    "          )\n",
    "      return results\n",
    "  except Exception as e:\n",
    "      return [{\"error\":str(e)}]"
   ],
   "outputs": [],
   "execution_count": 7
  },
  {
   "cell_type": "code",
   "metadata": {
    "id": "6qLJTGTXiLUK",
    "tags": [],
    "ExecuteTime": {
     "end_time": "2025-04-23T00:14:25.507944Z",
     "start_time": "2025-04-23T00:14:25.229112Z"
    }
   },
   "source": [
    "get_schema()"
   ],
   "outputs": [
    {
     "data": {
      "text/plain": [
       "[{'label': 'Supplier',\n",
       "  'attributes': {'annual_spend': 'FLOAT',\n",
       "   'tier': 'STRING',\n",
       "   'sub_type': 'STRING',\n",
       "   'code': 'STRING indexed'},\n",
       "  'relationships': {'LOCATED_AT': 'GeoLocation'}},\n",
       " {'label': 'Item',\n",
       "  'attributes': {'desc_embedding': 'LIST',\n",
       "   'description': 'STRING',\n",
       "   'family': 'STRING',\n",
       "   'is_finished_product': 'BOOLEAN',\n",
       "   'name': 'STRING',\n",
       "   'sku_id': 'STRING indexed'},\n",
       "  'relationships': {'AT': 'Supplier', 'BOM': 'Item', 'DEPENDS_ON': 'Country'}},\n",
       " {'label': 'Customer',\n",
       "  'attributes': {'annual_revenue': 'FLOAT', 'code': 'INTEGER indexed'},\n",
       "  'relationships': {'LOCATED_AT': 'GeoLocation'}},\n",
       " {'label': 'GeoLocation',\n",
       "  'attributes': {'longitude': 'FLOAT',\n",
       "   'latitude': 'FLOAT',\n",
       "   'geo_point': 'POINT indexed'},\n",
       "  'relationships': {}},\n",
       " {'label': 'Country',\n",
       "  'attributes': {'name': 'STRING', 'code': 'STRING indexed'},\n",
       "  'relationships': {}}]"
      ]
     },
     "execution_count": 8,
     "metadata": {},
     "output_type": "execute_result"
    }
   ],
   "execution_count": 8
  },
  {
   "cell_type": "code",
   "metadata": {
    "id": "J6CKK3-JiZUB",
    "tags": [],
    "ExecuteTime": {
     "end_time": "2025-04-23T00:14:32.465152Z",
     "start_time": "2025-04-23T00:14:32.462625Z"
    }
   },
   "source": [
    "from typing import Optional\n",
    "\n",
    "\n",
    "def execute_read_query(query: str, params: Optional[dict[str, Any]]=None) -> list[dict[str, Any]]:\n",
    "    \"\"\"\n",
    "    Execute a Neo4j Cypher query and return results as a list of dictionaries\n",
    "    Args:\n",
    "        query (str): The Cypher query to execute\n",
    "        params (dict[str, Any], optional): The parameters to pass to the query or None.\n",
    "    Raises:\n",
    "        Exception: If there is an error executing the query\n",
    "    Returns:\n",
    "        list[dict[str, Any]]: A list of dictionaries representing the query results\n",
    "    \"\"\"\n",
    "    try:\n",
    "        if params is None:\n",
    "            params = {}\n",
    "        results = db._execute_query(query, params)\n",
    "        return results\n",
    "    except Exception as e:\n",
    "        return [{\"error\":str(e)}]"
   ],
   "outputs": [],
   "execution_count": 9
  },
  {
   "cell_type": "code",
   "metadata": {
    "colab": {
     "base_uri": "https://localhost:8080/"
    },
    "id": "Ho2K5-2t2zYZ",
    "outputId": "52834b64-fbe6-4361-83d8-50a779d851af",
    "tags": [],
    "ExecuteTime": {
     "end_time": "2025-04-23T00:14:34.716143Z",
     "start_time": "2025-04-23T00:14:34.579376Z"
    }
   },
   "source": [
    "execute_read_query(\"RETURN 1\", None)"
   ],
   "outputs": [
    {
     "data": {
      "text/plain": [
       "[{'1': 1}]"
      ]
     },
     "execution_count": 10,
     "metadata": {},
     "output_type": "execute_result"
    }
   ],
   "execution_count": 10
  },
  {
   "cell_type": "markdown",
   "metadata": {
    "id": "uMNZTdX_2r-L"
   },
   "source": [
    "## Defining Functions for our Investment Research Agent\n",
    "\n",
    "* get_schema - Retrieve Database Schema for the LLM\n",
    "* get_investors - Returns the investor in the company with this name or id."
   ]
  },
  {
   "metadata": {
    "ExecuteTime": {
     "end_time": "2025-04-23T00:14:37.983177Z",
     "start_time": "2025-04-23T00:14:37.790007Z"
    }
   },
   "cell_type": "code",
   "source": [
    "def get_finished_product_families() -> list[dict[str, Any]]:\n",
    "    \"\"\"\n",
    "    Get the different type of Product Families - for finished products only.\n",
    "    Use this when asked for different types, families, or groups of finished products.\n",
    "    \"\"\"\n",
    "    try:\n",
    "        results = db._execute_query(\"\"\"\n",
    "        MATCH (i:Item)\n",
    "        WHERE i.is_finished_product\n",
    "        RETURN i.family AS family, count(*) AS numberOfProducts\n",
    "        \"\"\")\n",
    "        return results\n",
    "    except Exception as e:\n",
    "        return [{\"error\":str(e)}]\n",
    "#test\n",
    "get_finished_product_families()"
   ],
   "outputs": [
    {
     "data": {
      "text/plain": [
       "[{'family': 'FarmTractor', 'numberOfProducts': 21521},\n",
       " {'family': 'SeedPlanter', 'numberOfProducts': 21488},\n",
       " {'family': 'FieldSprayer', 'numberOfProducts': 21519},\n",
       " {'family': 'CropHarvester', 'numberOfProducts': 21406},\n",
       " {'family': 'HayCollector', 'numberOfProducts': 21671},\n",
       " {'family': 'CabWiringUnit', 'numberOfProducts': 17},\n",
       " {'family': 'ControlAssembly', 'numberOfProducts': 9},\n",
       " {'family': 'MachineRig', 'numberOfProducts': 14},\n",
       " {'family': 'HydraulicSystem', 'numberOfProducts': 3},\n",
       " {'family': 'ChassisFrame', 'numberOfProducts': 9},\n",
       " {'family': 'DrivePlatform', 'numberOfProducts': 10}]"
      ]
     },
     "execution_count": 11,
     "metadata": {},
     "output_type": "execute_result"
    }
   ],
   "execution_count": 11
  },
  {
   "metadata": {
    "ExecuteTime": {
     "end_time": "2025-04-23T00:16:25.511193Z",
     "start_time": "2025-04-23T00:16:24.858022Z"
    }
   },
   "cell_type": "code",
   "source": [
    "def get_component_families() -> list[dict[str, Any]]:\n",
    "    \"\"\"\n",
    "    Get the different type of Component Families - for components only -not finished products.\n",
    "    Use this when asked for different types, families or groups of components and/or parts.\n",
    "    \"\"\"\n",
    "    try:\n",
    "        results = db._execute_query(\"\"\"\n",
    "        MATCH (i:Item)\n",
    "        WHERE NOT i.is_finished_product\n",
    "        RETURN i.family AS family, count(*) AS numberOfComponents\n",
    "        \"\"\")\n",
    "        return results\n",
    "    except Exception as e:\n",
    "        return [{\"error\":str(e)}]\n",
    "#test\n",
    "get_component_families()"
   ],
   "outputs": [
    {
     "data": {
      "text/plain": [
       "[{'family': 'MachineRig', 'numberOfComponents': 20017},\n",
       " {'family': 'DrivePlatform', 'numberOfComponents': 19896},\n",
       " {'family': 'HydraulicSystem', 'numberOfComponents': 20192},\n",
       " {'family': 'ChassisFrame', 'numberOfComponents': 19893},\n",
       " {'family': 'ControlAssembly', 'numberOfComponents': 19824},\n",
       " {'family': 'CabWiringUnit', 'numberOfComponents': 19886},\n",
       " {'family': 'Bushing', 'numberOfComponents': 162},\n",
       " {'family': 'Spring', 'numberOfComponents': 144},\n",
       " {'family': 'GearSet', 'numberOfComponents': 169},\n",
       " {'family': 'ElectricalControlBox', 'numberOfComponents': 77},\n",
       " {'family': 'ComponentModule', 'numberOfComponents': 63},\n",
       " {'family': 'Board', 'numberOfComponents': 82},\n",
       " {'family': 'SteeringColumn', 'numberOfComponents': 65},\n",
       " {'family': 'FrameSegment', 'numberOfComponents': 62},\n",
       " {'family': 'SensorModule', 'numberOfComponents': 67},\n",
       " {'family': 'OperatorCab', 'numberOfComponents': 12},\n",
       " {'family': 'AxleAssembly', 'numberOfComponents': 79},\n",
       " {'family': 'ControlUnit', 'numberOfComponents': 66},\n",
       " {'family': 'ToolMountKit', 'numberOfComponents': 11},\n",
       " {'family': 'MachineFrame', 'numberOfComponents': 11},\n",
       " {'family': 'EngineCore', 'numberOfComponents': 61},\n",
       " {'family': 'PowerSystemModule', 'numberOfComponents': 15},\n",
       " {'family': 'Connector', 'numberOfComponents': 573},\n",
       " {'family': 'SensorUnit', 'numberOfComponents': 523},\n",
       " {'family': 'PumpAssembly', 'numberOfComponents': 594},\n",
       " {'family': 'MotorDrive', 'numberOfComponents': 558},\n",
       " {'family': 'ControlValve', 'numberOfComponents': 548},\n",
       " {'family': 'Cylinder', 'numberOfComponents': 525},\n",
       " {'family': 'Bearing', 'numberOfComponents': 168},\n",
       " {'family': 'Gear', 'numberOfComponents': 145},\n",
       " {'family': 'Harness', 'numberOfComponents': 164},\n",
       " {'family': 'Sensor', 'numberOfComponents': 164},\n",
       " {'family': 'Clamp', 'numberOfComponents': 162},\n",
       " {'family': 'Belt', 'numberOfComponents': 155},\n",
       " {'family': 'WiringLoom', 'numberOfComponents': 165},\n",
       " {'family': 'HydraulicFitting', 'numberOfComponents': 172},\n",
       " {'family': 'Pulley', 'numberOfComponents': 171},\n",
       " {'family': 'Fastener', 'numberOfComponents': 35},\n",
       " {'family': 'Bolt', 'numberOfComponents': 41},\n",
       " {'family': 'RubberSeal', 'numberOfComponents': 40},\n",
       " {'family': 'Tubing', 'numberOfComponents': 41},\n",
       " {'family': 'Casting', 'numberOfComponents': 32},\n",
       " {'family': 'RawWire', 'numberOfComponents': 34},\n",
       " {'family': 'Rod', 'numberOfComponents': 36},\n",
       " {'family': 'PrecisionBolt', 'numberOfComponents': 35},\n",
       " {'family': 'MachineArm', 'numberOfComponents': 7}]"
      ]
     },
     "execution_count": 12,
     "metadata": {},
     "output_type": "execute_result"
    }
   ],
   "execution_count": 12
  },
  {
   "metadata": {},
   "cell_type": "code",
   "outputs": [],
   "execution_count": null,
   "source": [
    "def get_item(sku_id: str) -> dict[str, Any]:\n",
    "    \"\"\"\n",
    "    Gets Item properties\n",
    "    Args:\n",
    "        sku_id (str): code uniquely identifying the item which can be a component or finished product\n",
    "    Returns:\n",
    "        dict[str, Any]: item properties\n",
    "    \"\"\"\n",
    "    try:\n",
    "        results = db._execute_query(\"\"\"\n",
    "        MATCH (i:Item {sku_id: \"35472245A\"})\n",
    "        RETURN i.sku_id AS sku_id, i.name AS name, i.family AS family, i.is_finished_product AS is_finished_product\n",
    "        \"\"\", {\"sku_id\": sku_id})\n",
    "        return results\n",
    "    except Exception as e:\n",
    "        return {\"error\": str(e)}"
   ]
  },
  {
   "metadata": {},
   "cell_type": "code",
   "outputs": [],
   "execution_count": null,
   "source": [
    "def get_known_item_country_dependencies(sku_id: str) -> list[dict[str, Any]]:\n",
    "    \"\"\"\n",
    "    Retrieve all known country dependencies for a given item, which can represent either a finished product, a component, or both. This includes data on sourcing, manufacturing, or other relationships tied to specific countries.\n",
    "    Dependencies are determined recursively by examining all connected components in the item's bill of materials (BOM). For each component, this function identifies:\n",
    "    1. **Known Country Dependencies:** A list of countries and their corresponding dependency descriptions (e.g., sourcing steel, manufacturing).\n",
    "    2. **Supply Chain Dependencies:** A visual representation of how components with such country dependencies are linked to the provided item through potentially multiple stages of the BOM hierarchy, represented as a sequence of components connected by arrows, culminating in the provided item.\n",
    "\n",
    "    Note: This function only retrieves available data, which may be incomplete due to limited internal intelligence.\n",
    "\n",
    "    Args:\n",
    "        sku_id (str): code uniquely identifying the component or finished product\n",
    "    Returns:\n",
    "        list[dict[str, Any]]: a list of components in this items bill of materials with country dependencies along with their country dependencies and how they relate to the item in the bill of materials hierarchy.\n",
    "    \"\"\"\n",
    "    try:\n",
    "        results = db._execute_query(\"\"\"\n",
    "        MATCH (i:Item {sku_id: $sku_id})\n",
    "        MATCH path=(i)<-[:BOM*]-(comp:Item)-[r:DEPENDS_ON]->(c:Country)\n",
    "        RETURN\n",
    "        comp.sku_id AS sku_id,\n",
    "        comp.name AS name,\n",
    "        collect({country: c.name, dependency: r.description}) AS known_country_dependencies,\n",
    "        ' <- ' + apoc.text.join([n IN tail(nodes(path))[..-1] | n.sku_id + ' (' + coalesce(n.name, '') + ')' ], ' <- ') AS supply_chain_dependency\n",
    "        \"\"\", {\"sku_id\": sku_id})\n",
    "        return results\n",
    "    except Exception as e:\n",
    "        return [{\"error\": str(e)}]"
   ]
  },
  {
   "metadata": {},
   "cell_type": "code",
   "outputs": [],
   "execution_count": null,
   "source": [
    "def get_item_bill_of_materials(sku_id: str) -> list[dict[str, Any]]:\n",
    "    \"\"\"\n",
    "    Get summary information for a product or component identified by the provided SKU. Leverage this for questions about\n",
    "    1. Bill of Material dependencies\n",
    "    2. Dependencies on different countries, sourcing, and materials.\n",
    "    4. General data about family, product/component type etc.\n",
    "    Provides product SkuIds plus the depency chain on components leading up to those supplied from the supplier.\n",
    "    Args:\n",
    "        sku_id (str): code uniquely identifying the component, party, or finished product\n",
    "    Returns:\n",
    "        list[dict[str, Any]]: product SkuIds plus the depency chain on components leading up to those supplied from the supplier.\n",
    "    \"\"\"\n",
    "    try:\n",
    "        results = db._execute_query(\"\"\"\n",
    "        MATCH (i:Item {sku_id: \"35472245A\"})\n",
    "        MATCH path=(i)<-[:BOM*]-(:Item)\n",
    "        RETURN ' <- ' + apoc.text.join([n IN tail(nodes(path)) | n.sku_id + ' (' + coalesce(n.name, '') + ')' ], ' <- ') AS supply_chain_dependency\n",
    "        \"\"\", {\"code\": supplier_code})\n",
    "        return results\n",
    "    except Exception as e:\n",
    "        return [{\"error\": str(e)}]\n"
   ]
  },
  {
   "metadata": {},
   "cell_type": "code",
   "outputs": [],
   "execution_count": null,
   "source": [
    "def get_item_bill_of_materials(sku_id: str) -> list[dict[str, Any]]:\n",
    "    \"\"\"\n",
    "    Get summary information for a product or component identified by the provided SKU. Leverage this for questions about\n",
    "    1. Bill of Material dependencies\n",
    "    2. Dependencies on different countries, sourcing, and materials.\n",
    "    4. General data about family, product/component type etc.\n",
    "    Provides product SkuIds plus the depency chain on components leading up to those supplied from the supplier.\n",
    "    Args:\n",
    "        sku_id (str): code uniquely identifying the component, party, or finished product\n",
    "    Returns:\n",
    "        list[dict[str, Any]]: product SkuIds plus the depency chain on components leading up to those supplied from the supplier.\n",
    "    \"\"\"\n",
    "    try:\n",
    "        results = db._execute_query(\"\"\"\n",
    "        MATCH (s:Supplier {code: $code})\n",
    "        MATCH path = (p:Item)<-[:BOM*]-(comp:Item)-[:AT]->(s:Supplier)\n",
    "        RETURN nodes(path)[0].sku_id AS sku_id,\n",
    "            nodes(path)[0].type AS type,\n",
    "        collect(apoc.text.join([ n IN nodes(path) | coalesce(n.sku_id, n.code) + '(' + coalesce(n.type, n.tier) + ')' ], ' <- ')) AS supplyChainDependencies\n",
    "        \"\"\", {\"code\":supplier_code})\n",
    "        return results\n",
    "    except Exception as e:\n",
    "        return [{\"error\":str(e)}]\n"
   ]
  },
  {
   "metadata": {
    "id": "iAqLn3AKoxkA",
    "tags": [],
    "ExecuteTime": {
     "end_time": "2025-04-21T16:20:40.484460Z",
     "start_time": "2025-04-21T16:20:40.475220Z"
    }
   },
   "cell_type": "code",
   "outputs": [],
   "execution_count": 68,
   "source": [
    "def get_all_product_dependencies_on_supplier(supplier_code: str) -> list[dict[str, Any]]:\n",
    "    \"\"\"\n",
    "    Get all the Products that depend on components from a supplier.\n",
    "    Provides product SkuIds plus the depency chain on components leading up to those supplied from the supplier.\n",
    "    Args:\n",
    "        supplier_code (str): code uniquely identifying the supplier\n",
    "    Returns:\n",
    "        list[dict[str, Any]]: product SkuIds plus the depency chain on components leading up to those supplied from the supplier.\n",
    "    \"\"\"\n",
    "    try:\n",
    "        results = db._execute_query(\"\"\"\n",
    "        MATCH (s:Supplier {code: $code})\n",
    "        MATCH path = (p:Item)<-[:BOM*]-(comp:Item)-[:AT]->(s:Supplier)\n",
    "        RETURN nodes(path)[0].sku_id AS sku_id,\n",
    "            nodes(path)[0].type AS type,\n",
    "        collect(apoc.text.join([ n IN nodes(path) | coalesce(n.sku_id, n.code) + '(' + coalesce(n.type, n.tier) + ')' ], ' <- ')) AS supplyChainDependencies\n",
    "        \"\"\", {\"code\":supplier_code})\n",
    "        return results\n",
    "    except Exception as e:\n",
    "        return [{\"error\":str(e)}]\n",
    "\n",
    "\n",
    "def get_supplier_substitutions(supplier_code: str) -> list[dict[str, Any]]:\n",
    "    \"\"\"\n",
    "    Retrieves substitution recommendations for items (components and/or finished products) supplied by a specific supplier.\n",
    "\n",
    "    This function is designed to assist in scenarios where a supplier (identified by its unique code)\n",
    "    is temporarily or permanently unable to operate or is otherwise designated for substitution.\n",
    "    It identifies items supplied by the specified supplier and recommends other suppliers on the same BOM tier that\n",
    "    can substitute those items. Recommendations are ranked by supplier proximity based on geodistance.\n",
    "\n",
    "    Args:\n",
    "        supplier_code (str): A unique code identifying the supplier in question.\n",
    "\n",
    "    Returns:\n",
    "        list[dict[str, Any]]: A list of dictionaries, each containing details for an item supplied by the specified supplier:\n",
    "            - sku_id (str): The unique identifier for the item.\n",
    "            - name (str): The name or description of the item.\n",
    "            - recommended_supplier (dict): The closest alternative supplier for the item, including:\n",
    "                - code (str): The unique code for the supplier.\n",
    "                - distance (float): The geodistance (in miles) between the original supplier's location and the alternate supplier.\n",
    "              This is `null` if no alternative suppliers are available.\n",
    "            - other_suppliers (list[dict]): A list of additional alternative suppliers, sorted by ascending distance, with each supplier having:\n",
    "                - code (str): The unique code for the supplier.\n",
    "                - distance (float): The geodistance (in miles).\n",
    "              This is an empty list if no additional alternatives are available.\n",
    "\n",
    "    Example Output:\n",
    "        [\n",
    "            {\n",
    "                \"sku_id\": \"28710197\",\n",
    "                \"name\": \"Harness_YU5KA\",\n",
    "                \"recommended_supplier\": {\n",
    "                    \"distance\": 99.65,\n",
    "                    \"code\": \"T4J5DE\"\n",
    "                },\n",
    "                \"other_suppliers\": []\n",
    "            },\n",
    "            {\n",
    "                \"sku_id\": \"28018274\",\n",
    "                \"name\": \"Clamp_MRVR0\",\n",
    "                \"recommended_supplier\": {\n",
    "                    \"distance\": 99.65,\n",
    "                    \"code\": \"T4J5DE\"\n",
    "                },\n",
    "                \"other_suppliers\": [\n",
    "                    {\n",
    "                        \"distance\": 1376.98,\n",
    "                        \"code\": \"RO6UY3\"\n",
    "                    },\n",
    "                    {\n",
    "                        \"distance\": 11170.08,\n",
    "                        \"code\": \"6TIPXK\"\n",
    "                    }\n",
    "                ]\n",
    "            }\n",
    "        ]\n",
    "\n",
    "    \"\"\"\n",
    "    try:\n",
    "        results = db._execute_query(\"\"\"\n",
    "        MATCH (l)<-[:LOCATED_AT]-(s:Supplier {code: $code})<-[:AT]-(i:Item)\n",
    "        OPTIONAL MATCH (i)-[:AT]->(sAlt:Supplier  WHERE sAlt.tier = s.tier AND sAlt <> s)-[:LOCATED_AT]->(lAlt)\n",
    "        WHERE sAlt.tier = s.tier AND sAlt <> s\n",
    "        // Calculate geodistance\n",
    "        WITH i, sAlt, point.distance(l.geo_point, lAlt.geo_point) * 0.000621371 AS distance_in_miles\n",
    "        ORDER BY i, distance_in_miles ASC\n",
    "        // Collect recommended supplier and other options\n",
    "        WITH i, collect({code: sAlt.code, distance: distance_in_miles}) AS all_sAlt\n",
    "        RETURN i.sku_id AS sku_id, i.name as name, all_sAlt[0] AS recommended_supplier, tail(all_sAlt) AS other_suppliers\n",
    "        \"\"\", {\"code\":supplier_code})\n",
    "        return results\n",
    "    except Exception as e:\n",
    "        return [{\"error\":str(e)}]"
   ]
  },
  {
   "cell_type": "code",
   "metadata": {
    "colab": {
     "base_uri": "https://localhost:8080/"
    },
    "id": "znthqmOgimM4",
    "outputId": "afec5dc1-f10e-4b8d-f7fd-69b8e0010373",
    "tags": [],
    "ExecuteTime": {
     "end_time": "2025-04-21T01:34:31.626686Z",
     "start_time": "2025-04-21T01:34:31.528540Z"
    }
   },
   "source": [
    "get_all_product_dependencies_on_supplier(\"YP8UYT\")[:2]"
   ],
   "outputs": [
    {
     "data": {
      "text/plain": [
       "[{'sku_id': '28823459-05',\n",
       "  'type': 'PRODUCT',\n",
       "  'supplyChainDependencies': ['28823459-05(PRODUCT) <- 28710197(COMPONENT) <- YP8UYT(Tier1)']},\n",
       " {'sku_id': '28795255-03',\n",
       "  'type': 'PRODUCT',\n",
       "  'supplyChainDependencies': ['28795255-03(PRODUCT) <- 28710197(COMPONENT) <- YP8UYT(Tier1)']}]"
      ]
     },
     "execution_count": 47,
     "metadata": {},
     "output_type": "execute_result"
    }
   ],
   "execution_count": 47
  },
  {
   "metadata": {
    "ExecuteTime": {
     "end_time": "2025-04-21T16:21:03.060206Z",
     "start_time": "2025-04-21T16:21:02.717703Z"
    }
   },
   "cell_type": "code",
   "source": [
    "a = get_supplier_substitutions(\"YP8UYT\")\n",
    "len(a)"
   ],
   "outputs": [
    {
     "data": {
      "text/plain": [
       "13"
      ]
     },
     "execution_count": 70,
     "metadata": {},
     "output_type": "execute_result"
    }
   ],
   "execution_count": 70
  },
  {
   "metadata": {
    "ExecuteTime": {
     "end_time": "2025-04-21T16:21:14.932726Z",
     "start_time": "2025-04-21T16:21:14.926763Z"
    }
   },
   "cell_type": "code",
   "source": "a[:3]",
   "outputs": [
    {
     "data": {
      "text/plain": [
       "[{'sku_id': '28710197',\n",
       "  'type': 'COMPONENT',\n",
       "  'AltSuppliers': [{'supplierTier': 'Tier1',\n",
       "    'SupplierCode': 'T4J5DE',\n",
       "    'supplierSubType': 'Direct'}]},\n",
       " {'sku_id': '28018274',\n",
       "  'type': 'COMPONENT',\n",
       "  'AltSuppliers': [{'supplierTier': 'Tier1',\n",
       "    'SupplierCode': '6TIPXK',\n",
       "    'supplierSubType': 'Manu'},\n",
       "   {'supplierTier': 'Tier1',\n",
       "    'SupplierCode': 'RO6UY3',\n",
       "    'supplierSubType': 'Direct'},\n",
       "   {'supplierTier': 'Tier1',\n",
       "    'SupplierCode': 'T4J5DE',\n",
       "    'supplierSubType': 'Direct'}]},\n",
       " {'sku_id': 'DED9021006200',\n",
       "  'type': 'COMPONENT',\n",
       "  'AltSuppliers': [{'supplierTier': 'Tier1',\n",
       "    'SupplierCode': '67F8ZB',\n",
       "    'supplierSubType': 'Manu'},\n",
       "   {'supplierTier': 'Tier1',\n",
       "    'SupplierCode': 'T4J5DE',\n",
       "    'supplierSubType': 'Direct'}]}]"
      ]
     },
     "execution_count": 71,
     "metadata": {},
     "output_type": "execute_result"
    }
   ],
   "execution_count": 71
  },
  {
   "metadata": {},
   "cell_type": "code",
   "outputs": [],
   "execution_count": null,
   "source": ""
  },
  {
   "cell_type": "markdown",
   "metadata": {
    "id": "meW7SNrTyCgn"
   },
   "source": [
    "# Define our Agents\n",
    "\n",
    "An AI agent reasons, plans, and takes actions.\n",
    "\n",
    "The agent takes actions via access to **tools**, deciding how and when to invoke a tool. The agent also manages orchestration, creating a plan for answering a user query and adapting to responses that aren't quite correct.\n",
    "\n",
    "Agent **tools** can be Python functions, or Vertex AI Extensions, or MCP Servers.\n",
    "\n",
    "## Creating the Database Agent.\n",
    "\n",
    "* display name\n",
    "* instructions - detailed, making it clear exactly how the agent should behave and which tools to use when\n",
    "* tools\n",
    "\n"
   ]
  },
  {
   "cell_type": "code",
   "metadata": {
    "id": "yI9pmcREDKNK",
    "tags": [],
    "ExecuteTime": {
     "end_time": "2025-04-21T01:34:36.840834Z",
     "start_time": "2025-04-21T01:34:36.838827Z"
    }
   },
   "source": [
    "from google.adk.agents import Agent"
   ],
   "outputs": [],
   "execution_count": 49
  },
  {
   "cell_type": "code",
   "metadata": {
    "id": "exrr_oCNLxqZ",
    "tags": [],
    "ExecuteTime": {
     "end_time": "2025-04-21T01:34:37.827482Z",
     "start_time": "2025-04-21T01:34:37.825772Z"
    }
   },
   "source": "MODEL=\"gemini-2.5-pro-preview-03-25\"",
   "outputs": [],
   "execution_count": 50
  },
  {
   "cell_type": "code",
   "metadata": {
    "id": "E7zyD4nvxFy4",
    "tags": [],
    "ExecuteTime": {
     "end_time": "2025-04-21T01:34:38.967412Z",
     "start_time": "2025-04-21T01:34:38.964218Z"
    }
   },
   "source": [
    "database_agent = Agent(\n",
    "    model=MODEL,\n",
    "    name='graph_database_agent',\n",
    "    instruction=\"\"\"\n",
    "      You are an Neo4j graph database and Cypher query expert, that must use the database schema with a user question and repeatedly generate valid cypher statements\n",
    "      to execute on the database and answer the user's questions in a friendly manner in natural language.\n",
    "      If in doubt the database schema is always prioritized when it comes to nodes-types (labels) or relationship-types or property names, never take the user's input at face value.\n",
    "      If the user requests also render tables, charts or other artifacts with the query results.\n",
    "      Always validate the correct node-labels at the end of a relationship based on the schema.\n",
    "\n",
    "      If a query fails or doesn't return data, use the error response 3 times to try to fix the generated query and re-run it, don't return the error to the user.\n",
    "      If you cannot fix the query, explain the issue to the user and apologize.\n",
    "\n",
    "      Fetch the graph database schema first and keep it in session memory to access later for query generation.\n",
    "      Keep results of previous executions in session memory and access if needed, for instance ids or other attributes of nodes to find them again\n",
    "      removing the need to ask the user. This also allows for generating shorter, more focused and less error-prone queries\n",
    "      to for drill downs, sequences and loops.\n",
    "      If possible resolve names to primary keys or ids and use those for looking up entities.\n",
    "      The schema always indicates *outgoing* relationship-types from an entity to another entity, the graph patterns read like english language.\n",
    "      `company has supplier` would be the pattern `(o:Organization)-[:HAS_SUPPLIER]->(s:Organization)`\n",
    "\n",
    "      To get the schema of a database use the `get_schema` tool without parameters. Store the response of the schema tool in session context\n",
    "      to access later for query generation.\n",
    "\n",
    "      To answer a user question generate one or more Cypher statements based on the database schema and the parts of the user question.\n",
    "      If necessary resolve categorical attributes (like names, countries, industries, publications) first by retrieving them for a set of entities to translate from the user's request.\n",
    "      Use the `execute_query` tool repeatedly with the Cypher statements, you MUST generate statements that use named query parameters with `$parameter` style names\n",
    "      and MUST pass them as a second dictionary parameter to the tool, even if empty.\n",
    "      Parameter data can come from the users requests, prior query results or additional lookup queries.\n",
    "      After the data for the question has been sufficiently retrieved, pass the data and control back to the parent agent.\n",
    "    \"\"\",\n",
    "    tools=[\n",
    "        get_schema, execute_read_query\n",
    "    ]\n",
    ")"
   ],
   "outputs": [],
   "execution_count": 51
  },
  {
   "cell_type": "code",
   "metadata": {
    "id": "wm2YPp1eG2WQ",
    "tags": [],
    "ExecuteTime": {
     "end_time": "2025-04-21T01:34:42.641067Z",
     "start_time": "2025-04-21T01:34:42.638904Z"
    }
   },
   "source": [
    "bom_supplier_research_agent = Agent(\n",
    "    model=MODEL,\n",
    "    name='bom_supplier_research_agent',\n",
    "    instruction=\"\"\"\n",
    "    You are an agent that has access to a database of bill of materials (BOM), supplier, product/component, and customer relationships.\n",
    "    Use the provided tools to answer questions. \n",
    "    when returning ifnromation, try to always return not just the factual attribute data but also\n",
    "    codes, skus, and ids to allow the other agents to investigate them more.\n",
    "    \"\"\",\n",
    "    tools=[\n",
    "        get_schema, get_all_product_dependencies_on_supplier, get_supplier_substitutions\n",
    "    ]\n",
    ")"
   ],
   "outputs": [],
   "execution_count": 52
  },
  {
   "cell_type": "code",
   "metadata": {
    "id": "FSlyylN9HBJh",
    "tags": [],
    "ExecuteTime": {
     "end_time": "2025-04-21T01:34:44.097832Z",
     "start_time": "2025-04-21T01:34:44.095229Z"
    }
   },
   "source": [
    "root_agent = Agent(\n",
    "    model=MODEL,\n",
    "    name='bom_supplier_agent',\n",
    "    global_instruction = \"\",\n",
    "    instruction=\"\"\"\n",
    "    You are an agent that has access to a database of bill of materials (BOM), supplier, product/component, and customer relationships.\n",
    "    You have a set of agents to retrieve information from that knowledge graph, if possible prefer the research agents over the database agent.\n",
    "    If the user requests it, do render tables, charts or other artifacts with the research results.\n",
    "    \"\"\",\n",
    "\n",
    "    sub_agents=[bom_supplier_research_agent, database_agent]\n",
    ")"
   ],
   "outputs": [],
   "execution_count": 53
  },
  {
   "cell_type": "markdown",
   "metadata": {
    "id": "4yRbuebi-Zh6"
   },
   "source": [
    "# Let's try it\n",
    "\n",
    "You can [run the ADK locally](https://google.github.io/adk-docs/get-started/local-testing/#expected-output) a web application with `adk web` or the FastAPI server with `adk api_server`.\n",
    "\n",
    "You can also deploy the agent to [Cloud Run](https://google.github.io/adk-docs/deploy/cloud-run/) or to [Agent Engine](https://google.github.io/adk-docs/deploy/agent-engine/)."
   ]
  },
  {
   "cell_type": "code",
   "metadata": {
    "id": "tyGD1YGaVVK6",
    "tags": [],
    "ExecuteTime": {
     "end_time": "2025-04-21T01:34:46.937371Z",
     "start_time": "2025-04-21T01:34:46.933859Z"
    }
   },
   "source": [
    "APP_NAME = 'BOM & Supplier Analyst'\n",
    "USER_ID = 'Zach Blumenfeld'\n",
    "\n",
    "from google.adk.runners import InMemoryRunner\n",
    "from google.genai.types import Part, UserContent\n",
    "\n",
    "\n",
    "runner = InMemoryRunner(app_name=APP_NAME, agent=root_agent)\n",
    "\n",
    "session = runner.session_service.create_session( app_name=runner.app_name, user_id=USER_ID)\n",
    "\n",
    "async def run_prompt(new_message: str):\n",
    "  content = UserContent(parts=[Part(text=new_message)])\n",
    "# print (content)\n",
    "  result = None\n",
    "  async for event in runner.run_async(user_id=session.user_id, session_id=session.id, new_message=content):\n",
    "#    print(event.content.model_dump(exclude_none=True))\n",
    "#    print(event.content.parts)\n",
    "    for part in event.content.parts:\n",
    "      print(part.text, part.function_call, part.function_response)\n",
    "      if part.text:\n",
    "#        print(part.text)\n",
    "        result = part.text\n",
    "  return result"
   ],
   "outputs": [],
   "execution_count": 54
  },
  {
   "cell_type": "code",
   "metadata": {
    "colab": {
     "base_uri": "https://localhost:8080/",
     "height": 288
    },
    "id": "L_7x-n3Q1km9",
    "outputId": "3d4496d4-3f0e-4a1b-ab60-ab26246ff54a",
    "tags": [],
    "ExecuteTime": {
     "end_time": "2025-04-21T01:35:01.157141Z",
     "start_time": "2025-04-21T01:34:49.368535Z"
    }
   },
   "source": [
    "from IPython.display import Markdown, display\n",
    "\n",
    "res = await run_prompt('How many suppliers are in the database')\n",
    "print(\"\\n\\n\\n\\nFinal Response:\")\n",
    "display(Markdown(res))"
   ],
   "outputs": [
    {
     "name": "stdout",
     "output_type": "stream",
     "text": [
      "None id='adk-30b00432-611a-4a62-99f4-a483eee8f291' args={'agent_name': 'graph_database_agent'} name='transfer_to_agent' None\n",
      "None None id='adk-30b00432-611a-4a62-99f4-a483eee8f291' name='transfer_to_agent' response={}\n",
      "Okay, I can help with that. First, I need to check how suppliers are represented in the database schema.\n",
      "\n",
      " None None\n",
      "None id='adk-45ca5f2e-3abd-4c8a-afbc-b69d9aec848f' args={} name='get_schema' None\n",
      "None None id='adk-45ca5f2e-3abd-4c8a-afbc-b69d9aec848f' name='get_schema' response={'result': [{'label': 'Supplier', 'attributes': {'annual_spend': 'FLOAT', 'tier': 'STRING', 'sub_type': 'STRING', 'code': 'STRING indexed'}, 'relationships': {'LOCATED_AT': 'GeoLocation'}}, {'label': 'Item', 'attributes': {'wafers_geometry': 'STRING', 'lifecycle_status': 'STRING', 'package_method': 'STRING', 'wafers_diameter': 'STRING', 'manufacturer': 'STRING', 'sku_id': 'STRING indexed', 'wafers_process_name': 'STRING', 'mpn': 'STRING', 'type': 'STRING'}, 'relationships': {'AT': 'Supplier', 'PART_OF_GROUP': 'ComponentGroup', 'BOM': 'Item'}}, {'label': 'Customer', 'attributes': {'annual_revenue': 'FLOAT', 'code': 'INTEGER indexed'}, 'relationships': {'PART_OF_FAMILY': 'CustomerFamily', 'LOCATED_AT': 'GeoLocation'}}, {'label': 'CustomerFamily', 'attributes': {'annual_revenue': 'FLOAT', 'code': 'STRING indexed'}, 'relationships': {}}, {'label': 'ComponentGroup', 'attributes': {'code': 'INTEGER indexed'}, 'relationships': {'SUB_OF': 'ComponentSubCat'}}, {'label': 'ComponentSubCat', 'attributes': {'code': 'STRING indexed'}, 'relationships': {'SUB_OF': 'ComponentCategory'}}, {'label': 'ComponentCategory', 'attributes': {'code': 'STRING indexed'}, 'relationships': {}}, {'label': 'GeoLocation', 'attributes': {'longitude': 'FLOAT', 'latitude': 'FLOAT', 'geo_point': 'POINT indexed'}, 'relationships': {}}]}\n",
      "Okay, I see that suppliers are represented as `Supplier` nodes in the database.\n",
      "\n",
      "I can count them for you.\n",
      "\n",
      " None None\n",
      "None id='adk-f18575cb-ef8f-49cb-b1b8-417ce8b0e037' args={'query': 'MATCH (s:Supplier) RETURN count(s) AS numberOfSuppliers', 'params': {}} name='execute_read_query' None\n",
      "None None id='adk-f18575cb-ef8f-49cb-b1b8-417ce8b0e037' name='execute_read_query' response={'result': [{'numberOfSuppliers': 13890}]}\n",
      "There are 13,890 suppliers in the database.\n",
      "\n",
      "Would you like to know anything else about these suppliers? None None\n",
      "\n",
      "\n",
      "\n",
      "\n",
      "Final Response:\n"
     ]
    },
    {
     "data": {
      "text/plain": [
       "<IPython.core.display.Markdown object>"
      ],
      "text/markdown": "There are 13,890 suppliers in the database.\n\nWould you like to know anything else about these suppliers?"
     },
     "metadata": {},
     "output_type": "display_data"
    }
   ],
   "execution_count": 55
  },
  {
   "cell_type": "code",
   "metadata": {
    "colab": {
     "base_uri": "https://localhost:8080/",
     "height": 377
    },
    "id": "Ee8ac3ENVWuw",
    "outputId": "ebd9bab2-7cda-4b2f-e800-6b1d3c615286",
    "tags": [],
    "ExecuteTime": {
     "end_time": "2025-04-21T01:38:46.666806Z",
     "start_time": "2025-04-21T01:38:41.085617Z"
    }
   },
   "source": [
    "res = await run_prompt('Can you provide a few sample supplier codes?')\n",
    "print(\"\\n\\n\\n\\nFinal Response:\")\n",
    "display(Markdown(res))"
   ],
   "outputs": [
    {
     "name": "stdout",
     "output_type": "stream",
     "text": [
      "It seems like you're asking for sample supplier codes again. The `graph_database_agent` is best equipped to handle this type of database query. I will transfer your request to that agent. None None\n",
      "None id='adk-1788d481-fde3-47b5-8225-48c8cd724fab' args={'agent_name': 'graph_database_agent'} name='transfer_to_agent' None\n",
      "None None id='adk-1788d481-fde3-47b5-8225-48c8cd724fab' name='transfer_to_agent' response={}\n",
      "I previously found these sample supplier codes for you:\n",
      "\n",
      "*   0021XS\n",
      "*   0042BS\n",
      "*   0086EL\n",
      "*   009EOE\n",
      "*   00G5L1\n",
      "\n",
      "Do you need more examples, or is there something else I can help you with regarding suppliers or other data in the database? None None\n",
      "\n",
      "\n",
      "\n",
      "\n",
      "Final Response:\n"
     ]
    },
    {
     "data": {
      "text/plain": [
       "<IPython.core.display.Markdown object>"
      ],
      "text/markdown": "I previously found these sample supplier codes for you:\n\n*   0021XS\n*   0042BS\n*   0086EL\n*   009EOE\n*   00G5L1\n\nDo you need more examples, or is there something else I can help you with regarding suppliers or other data in the database?"
     },
     "metadata": {},
     "output_type": "display_data"
    }
   ],
   "execution_count": 61
  },
  {
   "cell_type": "code",
   "metadata": {
    "colab": {
     "base_uri": "https://localhost:8080/",
     "height": 895
    },
    "id": "Hbx7-67HmOHl",
    "outputId": "406e650e-ea5f-4d06-8fc9-46bb8af2ea6a",
    "tags": [],
    "ExecuteTime": {
     "end_time": "2025-04-21T01:39:11.483586Z",
     "start_time": "2025-04-21T01:38:52.252682Z"
    }
   },
   "source": [
    "res = await run_prompt('What products and components depend on supplier YP8UYT? use your research tools, not the DB')\n",
    "print(\"\\n\\n\\n\\nFinal Response:\")\n",
    "display(Markdown(res))"
   ],
   "outputs": [
    {
     "name": "stdout",
     "output_type": "stream",
     "text": [
      "I understand you are looking for information about products and components related to supplier 'YP8UYT' using external research tools. As I mentioned before, my expertise lies in querying the Neo4j graph database.\n",
      "\n",
      "To get the information using research tools, I need to transfer you to the `bom_supplier_research_agent`.\n",
      "\n",
      " None None\n",
      "None id='adk-058769a7-ec71-4612-b071-d5906bad9ba7' args={'agent_name': 'bom_supplier_research_agent'} name='transfer_to_agent' None\n",
      "None None id='adk-058769a7-ec71-4612-b071-d5906bad9ba7' name='transfer_to_agent' response={}\n",
      "Okay, I can use my research tools to find the products and components that depend on supplier YP8UYT (code: YP8UYT).\n",
      "\n",
      " None None\n",
      "None id='adk-4fc13a39-6bf8-4912-9d78-2ce5f3b23b38' args={'supplier_code': 'YP8UYT'} name='get_all_product_dependencies_on_supplier' None\n",
      "None None id='adk-4fc13a39-6bf8-4912-9d78-2ce5f3b23b38' name='get_all_product_dependencies_on_supplier' response={'result': [{'sku_id': '28823459-05', 'type': 'PRODUCT', 'supplyChainDependencies': ['28823459-05(PRODUCT) <- 28710197(COMPONENT) <- YP8UYT(Tier1)']}, {'sku_id': '28795255-03', 'type': 'PRODUCT', 'supplyChainDependencies': ['28795255-03(PRODUCT) <- 28710197(COMPONENT) <- YP8UYT(Tier1)']}, {'sku_id': '28815273-05', 'type': 'PRODUCT', 'supplyChainDependencies': ['28815273-05(PRODUCT) <- 28710197(COMPONENT) <- YP8UYT(Tier1)']}, {'sku_id': 'DED510040430-01', 'type': 'PRODUCT', 'supplyChainDependencies': ['DED510040430-01(PRODUCT) <- DED9021006200(COMPONENT) <- YP8UYT(Tier1)', 'DED510040430-01(PRODUCT) <- DED9230001530(COMPONENT) <- YP8UYT(Tier1)']}, {'sku_id': 'DED510040420-01', 'type': 'PRODUCT', 'supplyChainDependencies': ['DED510040420-01(PRODUCT) <- DED9021006200(COMPONENT) <- YP8UYT(Tier1)', 'DED510040420-01(PRODUCT) <- DED9230001530(COMPONENT) <- YP8UYT(Tier1)']}, {'sku_id': 'DED510040100-02', 'type': 'PRODUCT', 'supplyChainDependencies': ['DED510040100-02(PRODUCT) <- DED9021006200(COMPONENT) <- YP8UYT(Tier1)', 'DED510040100-02(PRODUCT) <- DED9230001530(COMPONENT) <- YP8UYT(Tier1)']}, {'sku_id': 'DED510040101-01', 'type': 'PRODUCT', 'supplyChainDependencies': ['DED510040101-01(PRODUCT) <- DED9021006200(COMPONENT) <- YP8UYT(Tier1)', 'DED510040101-01(PRODUCT) <- DED9230001530(COMPONENT) <- YP8UYT(Tier1)']}, {'sku_id': 'DED510040181-01', 'type': 'PRODUCT', 'supplyChainDependencies': ['DED510040181-01(PRODUCT) <- DED9021006200(COMPONENT) <- YP8UYT(Tier1)', 'DED510040181-01(PRODUCT) <- DED9230001530(COMPONENT) <- YP8UYT(Tier1)']}, {'sku_id': 'DED510040201-01', 'type': 'PRODUCT', 'supplyChainDependencies': ['DED510040201-01(PRODUCT) <- DED9021006200(COMPONENT) <- YP8UYT(Tier1)', 'DED510040201-01(PRODUCT) <- DED9230001530(COMPONENT) <- YP8UYT(Tier1)']}, {'sku_id': 'DED510040191-01', 'type': 'PRODUCT', 'supplyChainDependencies': ['DED510040191-01(PRODUCT) <- DED9021006200(COMPONENT) <- YP8UYT(Tier1)', 'DED510040191-01(PRODUCT) <- DED9230001530(COMPONENT) <- YP8UYT(Tier1)']}, {'sku_id': 'DED510040410-01', 'type': 'PRODUCT', 'supplyChainDependencies': ['DED510040410-01(PRODUCT) <- DED9021006200(COMPONENT) <- YP8UYT(Tier1)', 'DED510040410-01(PRODUCT) <- DED9230001530(COMPONENT) <- YP8UYT(Tier1)']}, {'sku_id': '28652901-01', 'type': 'PRODUCT', 'supplyChainDependencies': ['28652901-01(PRODUCT) <- 28443180(COMPONENT) <- YP8UYT(Tier1)']}, {'sku_id': '28625151-01', 'type': 'PRODUCT', 'supplyChainDependencies': ['28625151-01(PRODUCT) <- 28469393(COMPONENT) <- YP8UYT(Tier1)']}, {'sku_id': '28641132-04', 'type': 'PRODUCT', 'supplyChainDependencies': ['28641132-04(PRODUCT) <- 28469393(COMPONENT) <- YP8UYT(Tier1)']}, {'sku_id': '28719719-01', 'type': 'PRODUCT', 'supplyChainDependencies': ['28719719-01(PRODUCT) <- 28469393(COMPONENT) <- YP8UYT(Tier1)']}, {'sku_id': '28762382-01', 'type': 'PRODUCT', 'supplyChainDependencies': ['28762382-01(PRODUCT) <- 28469393(COMPONENT) <- YP8UYT(Tier1)']}, {'sku_id': '28595023-01', 'type': 'PRODUCT', 'supplyChainDependencies': ['28595023-01(PRODUCT) <- 28469393(COMPONENT) <- YP8UYT(Tier1)']}, {'sku_id': '28799341-09', 'type': 'PRODUCT', 'supplyChainDependencies': ['28799341-09(PRODUCT) <- 28469393(COMPONENT) <- YP8UYT(Tier1)']}, {'sku_id': '28809494-03', 'type': 'PRODUCT', 'supplyChainDependencies': ['28809494-03(PRODUCT) <- 28469393(COMPONENT) <- YP8UYT(Tier1)']}, {'sku_id': '28820084-01', 'type': 'PRODUCT', 'supplyChainDependencies': ['28820084-01(PRODUCT) <- 28469393(COMPONENT) <- YP8UYT(Tier1)']}, {'sku_id': '28034097-01', 'type': 'PRODUCT', 'supplyChainDependencies': ['28034097-01(PRODUCT) <- DED9230001530(COMPONENT) <- YP8UYT(Tier1)']}, {'sku_id': '28284179-01', 'type': 'PRODUCT', 'supplyChainDependencies': ['28284179-01(PRODUCT) <- DED9230001530(COMPONENT) <- YP8UYT(Tier1)']}, {'sku_id': '28000051-01', 'type': 'PRODUCT', 'supplyChainDependencies': ['28000051-01(PRODUCT) <- DED9230001530(COMPONENT) <- YP8UYT(Tier1)']}, {'sku_id': 'DED510040010-01', 'type': 'PRODUCT', 'supplyChainDependencies': ['DED510040010-01(PRODUCT) <- DED9230001530(COMPONENT) <- YP8UYT(Tier1)']}, {'sku_id': 'DED510040110-01', 'type': 'PRODUCT', 'supplyChainDependencies': ['DED510040110-01(PRODUCT) <- DED9230001530(COMPONENT) <- YP8UYT(Tier1)']}, {'sku_id': 'DED510040030-01', 'type': 'PRODUCT', 'supplyChainDependencies': ['DED510040030-01(PRODUCT) <- DED9230001530(COMPONENT) <- YP8UYT(Tier1)']}, {'sku_id': 'DED510040020-01', 'type': 'PRODUCT', 'supplyChainDependencies': ['DED510040020-01(PRODUCT) <- DED9230001530(COMPONENT) <- YP8UYT(Tier1)']}, {'sku_id': 'DED510040111-02', 'type': 'PRODUCT', 'supplyChainDependencies': ['DED510040111-02(PRODUCT) <- DED9230001530(COMPONENT) <- YP8UYT(Tier1)']}]}\n",
      "Okay, I have researched the dependencies for supplier YP8UYT (code: YP8UYT) using my tools. Here are the products that rely on components from this supplier, along with the specific dependency chains:\n",
      "\n",
      "| Product SKU       | Dependency Chain                                                        |\n",
      "| :---------------- | :---------------------------------------------------------------------- |\n",
      "| 28823459-05       | 28823459-05(PRODUCT) <- 28710197(COMPONENT) <- YP8UYT(Tier1)            |\n",
      "| 28795255-03       | 28795255-03(PRODUCT) <- 28710197(COMPONENT) <- YP8UYT(Tier1)            |\n",
      "| 28815273-05       | 28815273-05(PRODUCT) <- 28710197(COMPONENT) <- YP8UYT(Tier1)            |\n",
      "| DED510040430-01   | DED510040430-01(PRODUCT) <- DED9021006200(COMPONENT) <- YP8UYT(Tier1)   |\n",
      "| DED510040430-01   | DED510040430-01(PRODUCT) <- DED9230001530(COMPONENT) <- YP8UYT(Tier1)   |\n",
      "| DED510040420-01   | DED510040420-01(PRODUCT) <- DED9021006200(COMPONENT) <- YP8UYT(Tier1)   |\n",
      "| DED510040420-01   | DED510040420-01(PRODUCT) <- DED9230001530(COMPONENT) <- YP8UYT(Tier1)   |\n",
      "| DED510040100-02   | DED510040100-02(PRODUCT) <- DED9021006200(COMPONENT) <- YP8UYT(Tier1)   |\n",
      "| DED510040100-02   | DED510040100-02(PRODUCT) <- DED9230001530(COMPONENT) <- YP8UYT(Tier1)   |\n",
      "| DED510040101-01   | DED510040101-01(PRODUCT) <- DED9021006200(COMPONENT) <- YP8UYT(Tier1)   |\n",
      "| DED510040101-01   | DED510040101-01(PRODUCT) <- DED9230001530(COMPONENT) <- YP8UYT(Tier1)   |\n",
      "| DED510040181-01   | DED510040181-01(PRODUCT) <- DED9021006200(COMPONENT) <- YP8UYT(Tier1)   |\n",
      "| DED510040181-01   | DED510040181-01(PRODUCT) <- DED9230001530(COMPONENT) <- YP8UYT(Tier1)   |\n",
      "| DED510040201-01   | DED510040201-01(PRODUCT) <- DED9021006200(COMPONENT) <- YP8UYT(Tier1)   |\n",
      "| DED510040201-01   | DED510040201-01(PRODUCT) <- DED9230001530(COMPONENT) <- YP8UYT(Tier1)   |\n",
      "| DED510040191-01   | DED510040191-01(PRODUCT) <- DED9021006200(COMPONENT) <- YP8UYT(Tier1)   |\n",
      "| DED510040191-01   | DED510040191-01(PRODUCT) <- DED9230001530(COMPONENT) <- YP8UYT(Tier1)   |\n",
      "| DED510040410-01   | DED510040410-01(PRODUCT) <- DED9021006200(COMPONENT) <- YP8UYT(Tier1)   |\n",
      "| DED510040410-01   | DED510040410-01(PRODUCT) <- DED9230001530(COMPONENT) <- YP8UYT(Tier1)   |\n",
      "| 28652901-01       | 28652901-01(PRODUCT) <- 28443180(COMPONENT) <- YP8UYT(Tier1)            |\n",
      "| 28625151-01       | 28625151-01(PRODUCT) <- 28469393(COMPONENT) <- YP8UYT(Tier1)            |\n",
      "| 28641132-04       | 28641132-04(PRODUCT) <- 28469393(COMPONENT) <- YP8UYT(Tier1)            |\n",
      "| 28719719-01       | 28719719-01(PRODUCT) <- 28469393(COMPONENT) <- YP8UYT(Tier1)            |\n",
      "| 28762382-01       | 28762382-01(PRODUCT) <- 28469393(COMPONENT) <- YP8UYT(Tier1)            |\n",
      "| 28595023-01       | 28595023-01(PRODUCT) <- 28469393(COMPONENT) <- YP8UYT(Tier1)            |\n",
      "| 28799341-09       | 28799341-09(PRODUCT) <- 28469393(COMPONENT) <- YP8UYT(Tier1)            |\n",
      "| 28809494-03       | 28809494-03(PRODUCT) <- 28469393(COMPONENT) <- YP8UYT(Tier1)            |\n",
      "| 28820084-01       | 28820084-01(PRODUCT) <- 28469393(COMPONENT) <- YP8UYT(Tier1)            |\n",
      "| 28034097-01       | 28034097-01(PRODUCT) <- DED9230001530(COMPONENT) <- YP8UYT(Tier1)       |\n",
      "| 28284179-01       | 28284179-01(PRODUCT) <- DED9230001530(COMPONENT) <- YP8UYT(Tier1)       |\n",
      "| 28000051-01       | 28000051-01(PRODUCT) <- DED9230001530(COMPONENT) <- YP8UYT(Tier1)       |\n",
      "| DED510040010-01   | DED510040010-01(PRODUCT) <- DED9230001530(COMPONENT) <- YP8UYT(Tier1)   |\n",
      "| DED510040110-01   | DED510040110-01(PRODUCT) <- DED9230001530(COMPONENT) <- YP8UYT(Tier1)   |\n",
      "| DED510040030-01   | DED510040030-01(PRODUCT) <- DED9230001530(COMPONENT) <- YP8UYT(Tier1)   |\n",
      "| DED510040020-01   | DED510040020-01(PRODUCT) <- DED9230001530(COMPONENT) <- YP8UYT(Tier1)   |\n",
      "| DED510040111-02   | DED510040111-02(PRODUCT) <- DED9230001530(COMPONENT) <- YP8UYT(Tier1)   |\n",
      "\n",
      "This information identifies the final products and traces their dependency back through specific components (identified by SKU) to the supplier YP8UYT.\n",
      "\n",
      "Let me know if you need further details on these products, components, or potential alternative suppliers. None None\n",
      "\n",
      "\n",
      "\n",
      "\n",
      "Final Response:\n"
     ]
    },
    {
     "data": {
      "text/plain": [
       "<IPython.core.display.Markdown object>"
      ],
      "text/markdown": "Okay, I have researched the dependencies for supplier YP8UYT (code: YP8UYT) using my tools. Here are the products that rely on components from this supplier, along with the specific dependency chains:\n\n| Product SKU       | Dependency Chain                                                        |\n| :---------------- | :---------------------------------------------------------------------- |\n| 28823459-05       | 28823459-05(PRODUCT) <- 28710197(COMPONENT) <- YP8UYT(Tier1)            |\n| 28795255-03       | 28795255-03(PRODUCT) <- 28710197(COMPONENT) <- YP8UYT(Tier1)            |\n| 28815273-05       | 28815273-05(PRODUCT) <- 28710197(COMPONENT) <- YP8UYT(Tier1)            |\n| DED510040430-01   | DED510040430-01(PRODUCT) <- DED9021006200(COMPONENT) <- YP8UYT(Tier1)   |\n| DED510040430-01   | DED510040430-01(PRODUCT) <- DED9230001530(COMPONENT) <- YP8UYT(Tier1)   |\n| DED510040420-01   | DED510040420-01(PRODUCT) <- DED9021006200(COMPONENT) <- YP8UYT(Tier1)   |\n| DED510040420-01   | DED510040420-01(PRODUCT) <- DED9230001530(COMPONENT) <- YP8UYT(Tier1)   |\n| DED510040100-02   | DED510040100-02(PRODUCT) <- DED9021006200(COMPONENT) <- YP8UYT(Tier1)   |\n| DED510040100-02   | DED510040100-02(PRODUCT) <- DED9230001530(COMPONENT) <- YP8UYT(Tier1)   |\n| DED510040101-01   | DED510040101-01(PRODUCT) <- DED9021006200(COMPONENT) <- YP8UYT(Tier1)   |\n| DED510040101-01   | DED510040101-01(PRODUCT) <- DED9230001530(COMPONENT) <- YP8UYT(Tier1)   |\n| DED510040181-01   | DED510040181-01(PRODUCT) <- DED9021006200(COMPONENT) <- YP8UYT(Tier1)   |\n| DED510040181-01   | DED510040181-01(PRODUCT) <- DED9230001530(COMPONENT) <- YP8UYT(Tier1)   |\n| DED510040201-01   | DED510040201-01(PRODUCT) <- DED9021006200(COMPONENT) <- YP8UYT(Tier1)   |\n| DED510040201-01   | DED510040201-01(PRODUCT) <- DED9230001530(COMPONENT) <- YP8UYT(Tier1)   |\n| DED510040191-01   | DED510040191-01(PRODUCT) <- DED9021006200(COMPONENT) <- YP8UYT(Tier1)   |\n| DED510040191-01   | DED510040191-01(PRODUCT) <- DED9230001530(COMPONENT) <- YP8UYT(Tier1)   |\n| DED510040410-01   | DED510040410-01(PRODUCT) <- DED9021006200(COMPONENT) <- YP8UYT(Tier1)   |\n| DED510040410-01   | DED510040410-01(PRODUCT) <- DED9230001530(COMPONENT) <- YP8UYT(Tier1)   |\n| 28652901-01       | 28652901-01(PRODUCT) <- 28443180(COMPONENT) <- YP8UYT(Tier1)            |\n| 28625151-01       | 28625151-01(PRODUCT) <- 28469393(COMPONENT) <- YP8UYT(Tier1)            |\n| 28641132-04       | 28641132-04(PRODUCT) <- 28469393(COMPONENT) <- YP8UYT(Tier1)            |\n| 28719719-01       | 28719719-01(PRODUCT) <- 28469393(COMPONENT) <- YP8UYT(Tier1)            |\n| 28762382-01       | 28762382-01(PRODUCT) <- 28469393(COMPONENT) <- YP8UYT(Tier1)            |\n| 28595023-01       | 28595023-01(PRODUCT) <- 28469393(COMPONENT) <- YP8UYT(Tier1)            |\n| 28799341-09       | 28799341-09(PRODUCT) <- 28469393(COMPONENT) <- YP8UYT(Tier1)            |\n| 28809494-03       | 28809494-03(PRODUCT) <- 28469393(COMPONENT) <- YP8UYT(Tier1)            |\n| 28820084-01       | 28820084-01(PRODUCT) <- 28469393(COMPONENT) <- YP8UYT(Tier1)            |\n| 28034097-01       | 28034097-01(PRODUCT) <- DED9230001530(COMPONENT) <- YP8UYT(Tier1)       |\n| 28284179-01       | 28284179-01(PRODUCT) <- DED9230001530(COMPONENT) <- YP8UYT(Tier1)       |\n| 28000051-01       | 28000051-01(PRODUCT) <- DED9230001530(COMPONENT) <- YP8UYT(Tier1)       |\n| DED510040010-01   | DED510040010-01(PRODUCT) <- DED9230001530(COMPONENT) <- YP8UYT(Tier1)   |\n| DED510040110-01   | DED510040110-01(PRODUCT) <- DED9230001530(COMPONENT) <- YP8UYT(Tier1)   |\n| DED510040030-01   | DED510040030-01(PRODUCT) <- DED9230001530(COMPONENT) <- YP8UYT(Tier1)   |\n| DED510040020-01   | DED510040020-01(PRODUCT) <- DED9230001530(COMPONENT) <- YP8UYT(Tier1)   |\n| DED510040111-02   | DED510040111-02(PRODUCT) <- DED9230001530(COMPONENT) <- YP8UYT(Tier1)   |\n\nThis information identifies the final products and traces their dependency back through specific components (identified by SKU) to the supplier YP8UYT.\n\nLet me know if you need further details on these products, components, or potential alternative suppliers."
     },
     "metadata": {},
     "output_type": "display_data"
    }
   ],
   "execution_count": 62
  },
  {
   "cell_type": "code",
   "metadata": {
    "colab": {
     "base_uri": "https://localhost:8080/"
    },
    "id": "jJE6qNni2qDH",
    "outputId": "7ca31d7c-0faa-4153-82cb-53a641fbf06b",
    "ExecuteTime": {
     "end_time": "2025-04-21T01:40:04.379530Z",
     "start_time": "2025-04-21T01:40:04.374641Z"
    }
   },
   "source": [
    "runner.session_service.list_sessions(app_name=APP_NAME, user_id=USER_ID)"
   ],
   "outputs": [
    {
     "data": {
      "text/plain": [
       "ListSessionsResponse(sessions=[Session(id='6bb051de-50d7-4739-ac26-be45b6ed51c4', app_name='BOM & Supplier Analyst', user_id='Zach Blumenfeld', state={}, events=[], last_update_time=1745199538.265297)])"
      ]
     },
     "execution_count": 63,
     "metadata": {},
     "output_type": "execute_result"
    }
   ],
   "execution_count": 63
  },
  {
   "cell_type": "code",
   "metadata": {
    "colab": {
     "base_uri": "https://localhost:8080/"
    },
    "id": "bsutZ5xe2TxK",
    "outputId": "5cb66b09-9a28-4d36-b00a-0d8fd33044b1",
    "ExecuteTime": {
     "end_time": "2025-04-21T01:40:08.618937Z",
     "start_time": "2025-04-21T01:40:08.615260Z"
    }
   },
   "source": [
    "for session in runner.session_service.list_sessions(app_name=APP_NAME, user_id=USER_ID).sessions:\n",
    "  print(session.model_dump())"
   ],
   "outputs": [
    {
     "name": "stdout",
     "output_type": "stream",
     "text": [
      "{'id': '6bb051de-50d7-4739-ac26-be45b6ed51c4', 'app_name': 'BOM & Supplier Analyst', 'user_id': 'Zach Blumenfeld', 'state': {}, 'events': [], 'last_update_time': 1745199538.265297}\n"
     ]
    }
   ],
   "execution_count": 64
  },
  {
   "cell_type": "code",
   "metadata": {
    "colab": {
     "base_uri": "https://localhost:8080/",
     "height": 198
    },
    "id": "1LBAZrGX7cQa",
    "outputId": "2f58cc04-952a-4023-c818-737df992b8d9",
    "ExecuteTime": {
     "end_time": "2025-04-21T01:41:42.443479Z",
     "start_time": "2025-04-21T01:41:42.441685Z"
    }
   },
   "source": [
    "result = await run_prompt(\"Summarize the results of the previous research questions\")\n",
    "print(\"\\n\\n\\n\\nFinal Response:\")\n",
    "display(Markdown(result))"
   ],
   "outputs": [],
   "execution_count": 67
  },
  {
   "cell_type": "code",
   "metadata": {
    "colab": {
     "base_uri": "https://localhost:8080/"
    },
    "id": "2DWthTncLmtm",
    "outputId": "e619ee13-cf4f-44c5-a273-a78905f05776",
    "ExecuteTime": {
     "end_time": "2025-04-21T01:41:31.820235Z",
     "start_time": "2025-04-21T01:41:31.814768Z"
    }
   },
   "source": [
    "for session in runner.session_service.list_sessions(app_name=APP_NAME, user_id=USER_ID).sessions:\n",
    "  print(f\"Deleting session {session}\")\n",
    "  runner.session_service.delete_session(app_name=APP_NAME, user_id=USER_ID, session_id=session.id)"
   ],
   "outputs": [
    {
     "name": "stdout",
     "output_type": "stream",
     "text": [
      "Deleting session id='6bb051de-50d7-4739-ac26-be45b6ed51c4' app_name='BOM & Supplier Analyst' user_id='Zach Blumenfeld' state={} events=[] last_update_time=1745199634.542561\n"
     ]
    }
   ],
   "execution_count": 66
  }
 ],
 "metadata": {
  "colab": {
   "provenance": []
  },
  "environment": {
   "kernel": "conda-base-py",
   "name": "workbench-notebooks.m129",
   "type": "gcloud",
   "uri": "us-docker.pkg.dev/deeplearning-platform-release/gcr.io/workbench-notebooks:m129"
  },
  "kernelspec": {
   "display_name": "Python 3 (ipykernel)",
   "language": "python",
   "name": "python3"
  },
  "language_info": {
   "codemirror_mode": {
    "name": "ipython",
    "version": 3
   },
   "file_extension": ".py",
   "mimetype": "text/x-python",
   "name": "python",
   "nbconvert_exporter": "python",
   "pygments_lexer": "ipython3",
   "version": "3.10.16"
  }
 },
 "nbformat": 4,
 "nbformat_minor": 4
}
