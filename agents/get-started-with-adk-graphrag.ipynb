{
 "cells": [
  {
   "cell_type": "markdown",
   "metadata": {
    "id": "3OqG2k_o_zmb"
   },
   "source": [
    "# Getting Started with the Agent Development Kit (ADK) with Neo4j\n",
    "\n",
    "This notebook shows how to use the Vertex AI Agent Framework to setup a multi-agent system integrating Neo4j.\n",
    "\n",
    "The Vertex AI ADK is a python-based SDK that empowers developers to build multi-agent applications with custom logic, tools, and integrations.\n",
    "\n",
    "In this notebook you will learn how to do the following:\n",
    "\n",
    "*  Install Agent Development Kit\n",
    "*  Define functions as tools\n",
    "*  Define a database and analyst agent\n",
    "*  Create a \"Bom & Supplier Research\" Multi-Agent\n",
    "\n",
    "\n",
    "## Learn more about Neo4j\n",
    "\n",
    "* https://neo4j.com/genai\n",
    "* https://neo4j.com/developer\n",
    "* https://graphrag.com\n",
    "* https://neo4j.com/labs/genai-ecosystem\n",
    "* [Neo4j and MCP Toolbox](https://neo4j.com/blog/developer/ai-agents-gen-ai-toolbox/)\n",
    "\n",
    "## Learn more about the ADK\n",
    "\n",
    "* [Launch Blog](https://cloud.google.com/blog/products/ai-machine-learning/build-and-manage-multi-system-agents-with-vertex-ai)\n",
    "* [Developer Blog](https://developers.googleblog.com/en/agent-development-kit-easy-to-build-multi-agent-applications/)\n",
    "* https://pypi.org/project/google-adk/\n",
    "* https://google.github.io/adk-docs/\n",
    "* https://github.com/google/adk-samples/\n",
    "* [LLM Agents](https://google.github.io/adk-docs/agents/llm-agents/#putting-it-together-example)\n",
    "* [Deploy to Agent Engine](https://google.github.io/adk-docs/deploy/agent-engine/)"
   ]
  },
  {
   "cell_type": "markdown",
   "metadata": {},
   "source": [
    "## Use Case Focus For Our Agent\n",
    "- __Summarize BOM Trees & Dependencies for Product:__ Can you summarize the BOM and potential country dependencies for product `<sku_id>`?\n",
    "- __Find Dependant Products:__ What products depend on `<country>` for `<material>`?\n",
    "- __Supplier Substitution:__ Supplier `<code>` is out of operation. I need to source alternatives.  Can you help?\n"
   ]
  },
  {
   "cell_type": "markdown",
   "metadata": {
    "id": "E29jokLY8VRH"
   },
   "source": "# Install the Agent Development Kit"
  },
  {
   "cell_type": "code",
   "metadata": {
    "id": "RNrh4GXq8bVn",
    "scrolled": true,
    "tags": []
   },
   "source": [
    "#%pip install --upgrade google-cloud-aiplatform[adk,agent_engines] neo4j-rust-ext python-dotenv"
   ],
   "outputs": [],
   "execution_count": null
  },
  {
   "metadata": {},
   "cell_type": "markdown",
   "source": "# Load Env Variables"
  },
  {
   "metadata": {
    "id": "chT-5K9yrrW9",
    "tags": [],
    "ExecuteTime": {
     "end_time": "2025-05-29T12:43:24.124288Z",
     "start_time": "2025-05-29T12:43:14.048093Z"
    }
   },
   "cell_type": "code",
   "outputs": [],
   "execution_count": 17,
   "source": [
    "# from google.colab import auth\n",
    "# auth.authenticate_user()\n",
    "!gcloud auth application-default login > /dev/null 2>&1"
   ]
  },
  {
   "cell_type": "code",
   "metadata": {
    "ExecuteTime": {
     "end_time": "2025-05-29T12:43:32.719202Z",
     "start_time": "2025-05-29T12:43:32.699835Z"
    }
   },
   "source": [
    "from dotenv import load_dotenv\n",
    "import getpass\n",
    "import os\n",
    "\n",
    "load_dotenv('nb.env', override=True)\n",
    "\n",
    "if not os.environ.get('NEO4J_URI'):\n",
    "    os.environ['NEO4J_URI'] = getpass.getpass('NEO4J_URI:\\n')\n",
    "if not os.environ.get('NEO4J_USERNAME'):\n",
    "    os.environ['NEO4J_USERNAME'] = getpass.getpass('NEO4J_USERNAME:\\n')\n",
    "if not os.environ.get('NEO4J_PASSWORD'):\n",
    "    os.environ['NEO4J_PASSWORD'] = getpass.getpass('NEO4J_PASSWORD:\\n')\n",
    "\n",
    "NEO4J_URI = os.getenv('NEO4J_URI')\n",
    "NEO4J_USERNAME = os.getenv('NEO4J_USERNAME')\n",
    "NEO4J_PASSWORD = os.getenv('NEO4J_PASSWORD')"
   ],
   "outputs": [],
   "execution_count": 18
  },
  {
   "metadata": {
    "id": "osm6MztSEX2y"
   },
   "cell_type": "markdown",
   "source": [
    "# Developer API or Vertex AI\n",
    "\n",
    "The ADK supports two APIs:\n",
    "\n",
    "* Google Gemini API (AI Studio)\n",
    "* Vertex AI Gemini API."
   ]
  },
  {
   "cell_type": "code",
   "metadata": {
    "id": "va9nPjT186Xm",
    "tags": [],
    "ExecuteTime": {
     "end_time": "2025-05-29T12:43:35.377976Z",
     "start_time": "2025-05-29T12:43:35.375953Z"
    }
   },
   "source": [
    "# Only run this block for ML Developer API. Use your own API key.\n",
    "import os\n",
    "\n",
    "GOOGLE_API_KEY = os.environ.get('GOOGLE_API_KEY')\n",
    "os.environ[\"GOOGLE_GENAI_USE_VERTEXAI\"] = \"0\"\n"
   ],
   "outputs": [],
   "execution_count": 19
  },
  {
   "metadata": {
    "id": "aCLvbsLp89o7",
    "tags": []
   },
   "cell_type": "code",
   "outputs": [],
   "execution_count": null,
   "source": [
    "# Only run this block for Vertex AI API Use your own project / location.\n",
    "# import os\n",
    "#\n",
    "# GOOGLE_CLOUD_PROJECT = \"neo4jeventdemos\" #@param {type:\"string\"}\n",
    "#\n",
    "# os.environ[\"GOOGLE_GENAI_USE_VERTEXAI\"] = \"1\"\n",
    "# os.environ[\"GOOGLE_CLOUD_PROJECT\"] = GOOGLE_CLOUD_PROJECT\n",
    "# os.environ[\"GOOGLE_CLOUD_LOCATION\"] = \"us-central1\""
   ]
  },
  {
   "metadata": {
    "id": "sRtCKjAlhrEs",
    "tags": [],
    "ExecuteTime": {
     "end_time": "2025-05-29T12:43:37.981711Z",
     "start_time": "2025-05-29T12:43:37.970275Z"
    }
   },
   "cell_type": "code",
   "source": [
    "import logging\n",
    "\n",
    "logger = logging.getLogger('agent_neo4j_cypher')\n",
    "logger.info(\"Initializing Database for tools\")\n",
    "\n",
    "import logging\n",
    "\n",
    "logging.getLogger(\"neo4j\").setLevel(logging.ERROR)\n",
    "logging.getLogger(\"google_genai\").setLevel(logging.ERROR)\n",
    "\n",
    "import warnings\n",
    "warnings.filterwarnings(\"ignore\", category=UserWarning, module=\"google_genai.types\")\n",
    "warnings.filterwarnings(\"ignore\", category=UserWarning, module=\"neo4j.notifications\")\n"
   ],
   "outputs": [],
   "execution_count": 20
  },
  {
   "metadata": {},
   "cell_type": "markdown",
   "source": [
    "# Graph Database Agent with `mcp-neo4j-cypher`\n",
    "__Agent to answer simple database questions Using `neo4j-cypher` Model Context Protocol (MCP) Server for natural language queries.__\n",
    "\n",
    "An AI agent reasons, plans, and takes actions.\n",
    "\n",
    "The agent takes actions via access to **tools**, deciding how and when to invoke a tool. The agent also manages orchestration, creating a plan for answering a user query and adapting to responses that aren't quite correct.\n",
    "\n",
    "Agent **tools** can be Python functions or MCP servers, in this case it is MCP.\n",
    "\n",
    "## Creating the Database Agent\n",
    "\n",
    "* display name\n",
    "* instructions - detailed, making it clear exactly how the agent should behave and which tools to use when\n",
    "* tools"
   ]
  },
  {
   "metadata": {
    "ExecuteTime": {
     "end_time": "2025-05-29T12:43:40.457049Z",
     "start_time": "2025-05-29T12:43:40.447625Z"
    }
   },
   "cell_type": "code",
   "source": [
    "from google.adk.models.lite_llm import LiteLlm\n",
    "from google.adk.agents import Agent\n",
    "from google.adk.tools.mcp_tool.mcp_toolset import MCPToolset, StdioServerParameters\n",
    "\n",
    "database_agent = Agent(\n",
    "    name=\"graph_database_agent\",\n",
    "    # model=\"gemini-2.0-flash-exp\",\n",
    "    # model=LiteLlm(model=\"openai/gpt-4o\"),\n",
    "    model=LiteLlm(model=\"anthropic/claude-sonnet-4-20250514\"),\n",
    "    description=\"\"\"\n",
    "    Agent to access knowledge graph stored in graph database\n",
    "    \"\"\",\n",
    "    instruction=\"\"\"\n",
    "      You are an Neo4j graph database and Cypher query expert, that must use the database schema with a user question and repeatedly generate valid cypher statements\n",
    "      to execute on the database and answer the user's questions in a friendly manner in natural language. You can also directly return a graph schema when requested.\n",
    "\n",
    "      For generating queries:\n",
    "      If in doubt the database schema is always prioritized when it comes to nodes-types (labels) or relationship-types or property names, never take the user's input at face value.\n",
    "      If the user requests also render tables, charts or other artifacts with the query results.\n",
    "      Always validate the correct node-labels at the end of a relationship based on the schema.\n",
    "\n",
    "      If a query fails or doesn't return data, use the error response 3 times to try to fix the generated query and re-run it, don't return the error to the user.\n",
    "      If you cannot fix the query, explain the issue to the user and apologize.\n",
    "\n",
    "      Fetch the graph database schema first and keep it in session memory to access later for query generation.\n",
    "      Keep results of previous executions in session memory and access if needed, for instance ids or other attributes of nodes to find them again\n",
    "      removing the need to ask the user. This also allows for generating shorter, more focused and less error-prone queries\n",
    "      to for drill downs, sequences and loops.\n",
    "      If possible resolve names to primary keys or ids and use those for looking up entities.\n",
    "      The schema always indicates *outgoing* relationship-types from an entity to another entity, the graph patterns read like english language.\n",
    "      `company has supplier` would be the pattern `(o:Organization)-[:HAS_SUPPLIER]->(s:Organization)`\n",
    "\n",
    "      To get the schema of a database use the `get_schema` tool without parameters. Store the response of the schema tool in session context\n",
    "      to access later for query generation.\n",
    "\n",
    "      To answer a user question generate one or more Cypher statements based on the database schema and the parts of the user question.\n",
    "      If necessary resolve categorical attributes (like names, countries, industries, publications) first by retrieving them for a set of entities to translate from the user's request.\n",
    "      Use the `read_neo4j_cypher` tool repeatedly with the Cypher statements, you MUST generate statements that use named query parameters with `$parameter` style names\n",
    "      and MUST pass them as a second dictionary parameter to the tool, even if empty.\n",
    "      Parameter data can come from the users requests, prior query results or additional lookup queries.\n",
    "      After the data for the question has been sufficiently retrieved, pass the data and control back to the parent agent.\n",
    "    \"\"\",\n",
    "    tools=[MCPToolset(\n",
    "        connection_params=StdioServerParameters(\n",
    "            command='uvx',\n",
    "            args=[\n",
    "                \"mcp-neo4j-cypher\",\n",
    "            ],\n",
    "            env={ k: os.environ[k] for k in [\"NEO4J_URI\",\"NEO4J_USERNAME\",\"NEO4J_PASSWORD\"] }\n",
    "        ),\n",
    "        tool_filter=['get_neo4j_schema','read_neo4j_cypher']\n",
    "    )]\n",
    ")"
   ],
   "outputs": [],
   "execution_count": 21
  },
  {
   "metadata": {
    "ExecuteTime": {
     "end_time": "2025-05-29T12:46:37.921473Z",
     "start_time": "2025-05-29T12:46:37.914683Z"
    }
   },
   "cell_type": "code",
   "source": [
    "from google.adk.runners import InMemoryRunner\n",
    "from google.genai.types import Part, UserContent\n",
    "\n",
    "APP_NAME = 'BOM & Supplier Database Agent'\n",
    "USER_ID = 'Zach Blumenfeld'\n",
    "\n",
    "\n",
    "runner = InMemoryRunner(app_name=APP_NAME, agent=database_agent)\n",
    "\n",
    "session = await runner.session_service.create_session( app_name=runner.app_name, user_id=USER_ID)\n",
    "\n",
    "async def run_prompt(new_message: str):\n",
    "  content = UserContent(parts=[Part(text=new_message)])\n",
    "  result = None\n",
    "  async for event in runner.run_async(user_id=session.user_id, session_id=session.id, new_message=content):\n",
    "    for part in event.content.parts:\n",
    "      print(part.text, part.function_call, part.function_response)\n",
    "      if part.text:\n",
    "        result = part.text\n",
    "  return result"
   ],
   "outputs": [],
   "execution_count": 24
  },
  {
   "metadata": {
    "ExecuteTime": {
     "end_time": "2025-05-29T12:47:29.465419Z",
     "start_time": "2025-05-29T12:46:42.413944Z"
    }
   },
   "cell_type": "code",
   "source": [
    "from IPython.display import Markdown, display\n",
    "\n",
    "res = await run_prompt('What countries does the supply chain depend on?')\n",
    "print(\"\\n\\n\\n\\nFinal Response:\")\n",
    "display(Markdown(res))"
   ],
   "outputs": [
    {
     "name": "stdout",
     "output_type": "stream",
     "text": [
      "I'll help you analyze the supply chain dependencies by country. First, let me get the database schema to understand the structure of the data. None None\n",
      "None id='toolu_01Nm5ayDLa6uaQhcC6PiN15j' args={} name='get_neo4j_schema' None\n",
      "None None will_continue=None scheduling=None id='toolu_01Nm5ayDLa6uaQhcC6PiN15j' name='get_neo4j_schema' response={'result': CallToolResult(meta=None, content=[TextContent(type='text', text='[{\"label\": \"Supplier\", \"attributes\": {\"annual_spend\": \"FLOAT\", \"tier\": \"STRING\", \"sub_type\": \"STRING\", \"code\": \"STRING indexed\"}, \"relationships\": {\"LOCATED_AT\": \"GeoLocation\"}}, {\"label\": \"Item\", \"attributes\": {\"desc_embedding\": \"LIST\", \"description\": \"STRING\", \"family\": \"STRING\", \"is_finished_product\": \"BOOLEAN\", \"name\": \"STRING\", \"sku_id\": \"STRING indexed\"}, \"relationships\": {\"AT\": \"Supplier\", \"BOM\": \"Item\", \"DEPENDS_ON\": \"Country\"}}, {\"label\": \"Customer\", \"attributes\": {\"annual_revenue\": \"FLOAT\", \"code\": \"INTEGER indexed\"}, \"relationships\": {\"LOCATED_AT\": \"GeoLocation\"}}, {\"label\": \"GeoLocation\", \"attributes\": {\"longitude\": \"FLOAT\", \"latitude\": \"FLOAT\", \"geo_point\": \"POINT indexed\"}, \"relationships\": {}}, {\"label\": \"Country\", \"attributes\": {\"name\": \"STRING\", \"code\": \"STRING indexed\"}, \"relationships\": {}}]', annotations=None)], isError=False)}\n",
      "Now I can see the database structure. There are several relevant entities:\n",
      "- **Supplier** nodes with location information\n",
      "- **Item** nodes that can depend on countries\n",
      "- **Country** nodes with names and codes\n",
      "- **GeoLocation** nodes for geographic positioning\n",
      "\n",
      "Let me query to understand the supply chain dependencies by country. I'll start by looking at which countries suppliers are located in and which countries items depend on. None None\n",
      "None id='toolu_01MuvbdWdRyr9DnrZqKhHwgo' args={'query': 'MATCH (s:Supplier)-[:LOCATED_AT]->(geo:GeoLocation)\\nRETURN DISTINCT geo\\nLIMIT 10', 'params': {}} name='read_neo4j_cypher' None\n",
      "None None will_continue=None scheduling=None id='toolu_01MuvbdWdRyr9DnrZqKhHwgo' name='read_neo4j_cypher' response={'result': CallToolResult(meta=None, content=[TextContent(type='text', text='[{\"geo\": {\"latitude\": -89.7258501, \"geo_point\": [-179.84485, -89.7258501], \"longitude\": -179.84485}}, {\"geo\": {\"latitude\": -86.6504901, \"geo_point\": [-179.83836, -86.6504901], \"longitude\": -179.83836}}, {\"geo\": {\"latitude\": -89.810903, \"geo_point\": [-179.77359, -89.810903], \"longitude\": -179.77359}}, {\"geo\": {\"latitude\": -83.93512, \"geo_point\": [-179.61957999999998, -83.93512], \"longitude\": -179.61957999999998}}, {\"geo\": {\"latitude\": -89.90084999999999, \"geo_point\": [-179.44540999999998, -89.90084999999999], \"longitude\": -179.44540999999998}}, {\"geo\": {\"latitude\": -89.3692601, \"geo_point\": [-179.43568, -89.3692601], \"longitude\": -179.43568}}, {\"geo\": {\"latitude\": -88.70166010000001, \"geo_point\": [-179.41681, -88.70166010000001], \"longitude\": -179.41681}}, {\"geo\": {\"latitude\": 89.995762, \"geo_point\": [-179.413891, 89.995762], \"longitude\": -179.413891}}, {\"geo\": {\"latitude\": -88.69592, \"geo_point\": [-179.40462, -88.69592], \"longitude\": -179.40462}}, {\"geo\": {\"latitude\": -88.68861, \"geo_point\": [-179.38194, -88.68861], \"longitude\": -179.38194}}]', annotations=None)], isError=False)}\n",
      "I see that the GeoLocation nodes only contain coordinates. Let me check if there are direct country dependencies for items and also look for any country information in the suppliers. None None\n",
      "None id='toolu_01U1ySLo4FHYK2PJnoxU1P6y' args={'query': 'MATCH (i:Item)-[:DEPENDS_ON]->(c:Country)\\nRETURN c.name as country_name, c.code as country_code, count(i) as dependent_items\\nORDER BY dependent_items DESC', 'params': {}} name='read_neo4j_cypher' None\n",
      "None None will_continue=None scheduling=None id='toolu_01U1ySLo4FHYK2PJnoxU1P6y' name='read_neo4j_cypher' response={'result': CallToolResult(meta=None, content=[TextContent(type='text', text='[{\"country_name\": \"United States of America\", \"country_code\": \"USA\", \"dependent_items\": 118}, {\"country_name\": \"China\", \"country_code\": \"CHN\", \"dependent_items\": 89}, {\"country_name\": \"Australia\", \"country_code\": \"AUS\", \"dependent_items\": 68}, {\"country_name\": \"Brazil\", \"country_code\": \"BRA\", \"dependent_items\": 66}, {\"country_name\": \"Germany\", \"country_code\": \"DEU\", \"dependent_items\": 58}, {\"country_name\": \"India\", \"country_code\": \"IND\", \"dependent_items\": 44}, {\"country_name\": \"Mexico\", \"country_code\": \"MEX\", \"dependent_items\": 42}, {\"country_name\": \"South Africa\", \"country_code\": \"ZAF\", \"dependent_items\": 41}, {\"country_name\": \"Canada\", \"country_code\": \"CAN\", \"dependent_items\": 34}, {\"country_name\": \"Chile\", \"country_code\": \"CHL\", \"dependent_items\": 34}, {\"country_name\": \"Korea, Republic of\", \"country_code\": \"KOR\", \"dependent_items\": 29}, {\"country_name\": \"Taiwan, Province of China\", \"country_code\": \"TWN\", \"dependent_items\": 27}, {\"country_name\": \"Japan\", \"country_code\": \"JPN\", \"dependent_items\": 25}, {\"country_name\": \"Indonesia\", \"country_code\": \"IDN\", \"dependent_items\": 23}, {\"country_name\": \"Viet Nam\", \"country_code\": \"VNM\", \"dependent_items\": 22}, {\"country_name\": \"Peru\", \"country_code\": \"PER\", \"dependent_items\": 21}, {\"country_name\": \"Russian Federation\", \"country_code\": \"RUS\", \"dependent_items\": 15}, {\"country_name\": \"Kazakhstan\", \"country_code\": \"KAZ\", \"dependent_items\": 15}, {\"country_name\": \"Turkey\", \"country_code\": \"TUR\", \"dependent_items\": 13}, {\"country_name\": \"Guinea\", \"country_code\": \"GIN\", \"dependent_items\": 9}, {\"country_name\": \"Malaysia\", \"country_code\": \"MYS\", \"dependent_items\": 8}, {\"country_name\": \"Poland\", \"country_code\": \"POL\", \"dependent_items\": 7}, {\"country_name\": \"Saudi Arabia\", \"country_code\": \"SAU\", \"dependent_items\": 7}, {\"country_name\": \"Sweden\", \"country_code\": \"SWE\", \"dependent_items\": 6}, {\"country_name\": \"Ukraine\", \"country_code\": \"UKR\", \"dependent_items\": 5}, {\"country_name\": \"Philippines\", \"country_code\": \"PHL\", \"dependent_items\": 4}, {\"country_name\": \"Thailand\", \"country_code\": \"THA\", \"dependent_items\": 3}, {\"country_name\": \"Switzerland\", \"country_code\": \"CHE\", \"dependent_items\": 3}, {\"country_name\": \"Italy\", \"country_code\": \"ITA\", \"dependent_items\": 3}, {\"country_name\": \"Norway\", \"country_code\": \"NOR\", \"dependent_items\": 2}, {\"country_name\": \"Colombia\", \"country_code\": \"COL\", \"dependent_items\": 2}, {\"country_name\": \"Zambia\", \"country_code\": \"ZMB\", \"dependent_items\": 2}, {\"country_name\": \"Ireland\", \"country_code\": \"IRL\", \"dependent_items\": 1}, {\"country_name\": \"Iceland\", \"country_code\": \"ISL\", \"dependent_items\": 1}, {\"country_name\": \"Morocco\", \"country_code\": \"MAR\", \"dependent_items\": 1}, {\"country_name\": \"Belgium\", \"country_code\": \"BEL\", \"dependent_items\": 1}, {\"country_name\": \"Egypt\", \"country_code\": \"EGY\", \"dependent_items\": 1}, {\"country_name\": \"Qatar\", \"country_code\": \"QAT\", \"dependent_items\": 1}]', annotations=None)], isError=False)}\n",
      "Excellent! Now let me also check what types of items depend on these countries to get a better understanding of the supply chain dependencies. None None\n",
      "None id='toolu_01GL16SKsuJZgDT3RkRET1iv' args={'query': 'MATCH (i:Item)-[:DEPENDS_ON]->(c:Country)\\nRETURN c.name as country_name, \\n       collect(DISTINCT i.family) as item_families,\\n       count(DISTINCT i.family) as family_count,\\n       count(i) as total_items\\nORDER BY total_items DESC\\nLIMIT 15', 'params': {}} name='read_neo4j_cypher' None\n",
      "None None will_continue=None scheduling=None id='toolu_01GL16SKsuJZgDT3RkRET1iv' name='read_neo4j_cypher' response={'result': CallToolResult(meta=None, content=[TextContent(type='text', text='[{\"country_name\": \"United States of America\", \"item_families\": [\"Bolt\", \"Tubing\", \"RubberSeal\", \"Casting\", \"Rod\", \"RawWire\", \"PrecisionBolt\", \"Fastener\"], \"family_count\": 8, \"total_items\": 118}, {\"country_name\": \"China\", \"item_families\": [\"Fastener\", \"Tubing\", \"Bolt\", \"Casting\", \"RubberSeal\", \"RawWire\", \"Rod\", \"PrecisionBolt\"], \"family_count\": 8, \"total_items\": 89}, {\"country_name\": \"Australia\", \"item_families\": [\"Casting\", \"Tubing\", \"Fastener\", \"RawWire\", \"Bolt\", \"Rod\", \"PrecisionBolt\"], \"family_count\": 7, \"total_items\": 68}, {\"country_name\": \"Brazil\", \"item_families\": [\"RubberSeal\", \"Casting\", \"Tubing\", \"Fastener\", \"Bolt\", \"Rod\", \"RawWire\", \"PrecisionBolt\"], \"family_count\": 8, \"total_items\": 66}, {\"country_name\": \"Germany\", \"item_families\": [\"Bolt\", \"Fastener\", \"RubberSeal\", \"Rod\", \"Tubing\", \"PrecisionBolt\"], \"family_count\": 6, \"total_items\": 58}, {\"country_name\": \"India\", \"item_families\": [\"Fastener\", \"Rod\", \"Bolt\", \"Casting\", \"Tubing\", \"PrecisionBolt\", \"RubberSeal\", \"RawWire\"], \"family_count\": 8, \"total_items\": 44}, {\"country_name\": \"Mexico\", \"item_families\": [\"RubberSeal\", \"RawWire\", \"PrecisionBolt\", \"Casting\", \"Fastener\", \"Tubing\", \"Bolt\", \"Rod\"], \"family_count\": 8, \"total_items\": 42}, {\"country_name\": \"South Africa\", \"item_families\": [\"Casting\", \"Tubing\", \"PrecisionBolt\", \"Bolt\", \"Rod\", \"Fastener\", \"RawWire\"], \"family_count\": 7, \"total_items\": 41}, {\"country_name\": \"Canada\", \"item_families\": [\"Casting\", \"PrecisionBolt\", \"RawWire\", \"Tubing\", \"Fastener\", \"RubberSeal\", \"Rod\", \"Bolt\"], \"family_count\": 8, \"total_items\": 34}, {\"country_name\": \"Chile\", \"item_families\": [\"Casting\", \"RawWire\", \"PrecisionBolt\", \"Bolt\"], \"family_count\": 4, \"total_items\": 34}, {\"country_name\": \"Korea, Republic of\", \"item_families\": [\"RubberSeal\", \"PrecisionBolt\", \"RawWire\", \"Rod\", \"Bolt\", \"Fastener\", \"Tubing\"], \"family_count\": 7, \"total_items\": 29}, {\"country_name\": \"Taiwan, Province of China\", \"item_families\": [\"RubberSeal\", \"Fastener\", \"PrecisionBolt\", \"Bolt\", \"RawWire\", \"Tubing\"], \"family_count\": 6, \"total_items\": 27}, {\"country_name\": \"Japan\", \"item_families\": [\"Tubing\", \"RubberSeal\", \"PrecisionBolt\", \"Bolt\", \"Fastener\", \"Rod\"], \"family_count\": 6, \"total_items\": 25}, {\"country_name\": \"Indonesia\", \"item_families\": [\"Casting\", \"RawWire\", \"PrecisionBolt\", \"Rod\", \"Bolt\", \"Fastener\", \"Tubing\"], \"family_count\": 7, \"total_items\": 23}, {\"country_name\": \"Viet Nam\", \"item_families\": [\"Fastener\", \"RawWire\", \"Bolt\", \"Tubing\", \"RubberSeal\", \"PrecisionBolt\"], \"family_count\": 6, \"total_items\": 22}]', annotations=None)], isError=False)}\n",
      "Let me also check the supplier tier distribution across countries to understand the criticality of dependencies. None None\n",
      "None id='toolu_015xV9rPPb7G8c3u4NzUnaAA' args={'query': 'MATCH (s:Supplier)-[:LOCATED_AT]->(geo:GeoLocation),\\n      (i:Item)-[:AT]->(s),\\n      (i)-[:DEPENDS_ON]->(c:Country)\\nRETURN c.name as country_name,\\n       s.tier as supplier_tier,\\n       count(DISTINCT s) as supplier_count,\\n       count(i) as items_count,\\n       sum(s.annual_spend) as total_annual_spend\\nORDER BY total_annual_spend DESC\\nLIMIT 20', 'params': {}} name='read_neo4j_cypher' None\n",
      "None None will_continue=None scheduling=None id='toolu_015xV9rPPb7G8c3u4NzUnaAA' name='read_neo4j_cypher' response={'result': CallToolResult(meta=None, content=[TextContent(type='text', text='[{\"country_name\": \"United States of America\", \"supplier_tier\": \"Tier5\", \"supplier_count\": 5, \"items_count\": 118, \"total_annual_spend\": NaN}, {\"country_name\": \"United States of America\", \"supplier_tier\": \"Tier4\", \"supplier_count\": 5, \"items_count\": 118, \"total_annual_spend\": NaN}, {\"country_name\": \"Germany\", \"supplier_tier\": \"Tier2\", \"supplier_count\": 5, \"items_count\": 58, \"total_annual_spend\": NaN}, {\"country_name\": \"Germany\", \"supplier_tier\": \"Tier5\", \"supplier_count\": 5, \"items_count\": 58, \"total_annual_spend\": NaN}, {\"country_name\": \"United States of America\", \"supplier_tier\": \"Tier3\", \"supplier_count\": 5, \"items_count\": 118, \"total_annual_spend\": NaN}, {\"country_name\": \"China\", \"supplier_tier\": \"Tier2\", \"supplier_count\": 4, \"items_count\": 90, \"total_annual_spend\": NaN}, {\"country_name\": \"China\", \"supplier_tier\": \"Tier3\", \"supplier_count\": 4, \"items_count\": 90, \"total_annual_spend\": NaN}, {\"country_name\": \"Germany\", \"supplier_tier\": \"Tier4\", \"supplier_count\": 5, \"items_count\": 58, \"total_annual_spend\": NaN}, {\"country_name\": \"China\", \"supplier_tier\": \"Tier5\", \"supplier_count\": 4, \"items_count\": 90, \"total_annual_spend\": NaN}, {\"country_name\": \"China\", \"supplier_tier\": \"Tier6\", \"supplier_count\": 12, \"items_count\": 184, \"total_annual_spend\": NaN}, {\"country_name\": \"Germany\", \"supplier_tier\": \"Tier3\", \"supplier_count\": 5, \"items_count\": 58, \"total_annual_spend\": NaN}, {\"country_name\": \"Germany\", \"supplier_tier\": \"Tier6\", \"supplier_count\": 13, \"items_count\": 116, \"total_annual_spend\": NaN}, {\"country_name\": \"Korea, Republic of\", \"supplier_tier\": \"Tier2\", \"supplier_count\": 4, \"items_count\": 29, \"total_annual_spend\": NaN}, {\"country_name\": \"Korea, Republic of\", \"supplier_tier\": \"Tier3\", \"supplier_count\": 4, \"items_count\": 29, \"total_annual_spend\": NaN}, {\"country_name\": \"Korea, Republic of\", \"supplier_tier\": \"Tier4\", \"supplier_count\": 4, \"items_count\": 29, \"total_annual_spend\": NaN}, {\"country_name\": \"Korea, Republic of\", \"supplier_tier\": \"Tier5\", \"supplier_count\": 4, \"items_count\": 29, \"total_annual_spend\": NaN}, {\"country_name\": \"Korea, Republic of\", \"supplier_tier\": \"Tier6\", \"supplier_count\": 12, \"items_count\": 56, \"total_annual_spend\": NaN}, {\"country_name\": \"China\", \"supplier_tier\": \"Tier4\", \"supplier_count\": 4, \"items_count\": 90, \"total_annual_spend\": NaN}, {\"country_name\": \"United States of America\", \"supplier_tier\": \"Tier2\", \"supplier_count\": 5, \"items_count\": 118, \"total_annual_spend\": NaN}, {\"country_name\": \"United States of America\", \"supplier_tier\": \"Tier6\", \"supplier_count\": 13, \"items_count\": 248, \"total_annual_spend\": NaN}]', annotations=None)], isError=False)}\n",
      "Let me get a clearer picture by summarizing the supplier tier distribution by country. None None\n",
      "None id='toolu_019WveTUR2Yf8R32EsDxvfEr' args={'query': 'MATCH (s:Supplier)-[:LOCATED_AT]->(geo:GeoLocation),\\n      (i:Item)-[:AT]->(s),\\n      (i)-[:DEPENDS_ON]->(c:Country)\\nWITH c.name as country_name, count(DISTINCT s) as total_suppliers, \\n     collect(DISTINCT s.tier) as supplier_tiers,\\n     count(i) as total_items_from_suppliers\\nORDER BY total_items_from_suppliers DESC\\nRETURN country_name, total_suppliers, supplier_tiers, total_items_from_suppliers\\nLIMIT 15', 'params': {}} name='read_neo4j_cypher' None\n",
      "None None will_continue=None scheduling=None id='toolu_019WveTUR2Yf8R32EsDxvfEr' name='read_neo4j_cypher' response={'result': CallToolResult(meta=None, content=[TextContent(type='text', text='[{\"country_name\": \"United States of America\", \"total_suppliers\": 40, \"supplier_tiers\": [\"Tier1\", \"Tier2\", \"Tier3\", \"Tier4\", \"Tier5\", \"Tier6\"], \"total_items_from_suppliers\": 844}, {\"country_name\": \"China\", \"total_suppliers\": 33, \"supplier_tiers\": [\"Tier2\", \"Tier3\", \"Tier4\", \"Tier5\", \"Tier6\", \"Tier1\"], \"total_items_from_suppliers\": 638}, {\"country_name\": \"Australia\", \"total_suppliers\": 40, \"supplier_tiers\": [\"Tier2\", \"Tier3\", \"Tier4\", \"Tier5\", \"Tier6\", \"Tier1\"], \"total_items_from_suppliers\": 492}, {\"country_name\": \"Brazil\", \"total_suppliers\": 40, \"supplier_tiers\": [\"Tier2\", \"Tier3\", \"Tier4\", \"Tier5\", \"Tier6\", \"Tier1\"], \"total_items_from_suppliers\": 478}, {\"country_name\": \"Germany\", \"total_suppliers\": 40, \"supplier_tiers\": [\"Tier1\", \"Tier2\", \"Tier3\", \"Tier4\", \"Tier5\", \"Tier6\"], \"total_items_from_suppliers\": 409}, {\"country_name\": \"India\", \"total_suppliers\": 32, \"supplier_tiers\": [\"Tier2\", \"Tier3\", \"Tier4\", \"Tier5\", \"Tier6\", \"Tier1\"], \"total_items_from_suppliers\": 317}, {\"country_name\": \"Mexico\", \"total_suppliers\": 33, \"supplier_tiers\": [\"Tier1\", \"Tier2\", \"Tier3\", \"Tier4\", \"Tier5\", \"Tier6\"], \"total_items_from_suppliers\": 312}, {\"country_name\": \"South Africa\", \"total_suppliers\": 33, \"supplier_tiers\": [\"Tier1\", \"Tier2\", \"Tier3\", \"Tier4\", \"Tier5\", \"Tier6\"], \"total_items_from_suppliers\": 294}, {\"country_name\": \"Canada\", \"total_suppliers\": 33, \"supplier_tiers\": [\"Tier2\", \"Tier3\", \"Tier4\", \"Tier5\", \"Tier6\", \"Tier1\"], \"total_items_from_suppliers\": 243}, {\"country_name\": \"Chile\", \"total_suppliers\": 32, \"supplier_tiers\": [\"Tier2\", \"Tier3\", \"Tier4\", \"Tier5\", \"Tier6\", \"Tier1\"], \"total_items_from_suppliers\": 241}, {\"country_name\": \"Taiwan, Province of China\", \"total_suppliers\": 33, \"supplier_tiers\": [\"Tier2\", \"Tier3\", \"Tier4\", \"Tier5\", \"Tier6\", \"Tier1\"], \"total_items_from_suppliers\": 205}, {\"country_name\": \"Korea, Republic of\", \"total_suppliers\": 33, \"supplier_tiers\": [\"Tier1\", \"Tier2\", \"Tier3\", \"Tier4\", \"Tier5\", \"Tier6\"], \"total_items_from_suppliers\": 204}, {\"country_name\": \"Japan\", \"total_suppliers\": 34, \"supplier_tiers\": [\"Tier2\", \"Tier3\", \"Tier4\", \"Tier5\", \"Tier6\", \"Tier1\"], \"total_items_from_suppliers\": 179}, {\"country_name\": \"Indonesia\", \"total_suppliers\": 32, \"supplier_tiers\": [\"Tier2\", \"Tier3\", \"Tier4\", \"Tier5\", \"Tier6\", \"Tier1\"], \"total_items_from_suppliers\": 167}, {\"country_name\": \"Viet Nam\", \"total_suppliers\": 30, \"supplier_tiers\": [\"Tier2\", \"Tier3\", \"Tier4\", \"Tier5\", \"Tier6\", \"Tier1\"], \"total_items_from_suppliers\": 157}]', annotations=None)], isError=False)}\n",
      "Based on my analysis of the supply chain data, here's what the supply chain depends on in terms of countries:\n",
      "\n",
      "## Major Supply Chain Dependencies by Country\n",
      "\n",
      "The supply chain has significant dependencies across **38 countries worldwide**, with varying levels of criticality:\n",
      "\n",
      "### **Top Tier Dependencies (High Impact)**\n",
      "\n",
      "1. **United States** - 118 dependent items across 8 product families\n",
      "   - Highest dependency with 40 suppliers across all tiers (Tier1-Tier6)\n",
      "   - Critical for: Bolts, Tubing, Rubber Seals, Castings, Rods, Raw Wire, Precision Bolts, Fasteners\n",
      "\n",
      "2. **China** - 89 dependent items across 8 product families  \n",
      "   - Second highest with 33 suppliers across all tiers\n",
      "   - Critical for: Fasteners, Tubing, Bolts, Castings, Rubber Seals, Raw Wire, Rods, Precision Bolts\n",
      "\n",
      "3. **Australia** - 68 dependent items across 7 product families\n",
      "   - 40 suppliers across all tiers\n",
      "   - Critical for: Castings, Tubing, Fasteners, Raw Wire, Bolts, Rods, Precision Bolts\n",
      "\n",
      "### **Significant Dependencies (Medium-High Impact)**\n",
      "\n",
      "4. **Brazil** - 66 items (8 families, 40 suppliers)\n",
      "5. **Germany** - 58 items (6 families, 40 suppliers) \n",
      "6. **India** - 44 items (8 families, 32 suppliers)\n",
      "7. **Mexico** - 42 items (8 families, 33 suppliers)\n",
      "8. **South Africa** - 41 items (7 families, 33 suppliers)\n",
      "\n",
      "### **Notable Regional Dependencies**\n",
      "\n",
      "- **Asia-Pacific**: Strong dependencies on China, Australia, India, South Korea, Taiwan, Japan, Indonesia, Vietnam, and Malaysia\n",
      "- **Americas**: Major reliance on USA, Brazil, Mexico, Canada, Chile, Peru, and Colombia  \n",
      "- **Europe**: Key dependencies on Germany, Poland, Sweden, Ukraine, Switzerland, Italy, Norway, Ireland, Iceland, and Belgium\n",
      "- **Middle East/Africa**: Dependencies on South Africa, Guinea, Saudi Arabia, Qatar, Morocco, Egypt, and Zambia\n",
      "\n",
      "### **Risk Profile**\n",
      "\n",
      "The supply chain shows:\n",
      "- **Geographic diversity** across 6 continents\n",
      "- **Multi-tier supplier presence** in most major countries (Tier1 through Tier6)\n",
      "- **Product family spread** - most major countries supply multiple product types\n",
      "- **Concentration risk** - Top 3 countries (USA, China, Australia) account for 275 of 897 total dependent items (31%)\n",
      "\n",
      "This analysis reveals a globally distributed but concentrated supply chain with significant dependencies on major industrial economies, particularly in manufacturing-intensive regions. None None\n",
      "\n",
      "\n",
      "\n",
      "\n",
      "Final Response:\n"
     ]
    },
    {
     "data": {
      "text/plain": [
       "<IPython.core.display.Markdown object>"
      ],
      "text/markdown": "Based on my analysis of the supply chain data, here's what the supply chain depends on in terms of countries:\n\n## Major Supply Chain Dependencies by Country\n\nThe supply chain has significant dependencies across **38 countries worldwide**, with varying levels of criticality:\n\n### **Top Tier Dependencies (High Impact)**\n\n1. **United States** - 118 dependent items across 8 product families\n   - Highest dependency with 40 suppliers across all tiers (Tier1-Tier6)\n   - Critical for: Bolts, Tubing, Rubber Seals, Castings, Rods, Raw Wire, Precision Bolts, Fasteners\n\n2. **China** - 89 dependent items across 8 product families  \n   - Second highest with 33 suppliers across all tiers\n   - Critical for: Fasteners, Tubing, Bolts, Castings, Rubber Seals, Raw Wire, Rods, Precision Bolts\n\n3. **Australia** - 68 dependent items across 7 product families\n   - 40 suppliers across all tiers\n   - Critical for: Castings, Tubing, Fasteners, Raw Wire, Bolts, Rods, Precision Bolts\n\n### **Significant Dependencies (Medium-High Impact)**\n\n4. **Brazil** - 66 items (8 families, 40 suppliers)\n5. **Germany** - 58 items (6 families, 40 suppliers) \n6. **India** - 44 items (8 families, 32 suppliers)\n7. **Mexico** - 42 items (8 families, 33 suppliers)\n8. **South Africa** - 41 items (7 families, 33 suppliers)\n\n### **Notable Regional Dependencies**\n\n- **Asia-Pacific**: Strong dependencies on China, Australia, India, South Korea, Taiwan, Japan, Indonesia, Vietnam, and Malaysia\n- **Americas**: Major reliance on USA, Brazil, Mexico, Canada, Chile, Peru, and Colombia  \n- **Europe**: Key dependencies on Germany, Poland, Sweden, Ukraine, Switzerland, Italy, Norway, Ireland, Iceland, and Belgium\n- **Middle East/Africa**: Dependencies on South Africa, Guinea, Saudi Arabia, Qatar, Morocco, Egypt, and Zambia\n\n### **Risk Profile**\n\nThe supply chain shows:\n- **Geographic diversity** across 6 continents\n- **Multi-tier supplier presence** in most major countries (Tier1 through Tier6)\n- **Product family spread** - most major countries supply multiple product types\n- **Concentration risk** - Top 3 countries (USA, China, Australia) account for 275 of 897 total dependent items (31%)\n\nThis analysis reveals a globally distributed but concentrated supply chain with significant dependencies on major industrial economies, particularly in manufacturing-intensive regions."
     },
     "metadata": {},
     "output_type": "display_data"
    }
   ],
   "execution_count": 25
  },
  {
   "metadata": {
    "ExecuteTime": {
     "end_time": "2025-05-29T12:49:27.761482Z",
     "start_time": "2025-05-29T12:49:16.335087Z"
    }
   },
   "cell_type": "code",
   "source": [
    "res = await run_prompt('What families of finished products are there?')\n",
    "print(\"\\n\\n\\n\\nFinal Response:\")\n",
    "display(Markdown(res))"
   ],
   "outputs": [
    {
     "name": "stdout",
     "output_type": "stream",
     "text": [
      "Based on my analysis of the database, here are the **11 families of finished products** available:\n",
      "\n",
      "## Agricultural Equipment (Major Product Lines)\n",
      "\n",
      "### **Core Farm Machinery** - 107,605 total products\n",
      "1. **HayCollector** - 21,671 products\n",
      "   - Equipment for collecting and gathering hay from fields\n",
      "\n",
      "2. **FarmTractor** - 21,521 products  \n",
      "   - Primary agricultural vehicles for pulling/powering other equipment\n",
      "\n",
      "3. **FieldSprayer** - 21,519 products\n",
      "   - Equipment for applying pesticides, herbicides, and fertilizers\n",
      "\n",
      "4. **SeedPlanter** - 21,488 products\n",
      "   - Machinery for planting seeds in prepared soil\n",
      "\n",
      "5. **CropHarvester** - 21,406 products\n",
      "   - Equipment for harvesting mature crops\n",
      "\n",
      "## Subsystems & Components (62 total products)\n",
      "\n",
      "### **Electronic/Control Systems**\n",
      "6. **CabWiringUnit** - 17 products\n",
      "   - Electrical wiring assemblies for equipment cabins\n",
      "\n",
      "7. **ControlAssembly** - 9 products\n",
      "   - Control systems and assemblies for equipment operation\n",
      "\n",
      "### **Mechanical Systems**  \n",
      "8. **MachineRig** - 14 products\n",
      "   - Structural frameworks and rigging systems\n",
      "\n",
      "9. **DrivePlatform** - 10 products\n",
      "   - Drive systems and platforms for equipment mobility\n",
      "\n",
      "10. **ChassisFrame** - 9 products\n",
      "    - Structural chassis and frame components\n",
      "\n",
      "11. **HydraulicSystem** - 3 products\n",
      "    - Hydraulic power and control systems\n",
      "\n",
      "## Product Architecture\n",
      "\n",
      "The finished products show a **hierarchical structure** where:\n",
      "- **Large agricultural machines** (HayCollector, FarmTractor, etc.) are complex assemblies\n",
      "- **Subsystem components** (CabWiringUnit, HydraulicSystem, etc.) are integrated into the larger machines\n",
      "- Products have **multi-level Bill of Materials (BOM)** structures where finished products can contain other finished products as subassemblies\n",
      "\n",
      "This represents a comprehensive agricultural equipment product line focused on **crop production machinery** with supporting **subsystems and components** for complete farming operations from planting through harvest. None None\n",
      "\n",
      "\n",
      "\n",
      "\n",
      "Final Response:\n"
     ]
    },
    {
     "data": {
      "text/plain": [
       "<IPython.core.display.Markdown object>"
      ],
      "text/markdown": "Based on my analysis of the database, here are the **11 families of finished products** available:\n\n## Agricultural Equipment (Major Product Lines)\n\n### **Core Farm Machinery** - 107,605 total products\n1. **HayCollector** - 21,671 products\n   - Equipment for collecting and gathering hay from fields\n\n2. **FarmTractor** - 21,521 products  \n   - Primary agricultural vehicles for pulling/powering other equipment\n\n3. **FieldSprayer** - 21,519 products\n   - Equipment for applying pesticides, herbicides, and fertilizers\n\n4. **SeedPlanter** - 21,488 products\n   - Machinery for planting seeds in prepared soil\n\n5. **CropHarvester** - 21,406 products\n   - Equipment for harvesting mature crops\n\n## Subsystems & Components (62 total products)\n\n### **Electronic/Control Systems**\n6. **CabWiringUnit** - 17 products\n   - Electrical wiring assemblies for equipment cabins\n\n7. **ControlAssembly** - 9 products\n   - Control systems and assemblies for equipment operation\n\n### **Mechanical Systems**  \n8. **MachineRig** - 14 products\n   - Structural frameworks and rigging systems\n\n9. **DrivePlatform** - 10 products\n   - Drive systems and platforms for equipment mobility\n\n10. **ChassisFrame** - 9 products\n    - Structural chassis and frame components\n\n11. **HydraulicSystem** - 3 products\n    - Hydraulic power and control systems\n\n## Product Architecture\n\nThe finished products show a **hierarchical structure** where:\n- **Large agricultural machines** (HayCollector, FarmTractor, etc.) are complex assemblies\n- **Subsystem components** (CabWiringUnit, HydraulicSystem, etc.) are integrated into the larger machines\n- Products have **multi-level Bill of Materials (BOM)** structures where finished products can contain other finished products as subassemblies\n\nThis represents a comprehensive agricultural equipment product line focused on **crop production machinery** with supporting **subsystems and components** for complete farming operations from planting through harvest."
     },
     "metadata": {},
     "output_type": "display_data"
    }
   ],
   "execution_count": 27
  },
  {
   "cell_type": "markdown",
   "metadata": {
    "id": "uMNZTdX_2r-L"
   },
   "source": [
    "# Defining Functions for an Expert Research Agent\n",
    "\n",
    "We will define more expert tools to create an agent for answering more sophisticated questions.\n",
    "\n",
    "1. **`get_finished_product_families`**\n",
    "Retrieves a list of finished product families and the number of products in each family.\n",
    "2. **`get_component_families`**\n",
    "Lists all component families (non-finished products), including the count of components in each family.\n",
    "3. **`get_item`**\n",
    "Fetches properties of an item, identified by a unique SKU ID, which can represent a component or finished product.\n",
    "4. **`get_known_item_country_dependencies`**\n",
    "Retrieves all known country dependencies for a given item, covering sourcing & manufacturing, and supply chain relationships.\n",
    "5. **`get_item_bill_of_materials`**\n",
    "Gathers the hierarchical bill of materials (BOM) for a specific item.\n",
    "6. **`get_standard_country_codes_and_names`**\n",
    "Provides a standardized list of country codes and corresponding names for use within applications and reporting.\n",
    "7. **`get_products_with_country_dependencies`**\n",
    "Identifies products that have sourcing or manufacturing dependencies on specific countries.\n",
    "8. **`get_supplier_substitutions`**\n",
    "Suggests alternative suppliers when the specified supplier (identified by a code) is unavailable or out of operation.\n",
    "9. **`get_finished_products_depending_on_items`**\n",
    "Determines which finished products rely on specific items as components in their structure.\n"
   ]
  },
  {
   "metadata": {
    "id": "1-rAplcsx22u"
   },
   "cell_type": "markdown",
   "source": [
    "## Neo4j Database Connectivity\n",
    "\n",
    "First we define a small class `neo4jDatabase` that manages connecting to Neo4j and running read queries for the expert tools."
   ]
  },
  {
   "metadata": {
    "id": "04x4PdPMgTtE",
    "tags": [],
    "ExecuteTime": {
     "end_time": "2025-05-29T12:49:51.961500Z",
     "start_time": "2025-05-29T12:49:50.898928Z"
    }
   },
   "cell_type": "code",
   "source": [
    "from neo4j import GraphDatabase\n",
    "from typing import Any, List, Dict\n",
    "import re\n",
    "\n",
    "class neo4jDatabase:\n",
    "    def __init__(self,  neo4j_uri: str, neo4j_username: str, neo4j_password: str):\n",
    "        \"\"\"Initialize connection to the Neo4j database\"\"\"\n",
    "        logger.debug(f\"Initializing database connection to {neo4j_uri}\")\n",
    "        d = GraphDatabase.driver(neo4j_uri, auth=(neo4j_username, neo4j_password))\n",
    "        d.verify_connectivity()\n",
    "        self.driver = d\n",
    "\n",
    "    def is_write_query(self, query: str) -> bool:\n",
    "      return re.search(r\"\\b(MERGE|CREATE|SET|DELETE|REMOVE|ADD)\\b\", query, re.IGNORECASE) is not None\n",
    "\n",
    "    #TODO: Use result transformer here to r: r.data()\n",
    "    def _execute_query(self, query: str, params: Dict[str, Any] | None = None) -> List[Dict[str, Any]]:\n",
    "        \"\"\"Execute a Cypher query and return results as a list of dictionaries\"\"\"\n",
    "        logger.debug(f\"Executing query: {query}\")\n",
    "        try:\n",
    "            if self.is_write_query(query):\n",
    "                logger.error(f\"Write query not supported {query}\")\n",
    "                raise \"Write Queries are not supported in this agent\"\n",
    "            else:\n",
    "                #TODO: Add Routing here for efficiency\n",
    "                result = self.driver.execute_query(query, params)\n",
    "                results = [dict(r) for r in result.records]\n",
    "                logger.debug(f\"Read query returned {len(results)} rows\")\n",
    "                return results\n",
    "        except Exception as e:\n",
    "            logger.error(f\"Database error executing query: {e}\\n{query}\")\n",
    "            raise"
   ],
   "outputs": [],
   "execution_count": 28
  },
  {
   "metadata": {
    "id": "1t5Nx3Yq2DKP",
    "tags": [],
    "ExecuteTime": {
     "end_time": "2025-05-29T12:49:52.835796Z",
     "start_time": "2025-05-29T12:49:51.965202Z"
    }
   },
   "cell_type": "code",
   "source": "db = neo4jDatabase(NEO4J_URI, NEO4J_USERNAME, NEO4J_PASSWORD)",
   "outputs": [],
   "execution_count": 29
  },
  {
   "metadata": {
    "colab": {
     "base_uri": "https://localhost:8080/"
    },
    "id": "kSGPD5hxh2cw",
    "outputId": "9357864e-cb04-48f2-ab30-05df1f2f4216",
    "tags": [],
    "ExecuteTime": {
     "end_time": "2025-05-29T12:49:53.174993Z",
     "start_time": "2025-05-29T12:49:53.007348Z"
    }
   },
   "cell_type": "code",
   "source": [
    "# Testing database connection\n",
    "db._execute_query(\"RETURN 1\")"
   ],
   "outputs": [
    {
     "data": {
      "text/plain": [
       "[{'1': 1}]"
      ]
     },
     "execution_count": 30,
     "metadata": {},
     "output_type": "execute_result"
    }
   ],
   "execution_count": 30
  },
  {
   "metadata": {},
   "cell_type": "markdown",
   "source": "Now we can define our functions"
  },
  {
   "metadata": {
    "ExecuteTime": {
     "end_time": "2025-05-29T12:49:55.283597Z",
     "start_time": "2025-05-29T12:49:54.968880Z"
    }
   },
   "cell_type": "code",
   "source": [
    "def get_finished_product_families() -> List[Dict[str, Any]]:\n",
    "    \"\"\"\n",
    "    Get the different type of Product Families - for finished products only.\n",
    "    Use this when asked for different types, families, or groups of finished products.\n",
    "    \"\"\"\n",
    "    try:\n",
    "        results = db._execute_query(\"\"\"\n",
    "        MATCH (i:Item)\n",
    "        WHERE i.is_finished_product\n",
    "        RETURN i.family AS family, count(*) AS numberOfProducts\n",
    "        \"\"\")\n",
    "        return results\n",
    "    except Exception as e:\n",
    "        return [{\"error\":str(e)}]\n",
    "#test\n",
    "get_finished_product_families()"
   ],
   "outputs": [
    {
     "data": {
      "text/plain": [
       "[{'family': 'FarmTractor', 'numberOfProducts': 21521},\n",
       " {'family': 'SeedPlanter', 'numberOfProducts': 21488},\n",
       " {'family': 'FieldSprayer', 'numberOfProducts': 21519},\n",
       " {'family': 'CropHarvester', 'numberOfProducts': 21406},\n",
       " {'family': 'HayCollector', 'numberOfProducts': 21671},\n",
       " {'family': 'CabWiringUnit', 'numberOfProducts': 17},\n",
       " {'family': 'ControlAssembly', 'numberOfProducts': 9},\n",
       " {'family': 'MachineRig', 'numberOfProducts': 14},\n",
       " {'family': 'HydraulicSystem', 'numberOfProducts': 3},\n",
       " {'family': 'ChassisFrame', 'numberOfProducts': 9},\n",
       " {'family': 'DrivePlatform', 'numberOfProducts': 10}]"
      ]
     },
     "execution_count": 31,
     "metadata": {},
     "output_type": "execute_result"
    }
   ],
   "execution_count": 31
  },
  {
   "metadata": {
    "scrolled": true,
    "ExecuteTime": {
     "end_time": "2025-05-29T12:49:56.098571Z",
     "start_time": "2025-05-29T12:49:55.819113Z"
    }
   },
   "cell_type": "code",
   "source": [
    "def get_component_families() -> List[Dict[str, Any]]:\n",
    "    \"\"\"\n",
    "    Get the different type of Component Families - for components only -not finished products.\n",
    "    Use this when asked for different types, families or groups of components and/or parts.\n",
    "    \"\"\"\n",
    "    try:\n",
    "        results = db._execute_query(\"\"\"\n",
    "        MATCH (i:Item)\n",
    "        WHERE NOT i.is_finished_product\n",
    "        RETURN i.family AS family, count(*) AS numberOfComponents\n",
    "        \"\"\")\n",
    "        return results\n",
    "    except Exception as e:\n",
    "        return [{\"error\":str(e)}]\n",
    "#test\n",
    "get_component_families()"
   ],
   "outputs": [
    {
     "data": {
      "text/plain": [
       "[{'family': 'MachineRig', 'numberOfComponents': 20017},\n",
       " {'family': 'DrivePlatform', 'numberOfComponents': 19896},\n",
       " {'family': 'HydraulicSystem', 'numberOfComponents': 20192},\n",
       " {'family': 'ChassisFrame', 'numberOfComponents': 19893},\n",
       " {'family': 'ControlAssembly', 'numberOfComponents': 19824},\n",
       " {'family': 'CabWiringUnit', 'numberOfComponents': 19886},\n",
       " {'family': 'Bushing', 'numberOfComponents': 162},\n",
       " {'family': 'Spring', 'numberOfComponents': 144},\n",
       " {'family': 'GearSet', 'numberOfComponents': 169},\n",
       " {'family': 'ElectricalControlBox', 'numberOfComponents': 77},\n",
       " {'family': 'ComponentModule', 'numberOfComponents': 63},\n",
       " {'family': 'Board', 'numberOfComponents': 82},\n",
       " {'family': 'SteeringColumn', 'numberOfComponents': 65},\n",
       " {'family': 'FrameSegment', 'numberOfComponents': 62},\n",
       " {'family': 'SensorModule', 'numberOfComponents': 67},\n",
       " {'family': 'OperatorCab', 'numberOfComponents': 12},\n",
       " {'family': 'AxleAssembly', 'numberOfComponents': 79},\n",
       " {'family': 'ControlUnit', 'numberOfComponents': 66},\n",
       " {'family': 'ToolMountKit', 'numberOfComponents': 11},\n",
       " {'family': 'MachineFrame', 'numberOfComponents': 11},\n",
       " {'family': 'EngineCore', 'numberOfComponents': 61},\n",
       " {'family': 'PowerSystemModule', 'numberOfComponents': 15},\n",
       " {'family': 'Connector', 'numberOfComponents': 573},\n",
       " {'family': 'SensorUnit', 'numberOfComponents': 523},\n",
       " {'family': 'PumpAssembly', 'numberOfComponents': 594},\n",
       " {'family': 'MotorDrive', 'numberOfComponents': 558},\n",
       " {'family': 'ControlValve', 'numberOfComponents': 548},\n",
       " {'family': 'Cylinder', 'numberOfComponents': 525},\n",
       " {'family': 'Bearing', 'numberOfComponents': 168},\n",
       " {'family': 'Gear', 'numberOfComponents': 145},\n",
       " {'family': 'Harness', 'numberOfComponents': 164},\n",
       " {'family': 'Sensor', 'numberOfComponents': 164},\n",
       " {'family': 'Clamp', 'numberOfComponents': 162},\n",
       " {'family': 'Belt', 'numberOfComponents': 155},\n",
       " {'family': 'WiringLoom', 'numberOfComponents': 165},\n",
       " {'family': 'HydraulicFitting', 'numberOfComponents': 172},\n",
       " {'family': 'Pulley', 'numberOfComponents': 171},\n",
       " {'family': 'Fastener', 'numberOfComponents': 35},\n",
       " {'family': 'Bolt', 'numberOfComponents': 41},\n",
       " {'family': 'RubberSeal', 'numberOfComponents': 40},\n",
       " {'family': 'Tubing', 'numberOfComponents': 41},\n",
       " {'family': 'Casting', 'numberOfComponents': 32},\n",
       " {'family': 'RawWire', 'numberOfComponents': 34},\n",
       " {'family': 'Rod', 'numberOfComponents': 36},\n",
       " {'family': 'PrecisionBolt', 'numberOfComponents': 35},\n",
       " {'family': 'MachineArm', 'numberOfComponents': 7}]"
      ]
     },
     "execution_count": 32,
     "metadata": {},
     "output_type": "execute_result"
    }
   ],
   "execution_count": 32
  },
  {
   "cell_type": "code",
   "metadata": {
    "ExecuteTime": {
     "end_time": "2025-05-29T12:49:56.832811Z",
     "start_time": "2025-05-29T12:49:56.829818Z"
    }
   },
   "source": [
    "def get_item(sku_id: str) -> dict[str, Any]:\n",
    "    \"\"\"\n",
    "    Gets Item properties\n",
    "    Args:\n",
    "        sku_id (str): code uniquely identifying the item which can be a component or finished product\n",
    "    Returns:\n",
    "        dict[str, Any]: item properties\n",
    "    \"\"\"\n",
    "    try:\n",
    "        results = db._execute_query(\"\"\"\n",
    "        MATCH (i:Item {sku_id: $sku_id})\n",
    "        RETURN i.sku_id AS sku_id, i.name AS name, i.family AS family, i.is_finished_product AS is_finished_product\n",
    "        \"\"\", {\"sku_id\": sku_id})\n",
    "        return results\n",
    "    except Exception as e:\n",
    "        return {\"error\": str(e)}"
   ],
   "outputs": [],
   "execution_count": 33
  },
  {
   "cell_type": "code",
   "metadata": {
    "ExecuteTime": {
     "end_time": "2025-05-29T12:49:58.092346Z",
     "start_time": "2025-05-29T12:49:57.926859Z"
    }
   },
   "source": [
    "get_item(\"35472245A\")"
   ],
   "outputs": [
    {
     "data": {
      "text/plain": [
       "[{'sku_id': '35472245A',\n",
       "  'name': 'FarmTractor_7YUC0',\n",
       "  'family': 'FarmTractor',\n",
       "  'is_finished_product': True}]"
      ]
     },
     "execution_count": 34,
     "metadata": {},
     "output_type": "execute_result"
    }
   ],
   "execution_count": 34
  },
  {
   "cell_type": "code",
   "metadata": {
    "ExecuteTime": {
     "end_time": "2025-05-29T12:49:59.148880Z",
     "start_time": "2025-05-29T12:49:59.146194Z"
    }
   },
   "source": [
    "def get_known_item_country_dependencies(sku_id: str) -> List[Dict[str, Any]]:\n",
    "    \"\"\"\n",
    "    Retrieve all known country dependencies for a given item, which can represent either a finished product, a component, or both. This includes data on sourcing, manufacturing, or other relationships tied to specific countries.\n",
    "    Dependencies are determined recursively by examining all connected components in the item's bill of materials (BOM). For each component, this function identifies:\n",
    "    1. **Known Country Dependencies:** A list of countries and their corresponding dependency descriptions (e.g., sourcing steel, manufacturing).\n",
    "    2. **Supply Chain Dependencies:** A visual representation of how components with such country dependencies are linked to the provided item through potentially multiple stages of the BOM hierarchy, represented as a sequence of components connected by arrows, culminating in the provided item.\n",
    "\n",
    "    Note: This function only retrieves available data, which may be incomplete due to limited internal intelligence.\n",
    "\n",
    "    Args:\n",
    "        sku_id (str): code uniquely identifying the component or finished product\n",
    "    Returns:\n",
    "        list[dict[str, Any]]: a list of components in this items bill of materials with country dependencies along with their country dependencies and how they relate to the item in the bill of materials hierarchy.\n",
    "    \"\"\"\n",
    "    try:\n",
    "        results = db._execute_query(\"\"\"\n",
    "        MATCH (i:Item {sku_id: $sku_id})\n",
    "        MATCH path=(i)<-[:BOM*]-(comp:Item)-[r:DEPENDS_ON]->(c:Country)\n",
    "        RETURN\n",
    "        comp.sku_id AS sku_id,\n",
    "        comp.name AS name,\n",
    "        collect({country: c.name, dependency: r.description}) AS known_country_dependencies,\n",
    "        ' <- ' + apoc.text.join([n IN tail(nodes(path))[..-1] | n.sku_id + ' (' + coalesce(n.name, '') + ')' ], ' <- ') AS supply_chain_dependency\n",
    "        \"\"\", {\"sku_id\": sku_id})\n",
    "        return results\n",
    "    except Exception as e:\n",
    "        return [{\"error\": str(e)}]"
   ],
   "outputs": [],
   "execution_count": 35
  },
  {
   "cell_type": "code",
   "metadata": {
    "ExecuteTime": {
     "end_time": "2025-05-29T12:50:00.196675Z",
     "start_time": "2025-05-29T12:50:00.026109Z"
    }
   },
   "source": [
    "get_known_item_country_dependencies(\"35472245A\")"
   ],
   "outputs": [
    {
     "data": {
      "text/plain": [
       "[{'sku_id': 'M7307U91X',\n",
       "  'name': 'RawWire_YCBEO',\n",
       "  'known_country_dependencies': [{'dependency': 'sourcing raw copper cathode',\n",
       "    'country': 'Chile'},\n",
       "   {'dependency': 'drawing and annealing facilities', 'country': 'Mexico'},\n",
       "   {'dependency': 'drawing and annealing facilities', 'country': 'Viet Nam'},\n",
       "   {'dependency': 'sourcing raw copper cathode', 'country': 'Peru'}],\n",
       "  'supply_chain_dependency': ' <- 35472245 (CabWiringUnit_Z5OO3) <- 35523080X (CabWiringUnit_UJ3OE) <- M7307U91X (RawWire_YCBEO)'},\n",
       " {'sku_id': 'M7307U92X',\n",
       "  'name': 'PrecisionBolt_O12J1',\n",
       "  'known_country_dependencies': [{'dependency': 'final machining and threading processes',\n",
       "    'country': 'United States of America'},\n",
       "   {'dependency': 'sourcing raw titanium sponge', 'country': 'Japan'},\n",
       "   {'dependency': 'procuring alloying elements (aluminum and vanadium)',\n",
       "    'country': 'Russian Federation'}],\n",
       "  'supply_chain_dependency': ' <- 35472245 (CabWiringUnit_Z5OO3) <- 35523087X (CabWiringUnit_CZ0N2) <- M7307U92X (PrecisionBolt_O12J1)'},\n",
       " {'sku_id': 'M7307U93X',\n",
       "  'name': 'Fastener_CP82S',\n",
       "  'known_country_dependencies': [{'dependency': 'Precision forging.',\n",
       "    'country': 'Germany'},\n",
       "   {'dependency': 'Sourcing raw titanium.', 'country': 'Russian Federation'}],\n",
       "  'supply_chain_dependency': ' <- 35472245 (CabWiringUnit_Z5OO3) <- 35523089X (DrivePlatform_ZB6KE) <- M7307U93X (Fastener_CP82S)'}]"
      ]
     },
     "execution_count": 36,
     "metadata": {},
     "output_type": "execute_result"
    }
   ],
   "execution_count": 36
  },
  {
   "cell_type": "code",
   "metadata": {
    "ExecuteTime": {
     "end_time": "2025-05-29T12:50:01.279800Z",
     "start_time": "2025-05-29T12:50:01.277158Z"
    }
   },
   "source": [
    "def get_item_bill_of_materials(sku_id: str) -> List[Dict[str, Any]]:\n",
    "    \"\"\"\n",
    "    Retrieve the complete Bill of Materials (BOM) hierarchy for a given finished product or component identified by the SKU.\n",
    "    This function provides a detailed view of all components involved in the production of the specified item.\n",
    "    It identifies components recursively linked to the given item through the BOM hierarchy.\n",
    "\n",
    "    Key Features:\n",
    "    1. **Bill of Material Dependencies:** Identifies all components recursively linked to the given item through the BOM hierarchy.\n",
    "    2. **Dependency Path Representation:** Produces a flattened tree structure where each entry represents a sequence of components\n",
    "       connected by arrows, showing the hierarchical relationships from the base components to the provided item.\n",
    "\n",
    "\n",
    "    Args:\n",
    "        sku_id (str): The SKU (Stock Keeping Unit) that uniquely identifies a product, component, or part.\n",
    "\n",
    "    Returns:\n",
    "        list[dict[str, Any]]: A list of dependency paths represented as strings. Each path shows the components in the BOM hierarchy\n",
    "        leading to the specified item, connected by arrows (` <- `). For example:\n",
    "            \" <- 35472245 (CabWiringUnit_Z5OO3)\"\n",
    "            \" <- 35472245 (CabWiringUnit_Z5OO3) <- 35475154X (CabWiringUnit_VT75O)\"\n",
    "            \" <- 35472245 (CabWiringUnit_Z5OO3) <- 35475154X (CabWiringUnit_VT75O) <- M3571002BX (CabWiringUnit_A9FH4)\"\n",
    "    \"\"\"\n",
    "\n",
    "    try:\n",
    "        results = db._execute_query(\"\"\"\n",
    "        MATCH (i:Item {sku_id: $sku_id})\n",
    "        MATCH path=(i)<-[:BOM*]-(:Item)\n",
    "        RETURN ' <- ' + apoc.text.join([n IN tail(nodes(path)) | n.sku_id + ' (' + coalesce(n.name, '') + ')' ], ' <- ') AS supply_chain_dependency\n",
    "        \"\"\", {\"sku_id\": sku_id})\n",
    "        return results\n",
    "    except Exception as e:\n",
    "        return [{\"error\": str(e)}]\n"
   ],
   "outputs": [],
   "execution_count": 37
  },
  {
   "cell_type": "code",
   "metadata": {
    "ExecuteTime": {
     "end_time": "2025-05-29T12:50:02.395926Z",
     "start_time": "2025-05-29T12:50:02.137221Z"
    }
   },
   "source": [
    "get_item_bill_of_materials(\"35472245A\")"
   ],
   "outputs": [
    {
     "data": {
      "text/plain": [
       "[{'supply_chain_dependency': ' <- 35472245 (CabWiringUnit_Z5OO3)'},\n",
       " {'supply_chain_dependency': ' <- 35472245 (CabWiringUnit_Z5OO3) <- M6495003X (DrivePlatform_SBK8U)'},\n",
       " {'supply_chain_dependency': ' <- 35472245 (CabWiringUnit_Z5OO3) <- M6499003X (MachineRig_RFYOE)'},\n",
       " {'supply_chain_dependency': ' <- 35472245 (CabWiringUnit_Z5OO3) <- M6499002X (HydraulicSystem_EE22P)'},\n",
       " {'supply_chain_dependency': ' <- 35472245 (CabWiringUnit_Z5OO3) <- 35370826 (MachineRig_INWWQ)'},\n",
       " {'supply_chain_dependency': ' <- 35472245 (CabWiringUnit_Z5OO3) <- 35433612 (ChassisFrame_2GN2W)'},\n",
       " {'supply_chain_dependency': ' <- 35472245 (CabWiringUnit_Z5OO3) <- 35475030 (ElectricalControlBox_6ROWJ)'},\n",
       " {'supply_chain_dependency': ' <- 35472245 (CabWiringUnit_Z5OO3) <- 28028534X (ControlAssembly_JRO9M)'},\n",
       " {'supply_chain_dependency': ' <- 35472245 (CabWiringUnit_Z5OO3) <- 35475154X (CabWiringUnit_VT75O)'},\n",
       " {'supply_chain_dependency': ' <- 35472245 (CabWiringUnit_Z5OO3) <- 35475154X (CabWiringUnit_VT75O) <- M3571002BX (CabWiringUnit_A9FH4)'},\n",
       " {'supply_chain_dependency': ' <- 35472245 (CabWiringUnit_Z5OO3) <- 16031437X (CabWiringUnit_EMMHN)'},\n",
       " {'supply_chain_dependency': ' <- 35472245 (CabWiringUnit_Z5OO3) <- 9396465X (ControlAssembly_0IVY8)'},\n",
       " {'supply_chain_dependency': ' <- 35472245 (CabWiringUnit_Z5OO3) <- 35464217 (ChassisFrame_E5AF5)'},\n",
       " {'supply_chain_dependency': ' <- 35472245 (CabWiringUnit_Z5OO3) <- 35472500 (MachineRig_2DXYC)'},\n",
       " {'supply_chain_dependency': ' <- 35472245 (CabWiringUnit_Z5OO3) <- 35670669X (ChassisFrame_7T52A)'},\n",
       " {'supply_chain_dependency': ' <- 35472245 (CabWiringUnit_Z5OO3) <- 9396276X (DrivePlatform_7A4OC)'},\n",
       " {'supply_chain_dependency': ' <- 35472245 (CabWiringUnit_Z5OO3) <- 33225099X (ChassisFrame_AC8YY)'},\n",
       " {'supply_chain_dependency': ' <- 35472245 (CabWiringUnit_Z5OO3) <- 9396196X (HydraulicSystem_DT9FC)'},\n",
       " {'supply_chain_dependency': ' <- 35472245 (CabWiringUnit_Z5OO3) <- 16087854X (ChassisFrame_ONS5D)'},\n",
       " {'supply_chain_dependency': ' <- 35472245 (CabWiringUnit_Z5OO3) <- 16087891X (HydraulicSystem_D21RL)'},\n",
       " {'supply_chain_dependency': ' <- 35472245 (CabWiringUnit_Z5OO3) <- 16087850X (DrivePlatform_0Q8IF)'},\n",
       " {'supply_chain_dependency': ' <- 35472245 (CabWiringUnit_Z5OO3) <- 35458978X (ChassisFrame_G6VC6)'},\n",
       " {'supply_chain_dependency': ' <- 35472245 (CabWiringUnit_Z5OO3) <- 9396190X (CabWiringUnit_K1JQL)'},\n",
       " {'supply_chain_dependency': ' <- 35472245 (CabWiringUnit_Z5OO3) <- 9396303X (HydraulicSystem_RDXWF)'},\n",
       " {'supply_chain_dependency': ' <- 35472245 (CabWiringUnit_Z5OO3) <- 33131665X (ControlAssembly_UIV10)'},\n",
       " {'supply_chain_dependency': ' <- 35472245 (CabWiringUnit_Z5OO3) <- 35473640X (MachineRig_VMN1B)'},\n",
       " {'supply_chain_dependency': ' <- 35472245 (CabWiringUnit_Z5OO3) <- 35473640X (MachineRig_VMN1B) <- M3571001BX (ControlAssembly_FTEVP)'},\n",
       " {'supply_chain_dependency': ' <- 35472245 (CabWiringUnit_Z5OO3) <- 35473640X (MachineRig_VMN1B) <- M5772008X (HydraulicSystem_BGWHS)'},\n",
       " {'supply_chain_dependency': ' <- 35472245 (CabWiringUnit_Z5OO3) <- 35431325 (HydraulicSystem_MKHY3)'},\n",
       " {'supply_chain_dependency': ' <- 35472245 (CabWiringUnit_Z5OO3) <- 35523080X (CabWiringUnit_UJ3OE)'},\n",
       " {'supply_chain_dependency': ' <- 35472245 (CabWiringUnit_Z5OO3) <- 35523080X (CabWiringUnit_UJ3OE) <- M7307U91X (RawWire_YCBEO)'},\n",
       " {'supply_chain_dependency': ' <- 35472245 (CabWiringUnit_Z5OO3) <- 35523087X (CabWiringUnit_CZ0N2)'},\n",
       " {'supply_chain_dependency': ' <- 35472245 (CabWiringUnit_Z5OO3) <- 35523087X (CabWiringUnit_CZ0N2) <- M7307U92X (PrecisionBolt_O12J1)'},\n",
       " {'supply_chain_dependency': ' <- 35472245 (CabWiringUnit_Z5OO3) <- 35523089X (DrivePlatform_ZB6KE)'},\n",
       " {'supply_chain_dependency': ' <- 35472245 (CabWiringUnit_Z5OO3) <- 35523089X (DrivePlatform_ZB6KE) <- M7307U93X (Fastener_CP82S)'},\n",
       " {'supply_chain_dependency': ' <- 35472245 (CabWiringUnit_Z5OO3) <- 35464158 (MachineRig_OGD8S)'},\n",
       " {'supply_chain_dependency': ' <- 35472245 (CabWiringUnit_Z5OO3) <- 35115833 (DrivePlatform_TIX6V)'},\n",
       " {'supply_chain_dependency': ' <- 35472245 (CabWiringUnit_Z5OO3) <- 35464163 (CabWiringUnit_1S7KD)'}]"
      ]
     },
     "execution_count": 38,
     "metadata": {},
     "output_type": "execute_result"
    }
   ],
   "execution_count": 38
  },
  {
   "cell_type": "code",
   "metadata": {
    "ExecuteTime": {
     "end_time": "2025-05-29T12:50:04.877459Z",
     "start_time": "2025-05-29T12:50:04.622763Z"
    }
   },
   "source": [
    "def get_standard_country_codes_and_names() -> List[Dict[str, Any]]:\n",
    "    \"\"\"\n",
    "    Get the standardized country codes and names that are mentioned in the BOM and supply chain data.\n",
    "    Other methods that have country names and code as input will only match data if with these standardized codes/names.\n",
    "    Note that not all countries may be listed, as not all countries are mentioned in intel.\n",
    "    \"\"\"\n",
    "    try:\n",
    "        results = db._execute_query(\"\"\"\n",
    "        MATCH (c:Country)\n",
    "        RETURN c.code as code, c.name as name\n",
    "        \"\"\")\n",
    "        return results\n",
    "    except Exception as e:\n",
    "        return [{\"error\":str(e)}]\n",
    "#test\n",
    "get_standard_country_codes_and_names()"
   ],
   "outputs": [
    {
     "data": {
      "text/plain": [
       "[{'code': 'AUS', 'name': 'Australia'},\n",
       " {'code': 'BEL', 'name': 'Belgium'},\n",
       " {'code': 'BRA', 'name': 'Brazil'},\n",
       " {'code': 'CAN', 'name': 'Canada'},\n",
       " {'code': 'CHE', 'name': 'Switzerland'},\n",
       " {'code': 'CHL', 'name': 'Chile'},\n",
       " {'code': 'CHN', 'name': 'China'},\n",
       " {'code': 'COL', 'name': 'Colombia'},\n",
       " {'code': 'DEU', 'name': 'Germany'},\n",
       " {'code': 'EGY', 'name': 'Egypt'},\n",
       " {'code': 'GIN', 'name': 'Guinea'},\n",
       " {'code': 'IDN', 'name': 'Indonesia'},\n",
       " {'code': 'IND', 'name': 'India'},\n",
       " {'code': 'IRL', 'name': 'Ireland'},\n",
       " {'code': 'ISL', 'name': 'Iceland'},\n",
       " {'code': 'ITA', 'name': 'Italy'},\n",
       " {'code': 'JPN', 'name': 'Japan'},\n",
       " {'code': 'KAZ', 'name': 'Kazakhstan'},\n",
       " {'code': 'KOR', 'name': 'Korea, Republic of'},\n",
       " {'code': 'MAR', 'name': 'Morocco'},\n",
       " {'code': 'MEX', 'name': 'Mexico'},\n",
       " {'code': 'MYS', 'name': 'Malaysia'},\n",
       " {'code': 'NOR', 'name': 'Norway'},\n",
       " {'code': 'PER', 'name': 'Peru'},\n",
       " {'code': 'PHL', 'name': 'Philippines'},\n",
       " {'code': 'POL', 'name': 'Poland'},\n",
       " {'code': 'QAT', 'name': 'Qatar'},\n",
       " {'code': 'RUS', 'name': 'Russian Federation'},\n",
       " {'code': 'SAU', 'name': 'Saudi Arabia'},\n",
       " {'code': 'SWE', 'name': 'Sweden'},\n",
       " {'code': 'THA', 'name': 'Thailand'},\n",
       " {'code': 'TUR', 'name': 'Turkey'},\n",
       " {'code': 'TWN', 'name': 'Taiwan, Province of China'},\n",
       " {'code': 'UKR', 'name': 'Ukraine'},\n",
       " {'code': 'USA', 'name': 'United States of America'},\n",
       " {'code': 'VNM', 'name': 'Viet Nam'},\n",
       " {'code': 'ZAF', 'name': 'South Africa'},\n",
       " {'code': 'ZMB', 'name': 'Zambia'}]"
      ]
     },
     "execution_count": 39,
     "metadata": {},
     "output_type": "execute_result"
    }
   ],
   "execution_count": 39
  },
  {
   "cell_type": "code",
   "metadata": {
    "ExecuteTime": {
     "end_time": "2025-05-29T12:50:28.055599Z",
     "start_time": "2025-05-29T12:50:28.047727Z"
    }
   },
   "source": [
    "from typing import List, Dict, Optional\n",
    "\n",
    "\n",
    "def get_products_with_country_dependencies(country_code:str, dependency_search_term: Optional[str] = None) -> List[Dict[str, Any]]:\n",
    "    \"\"\"\n",
    "    Identify finished products that are affected by dependencies on a specific material or resource from a given country.\n",
    "\n",
    "    This function traces the supply chain of finished products to specific materials or resources sourced from a particular country. By analyzing the Bill of Materials (BOM) hierarchy,\n",
    "    it identifies how dependencies on components are linked to the production of finished products.\n",
    "\n",
    "    Key Features:\n",
    "    1. **Country-Specific Dependencies:** Finds components linked to a specific country and determines how their dependencies\n",
    "       impact finished products.\n",
    "    2. **Dependency Search:** Allows optional filtering of dependencies by a search term (e.g., \"nickel\").\n",
    "    3. **Supply Chain Traceability:** Provides detailed paths showing how the affected components feed into finished products.\n",
    "\n",
    "    Args:\n",
    "        country_code (str): The standardized ISO 3166 alpha-3 country code (e.g., \"CAN\" for Canada) to trace dependencies related to a specific country.\n",
    "        dependency_search_term (Optional[str]): A search term to filter specific dependencies (e.g., \"nickel\").\n",
    "            If omitted, all dependencies for the country are considered. keep the search terms short and simple - exact matching is used for criteria\n",
    "\n",
    "    Returns:\n",
    "        List[Dict[str, Any]]: A list where each element represents a finished product impacted by the specified dependencies.\n",
    "        Each entry includes:\n",
    "            - **product_sku_id (str):** The SKU of the finished product.\n",
    "            - **product_name (str):** The name of the finished product.\n",
    "            - **dependencies (list):** A list of dictionaries, with each dictionary representing:\n",
    "                - **depends_on_item_sku_id (str):** The SKU of the component causing the dependency.\n",
    "                - **depends_on_item_name (str):** The name of the component causing the dependency.\n",
    "                - **country_dependency_of_item (list[dict]):** A list of country dependencies associated with the component,\n",
    "                  including:\n",
    "                    - **dependency (str):** A description of the dependency (e.g., \"sourcing nickel\").\n",
    "                    - **country (str):** The country associated with the dependency (e.g., \"Canada\").\n",
    "                - **supply_chain_dependency_for_product (str):** A trace of the supply chain relationship between the component\n",
    "                  and the finished product. This trace is represented as a sequence of SKUs and component names connected by arrows (e.g.,\n",
    "                  \" <- D0301002 (PrecisionBolt_252A1) <- 13952372 (ChassisFrame_3AC3Z)\").\n",
    "\n",
    "    Examples:\n",
    "        - **Query:** country_code = \"CAN\", dependency_search_term = \"nickel\"\n",
    "        - **Output:**\n",
    "            [\n",
    "                {\n",
    "                    \"product_sku_id\": \"35513559\",\n",
    "                    \"product_name\": \"FarmTractor_VLM4F\",\n",
    "                    \"dependencies\": [\n",
    "                        {\n",
    "                            \"depends_on_item_sku_id\": \"D0301002\",\n",
    "                            \"depends_on_item_name\": \"PrecisionBolt_252A1\",\n",
    "                            \"country_dependency_of_item\": [\n",
    "                                {\n",
    "                                    \"dependency\": \"sourcing nickel\",\n",
    "                                    \"country\": \"Canada\"\n",
    "                                }\n",
    "                            ],\n",
    "                            \"supply_chain_dependency_for_product\": \" <- D0301002 (PrecisionBolt_252A1) <- 13978746 (CabWiringUnit_EVKCK)\"\n",
    "                        }\n",
    "                    ]\n",
    "                },\n",
    "                ...\n",
    "            ]\n",
    "    \"\"\"\n",
    "\n",
    "    try:\n",
    "        if dependency_search_term is None:\n",
    "            results = db._execute_query(\"\"\"\n",
    "            MATCH (i:Item)-[r:DEPENDS_ON]->(c:Country {code:$countryCode})\n",
    "            WITH i,r,c\n",
    "            MATCH path = (i)-[:BOM*]->(p {is_finished_product:true})\n",
    "            WITH p.sku_id AS product_sku_id, p.name AS product_name,  i.sku_id AS depends_on_item_sku_id, i.name AS depends_on_item_name, collect({country: c.name, dependency: r.description}) AS known_country_dependency,\n",
    "                ' <- ' + apoc.text.join([n IN reverse(nodes(path)[..-1]) | n.sku_id + ' (' + coalesce(n.name, '') + ')' ], ' <- ') AS supply_chain_dependency\n",
    "            RETURN  product_sku_id, product_name, collect({depends_on_item_sku_id: depends_on_item_sku_id, depends_on_item_name: depends_on_item_name, country_dependency_of_item: known_country_dependency, supply_chain_dependency_for_product: supply_chain_dependency}) AS dependencies\n",
    "            \"\"\", {\"countryCode\": country_code, \"dependencySearchTerm\": dependency_search_term})\n",
    "        else:\n",
    "            results = db._execute_query(\"\"\"\n",
    "            MATCH (i:Item)-[r:DEPENDS_ON]->(c:Country {code:$countryCode})\n",
    "            WHERE  lower(r.description) CONTAINS lower($dependencySearchTerm)\n",
    "            WITH i,r,c\n",
    "            MATCH path = (i)-[:BOM*]->(p {is_finished_product:true})\n",
    "            WITH p.sku_id AS product_sku_id, p.name AS product_name,  i.sku_id AS depends_on_item_sku_id, i.name AS depends_on_item_name, collect({country: c.name, dependency: r.description}) AS known_country_dependency,\n",
    "                ' <- ' + apoc.text.join([n IN reverse(nodes(path)[..-1])| n.sku_id + ' (' + coalesce(n.name, '') + ')' ], ' <- ') AS supply_chain_dependency\n",
    "            RETURN  product_sku_id, product_name, collect({depends_on_item_sku_id: depends_on_item_sku_id, depends_on_item_name: depends_on_item_name, country_dependency_of_item: known_country_dependency, supply_chain_dependency_for_product: supply_chain_dependency}) AS dependencies\n",
    "            \"\"\", {\"countryCode\": country_code, \"dependencySearchTerm\": dependency_search_term})\n",
    "        return results\n",
    "    except Exception as e:\n",
    "        return [{\"error\": str(e)}]"
   ],
   "outputs": [],
   "execution_count": 42
  },
  {
   "cell_type": "code",
   "metadata": {
    "ExecuteTime": {
     "end_time": "2025-05-29T12:50:33.711366Z",
     "start_time": "2025-05-29T12:50:33.081875Z"
    }
   },
   "source": [
    "get_products_with_country_dependencies(\"CAN\", \"nickel\")[:2]"
   ],
   "outputs": [
    {
     "data": {
      "text/plain": [
       "[{'product_sku_id': '35298723',\n",
       "  'product_name': 'FieldSprayer_BE9WW',\n",
       "  'dependencies': [{'supply_chain_dependency_for_product': ' <- E0301006 (PrecisionBolt_66KS7)',\n",
       "    'depends_on_item_sku_id': 'E0301006',\n",
       "    'depends_on_item_name': 'PrecisionBolt_66KS7',\n",
       "    'country_dependency_of_item': [{'dependency': 'sourcing nickel for alloy',\n",
       "      'country': 'Canada'}]}]},\n",
       " {'product_sku_id': '35298721',\n",
       "  'product_name': 'SeedPlanter_DJG7M',\n",
       "  'dependencies': [{'supply_chain_dependency_for_product': ' <- E0301006 (PrecisionBolt_66KS7)',\n",
       "    'depends_on_item_sku_id': 'E0301006',\n",
       "    'depends_on_item_name': 'PrecisionBolt_66KS7',\n",
       "    'country_dependency_of_item': [{'dependency': 'sourcing nickel for alloy',\n",
       "      'country': 'Canada'}]}]}]"
      ]
     },
     "execution_count": 43,
     "metadata": {},
     "output_type": "execute_result"
    }
   ],
   "execution_count": 43
  },
  {
   "cell_type": "code",
   "metadata": {
    "ExecuteTime": {
     "end_time": "2025-05-29T12:50:37.341478Z",
     "start_time": "2025-05-29T12:50:36.051917Z"
    }
   },
   "source": [
    "get_products_with_country_dependencies(\"USA\")[:2]"
   ],
   "outputs": [
    {
     "data": {
      "text/plain": [
       "[{'product_sku_id': '35296458',\n",
       "  'product_name': 'HayCollector_GSZGQ',\n",
       "  'dependencies': [{'supply_chain_dependency_for_product': ' <- KM100605 (Bolt_HZU3P)',\n",
       "    'depends_on_item_sku_id': 'KM100605',\n",
       "    'depends_on_item_name': 'Bolt_HZU3P',\n",
       "    'country_dependency_of_item': [{'dependency': 'finishing and coating',\n",
       "      'country': 'United States of America'}]}]},\n",
       " {'product_sku_id': '35296455',\n",
       "  'product_name': 'CropHarvester_5EWBJ',\n",
       "  'dependencies': [{'supply_chain_dependency_for_product': ' <- KM100605 (Bolt_HZU3P)',\n",
       "    'depends_on_item_sku_id': 'KM100605',\n",
       "    'depends_on_item_name': 'Bolt_HZU3P',\n",
       "    'country_dependency_of_item': [{'dependency': 'finishing and coating',\n",
       "      'country': 'United States of America'}]}]}]"
      ]
     },
     "execution_count": 44,
     "metadata": {},
     "output_type": "execute_result"
    }
   ],
   "execution_count": 44
  },
  {
   "cell_type": "code",
   "metadata": {
    "ExecuteTime": {
     "end_time": "2025-05-29T12:50:37.451647Z",
     "start_time": "2025-05-29T12:50:37.448594Z"
    }
   },
   "source": [
    "def get_supplier_substitutions(supplier_code: str) -> List[Dict[str, Any]]:\n",
    "    \"\"\"\n",
    "    Retrieves substitution recommendations for items (components and/or finished products) supplied by a specific supplier.\n",
    "\n",
    "    This function is designed to assist in scenarios where a supplier (identified by its unique code)\n",
    "    is temporarily or permanently unable to operate or is otherwise designated for substitution.\n",
    "    It identifies items supplied by the specified supplier and recommends other suppliers on the same BOM tier that\n",
    "    can substitute those items. Recommendations are ranked by supplier proximity based on geodistance.\n",
    "\n",
    "    Args:\n",
    "        supplier_code (str): A unique code identifying the supplier in question.\n",
    "\n",
    "    Returns:\n",
    "        list[dict[str, Any]]: A list of dictionaries, each containing details for an item supplied by the specified supplier:\n",
    "            - sku_id (str): The unique identifier for the item.\n",
    "            - name (str): The name or description of the item.\n",
    "            - recommended_supplier (dict): The closest alternative supplier for the item, including:\n",
    "                - code (str): The unique code for the supplier.\n",
    "                - distance (float): The geodistance (in miles) between the original supplier's location and the alternate supplier.\n",
    "              This is `null` if no alternative suppliers are available.\n",
    "            - other_suppliers (list[dict]): A list of additional alternative suppliers, sorted by ascending distance, with each supplier having:\n",
    "                - code (str): The unique code for the supplier.\n",
    "                - distance (float): The geodistance (in miles).\n",
    "              This is an empty list if no additional alternatives are available.\n",
    "\n",
    "    Example Output:\n",
    "        [\n",
    "            {\n",
    "                \"sku_id\": \"28710197\",\n",
    "                \"name\": \"Harness_YU5KA\",\n",
    "                \"recommended_supplier\": {\n",
    "                    \"distance\": 99.65,\n",
    "                    \"code\": \"T4J5DE\"\n",
    "                },\n",
    "                \"other_suppliers\": []\n",
    "            },\n",
    "            {\n",
    "                \"sku_id\": \"28018274\",\n",
    "                \"name\": \"Clamp_MRVR0\",\n",
    "                \"recommended_supplier\": {\n",
    "                    \"distance\": 99.65,\n",
    "                    \"code\": \"T4J5DE\"\n",
    "                },\n",
    "                \"other_suppliers\": [\n",
    "                    {\n",
    "                        \"distance\": 1376.98,\n",
    "                        \"code\": \"RO6UY3\"\n",
    "                    },\n",
    "                    {\n",
    "                        \"distance\": 11170.08,\n",
    "                        \"code\": \"6TIPXK\"\n",
    "                    }\n",
    "                ]\n",
    "            }\n",
    "        ]\n",
    "\n",
    "    \"\"\"\n",
    "    try:\n",
    "        results = db._execute_query(\"\"\"\n",
    "        MATCH (l)<-[:LOCATED_AT]-(s:Supplier {code: $code})<-[:AT]-(i:Item)\n",
    "        OPTIONAL MATCH (i)-[:AT]->(sAlt:Supplier  WHERE sAlt.tier = s.tier AND sAlt <> s)-[:LOCATED_AT]->(lAlt)\n",
    "        WHERE sAlt.tier = s.tier AND sAlt <> s\n",
    "        // Calculate geodistance\n",
    "        WITH i, sAlt, round(point.distance(l.geo_point, lAlt.geo_point) * 0.000621371) AS distance_in_miles\n",
    "        ORDER BY i, distance_in_miles ASC\n",
    "        // Collect recommended supplier and other options\n",
    "        WITH i, collect({code: sAlt.code, distance: distance_in_miles}) AS all_sAlt\n",
    "        RETURN i.sku_id AS sku_id, i.name as name, all_sAlt[0] AS recommended_supplier, tail(all_sAlt) AS other_suppliers\n",
    "        \"\"\", {\"code\":supplier_code})\n",
    "        return results\n",
    "    except Exception as e:\n",
    "        return [{\"error\":str(e)}]"
   ],
   "outputs": [],
   "execution_count": 45
  },
  {
   "cell_type": "code",
   "metadata": {
    "ExecuteTime": {
     "end_time": "2025-05-29T12:50:41.004292Z",
     "start_time": "2025-05-29T12:50:41.001244Z"
    }
   },
   "source": [
    "def get_finished_products_depending_on_items(sku_ids: List[str]) -> List[Dict[str, Any]]:\n",
    "    \"\"\"\n",
    "    Find finished products that depend on the provided item SKUs in their supply chain.\n",
    "\n",
    "    This function identifies finished products in a supply chain that directly or indirectly rely\n",
    "    on specific items (provided by their SKUs). Using the Bill of Materials (BOM) relationships,\n",
    "    it traces the supply chain dependencies starting from the supplied `sku_ids` and identifies\n",
    "    finished products (`is_finished_product == true`). It also generates a detailed dependency path\n",
    "    for each finished product, showing how the input SKUs are linked to the finished product.\n",
    "\n",
    "    Args:\n",
    "        sku_ids (List[str]): A list of item SKUs to find dependencies for.\n",
    "\n",
    "    Returns:\n",
    "        List[Dict[str, Any]]: A list of dictionaries where each entry corresponds to a finished product.\n",
    "            Each dictionary contains:\n",
    "            - `sku_id` (str): The SKU of the finished product.\n",
    "            - `depends_on_item_sku_ids` (List[str]): A list of unique item SKUs from the input that this\n",
    "              finished product depends on.\n",
    "            - `supply_chain_dependency` (List[str]): A list of dependency paths starting from the finished\n",
    "              product and tracing backward to the input SKUs. Each path is represented as a string,\n",
    "              detailing the SKUs and names of items connected in the workflow. The format of each\n",
    "              path is:\n",
    "              ```\n",
    "              \"<- FinishedProductSKU (FinishedProductName) <- IntermediateSKU (IntermediateName) <- InputSKU (InputName)\"\n",
    "              ```\n",
    "              If there are multiple paths for the same input SKU leading to the finished product, all\n",
    "              paths are included.\n",
    "\n",
    "    Example Output:\n",
    "        [\n",
    "            {\n",
    "                \"sku_id\": \"13867580\",\n",
    "                \"depends_on_item_sku_ids\": [\"B0301002\"],\n",
    "                \"supply_chain_dependency\": [\n",
    "                    \" <- 13578113 (DrivePlatform_B6A4T) <- B0301002 (Bolt_W5F3Y)\"\n",
    "                ]\n",
    "            },\n",
    "            {\n",
    "                \"sku_id\": \"35750243\",\n",
    "                \"depends_on_item_sku_ids\": [\"B0301002\"],\n",
    "                \"supply_chain_dependency\": [\n",
    "                    \" <- 13578113 (DrivePlatform_B6A4T) <- B0301002 (Bolt_W5F3Y)\",\n",
    "                    \" <- 13599782 (MachineRig_IBA4I) <- B0301002 (Bolt_W5F3Y)\"\n",
    "                ]\n",
    "            }\n",
    "        ]\n",
    "\n",
    "    \"\"\"\n",
    "    try:\n",
    "        results = db._execute_query(\"\"\"\n",
    "        MATCH path = (i:Item)-[:BOM*]->(p {is_finished_product: true})\n",
    "        WHERE i.sku_id IN $skuIds\n",
    "\n",
    "        RETURN p.sku_id AS sku_id,\n",
    "          collect(DISTINCT i.sku_id) AS depends_on_item_sku_ids,\n",
    "          collect(' <- ' + apoc.text.join([n IN reverse(nodes(path)[..-1]) | n.sku_id + ' (' + coalesce(n.name, '') + ')' ], ' <- ')) AS supply_chain_dependency\n",
    "        \"\"\", {\"skuIds\":sku_ids})\n",
    "        return results\n",
    "    except Exception as e:\n",
    "        return [{\"error\":str(e)}]"
   ],
   "outputs": [],
   "execution_count": 46
  },
  {
   "cell_type": "code",
   "metadata": {
    "ExecuteTime": {
     "end_time": "2025-05-29T12:50:45.143504Z",
     "start_time": "2025-05-29T12:50:44.551478Z"
    }
   },
   "source": [
    "get_finished_products_depending_on_items([\"KM100347\", \"B0301002\", \"KM100322\"])[:3]"
   ],
   "outputs": [
    {
     "data": {
      "text/plain": [
       "[{'sku_id': '13867580',\n",
       "  'depends_on_item_sku_ids': ['B0301002'],\n",
       "  'supply_chain_dependency': [' <- 13578113 (DrivePlatform_B6A4T) <- B0301002 (Bolt_W5F3Y)']},\n",
       " {'sku_id': '35750245',\n",
       "  'depends_on_item_sku_ids': ['B0301002'],\n",
       "  'supply_chain_dependency': [' <- 13578113 (DrivePlatform_B6A4T) <- B0301002 (Bolt_W5F3Y)']},\n",
       " {'sku_id': '35750243',\n",
       "  'depends_on_item_sku_ids': ['B0301002'],\n",
       "  'supply_chain_dependency': [' <- 13578113 (DrivePlatform_B6A4T) <- B0301002 (Bolt_W5F3Y)',\n",
       "   ' <- 13599782 (MachineRig_IBA4I) <- B0301002 (Bolt_W5F3Y)']}]"
      ]
     },
     "execution_count": 47,
     "metadata": {},
     "output_type": "execute_result"
    }
   ],
   "execution_count": 47
  },
  {
   "cell_type": "markdown",
   "metadata": {
    "id": "meW7SNrTyCgn"
   },
   "source": [
    "## Define Expert Agent\n",
    "\n",
    "\n"
   ]
  },
  {
   "cell_type": "code",
   "metadata": {
    "id": "yI9pmcREDKNK",
    "tags": [],
    "ExecuteTime": {
     "end_time": "2025-05-29T12:50:57.608839Z",
     "start_time": "2025-05-29T12:50:57.605659Z"
    }
   },
   "source": [
    "from google.adk.agents import Agent"
   ],
   "outputs": [],
   "execution_count": 48
  },
  {
   "cell_type": "code",
   "metadata": {
    "id": "exrr_oCNLxqZ",
    "tags": [],
    "ExecuteTime": {
     "end_time": "2025-05-29T12:50:58.929602Z",
     "start_time": "2025-05-29T12:50:58.927585Z"
    }
   },
   "source": [
    "MODEL=\"gemini-2.5-pro-preview-03-25\""
   ],
   "outputs": [],
   "execution_count": 49
  },
  {
   "cell_type": "code",
   "metadata": {
    "id": "wm2YPp1eG2WQ",
    "tags": [],
    "ExecuteTime": {
     "end_time": "2025-05-29T12:51:00.669145Z",
     "start_time": "2025-05-29T12:51:00.666470Z"
    }
   },
   "source": [
    "bom_supplier_research_agent = Agent(\n",
    "    model=MODEL,\n",
    "    name='bom_supplier_research_agent',\n",
    "    instruction=\"\"\"\n",
    "    You are an agent that has access to a database of bill of materials (BOM), supplier, product/component, and customer relationships.\n",
    "    Use the provided tools to answer questions. \n",
    "    when returning information, try to always return not just the factual attribute data but also\n",
    "    codes, skus, and ids to allow the other agents to investigate them more.\n",
    "    \"\"\",\n",
    "    tools=[\n",
    "        get_item,\n",
    "        get_known_item_country_dependencies,\n",
    "        get_item_bill_of_materials,\n",
    "        get_standard_country_codes_and_names,\n",
    "        get_finished_product_families,\n",
    "        get_products_with_country_dependencies,\n",
    "        get_component_families,\n",
    "        get_supplier_substitutions,\n",
    "        get_finished_products_depending_on_items\n",
    "    ]\n",
    ")"
   ],
   "outputs": [],
   "execution_count": 50
  },
  {
   "metadata": {},
   "cell_type": "markdown",
   "source": "# Define Root Agent"
  },
  {
   "cell_type": "code",
   "metadata": {
    "id": "FSlyylN9HBJh",
    "tags": [],
    "ExecuteTime": {
     "end_time": "2025-05-29T12:51:03.228736Z",
     "start_time": "2025-05-29T12:51:03.225990Z"
    }
   },
   "source": [
    "root_agent = Agent(\n",
    "    model=MODEL,\n",
    "    name='bom_supplier_agent',\n",
    "    global_instruction = \"\",\n",
    "    instruction=\"\"\"\n",
    "    You are an agent that has access to a database of bill of materials (BOM), supplier, product/component, and customer relationships.\n",
    "    You have a set of agents to retrieve information, you should prefer the research agents over the database agent - particularly for questions around bill of materials, component & product info, and country dependencies. Only use the database agent if you have to as a fallback.\n",
    "    If the user requests it, do render tables, charts or other artifacts with the research results.\n",
    "    \"\"\",\n",
    "\n",
    "    sub_agents=[bom_supplier_research_agent, database_agent]\n",
    ")"
   ],
   "outputs": [],
   "execution_count": 51
  },
  {
   "cell_type": "markdown",
   "metadata": {
    "id": "4yRbuebi-Zh6"
   },
   "source": [
    "# Let's try it\n",
    "\n",
    "You can [run the ADK locally](https://google.github.io/adk-docs/get-started/local-testing/#expected-output) a web application with `adk web` or the FastAPI server with `adk api_server`.\n",
    "\n",
    "You can also deploy the agent to [Cloud Run](https://google.github.io/adk-docs/deploy/cloud-run/) or to [Agent Engine](https://google.github.io/adk-docs/deploy/agent-engine/)."
   ]
  },
  {
   "cell_type": "code",
   "metadata": {
    "id": "tyGD1YGaVVK6",
    "tags": [],
    "ExecuteTime": {
     "end_time": "2025-05-29T12:51:08.623461Z",
     "start_time": "2025-05-29T12:51:08.620973Z"
    }
   },
   "source": [
    "APP_NAME = 'BOM & Supplier Analyst'\n",
    "USER_ID = 'Zach Blumenfeld'\n",
    "\n",
    "from google.adk.runners import InMemoryRunner\n",
    "from google.genai.types import Part, UserContent\n",
    "\n",
    "\n",
    "runner = InMemoryRunner(app_name=APP_NAME, agent=root_agent)\n",
    "\n",
    "session = await runner.session_service.create_session(app_name=runner.app_name, user_id=USER_ID)"
   ],
   "outputs": [],
   "execution_count": 52
  },
  {
   "metadata": {
    "ExecuteTime": {
     "end_time": "2025-05-29T12:51:16.848262Z",
     "start_time": "2025-05-29T12:51:16.845836Z"
    }
   },
   "cell_type": "code",
   "source": [
    "async def run_prompt(new_message: str):\n",
    "  content = UserContent(parts=[Part(text=new_message)])\n",
    "# print (content)\n",
    "  result = None\n",
    "  async for event in runner.run_async(user_id=USER_ID, session_id=session.id, new_message=content):\n",
    "#    print(event.content.model_dump(exclude_none=True))\n",
    "#    print(event.content.parts)\n",
    "    for part in event.content.parts:\n",
    "      print(part.text, part.function_call, part.function_response)\n",
    "      if part.text:\n",
    "#        print(part.text)\n",
    "        result = part.text\n",
    "  return result"
   ],
   "outputs": [],
   "execution_count": 54
  },
  {
   "cell_type": "code",
   "metadata": {
    "colab": {
     "base_uri": "https://localhost:8080/",
     "height": 288
    },
    "id": "L_7x-n3Q1km9",
    "outputId": "3d4496d4-3f0e-4a1b-ab60-ab26246ff54a",
    "tags": [],
    "ExecuteTime": {
     "end_time": "2025-05-29T12:51:28.372828Z",
     "start_time": "2025-05-29T12:51:21.529341Z"
    }
   },
   "source": [
    "from IPython.display import Markdown, display\n",
    "\n",
    "res = await run_prompt('what types of finished products are there?')\n",
    "print(\"\\n\\n\\n\\nFinal Response:\")\n",
    "display(Markdown(res))"
   ],
   "outputs": [
    {
     "name": "stdout",
     "output_type": "stream",
     "text": [
      "None id='adk-09c31298-d001-499f-aee2-6c6d73e942e0' args={'agent_name': 'bom_supplier_research_agent'} name='transfer_to_agent' None\n",
      "None None will_continue=None scheduling=None id='adk-09c31298-d001-499f-aee2-6c6d73e942e0' name='transfer_to_agent' response={}\n",
      "None id='adk-ca71be1e-1fc9-4362-903a-e6b32b43ce56' args={} name='get_finished_product_families' None\n",
      "None None will_continue=None scheduling=None id='adk-ca71be1e-1fc9-4362-903a-e6b32b43ce56' name='get_finished_product_families' response={'result': [{'family': 'FarmTractor', 'numberOfProducts': 21521}, {'family': 'SeedPlanter', 'numberOfProducts': 21488}, {'family': 'FieldSprayer', 'numberOfProducts': 21519}, {'family': 'CropHarvester', 'numberOfProducts': 21406}, {'family': 'HayCollector', 'numberOfProducts': 21671}, {'family': 'CabWiringUnit', 'numberOfProducts': 17}, {'family': 'ControlAssembly', 'numberOfProducts': 9}, {'family': 'MachineRig', 'numberOfProducts': 14}, {'family': 'HydraulicSystem', 'numberOfProducts': 3}, {'family': 'ChassisFrame', 'numberOfProducts': 9}, {'family': 'DrivePlatform', 'numberOfProducts': 10}]}\n",
      "The following are the types of finished product families:\n",
      "FarmTractor: 21521 products\n",
      "SeedPlanter: 21488 products\n",
      "FieldSprayer: 21519 products\n",
      "CropHarvester: 21406 products\n",
      "HayCollector: 21671 products\n",
      "CabWiringUnit: 17 products\n",
      "ControlAssembly: 9 products\n",
      "MachineRig: 14 products\n",
      "HydraulicSystem: 3 products\n",
      "ChassisFrame: 9 products\n",
      "DrivePlatform: 10 products None None\n",
      "\n",
      "\n",
      "\n",
      "\n",
      "Final Response:\n"
     ]
    },
    {
     "data": {
      "text/plain": [
       "<IPython.core.display.Markdown object>"
      ],
      "text/markdown": "The following are the types of finished product families:\nFarmTractor: 21521 products\nSeedPlanter: 21488 products\nFieldSprayer: 21519 products\nCropHarvester: 21406 products\nHayCollector: 21671 products\nCabWiringUnit: 17 products\nControlAssembly: 9 products\nMachineRig: 14 products\nHydraulicSystem: 3 products\nChassisFrame: 9 products\nDrivePlatform: 10 products"
     },
     "metadata": {},
     "output_type": "display_data"
    }
   ],
   "execution_count": 55
  },
  {
   "cell_type": "code",
   "metadata": {
    "ExecuteTime": {
     "end_time": "2025-05-29T12:51:45.854907Z",
     "start_time": "2025-05-29T12:51:34.083111Z"
    }
   },
   "source": [
    "res = await run_prompt('Can you summarize the BOM and potential country dependencies for product \"35472245A\"')\n",
    "print(\"\\n\\n\\n\\nFinal Response:\")\n",
    "display(Markdown(res))"
   ],
   "outputs": [
    {
     "name": "stdout",
     "output_type": "stream",
     "text": [
      "None id='adk-ea35e515-ce29-44bd-aef7-207f6438736f' args={'sku_id': '35472245A'} name='get_item_bill_of_materials' None\n",
      "None id='adk-b37901d8-1876-4dde-bd88-68fb9f7c492f' args={'sku_id': '35472245A'} name='get_known_item_country_dependencies' None\n",
      "None None will_continue=None scheduling=None id='adk-ea35e515-ce29-44bd-aef7-207f6438736f' name='get_item_bill_of_materials' response={'result': [{'supply_chain_dependency': ' <- 35472245 (CabWiringUnit_Z5OO3)'}, {'supply_chain_dependency': ' <- 35472245 (CabWiringUnit_Z5OO3) <- M6495003X (DrivePlatform_SBK8U)'}, {'supply_chain_dependency': ' <- 35472245 (CabWiringUnit_Z5OO3) <- M6499003X (MachineRig_RFYOE)'}, {'supply_chain_dependency': ' <- 35472245 (CabWiringUnit_Z5OO3) <- M6499002X (HydraulicSystem_EE22P)'}, {'supply_chain_dependency': ' <- 35472245 (CabWiringUnit_Z5OO3) <- 35370826 (MachineRig_INWWQ)'}, {'supply_chain_dependency': ' <- 35472245 (CabWiringUnit_Z5OO3) <- 35433612 (ChassisFrame_2GN2W)'}, {'supply_chain_dependency': ' <- 35472245 (CabWiringUnit_Z5OO3) <- 35475030 (ElectricalControlBox_6ROWJ)'}, {'supply_chain_dependency': ' <- 35472245 (CabWiringUnit_Z5OO3) <- 28028534X (ControlAssembly_JRO9M)'}, {'supply_chain_dependency': ' <- 35472245 (CabWiringUnit_Z5OO3) <- 35475154X (CabWiringUnit_VT75O)'}, {'supply_chain_dependency': ' <- 35472245 (CabWiringUnit_Z5OO3) <- 35475154X (CabWiringUnit_VT75O) <- M3571002BX (CabWiringUnit_A9FH4)'}, {'supply_chain_dependency': ' <- 35472245 (CabWiringUnit_Z5OO3) <- 16031437X (CabWiringUnit_EMMHN)'}, {'supply_chain_dependency': ' <- 35472245 (CabWiringUnit_Z5OO3) <- 9396465X (ControlAssembly_0IVY8)'}, {'supply_chain_dependency': ' <- 35472245 (CabWiringUnit_Z5OO3) <- 35464217 (ChassisFrame_E5AF5)'}, {'supply_chain_dependency': ' <- 35472245 (CabWiringUnit_Z5OO3) <- 35472500 (MachineRig_2DXYC)'}, {'supply_chain_dependency': ' <- 35472245 (CabWiringUnit_Z5OO3) <- 35670669X (ChassisFrame_7T52A)'}, {'supply_chain_dependency': ' <- 35472245 (CabWiringUnit_Z5OO3) <- 9396276X (DrivePlatform_7A4OC)'}, {'supply_chain_dependency': ' <- 35472245 (CabWiringUnit_Z5OO3) <- 33225099X (ChassisFrame_AC8YY)'}, {'supply_chain_dependency': ' <- 35472245 (CabWiringUnit_Z5OO3) <- 9396196X (HydraulicSystem_DT9FC)'}, {'supply_chain_dependency': ' <- 35472245 (CabWiringUnit_Z5OO3) <- 16087854X (ChassisFrame_ONS5D)'}, {'supply_chain_dependency': ' <- 35472245 (CabWiringUnit_Z5OO3) <- 16087891X (HydraulicSystem_D21RL)'}, {'supply_chain_dependency': ' <- 35472245 (CabWiringUnit_Z5OO3) <- 16087850X (DrivePlatform_0Q8IF)'}, {'supply_chain_dependency': ' <- 35472245 (CabWiringUnit_Z5OO3) <- 35458978X (ChassisFrame_G6VC6)'}, {'supply_chain_dependency': ' <- 35472245 (CabWiringUnit_Z5OO3) <- 9396190X (CabWiringUnit_K1JQL)'}, {'supply_chain_dependency': ' <- 35472245 (CabWiringUnit_Z5OO3) <- 9396303X (HydraulicSystem_RDXWF)'}, {'supply_chain_dependency': ' <- 35472245 (CabWiringUnit_Z5OO3) <- 33131665X (ControlAssembly_UIV10)'}, {'supply_chain_dependency': ' <- 35472245 (CabWiringUnit_Z5OO3) <- 35473640X (MachineRig_VMN1B)'}, {'supply_chain_dependency': ' <- 35472245 (CabWiringUnit_Z5OO3) <- 35473640X (MachineRig_VMN1B) <- M3571001BX (ControlAssembly_FTEVP)'}, {'supply_chain_dependency': ' <- 35472245 (CabWiringUnit_Z5OO3) <- 35473640X (MachineRig_VMN1B) <- M5772008X (HydraulicSystem_BGWHS)'}, {'supply_chain_dependency': ' <- 35472245 (CabWiringUnit_Z5OO3) <- 35431325 (HydraulicSystem_MKHY3)'}, {'supply_chain_dependency': ' <- 35472245 (CabWiringUnit_Z5OO3) <- 35523080X (CabWiringUnit_UJ3OE)'}, {'supply_chain_dependency': ' <- 35472245 (CabWiringUnit_Z5OO3) <- 35523080X (CabWiringUnit_UJ3OE) <- M7307U91X (RawWire_YCBEO)'}, {'supply_chain_dependency': ' <- 35472245 (CabWiringUnit_Z5OO3) <- 35523087X (CabWiringUnit_CZ0N2)'}, {'supply_chain_dependency': ' <- 35472245 (CabWiringUnit_Z5OO3) <- 35523087X (CabWiringUnit_CZ0N2) <- M7307U92X (PrecisionBolt_O12J1)'}, {'supply_chain_dependency': ' <- 35472245 (CabWiringUnit_Z5OO3) <- 35523089X (DrivePlatform_ZB6KE)'}, {'supply_chain_dependency': ' <- 35472245 (CabWiringUnit_Z5OO3) <- 35523089X (DrivePlatform_ZB6KE) <- M7307U93X (Fastener_CP82S)'}, {'supply_chain_dependency': ' <- 35472245 (CabWiringUnit_Z5OO3) <- 35464158 (MachineRig_OGD8S)'}, {'supply_chain_dependency': ' <- 35472245 (CabWiringUnit_Z5OO3) <- 35115833 (DrivePlatform_TIX6V)'}, {'supply_chain_dependency': ' <- 35472245 (CabWiringUnit_Z5OO3) <- 35464163 (CabWiringUnit_1S7KD)'}]}\n",
      "None None will_continue=None scheduling=None id='adk-b37901d8-1876-4dde-bd88-68fb9f7c492f' name='get_known_item_country_dependencies' response={'result': [{'sku_id': 'M7307U91X', 'name': 'RawWire_YCBEO', 'known_country_dependencies': [{'dependency': 'sourcing raw copper cathode', 'country': 'Chile'}, {'dependency': 'drawing and annealing facilities', 'country': 'Mexico'}, {'dependency': 'drawing and annealing facilities', 'country': 'Viet Nam'}, {'dependency': 'sourcing raw copper cathode', 'country': 'Peru'}], 'supply_chain_dependency': ' <- 35472245 (CabWiringUnit_Z5OO3) <- 35523080X (CabWiringUnit_UJ3OE) <- M7307U91X (RawWire_YCBEO)'}, {'sku_id': 'M7307U92X', 'name': 'PrecisionBolt_O12J1', 'known_country_dependencies': [{'dependency': 'final machining and threading processes', 'country': 'United States of America'}, {'dependency': 'sourcing raw titanium sponge', 'country': 'Japan'}, {'dependency': 'procuring alloying elements (aluminum and vanadium)', 'country': 'Russian Federation'}], 'supply_chain_dependency': ' <- 35472245 (CabWiringUnit_Z5OO3) <- 35523087X (CabWiringUnit_CZ0N2) <- M7307U92X (PrecisionBolt_O12J1)'}, {'sku_id': 'M7307U93X', 'name': 'Fastener_CP82S', 'known_country_dependencies': [{'dependency': 'Precision forging.', 'country': 'Germany'}, {'dependency': 'Sourcing raw titanium.', 'country': 'Russian Federation'}], 'supply_chain_dependency': ' <- 35472245 (CabWiringUnit_Z5OO3) <- 35523089X (DrivePlatform_ZB6KE) <- M7307U93X (Fastener_CP82S)'}]}\n",
      "Summary for product 35472245A:\n",
      "\n",
      "Bill of Materials:\n",
      "The product 35472245A (CabWiringUnit_Z5OO3) has an extensive BOM. Here are a few examples of its dependencies:\n",
      "*   Directly depends on: M6495003X (DrivePlatform_SBK8U), M6499003X (MachineRig_RFYOE), M6499002X (HydraulicSystem_EE22P), and many others.\n",
      "*   Indirectly depends on items such as M3571002BX (CabWiringUnit_A9FH4) through 35475154X (CabWiringUnit_VT75O), and M7307U91X (RawWire_YCBEO) through 35523080X (CabWiringUnit_UJ3OE).\n",
      "\n",
      "Potential Country Dependencies:\n",
      "The product 35472245A has several potential country dependencies through its components:\n",
      "*   RawWire_YCBEO (M7307U91X):\n",
      "    *   Sourcing raw copper cathode: Chile, Peru\n",
      "    *   Drawing and annealing facilities: Mexico, Viet Nam\n",
      "    *   Supply chain path: ... <- 35523080X (CabWiringUnit_UJ3OE) <- M7307U91X (RawWire_YCBEO)\n",
      "*   PrecisionBolt_O12J1 (M7307U92X):\n",
      "    *   Final machining and threading processes: United States of America\n",
      "    *   Sourcing raw titanium sponge: Japan\n",
      "    *   Procuring alloying elements (aluminum and vanadium): Russian Federation\n",
      "    *   Supply chain path: ... <- 35523087X (CabWiringUnit_CZ0N2) <- M7307U92X (PrecisionBolt_O12J1)\n",
      "*   Fastener_CP82S (M7307U93X):\n",
      "    *   Precision forging: Germany\n",
      "    *   Sourcing raw titanium: Russian Federation\n",
      "    *   Supply chain path: ... <- 35523089X (DrivePlatform_ZB6KE) <- M7307U93X (Fastener_CP82S)\n",
      "\n",
      "This summary highlights the complexity of the supply chain for 35472245A and its potential vulnerabilities due to geographic dependencies. None None\n",
      "\n",
      "\n",
      "\n",
      "\n",
      "Final Response:\n"
     ]
    },
    {
     "data": {
      "text/plain": [
       "<IPython.core.display.Markdown object>"
      ],
      "text/markdown": "Summary for product 35472245A:\n\nBill of Materials:\nThe product 35472245A (CabWiringUnit_Z5OO3) has an extensive BOM. Here are a few examples of its dependencies:\n*   Directly depends on: M6495003X (DrivePlatform_SBK8U), M6499003X (MachineRig_RFYOE), M6499002X (HydraulicSystem_EE22P), and many others.\n*   Indirectly depends on items such as M3571002BX (CabWiringUnit_A9FH4) through 35475154X (CabWiringUnit_VT75O), and M7307U91X (RawWire_YCBEO) through 35523080X (CabWiringUnit_UJ3OE).\n\nPotential Country Dependencies:\nThe product 35472245A has several potential country dependencies through its components:\n*   RawWire_YCBEO (M7307U91X):\n    *   Sourcing raw copper cathode: Chile, Peru\n    *   Drawing and annealing facilities: Mexico, Viet Nam\n    *   Supply chain path: ... <- 35523080X (CabWiringUnit_UJ3OE) <- M7307U91X (RawWire_YCBEO)\n*   PrecisionBolt_O12J1 (M7307U92X):\n    *   Final machining and threading processes: United States of America\n    *   Sourcing raw titanium sponge: Japan\n    *   Procuring alloying elements (aluminum and vanadium): Russian Federation\n    *   Supply chain path: ... <- 35523087X (CabWiringUnit_CZ0N2) <- M7307U92X (PrecisionBolt_O12J1)\n*   Fastener_CP82S (M7307U93X):\n    *   Precision forging: Germany\n    *   Sourcing raw titanium: Russian Federation\n    *   Supply chain path: ... <- 35523089X (DrivePlatform_ZB6KE) <- M7307U93X (Fastener_CP82S)\n\nThis summary highlights the complexity of the supply chain for 35472245A and its potential vulnerabilities due to geographic dependencies."
     },
     "metadata": {},
     "output_type": "display_data"
    }
   ],
   "execution_count": 56
  },
  {
   "cell_type": "code",
   "metadata": {
    "ExecuteTime": {
     "end_time": "2025-05-29T12:52:21.740094Z",
     "start_time": "2025-05-29T12:52:03.613286Z"
    }
   },
   "source": [
    "res = await run_prompt('What products depend on Canada for nickel?')\n",
    "print(\"\\n\\n\\n\\nFinal Response:\")\n",
    "display(Markdown(res))"
   ],
   "outputs": [
    {
     "name": "stdout",
     "output_type": "stream",
     "text": [
      "None id='adk-9e2ca89a-71a6-45a4-a08c-e090dfff2c47' args={} name='get_standard_country_codes_and_names' None\n",
      "None None will_continue=None scheduling=None id='adk-9e2ca89a-71a6-45a4-a08c-e090dfff2c47' name='get_standard_country_codes_and_names' response={'result': [{'code': 'AUS', 'name': 'Australia'}, {'code': 'BEL', 'name': 'Belgium'}, {'code': 'BRA', 'name': 'Brazil'}, {'code': 'CAN', 'name': 'Canada'}, {'code': 'CHE', 'name': 'Switzerland'}, {'code': 'CHL', 'name': 'Chile'}, {'code': 'CHN', 'name': 'China'}, {'code': 'COL', 'name': 'Colombia'}, {'code': 'DEU', 'name': 'Germany'}, {'code': 'EGY', 'name': 'Egypt'}, {'code': 'GIN', 'name': 'Guinea'}, {'code': 'IDN', 'name': 'Indonesia'}, {'code': 'IND', 'name': 'India'}, {'code': 'IRL', 'name': 'Ireland'}, {'code': 'ISL', 'name': 'Iceland'}, {'code': 'ITA', 'name': 'Italy'}, {'code': 'JPN', 'name': 'Japan'}, {'code': 'KAZ', 'name': 'Kazakhstan'}, {'code': 'KOR', 'name': 'Korea, Republic of'}, {'code': 'MAR', 'name': 'Morocco'}, {'code': 'MEX', 'name': 'Mexico'}, {'code': 'MYS', 'name': 'Malaysia'}, {'code': 'NOR', 'name': 'Norway'}, {'code': 'PER', 'name': 'Peru'}, {'code': 'PHL', 'name': 'Philippines'}, {'code': 'POL', 'name': 'Poland'}, {'code': 'QAT', 'name': 'Qatar'}, {'code': 'RUS', 'name': 'Russian Federation'}, {'code': 'SAU', 'name': 'Saudi Arabia'}, {'code': 'SWE', 'name': 'Sweden'}, {'code': 'THA', 'name': 'Thailand'}, {'code': 'TUR', 'name': 'Turkey'}, {'code': 'TWN', 'name': 'Taiwan, Province of China'}, {'code': 'UKR', 'name': 'Ukraine'}, {'code': 'USA', 'name': 'United States of America'}, {'code': 'VNM', 'name': 'Viet Nam'}, {'code': 'ZAF', 'name': 'South Africa'}, {'code': 'ZMB', 'name': 'Zambia'}]}\n",
      "None id='adk-9f93e335-e021-4ec8-8e53-ac245a6e5de8' args={'dependency_search_term': 'nickel', 'country_code': 'CAN'} name='get_products_with_country_dependencies' None\n",
      "None None will_continue=None scheduling=None id='adk-9f93e335-e021-4ec8-8e53-ac245a6e5de8' name='get_products_with_country_dependencies' response={'result': [{'product_sku_id': '35298723', 'product_name': 'FieldSprayer_BE9WW', 'dependencies': [{'supply_chain_dependency_for_product': ' <- E0301006 (PrecisionBolt_66KS7)', 'depends_on_item_sku_id': 'E0301006', 'depends_on_item_name': 'PrecisionBolt_66KS7', 'country_dependency_of_item': [{'dependency': 'sourcing nickel for alloy', 'country': 'Canada'}]}]}, {'product_sku_id': '35298721', 'product_name': 'SeedPlanter_DJG7M', 'dependencies': [{'supply_chain_dependency_for_product': ' <- E0301006 (PrecisionBolt_66KS7)', 'depends_on_item_sku_id': 'E0301006', 'depends_on_item_name': 'PrecisionBolt_66KS7', 'country_dependency_of_item': [{'dependency': 'sourcing nickel for alloy', 'country': 'Canada'}]}]}, {'product_sku_id': '35701269', 'product_name': 'FarmTractor_2DYUV', 'dependencies': [{'supply_chain_dependency_for_product': ' <- 13978746 (CabWiringUnit_EVKCK) <- D0301002 (PrecisionBolt_252A1)', 'depends_on_item_sku_id': 'D0301002', 'depends_on_item_name': 'PrecisionBolt_252A1', 'country_dependency_of_item': [{'dependency': 'sourcing nickel', 'country': 'Canada'}]}]}, {'product_sku_id': '35561992', 'product_name': 'SeedPlanter_WM8Z2', 'dependencies': [{'supply_chain_dependency_for_product': ' <- 13978746 (CabWiringUnit_EVKCK) <- D0301002 (PrecisionBolt_252A1)', 'depends_on_item_sku_id': 'D0301002', 'depends_on_item_name': 'PrecisionBolt_252A1', 'country_dependency_of_item': [{'dependency': 'sourcing nickel', 'country': 'Canada'}]}]}, {'product_sku_id': '35733612', 'product_name': 'CropHarvester_ZHSAB', 'dependencies': [{'supply_chain_dependency_for_product': ' <- 13978746 (CabWiringUnit_EVKCK) <- D0301002 (PrecisionBolt_252A1)', 'depends_on_item_sku_id': 'D0301002', 'depends_on_item_name': 'PrecisionBolt_252A1', 'country_dependency_of_item': [{'dependency': 'sourcing nickel', 'country': 'Canada'}]}]}, {'product_sku_id': '35513559', 'product_name': 'FarmTractor_VLM4F', 'dependencies': [{'supply_chain_dependency_for_product': ' <- 13978746 (CabWiringUnit_EVKCK) <- D0301002 (PrecisionBolt_252A1)', 'depends_on_item_sku_id': 'D0301002', 'depends_on_item_name': 'PrecisionBolt_252A1', 'country_dependency_of_item': [{'dependency': 'sourcing nickel', 'country': 'Canada'}]}]}, {'product_sku_id': '35733576', 'product_name': 'FarmTractor_2QT51', 'dependencies': [{'supply_chain_dependency_for_product': ' <- 13978746 (CabWiringUnit_EVKCK) <- D0301002 (PrecisionBolt_252A1)', 'depends_on_item_sku_id': 'D0301002', 'depends_on_item_name': 'PrecisionBolt_252A1', 'country_dependency_of_item': [{'dependency': 'sourcing nickel', 'country': 'Canada'}]}]}, {'product_sku_id': '35861688', 'product_name': 'CropHarvester_V1GUY', 'dependencies': [{'supply_chain_dependency_for_product': ' <- 13952372 (ChassisFrame_3AC3Z) <- D0301002 (PrecisionBolt_252A1)', 'depends_on_item_sku_id': 'D0301002', 'depends_on_item_name': 'PrecisionBolt_252A1', 'country_dependency_of_item': [{'dependency': 'sourcing nickel', 'country': 'Canada'}]}]}, {'product_sku_id': '35775932', 'product_name': 'HayCollector_4APNS', 'dependencies': [{'supply_chain_dependency_for_product': ' <- 13952372 (ChassisFrame_3AC3Z) <- D0301002 (PrecisionBolt_252A1)', 'depends_on_item_sku_id': 'D0301002', 'depends_on_item_name': 'PrecisionBolt_252A1', 'country_dependency_of_item': [{'dependency': 'sourcing nickel', 'country': 'Canada'}]}]}, {'product_sku_id': '35839618', 'product_name': 'HayCollector_UWIBH', 'dependencies': [{'supply_chain_dependency_for_product': ' <- 13952372 (ChassisFrame_3AC3Z) <- D0301002 (PrecisionBolt_252A1)', 'depends_on_item_sku_id': 'D0301002', 'depends_on_item_name': 'PrecisionBolt_252A1', 'country_dependency_of_item': [{'dependency': 'sourcing nickel', 'country': 'Canada'}]}]}, {'product_sku_id': '35764312', 'product_name': 'FieldSprayer_KHWK2', 'dependencies': [{'supply_chain_dependency_for_product': ' <- 13952372 (ChassisFrame_3AC3Z) <- D0301002 (PrecisionBolt_252A1)', 'depends_on_item_sku_id': 'D0301002', 'depends_on_item_name': 'PrecisionBolt_252A1', 'country_dependency_of_item': [{'dependency': 'sourcing nickel', 'country': 'Canada'}]}]}, {'product_sku_id': '35764334', 'product_name': 'HayCollector_6S90S', 'dependencies': [{'supply_chain_dependency_for_product': ' <- 13952372 (ChassisFrame_3AC3Z) <- D0301002 (PrecisionBolt_252A1)', 'depends_on_item_sku_id': 'D0301002', 'depends_on_item_name': 'PrecisionBolt_252A1', 'country_dependency_of_item': [{'dependency': 'sourcing nickel', 'country': 'Canada'}]}]}, {'product_sku_id': '35860398', 'product_name': 'CropHarvester_ABK76', 'dependencies': [{'supply_chain_dependency_for_product': ' <- 13952372 (ChassisFrame_3AC3Z) <- D0301002 (PrecisionBolt_252A1)', 'depends_on_item_sku_id': 'D0301002', 'depends_on_item_name': 'PrecisionBolt_252A1', 'country_dependency_of_item': [{'dependency': 'sourcing nickel', 'country': 'Canada'}]}]}, {'product_sku_id': '35839611', 'product_name': 'SeedPlanter_3J2JW', 'dependencies': [{'supply_chain_dependency_for_product': ' <- 13952372 (ChassisFrame_3AC3Z) <- D0301002 (PrecisionBolt_252A1)', 'depends_on_item_sku_id': 'D0301002', 'depends_on_item_name': 'PrecisionBolt_252A1', 'country_dependency_of_item': [{'dependency': 'sourcing nickel', 'country': 'Canada'}]}]}, {'product_sku_id': '35775931', 'product_name': 'FarmTractor_VOL6Y', 'dependencies': [{'supply_chain_dependency_for_product': ' <- 13952372 (ChassisFrame_3AC3Z) <- D0301002 (PrecisionBolt_252A1)', 'depends_on_item_sku_id': 'D0301002', 'depends_on_item_name': 'PrecisionBolt_252A1', 'country_dependency_of_item': [{'dependency': 'sourcing nickel', 'country': 'Canada'}]}]}, {'product_sku_id': '35845787', 'product_name': 'FarmTractor_IUP4U', 'dependencies': [{'supply_chain_dependency_for_product': ' <- 13952372 (ChassisFrame_3AC3Z) <- D0301002 (PrecisionBolt_252A1)', 'depends_on_item_sku_id': 'D0301002', 'depends_on_item_name': 'PrecisionBolt_252A1', 'country_dependency_of_item': [{'dependency': 'sourcing nickel', 'country': 'Canada'}]}]}, {'product_sku_id': '35839613', 'product_name': 'FieldSprayer_63AJB', 'dependencies': [{'supply_chain_dependency_for_product': ' <- 13952372 (ChassisFrame_3AC3Z) <- D0301002 (PrecisionBolt_252A1)', 'depends_on_item_sku_id': 'D0301002', 'depends_on_item_name': 'PrecisionBolt_252A1', 'country_dependency_of_item': [{'dependency': 'sourcing nickel', 'country': 'Canada'}]}]}, {'product_sku_id': '35841324', 'product_name': 'FarmTractor_HKVNA', 'dependencies': [{'supply_chain_dependency_for_product': ' <- 13952372 (ChassisFrame_3AC3Z) <- D0301002 (PrecisionBolt_252A1)', 'depends_on_item_sku_id': 'D0301002', 'depends_on_item_name': 'PrecisionBolt_252A1', 'country_dependency_of_item': [{'dependency': 'sourcing nickel', 'country': 'Canada'}]}]}, {'product_sku_id': '35764331', 'product_name': 'FarmTractor_LA44E', 'dependencies': [{'supply_chain_dependency_for_product': ' <- 13952372 (ChassisFrame_3AC3Z) <- D0301002 (PrecisionBolt_252A1)', 'depends_on_item_sku_id': 'D0301002', 'depends_on_item_name': 'PrecisionBolt_252A1', 'country_dependency_of_item': [{'dependency': 'sourcing nickel', 'country': 'Canada'}]}]}, {'product_sku_id': '35841333', 'product_name': 'SeedPlanter_1P2R4', 'dependencies': [{'supply_chain_dependency_for_product': ' <- 13952372 (ChassisFrame_3AC3Z) <- D0301002 (PrecisionBolt_252A1)', 'depends_on_item_sku_id': 'D0301002', 'depends_on_item_name': 'PrecisionBolt_252A1', 'country_dependency_of_item': [{'dependency': 'sourcing nickel', 'country': 'Canada'}]}]}, {'product_sku_id': '35839620', 'product_name': 'CropHarvester_YSN76', 'dependencies': [{'supply_chain_dependency_for_product': ' <- 13952372 (ChassisFrame_3AC3Z) <- D0301002 (PrecisionBolt_252A1)', 'depends_on_item_sku_id': 'D0301002', 'depends_on_item_name': 'PrecisionBolt_252A1', 'country_dependency_of_item': [{'dependency': 'sourcing nickel', 'country': 'Canada'}]}]}, {'product_sku_id': '35861691', 'product_name': 'SeedPlanter_D9K9H', 'dependencies': [{'supply_chain_dependency_for_product': ' <- 13952372 (ChassisFrame_3AC3Z) <- D0301002 (PrecisionBolt_252A1)', 'depends_on_item_sku_id': 'D0301002', 'depends_on_item_name': 'PrecisionBolt_252A1', 'country_dependency_of_item': [{'dependency': 'sourcing nickel', 'country': 'Canada'}]}]}, {'product_sku_id': '35866296', 'product_name': 'HayCollector_RVK3E', 'dependencies': [{'supply_chain_dependency_for_product': ' <- 13952372 (ChassisFrame_3AC3Z) <- D0301002 (PrecisionBolt_252A1)', 'depends_on_item_sku_id': 'D0301002', 'depends_on_item_name': 'PrecisionBolt_252A1', 'country_dependency_of_item': [{'dependency': 'sourcing nickel', 'country': 'Canada'}]}]}, {'product_sku_id': '35764327', 'product_name': 'CropHarvester_9YZB9', 'dependencies': [{'supply_chain_dependency_for_product': ' <- 13952372 (ChassisFrame_3AC3Z) <- D0301002 (PrecisionBolt_252A1)', 'depends_on_item_sku_id': 'D0301002', 'depends_on_item_name': 'PrecisionBolt_252A1', 'country_dependency_of_item': [{'dependency': 'sourcing nickel', 'country': 'Canada'}]}]}]}\n",
      "The following products depend on Canada for nickel:\n",
      "*   **FieldSprayer_BE9WW (35298723)** depends on PrecisionBolt_66KS7 (E0301006) which sources nickel for alloy from Canada.\n",
      "*   **SeedPlanter_DJG7M (35298721)** depends on PrecisionBolt_66KS7 (E0301006) which sources nickel for alloy from Canada.\n",
      "*   **FarmTractor_2DYUV (35701269)** depends on PrecisionBolt_252A1 (D0301002) through CabWiringUnit_EVKCK (13978746), which sources nickel from Canada.\n",
      "*   **SeedPlanter_WM8Z2 (35561992)** depends on PrecisionBolt_252A1 (D0301002) through CabWiringUnit_EVKCK (13978746), which sources nickel from Canada.\n",
      "*   **CropHarvester_ZHSAB (35733612)** depends on PrecisionBolt_252A1 (D0301002) through CabWiringUnit_EVKCK (13978746), which sources nickel from Canada.\n",
      "*   **FarmTractor_VLM4F (35513559)** depends on PrecisionBolt_252A1 (D0301002) through CabWiringUnit_EVKCK (13978746), which sources nickel from Canada.\n",
      "*   **FarmTractor_2QT51 (35733576)** depends on PrecisionBolt_252A1 (D0301002) through CabWiringUnit_EVKCK (13978746), which sources nickel from Canada.\n",
      "*   **CropHarvester_V1GUY (35861688)** depends on PrecisionBolt_252A1 (D0301002) through ChassisFrame_3AC3Z (13952372), which sources nickel from Canada.\n",
      "*   **HayCollector_4APNS (35775932)** depends on PrecisionBolt_252A1 (D0301002) through ChassisFrame_3AC3Z (13952372), which sources nickel from Canada.\n",
      "*   **HayCollector_UWIBH (35839618)** depends on PrecisionBolt_252A1 (D0301002) through ChassisFrame_3AC3Z (13952372), which sources nickel from Canada.\n",
      "*   **FieldSprayer_KHWK2 (35764312)** depends on PrecisionBolt_252A1 (D0301002) through ChassisFrame_3AC3Z (13952372), which sources nickel from Canada.\n",
      "*   **HayCollector_6S90S (35764334)** depends on PrecisionBolt_252A1 (D0301002) through ChassisFrame_3AC3Z (13952372), which sources nickel from Canada.\n",
      "*   **CropHarvester_ABK76 (35860398)** depends on PrecisionBolt_252A1 (D0301002) through ChassisFrame_3AC3Z (13952372), which sources nickel from Canada.\n",
      "*   **SeedPlanter_3J2JW (35839611)** depends on PrecisionBolt_252A1 (D0301002) through ChassisFrame_3AC3Z (13952372), which sources nickel from Canada.\n",
      "*   **FarmTractor_VOL6Y (35775931)** depends on PrecisionBolt_252A1 (D0301002) through ChassisFrame_3AC3Z (13952372), which sources nickel from Canada.\n",
      "*   **FarmTractor_IUP4U (35845787)** depends on PrecisionBolt_252A1 (D0301002) through ChassisFrame_3AC3Z (13952372), which sources nickel from Canada.\n",
      "*   **FieldSprayer_63AJB (35839613)** depends on PrecisionBolt_252A1 (D0301002) through ChassisFrame_3AC3Z (13952372), which sources nickel from Canada.\n",
      "*   **FarmTractor_HKVNA (35841324)** depends on PrecisionBolt_252A1 (D0301002) through ChassisFrame_3AC3Z (13952372), which sources nickel from Canada.\n",
      "*   **FarmTractor_LA44E (35764331)** depends on PrecisionBolt_252A1 (D0301002) through ChassisFrame_3AC3Z (13952372), which sources nickel from Canada.\n",
      "*   **SeedPlanter_1P2R4 (35841333)** depends on PrecisionBolt_252A1 (D0301002) through ChassisFrame_3AC3Z (13952372), which sources nickel from Canada.\n",
      "*   **CropHarvester_YSN76 (35839620)** depends on PrecisionBolt_252A1 (D0301002) through ChassisFrame_3AC3Z (13952372), which sources nickel from Canada.\n",
      "*   **SeedPlanter_D9K9H (35861691)** depends on PrecisionBolt_252A1 (D0301002) through ChassisFrame_3AC3Z (13952372), which sources nickel from Canada.\n",
      "*   **HayCollector_RVK3E (35866296)** depends on PrecisionBolt_252A1 (D0301002) through ChassisFrame_3AC3Z (13952372), which sources nickel from Canada.\n",
      "*   **CropHarvester_9YZB9 (35764327)** depends on PrecisionBolt_252A1 (D0301002) through ChassisFrame_3AC3Z (13952372), which sources nickel from Canada. None None\n",
      "\n",
      "\n",
      "\n",
      "\n",
      "Final Response:\n"
     ]
    },
    {
     "data": {
      "text/plain": [
       "<IPython.core.display.Markdown object>"
      ],
      "text/markdown": "The following products depend on Canada for nickel:\n*   **FieldSprayer_BE9WW (35298723)** depends on PrecisionBolt_66KS7 (E0301006) which sources nickel for alloy from Canada.\n*   **SeedPlanter_DJG7M (35298721)** depends on PrecisionBolt_66KS7 (E0301006) which sources nickel for alloy from Canada.\n*   **FarmTractor_2DYUV (35701269)** depends on PrecisionBolt_252A1 (D0301002) through CabWiringUnit_EVKCK (13978746), which sources nickel from Canada.\n*   **SeedPlanter_WM8Z2 (35561992)** depends on PrecisionBolt_252A1 (D0301002) through CabWiringUnit_EVKCK (13978746), which sources nickel from Canada.\n*   **CropHarvester_ZHSAB (35733612)** depends on PrecisionBolt_252A1 (D0301002) through CabWiringUnit_EVKCK (13978746), which sources nickel from Canada.\n*   **FarmTractor_VLM4F (35513559)** depends on PrecisionBolt_252A1 (D0301002) through CabWiringUnit_EVKCK (13978746), which sources nickel from Canada.\n*   **FarmTractor_2QT51 (35733576)** depends on PrecisionBolt_252A1 (D0301002) through CabWiringUnit_EVKCK (13978746), which sources nickel from Canada.\n*   **CropHarvester_V1GUY (35861688)** depends on PrecisionBolt_252A1 (D0301002) through ChassisFrame_3AC3Z (13952372), which sources nickel from Canada.\n*   **HayCollector_4APNS (35775932)** depends on PrecisionBolt_252A1 (D0301002) through ChassisFrame_3AC3Z (13952372), which sources nickel from Canada.\n*   **HayCollector_UWIBH (35839618)** depends on PrecisionBolt_252A1 (D0301002) through ChassisFrame_3AC3Z (13952372), which sources nickel from Canada.\n*   **FieldSprayer_KHWK2 (35764312)** depends on PrecisionBolt_252A1 (D0301002) through ChassisFrame_3AC3Z (13952372), which sources nickel from Canada.\n*   **HayCollector_6S90S (35764334)** depends on PrecisionBolt_252A1 (D0301002) through ChassisFrame_3AC3Z (13952372), which sources nickel from Canada.\n*   **CropHarvester_ABK76 (35860398)** depends on PrecisionBolt_252A1 (D0301002) through ChassisFrame_3AC3Z (13952372), which sources nickel from Canada.\n*   **SeedPlanter_3J2JW (35839611)** depends on PrecisionBolt_252A1 (D0301002) through ChassisFrame_3AC3Z (13952372), which sources nickel from Canada.\n*   **FarmTractor_VOL6Y (35775931)** depends on PrecisionBolt_252A1 (D0301002) through ChassisFrame_3AC3Z (13952372), which sources nickel from Canada.\n*   **FarmTractor_IUP4U (35845787)** depends on PrecisionBolt_252A1 (D0301002) through ChassisFrame_3AC3Z (13952372), which sources nickel from Canada.\n*   **FieldSprayer_63AJB (35839613)** depends on PrecisionBolt_252A1 (D0301002) through ChassisFrame_3AC3Z (13952372), which sources nickel from Canada.\n*   **FarmTractor_HKVNA (35841324)** depends on PrecisionBolt_252A1 (D0301002) through ChassisFrame_3AC3Z (13952372), which sources nickel from Canada.\n*   **FarmTractor_LA44E (35764331)** depends on PrecisionBolt_252A1 (D0301002) through ChassisFrame_3AC3Z (13952372), which sources nickel from Canada.\n*   **SeedPlanter_1P2R4 (35841333)** depends on PrecisionBolt_252A1 (D0301002) through ChassisFrame_3AC3Z (13952372), which sources nickel from Canada.\n*   **CropHarvester_YSN76 (35839620)** depends on PrecisionBolt_252A1 (D0301002) through ChassisFrame_3AC3Z (13952372), which sources nickel from Canada.\n*   **SeedPlanter_D9K9H (35861691)** depends on PrecisionBolt_252A1 (D0301002) through ChassisFrame_3AC3Z (13952372), which sources nickel from Canada.\n*   **HayCollector_RVK3E (35866296)** depends on PrecisionBolt_252A1 (D0301002) through ChassisFrame_3AC3Z (13952372), which sources nickel from Canada.\n*   **CropHarvester_9YZB9 (35764327)** depends on PrecisionBolt_252A1 (D0301002) through ChassisFrame_3AC3Z (13952372), which sources nickel from Canada."
     },
     "metadata": {},
     "output_type": "display_data"
    }
   ],
   "execution_count": 57
  },
  {
   "cell_type": "code",
   "metadata": {
    "ExecuteTime": {
     "end_time": "2025-05-29T12:52:54.451058Z",
     "start_time": "2025-05-29T12:52:38.343706Z"
    }
   },
   "source": [
    "res = await run_prompt('Supplier YP8UYT had a fire and is out of ooperation. I need to source alternatives.  Can you help?')\n",
    "print(\"\\n\\n\\n\\nFinal Response:\")\n",
    "display(Markdown(res))"
   ],
   "outputs": [
    {
     "name": "stdout",
     "output_type": "stream",
     "text": [
      "None id='adk-bcf84548-7a1c-4ab7-8e60-fdb9b4f2ff6a' args={'supplier_code': 'YP8UYT'} name='get_supplier_substitutions' None\n",
      "None None will_continue=None scheduling=None id='adk-bcf84548-7a1c-4ab7-8e60-fdb9b4f2ff6a' name='get_supplier_substitutions' response={'result': [{'sku_id': '28710197', 'name': 'Harness_YU5KA', 'recommended_supplier': {'distance': 100.0, 'code': 'T4J5DE'}, 'other_suppliers': []}, {'sku_id': '28018274', 'name': 'Clamp_MRVR0', 'recommended_supplier': {'distance': 100.0, 'code': 'T4J5DE'}, 'other_suppliers': [{'distance': 1377.0, 'code': 'RO6UY3'}, {'distance': 11170.0, 'code': '6TIPXK'}]}, {'sku_id': 'DED9021006200', 'name': 'HydraulicSystem_KY7NM', 'recommended_supplier': {'distance': 100.0, 'code': 'T4J5DE'}, 'other_suppliers': [{'distance': 11218.0, 'code': '67F8ZB'}]}, {'sku_id': '28189847', 'name': 'Sensor_M5TC1', 'recommended_supplier': {'distance': 100.0, 'code': 'T4J5DE'}, 'other_suppliers': [{'distance': 134.0, 'code': 'EY2DU5'}, {'distance': 1359.0, 'code': 'CC2XO0'}, {'distance': 1377.0, 'code': 'RO6UY3'}, {'distance': 11170.0, 'code': '6TIPXK'}, {'distance': 11218.0, 'code': 'ZCOX6M'}]}, {'sku_id': '28428194', 'name': 'Pulley_JG25U', 'recommended_supplier': {'distance': 100.0, 'code': 'T4J5DE'}, 'other_suppliers': []}, {'sku_id': '16228496', 'name': 'Gear_HIE2T', 'recommended_supplier': {'distance': 100.0, 'code': 'T4J5DE'}, 'other_suppliers': [{'distance': 100.0, 'code': 'JYRKG2'}, {'distance': 134.0, 'code': 'EY2DU5'}, {'distance': 228.0, 'code': 'TCUA8H'}, {'distance': 1377.0, 'code': 'RO6UY3'}, {'distance': 1436.0, 'code': 'PQSIH9'}, {'distance': 1627.0, 'code': 'Z09DJG'}, {'distance': 10187.0, 'code': 'OY1UE5'}, {'distance': 10415.0, 'code': 'R0AZ6C'}, {'distance': 10642.0, 'code': 'NLBFEK'}, {'distance': 11170.0, 'code': '6TIPXK'}, {'distance': 11218.0, 'code': '67F8ZB'}, {'distance': 11218.0, 'code': 'LDZSV0'}, {'distance': 11218.0, 'code': '3VOH4R'}, {'distance': 11218.0, 'code': 'ABGQV8'}, {'distance': 11218.0, 'code': 'DSKDW4'}]}, {'sku_id': '28443180', 'name': 'Belt_TC5XP', 'recommended_supplier': {'distance': 100.0, 'code': 'T4J5DE'}, 'other_suppliers': [{'distance': 1377.0, 'code': 'RO6UY3'}]}, {'sku_id': '28469393', 'name': 'Bearing_XMY98', 'recommended_supplier': {'distance': 0.0, 'code': 'WOYEWL'}, 'other_suppliers': [{'distance': 100.0, 'code': 'T4J5DE'}, {'distance': 100.0, 'code': 'JYRKG2'}, {'distance': 208.0, 'code': '0MW25Z'}, {'distance': 208.0, 'code': 'FP0QV8'}, {'distance': 10187.0, 'code': 'OY1UE5'}, {'distance': 11218.0, 'code': '67F8ZB'}, {'distance': 11218.0, 'code': 'ABGQV8'}]}, {'sku_id': '16249305', 'name': 'GearSet_7MCLV', 'recommended_supplier': {'distance': 100.0, 'code': 'T4J5DE'}, 'other_suppliers': [{'distance': 100.0, 'code': 'JYRKG2'}, {'distance': 432.0, 'code': 'F9MVG2'}, {'distance': 1377.0, 'code': 'RO6UY3'}, {'distance': 1436.0, 'code': 'PQSIH9'}, {'distance': 1627.0, 'code': '1AS9EK'}, {'distance': 10187.0, 'code': 'OY1UE5'}, {'distance': 11170.0, 'code': '6TIPXK'}, {'distance': 11218.0, 'code': 'ABGQV8'}, {'distance': 11218.0, 'code': 'ZCOX6M'}, {'distance': 11218.0, 'code': 'DSKDW4'}]}, {'sku_id': '28202339', 'name': 'HydraulicFitting_B24BJ', 'recommended_supplier': {'distance': 100.0, 'code': 'T4J5DE'}, 'other_suppliers': [{'distance': 100.0, 'code': 'JYRKG2'}, {'distance': 432.0, 'code': 'F9MVG2'}, {'distance': 611.0, 'code': 'MX9142'}, {'distance': 1220.0, 'code': 'OKNNDD'}, {'distance': 1377.0, 'code': 'RO6UY3'}, {'distance': 10642.0, 'code': 'NLBFEK'}, {'distance': 11170.0, 'code': '6TIPXK'}, {'distance': 11218.0, 'code': '67F8ZB'}, {'distance': 11218.0, 'code': 'LDZSV0'}, {'distance': 11218.0, 'code': 'ABGQV8'}, {'distance': 11218.0, 'code': 'ZCOX6M'}]}, {'sku_id': '28232078', 'name': 'Clamp_P9GLY', 'recommended_supplier': {'distance': 100.0, 'code': 'T4J5DE'}, 'other_suppliers': [{'distance': 100.0, 'code': 'JYRKG2'}, {'distance': 432.0, 'code': 'F9MVG2'}, {'distance': 1377.0, 'code': 'RO6UY3'}, {'distance': 1627.0, 'code': 'Z09DJG'}, {'distance': 10187.0, 'code': 'THRFXZ'}, {'distance': 10642.0, 'code': 'NLBFEK'}, {'distance': 11170.0, 'code': '6TIPXK'}, {'distance': 11218.0, 'code': '67F8ZB'}, {'distance': 11218.0, 'code': 'LDZSV0'}, {'distance': 11218.0, 'code': 'ABGQV8'}]}, {'sku_id': '28083943', 'name': 'GearSet_QVLA1', 'recommended_supplier': {'distance': 100.0, 'code': 'T4J5DE'}, 'other_suppliers': [{'distance': 332.0, 'code': '36G09B'}, {'distance': 332.0, 'code': 'AYFNW0'}, {'distance': 332.0, 'code': 'GZWGBJ'}, {'distance': 1377.0, 'code': 'RO6UY3'}, {'distance': 10187.0, 'code': 'OY1UE5'}, {'distance': 10642.0, 'code': 'NLBFEK'}, {'distance': 11161.0, 'code': '6YIZBB'}, {'distance': 11170.0, 'code': '6TIPXK'}]}, {'sku_id': 'DED9230001530', 'name': 'CabWiringUnit_CA92P', 'recommended_supplier': {'distance': 100.0, 'code': 'T4J5DE'}, 'other_suppliers': []}]}\n",
      "I found the following substitution recommendations for items supplied by YP8UYT:\n",
      "\n",
      "*   **Harness_YU5KA (28710197)**:\n",
      "    *   Recommended: T4J5DE (100 miles away)\n",
      "*   **Clamp_MRVR0 (28018274)**:\n",
      "    *   Recommended: T4J5DE (100 miles away)\n",
      "    *   Others: RO6UY3 (1377 miles), 6TIPXK (11170 miles)\n",
      "*   **HydraulicSystem_KY7NM (DED9021006200)**:\n",
      "    *   Recommended: T4J5DE (100 miles away)\n",
      "    *   Others: 67F8ZB (11218 miles)\n",
      "*   **Sensor_M5TC1 (28189847)**:\n",
      "    *   Recommended: T4J5DE (100 miles away)\n",
      "    *   Others: EY2DU5 (134 miles), CC2XO0 (1359 miles), RO6UY3 (1377 miles), 6TIPXK (11170 miles), ZCOX6M (11218 miles)\n",
      "*   **Pulley_JG25U (28428194)**:\n",
      "    *   Recommended: T4J5DE (100 miles away)\n",
      "*   **Gear_HIE2T (16228496)**:\n",
      "    *   Recommended: T4J5DE (100 miles away)\n",
      "    *   Others: JYRKG2 (100 miles), EY2DU5 (134 miles), TCUA8H (228 miles), RO6UY3 (1377 miles), PQSIH9 (1436 miles), Z09DJG (1627 miles), OY1UE5 (10187 miles), R0AZ6C (10415 miles), NLBFEK (10642 miles), 6TIPXK (11170 miles), 67F8ZB (11218 miles), LDZSV0 (11218 miles), 3VOH4R (11218 miles), ABGQV8 (11218 miles), DSKDW4 (11218 miles)\n",
      "*   **Belt_TC5XP (28443180)**:\n",
      "    *   Recommended: T4J5DE (100 miles away)\n",
      "    *   Others: RO6UY3 (1377 miles)\n",
      "*   **Bearing_XMY98 (28469393)**:\n",
      "    *   Recommended: WOYEWL (0 miles away)\n",
      "    *   Others: T4J5DE (100 miles), JYRKG2 (100 miles), 0MW25Z (208 miles), FP0QV8 (208 miles), OY1UE5 (10187 miles), 67F8ZB (11218 miles), ABGQV8 (11218 miles)\n",
      "*   **GearSet_7MCLV (16249305)**:\n",
      "    *   Recommended: T4J5DE (100 miles away)\n",
      "    *   Others: JYRKG2 (100 miles), F9MVG2 (432 miles), RO6UY3 (1377 miles), PQSIH9 (1436 miles), 1AS9EK (1627 miles), OY1UE5 (10187 miles), 6TIPXK (11170 miles), ABGQV8 (11218 miles), ZCOX6M (11218 miles), DSKDW4 (11218 miles)\n",
      "*   **HydraulicFitting_B24BJ (28202339)**:\n",
      "    *   Recommended: T4J5DE (100 miles away)\n",
      "    *   Others: JYRKG2 (100 miles), F9MVG2 (432 miles), MX9142 (611 miles), OKNNDD (1220 miles), RO6UY3 (1377 miles), NLBFEK (10642 miles), 6TIPXK (11170 miles), 67F8ZB (11218 miles), LDZSV0 (11218 miles), ABGQV8 (11218 miles), ZCOX6M (11218 miles)\n",
      "*   **Clamp_P9GLY (28232078)**:\n",
      "    *   Recommended: T4J5DE (100 miles away)\n",
      "    *   Others: JYRKG2 (100 miles), F9MVG2 (432 miles), RO6UY3 (1377 miles), Z09DJG (1627 miles), THRFXZ (10187 miles), NLBFEK (10642 miles), 6TIPXK (11170 miles), 67F8ZB (11218 miles), LDZSV0 (11218 miles), ABGQV8 (11218 miles)\n",
      "*   **GearSet_QVLA1 (28083943)**:\n",
      "    *   Recommended: T4J5DE (100 miles away)\n",
      "    *   Others: 36G09B (332 miles), AYFNW0 (332 miles), GZWGBJ (332 miles), RO6UY3 (1377 miles), OY1UE5 (10187 miles), NLBFEK (10642 miles), 6YIZBB (11161 miles), 6TIPXK (11170 miles)\n",
      "*   **CabWiringUnit_CA92P (DED9230001530)**:\n",
      "    *   Recommended: T4J5DE (100 miles away)\n",
      "\n",
      "I hope this helps you find alternative sources! None None\n",
      "\n",
      "\n",
      "\n",
      "\n",
      "Final Response:\n"
     ]
    },
    {
     "data": {
      "text/plain": [
       "<IPython.core.display.Markdown object>"
      ],
      "text/markdown": "I found the following substitution recommendations for items supplied by YP8UYT:\n\n*   **Harness_YU5KA (28710197)**:\n    *   Recommended: T4J5DE (100 miles away)\n*   **Clamp_MRVR0 (28018274)**:\n    *   Recommended: T4J5DE (100 miles away)\n    *   Others: RO6UY3 (1377 miles), 6TIPXK (11170 miles)\n*   **HydraulicSystem_KY7NM (DED9021006200)**:\n    *   Recommended: T4J5DE (100 miles away)\n    *   Others: 67F8ZB (11218 miles)\n*   **Sensor_M5TC1 (28189847)**:\n    *   Recommended: T4J5DE (100 miles away)\n    *   Others: EY2DU5 (134 miles), CC2XO0 (1359 miles), RO6UY3 (1377 miles), 6TIPXK (11170 miles), ZCOX6M (11218 miles)\n*   **Pulley_JG25U (28428194)**:\n    *   Recommended: T4J5DE (100 miles away)\n*   **Gear_HIE2T (16228496)**:\n    *   Recommended: T4J5DE (100 miles away)\n    *   Others: JYRKG2 (100 miles), EY2DU5 (134 miles), TCUA8H (228 miles), RO6UY3 (1377 miles), PQSIH9 (1436 miles), Z09DJG (1627 miles), OY1UE5 (10187 miles), R0AZ6C (10415 miles), NLBFEK (10642 miles), 6TIPXK (11170 miles), 67F8ZB (11218 miles), LDZSV0 (11218 miles), 3VOH4R (11218 miles), ABGQV8 (11218 miles), DSKDW4 (11218 miles)\n*   **Belt_TC5XP (28443180)**:\n    *   Recommended: T4J5DE (100 miles away)\n    *   Others: RO6UY3 (1377 miles)\n*   **Bearing_XMY98 (28469393)**:\n    *   Recommended: WOYEWL (0 miles away)\n    *   Others: T4J5DE (100 miles), JYRKG2 (100 miles), 0MW25Z (208 miles), FP0QV8 (208 miles), OY1UE5 (10187 miles), 67F8ZB (11218 miles), ABGQV8 (11218 miles)\n*   **GearSet_7MCLV (16249305)**:\n    *   Recommended: T4J5DE (100 miles away)\n    *   Others: JYRKG2 (100 miles), F9MVG2 (432 miles), RO6UY3 (1377 miles), PQSIH9 (1436 miles), 1AS9EK (1627 miles), OY1UE5 (10187 miles), 6TIPXK (11170 miles), ABGQV8 (11218 miles), ZCOX6M (11218 miles), DSKDW4 (11218 miles)\n*   **HydraulicFitting_B24BJ (28202339)**:\n    *   Recommended: T4J5DE (100 miles away)\n    *   Others: JYRKG2 (100 miles), F9MVG2 (432 miles), MX9142 (611 miles), OKNNDD (1220 miles), RO6UY3 (1377 miles), NLBFEK (10642 miles), 6TIPXK (11170 miles), 67F8ZB (11218 miles), LDZSV0 (11218 miles), ABGQV8 (11218 miles), ZCOX6M (11218 miles)\n*   **Clamp_P9GLY (28232078)**:\n    *   Recommended: T4J5DE (100 miles away)\n    *   Others: JYRKG2 (100 miles), F9MVG2 (432 miles), RO6UY3 (1377 miles), Z09DJG (1627 miles), THRFXZ (10187 miles), NLBFEK (10642 miles), 6TIPXK (11170 miles), 67F8ZB (11218 miles), LDZSV0 (11218 miles), ABGQV8 (11218 miles)\n*   **GearSet_QVLA1 (28083943)**:\n    *   Recommended: T4J5DE (100 miles away)\n    *   Others: 36G09B (332 miles), AYFNW0 (332 miles), GZWGBJ (332 miles), RO6UY3 (1377 miles), OY1UE5 (10187 miles), NLBFEK (10642 miles), 6YIZBB (11161 miles), 6TIPXK (11170 miles)\n*   **CabWiringUnit_CA92P (DED9230001530)**:\n    *   Recommended: T4J5DE (100 miles away)\n\nI hope this helps you find alternative sources!"
     },
     "metadata": {},
     "output_type": "display_data"
    }
   ],
   "execution_count": 58
  },
  {
   "cell_type": "code",
   "metadata": {
    "colab": {
     "base_uri": "https://localhost:8080/"
    },
    "id": "bsutZ5xe2TxK",
    "outputId": "5cb66b09-9a28-4d36-b00a-0d8fd33044b1",
    "ExecuteTime": {
     "end_time": "2025-05-29T12:53:59.434900Z",
     "start_time": "2025-05-29T12:53:59.421026Z"
    }
   },
   "source": [
    "session_list = await runner.session_service.list_sessions(app_name=APP_NAME, user_id=USER_ID)\n",
    "for session in session_list.sessions:\n",
    "  print(session.model_dump())"
   ],
   "outputs": [
    {
     "name": "stdout",
     "output_type": "stream",
     "text": [
      "{'id': 'cf790855-7dda-407c-a425-649192a33cda', 'app_name': 'BOM & Supplier Analyst', 'user_id': 'Zach Blumenfeld', 'state': {}, 'events': [], 'last_update_time': 1748523160.734146}\n"
     ]
    }
   ],
   "execution_count": 61
  },
  {
   "cell_type": "code",
   "metadata": {
    "colab": {
     "base_uri": "https://localhost:8080/",
     "height": 198
    },
    "id": "1LBAZrGX7cQa",
    "outputId": "2f58cc04-952a-4023-c818-737df992b8d9",
    "ExecuteTime": {
     "end_time": "2025-05-29T12:54:21.474070Z",
     "start_time": "2025-05-29T12:54:09.550228Z"
    }
   },
   "source": [
    "result = await run_prompt(\"Summarize the results of the previous research questions\")\n",
    "print(\"\\n\\n\\n\\nFinal Response:\")\n",
    "display(Markdown(result))"
   ],
   "outputs": [
    {
     "name": "stdout",
     "output_type": "stream",
     "text": [
      "Okay, I can summarize the results of our previous research:\n",
      "\n",
      "1.  **Finished Product Types:** We identified several families of finished products, including FarmTractor (21,521 products), SeedPlanter (21,488 products), FieldSprayer (21,519 products), CropHarvester (21,406 products), HayCollector (21,671 products), and smaller categories like CabWiringUnit, ControlAssembly, MachineRig, HydraulicSystem, ChassisFrame, and DrivePlatform.\n",
      "\n",
      "2.  **BOM and Country Dependencies for Product 35472245A:**\n",
      "    *   **BOM:** Product 35472245A (CabWiringUnit_Z5OO3) has a complex Bill of Materials, depending directly on numerous components like M6495003X (DrivePlatform_SBK8U) and indirectly on others such as M7307U91X (RawWire_YCBEO) through intermediate components.\n",
      "    *   **Country Dependencies:** This product has several potential country dependencies stemming from its components:\n",
      "        *   **M7307U91X (RawWire_YCBEO):** Sourcing raw copper cathode from Chile and Peru; drawing and annealing facilities in Mexico and Viet Nam.\n",
      "        *   **M7307U92X (PrecisionBolt_O12J1):** Final machining in the USA; sourcing raw titanium sponge from Japan; procuring alloying elements from the Russian Federation.\n",
      "        *   **M7307U93X (Fastener_CP82S):** Precision forging in Germany; sourcing raw titanium from the Russian Federation.\n",
      "\n",
      "3.  **Products Depending on Canada for Nickel:** We found a list of finished products that rely on components sourcing nickel from Canada. These components include PrecisionBolt_66KS7 (E0301006) and PrecisionBolt_252A1 (D0301002). Affected product families include various models of FieldSprayers, SeedPlanters, FarmTractors, CropHarvesters, and HayCollectors. For instance, FieldSprayer_BE9WW (35298723) and FarmTractor_2DYUV (35701269) are among those listed.\n",
      "\n",
      "4.  **Alternative Sourcing for Supplier YP8UYT:** Due to a fire at supplier YP8UYT, we identified alternative suppliers for the items they provide. For many items like Harness_YU5KA (28710197), Clamp_MRVR0 (28018274), and HydraulicSystem_KY7NM (DED9021006200), supplier T4J5DE (located 100 miles away) was recommended. For some items, like Bearing_XMY98 (28469393), a closer alternative WOYEWL (0 miles away) was found. Other more distant alternatives were also listed for various components. None None\n",
      "\n",
      "\n",
      "\n",
      "\n",
      "Final Response:\n"
     ]
    },
    {
     "data": {
      "text/plain": [
       "<IPython.core.display.Markdown object>"
      ],
      "text/markdown": "Okay, I can summarize the results of our previous research:\n\n1.  **Finished Product Types:** We identified several families of finished products, including FarmTractor (21,521 products), SeedPlanter (21,488 products), FieldSprayer (21,519 products), CropHarvester (21,406 products), HayCollector (21,671 products), and smaller categories like CabWiringUnit, ControlAssembly, MachineRig, HydraulicSystem, ChassisFrame, and DrivePlatform.\n\n2.  **BOM and Country Dependencies for Product 35472245A:**\n    *   **BOM:** Product 35472245A (CabWiringUnit_Z5OO3) has a complex Bill of Materials, depending directly on numerous components like M6495003X (DrivePlatform_SBK8U) and indirectly on others such as M7307U91X (RawWire_YCBEO) through intermediate components.\n    *   **Country Dependencies:** This product has several potential country dependencies stemming from its components:\n        *   **M7307U91X (RawWire_YCBEO):** Sourcing raw copper cathode from Chile and Peru; drawing and annealing facilities in Mexico and Viet Nam.\n        *   **M7307U92X (PrecisionBolt_O12J1):** Final machining in the USA; sourcing raw titanium sponge from Japan; procuring alloying elements from the Russian Federation.\n        *   **M7307U93X (Fastener_CP82S):** Precision forging in Germany; sourcing raw titanium from the Russian Federation.\n\n3.  **Products Depending on Canada for Nickel:** We found a list of finished products that rely on components sourcing nickel from Canada. These components include PrecisionBolt_66KS7 (E0301006) and PrecisionBolt_252A1 (D0301002). Affected product families include various models of FieldSprayers, SeedPlanters, FarmTractors, CropHarvesters, and HayCollectors. For instance, FieldSprayer_BE9WW (35298723) and FarmTractor_2DYUV (35701269) are among those listed.\n\n4.  **Alternative Sourcing for Supplier YP8UYT:** Due to a fire at supplier YP8UYT, we identified alternative suppliers for the items they provide. For many items like Harness_YU5KA (28710197), Clamp_MRVR0 (28018274), and HydraulicSystem_KY7NM (DED9021006200), supplier T4J5DE (located 100 miles away) was recommended. For some items, like Bearing_XMY98 (28469393), a closer alternative WOYEWL (0 miles away) was found. Other more distant alternatives were also listed for various components."
     },
     "metadata": {},
     "output_type": "display_data"
    }
   ],
   "execution_count": 62
  },
  {
   "cell_type": "code",
   "metadata": {
    "colab": {
     "base_uri": "https://localhost:8080/"
    },
    "id": "2DWthTncLmtm",
    "outputId": "e619ee13-cf4f-44c5-a273-a78905f05776",
    "ExecuteTime": {
     "end_time": "2025-05-29T12:55:49.921722Z",
     "start_time": "2025-05-29T12:55:49.912493Z"
    }
   },
   "source": [
    "session_list = await runner.session_service.list_sessions(app_name=APP_NAME, user_id=USER_ID)\n",
    "for session in session_list.sessions:\n",
    "  print(f\"Deleting session {session}\")\n",
    "  await runner.session_service.delete_session(app_name=APP_NAME, user_id=USER_ID, session_id=session.id)"
   ],
   "outputs": [
    {
     "name": "stdout",
     "output_type": "stream",
     "text": [
      "Deleting session id='cf790855-7dda-407c-a425-649192a33cda' app_name='BOM & Supplier Analyst' user_id='Zach Blumenfeld' state={} events=[] last_update_time=1748523249.560376\n"
     ]
    }
   ],
   "execution_count": 64
  }
 ],
 "metadata": {
  "colab": {
   "provenance": []
  },
  "environment": {
   "kernel": "conda-base-py",
   "name": "workbench-notebooks.m129",
   "type": "gcloud",
   "uri": "us-docker.pkg.dev/deeplearning-platform-release/gcr.io/workbench-notebooks:m129"
  },
  "kernelspec": {
   "display_name": "Python 3 (ipykernel)",
   "language": "python",
   "name": "python3"
  },
  "language_info": {
   "codemirror_mode": {
    "name": "ipython",
    "version": 3
   },
   "file_extension": ".py",
   "mimetype": "text/x-python",
   "name": "python",
   "nbconvert_exporter": "python",
   "pygments_lexer": "ipython3",
   "version": "3.11.6"
  }
 },
 "nbformat": 4,
 "nbformat_minor": 4
}
