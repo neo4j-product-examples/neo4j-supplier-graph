{
 "cells": [
  {
   "cell_type": "markdown",
   "metadata": {
    "id": "3OqG2k_o_zmb"
   },
   "source": [
    "# Getting Started with the Agent Development Kit (ADK) with Neo4j\n",
    "\n",
    "This notebook shows how to use the Vertex AI Agent Framework to setup a multi-agent system integrating Neo4j.\n",
    "\n",
    "The Vertex AI ADK is a python-based SDK that empowers developers to build multi-agent applications with custom logic, tools, and integrations.\n",
    "\n",
    "In this notebook you will learn how to do the following:\n",
    "\n",
    "*  Install Agent Development Kit\n",
    "*  Define functions as tools\n",
    "*  Define a database and analyst agent\n",
    "*  Create a \"Bom & Supplier Research\" Multi-Agent\n",
    "\n",
    "\n",
    "## Learn more about Neo4j\n",
    "\n",
    "* https://neo4j.com/genai\n",
    "* https://neo4j.com/developer\n",
    "* https://graphrag.com\n",
    "* https://neo4j.com/labs/genai-ecosystem\n",
    "* [Neo4j and MCP Toolbox](https://neo4j.com/blog/developer/ai-agents-gen-ai-toolbox/)\n",
    "\n",
    "## Learn more about the ADK\n",
    "\n",
    "* [Launch Blog](https://cloud.google.com/blog/products/ai-machine-learning/build-and-manage-multi-system-agents-with-vertex-ai)\n",
    "* [Developer Blog](https://developers.googleblog.com/en/agent-development-kit-easy-to-build-multi-agent-applications/)\n",
    "* https://pypi.org/project/google-adk/\n",
    "* https://google.github.io/adk-docs/\n",
    "* https://github.com/google/adk-samples/\n",
    "* [LLM Agents](https://google.github.io/adk-docs/agents/llm-agents/#putting-it-together-example)\n",
    "* [Deploy to Agent Engine](https://google.github.io/adk-docs/deploy/agent-engine/)"
   ]
  },
  {
   "cell_type": "markdown",
   "metadata": {},
   "source": [
    "## Use Case Focus For Our Agent\n",
    "- __Summarize BOM Trees & Dependencies for Product:__ Can you summarize the BOM and potential country dependencies for product `<sku_id>`?\n",
    "- __Find Dependant Products:__ What products depend on `<country>` for `<material>`?\n",
    "- __Supplier Substitution:__ Supplier `<code>` is out of operation. I need to source alternatives.  Can you help?\n"
   ]
  },
  {
   "cell_type": "markdown",
   "metadata": {
    "id": "E29jokLY8VRH"
   },
   "source": [
    "# Install the Agent Development Kit"
   ]
  },
  {
   "cell_type": "code",
   "metadata": {
    "id": "chT-5K9yrrW9",
    "tags": []
   },
   "source": [
    "# from google.colab import auth\n",
    "# auth.authenticate_user()\n",
    "!gcloud auth application-default login > /dev/null 2>&1"
   ],
   "outputs": [],
   "execution_count": null
  },
  {
   "cell_type": "code",
   "metadata": {
    "id": "RNrh4GXq8bVn",
    "scrolled": true,
    "tags": []
   },
   "source": [
    "#%pip install --upgrade google-cloud-aiplatform[adk,agent_engines] neo4j-rust-ext python-dotenv"
   ],
   "outputs": [],
   "execution_count": null
  },
  {
   "cell_type": "markdown",
   "metadata": {
    "id": "osm6MztSEX2y"
   },
   "source": [
    "# Developer API or Vertex AI\n",
    "\n",
    "The ADK supports two APIs:\n",
    "\n",
    "* Google Gemini API (AI Studio)\n",
    "* Vertex AI Gemini API."
   ]
  },
  {
   "cell_type": "code",
   "metadata": {
    "ExecuteTime": {
     "end_time": "2025-05-29T03:06:48.149632Z",
     "start_time": "2025-05-29T03:06:48.133162Z"
    }
   },
   "source": [
    "from dotenv import load_dotenv\n",
    "import getpass\n",
    "import os\n",
    "\n",
    "load_dotenv('nb.env', override=True)\n",
    "\n",
    "if not os.environ.get('NEO4J_URI'):\n",
    "    os.environ['NEO4J_URI'] = getpass.getpass('NEO4J_URI:\\n')\n",
    "if not os.environ.get('NEO4J_USERNAME'):\n",
    "    os.environ['NEO4J_USERNAME'] = getpass.getpass('NEO4J_USERNAME:\\n')\n",
    "if not os.environ.get('NEO4J_PASSWORD'):\n",
    "    os.environ['NEO4J_PASSWORD'] = getpass.getpass('NEO4J_PASSWORD:\\n')\n",
    "\n",
    "NEO4J_URI = os.getenv('NEO4J_URI')\n",
    "NEO4J_USERNAME = os.getenv('NEO4J_USERNAME')\n",
    "NEO4J_PASSWORD = os.getenv('NEO4J_PASSWORD')"
   ],
   "outputs": [],
   "execution_count": 15
  },
  {
   "cell_type": "code",
   "metadata": {
    "id": "va9nPjT186Xm",
    "tags": [],
    "ExecuteTime": {
     "end_time": "2025-05-29T02:55:19.424860Z",
     "start_time": "2025-05-29T02:55:19.422449Z"
    }
   },
   "source": [
    "# Only run this block for ML Developer API. Use your own API key.\n",
    "import os\n",
    "\n",
    "GOOGLE_API_KEY = os.environ.get('GOOGLE_API_KEY')\n",
    "os.environ[\"GOOGLE_GENAI_USE_VERTEXAI\"] = \"0\"\n"
   ],
   "outputs": [],
   "execution_count": 2
  },
  {
   "cell_type": "code",
   "metadata": {
    "id": "aCLvbsLp89o7",
    "tags": []
   },
   "source": [
    "# Only run this block for Vertex AI API Use your own project / location.\n",
    "# import os\n",
    "#\n",
    "# GOOGLE_CLOUD_PROJECT = \"neo4jeventdemos\" #@param {type:\"string\"}\n",
    "#\n",
    "# os.environ[\"GOOGLE_GENAI_USE_VERTEXAI\"] = \"1\"\n",
    "# os.environ[\"GOOGLE_CLOUD_PROJECT\"] = GOOGLE_CLOUD_PROJECT\n",
    "# os.environ[\"GOOGLE_CLOUD_LOCATION\"] = \"us-central1\""
   ],
   "outputs": [],
   "execution_count": null
  },
  {
   "cell_type": "markdown",
   "metadata": {
    "id": "1-rAplcsx22u"
   },
   "source": [
    "# Neo4j Database Connectivity\n",
    "\n",
    "We define a small class `neo4jDatabase` that manages connecting to Neo4j and running read queries."
   ]
  },
  {
   "cell_type": "code",
   "metadata": {
    "id": "sRtCKjAlhrEs",
    "tags": [],
    "ExecuteTime": {
     "end_time": "2025-05-29T02:55:21.638913Z",
     "start_time": "2025-05-29T02:55:21.636684Z"
    }
   },
   "source": [
    "import logging\n",
    "\n",
    "logger = logging.getLogger('agent_neo4j_cypher')\n",
    "logger.info(\"Initializing Database for tools\")\n",
    "\n",
    "import logging\n",
    "\n",
    "logging.getLogger(\"neo4j\").setLevel(logging.ERROR)\n",
    "logging.getLogger(\"google_genai\").setLevel(logging.ERROR)\n",
    "\n",
    "import warnings\n",
    "warnings.filterwarnings(\"ignore\", category=UserWarning, module=\"google_genai.types\")\n",
    "warnings.filterwarnings(\"ignore\", category=UserWarning, module=\"neo4j.notifications\")\n"
   ],
   "outputs": [],
   "execution_count": 3
  },
  {
   "metadata": {
    "ExecuteTime": {
     "end_time": "2025-05-29T02:55:27.284717Z",
     "start_time": "2025-05-29T02:55:23.136955Z"
    }
   },
   "cell_type": "code",
   "source": [
    "from google.adk.models.lite_llm import LiteLlm\n",
    "from google.adk.agents import Agent\n",
    "from google.adk.tools.mcp_tool.mcp_toolset import MCPToolset, StdioServerParameters"
   ],
   "outputs": [],
   "execution_count": 4
  },
  {
   "metadata": {
    "ExecuteTime": {
     "end_time": "2025-05-29T02:55:27.294663Z",
     "start_time": "2025-05-29T02:55:27.291522Z"
    }
   },
   "cell_type": "code",
   "source": [
    "database_agent = Agent(\n",
    "    name=\"graph_database_agent\",\n",
    "    # model=\"gemini-2.0-flash-exp\",\n",
    "    # model=LiteLlm(model=\"openai/gpt-4o\"),\n",
    "    model=LiteLlm(model=\"anthropic/claude-sonnet-4-20250514\"),\n",
    "    description=\"\"\"\n",
    "    Agent to access knowledge graph stored in graph database\n",
    "    \"\"\",\n",
    "    instruction=\"\"\"\n",
    "      You are an Neo4j graph database and Cypher query expert, that must use the database schema with a user question and repeatedly generate valid cypher statements\n",
    "      to execute on the database and answer the user's questions in a friendly manner in natural language.\n",
    "      If in doubt the database schema is always prioritized when it comes to nodes-types (labels) or relationship-types or property names, never take the user's input at face value.\n",
    "      If the user requests also render tables, charts or other artifacts with the query results.\n",
    "      Always validate the correct node-labels at the end of a relationship based on the schema.\n",
    "\n",
    "      If a query fails or doesn't return data, use the error response 3 times to try to fix the generated query and re-run it, don't return the error to the user.\n",
    "      If you cannot fix the query, explain the issue to the user and apologize.\n",
    "\n",
    "      Fetch the graph database schema first and keep it in session memory to access later for query generation.\n",
    "      Keep results of previous executions in session memory and access if needed, for instance ids or other attributes of nodes to find them again\n",
    "      removing the need to ask the user. This also allows for generating shorter, more focused and less error-prone queries\n",
    "      to for drill downs, sequences and loops.\n",
    "      If possible resolve names to primary keys or ids and use those for looking up entities.\n",
    "      The schema always indicates *outgoing* relationship-types from an entity to another entity, the graph patterns read like english language.\n",
    "      `company has supplier` would be the pattern `(o:Organization)-[:HAS_SUPPLIER]->(s:Organization)`\n",
    "\n",
    "      To get the schema of a database use the `get_schema` tool without parameters. Store the response of the schema tool in session context\n",
    "      to access later for query generation.\n",
    "\n",
    "      To answer a user question generate one or more Cypher statements based on the database schema and the parts of the user question.\n",
    "      If necessary resolve categorical attributes (like names, countries, industries, publications) first by retrieving them for a set of entities to translate from the user's request.\n",
    "      Use the `execute_query` tool repeatedly with the Cypher statements, you MUST generate statements that use named query parameters with `$parameter` style names\n",
    "      and MUST pass them as a second dictionary parameter to the tool, even if empty.\n",
    "      Parameter data can come from the users requests, prior query results or additional lookup queries.\n",
    "      After the data for the question has been sufficiently retrieved, pass the data and control back to the parent agent.\n",
    "    \"\"\",\n",
    "    tools=[MCPToolset(\n",
    "        connection_params=StdioServerParameters(\n",
    "            command='uvx',\n",
    "            args=[\n",
    "                \"mcp-neo4j-cypher\",\n",
    "            ],\n",
    "            env={ k: os.environ[k] for k in [\"NEO4J_URI\",\"NEO4J_USERNAME\",\"NEO4J_PASSWORD\"] }\n",
    "        ),\n",
    "        tool_filter=['get_neo4j_schema','read_neo4j_cypher']\n",
    "    )]\n",
    ")"
   ],
   "outputs": [],
   "execution_count": 5
  },
  {
   "metadata": {
    "ExecuteTime": {
     "end_time": "2025-05-29T02:59:45.421163Z",
     "start_time": "2025-05-29T02:59:45.415352Z"
    }
   },
   "cell_type": "code",
   "source": [
    "APP_NAME = 'BOM & Supplier Database Agent'\n",
    "USER_ID = 'Zach Blumenfeld'\n",
    "SESSION_ID = \"session_001\" # Using a fixed ID for simplicity\n",
    "\n",
    "from google.adk.runners import InMemoryRunner\n",
    "from google.genai.types import Part, UserContent\n",
    "\n",
    "\n",
    "runner = InMemoryRunner(app_name=APP_NAME, agent=database_agent)\n",
    "\n",
    "session = await runner.session_service.create_session( app_name=runner.app_name, user_id=USER_ID)\n",
    "\n",
    "async def run_prompt(new_message: str):\n",
    "  content = UserContent(parts=[Part(text=new_message)])\n",
    "  result = None\n",
    "  async for event in runner.run_async(user_id=session.user_id, session_id=session.id, new_message=content):\n",
    "    for part in event.content.parts:\n",
    "      print(part.text, part.function_call, part.function_response)\n",
    "      if part.text:\n",
    "        result = part.text\n",
    "  return result"
   ],
   "outputs": [],
   "execution_count": 13
  },
  {
   "metadata": {
    "ExecuteTime": {
     "end_time": "2025-05-29T03:07:15.558621Z",
     "start_time": "2025-05-29T03:06:56.836743Z"
    }
   },
   "cell_type": "code",
   "source": [
    "from IPython.display import Markdown, display\n",
    "\n",
    "res = await run_prompt('what types of finished products are there?')\n",
    "print(\"\\n\\n\\n\\nFinal Response:\")\n",
    "display(Markdown(res))"
   ],
   "outputs": [
    {
     "name": "stdout",
     "output_type": "stream",
     "text": [
      "I'll help you find the types of finished products in the database. Let me first get the database schema to understand the structure, then query for the finished product types. None None\n",
      "None id='toolu_01Q85im425CgoFnPDnLsfeTa' args={} name='get_neo4j_schema' None\n",
      "None None will_continue=None scheduling=None id='toolu_01Q85im425CgoFnPDnLsfeTa' name='get_neo4j_schema' response={'result': CallToolResult(meta=None, content=[TextContent(type='text', text='[{\"label\": \"Supplier\", \"attributes\": {\"annual_spend\": \"FLOAT\", \"tier\": \"STRING\", \"sub_type\": \"STRING\", \"code\": \"STRING indexed\"}, \"relationships\": {\"LOCATED_AT\": \"GeoLocation\"}}, {\"label\": \"Item\", \"attributes\": {\"family\": \"STRING\", \"name\": \"STRING\", \"is_finished_product\": \"BOOLEAN\", \"sku_id\": \"STRING indexed\"}, \"relationships\": {\"AT\": \"Supplier\", \"BOM\": \"Item\"}}, {\"label\": \"Customer\", \"attributes\": {\"annual_revenue\": \"FLOAT\", \"code\": \"INTEGER indexed\"}, \"relationships\": {\"LOCATED_AT\": \"GeoLocation\"}}, {\"label\": \"GeoLocation\", \"attributes\": {\"longitude\": \"FLOAT\", \"latitude\": \"FLOAT\", \"geo_point\": \"POINT indexed\"}, \"relationships\": {}}, {\"label\": \"Country\", \"attributes\": {\"name\": \"STRING\", \"code\": \"STRING indexed\"}, \"relationships\": {}}]', annotations=None)], isError=False)}\n",
      "Great! I can see the database structure. There's an `Item` node with an `is_finished_product` boolean attribute and a `family` attribute that likely categorizes the types of products. Let me query for the types of finished products. None None\n",
      "None id='toolu_018ACx4oLUoASdmogyfV8Hmk' args={'query': 'MATCH (i:Item {is_finished_product: true})\\nRETURN DISTINCT i.family as product_type, count(*) as count\\nORDER BY count DESC', 'params': {}} name='read_neo4j_cypher' None\n",
      "None None will_continue=None scheduling=None id='toolu_018ACx4oLUoASdmogyfV8Hmk' name='read_neo4j_cypher' response={'result': CallToolResult(meta=None, content=[TextContent(type='text', text='[{\"product_type\": \"HayCollector\", \"count\": 21671}, {\"product_type\": \"FarmTractor\", \"count\": 21521}, {\"product_type\": \"FieldSprayer\", \"count\": 21519}, {\"product_type\": \"SeedPlanter\", \"count\": 21488}, {\"product_type\": \"CropHarvester\", \"count\": 21406}, {\"product_type\": \"CabWiringUnit\", \"count\": 17}, {\"product_type\": \"MachineRig\", \"count\": 14}, {\"product_type\": \"DrivePlatform\", \"count\": 10}, {\"product_type\": \"ControlAssembly\", \"count\": 9}, {\"product_type\": \"ChassisFrame\", \"count\": 9}, {\"product_type\": \"HydraulicSystem\", \"count\": 3}]', annotations=None)], isError=False)}\n",
      "Perfect! Based on the database, here are the types of finished products available:\n",
      "\n",
      "## Types of Finished Products\n",
      "\n",
      "The database contains **11 different types** of finished products, which can be categorized into two main groups:\n",
      "\n",
      "### **Major Agricultural Equipment** (High Volume):\n",
      "1. **HayCollector** - 21,671 products\n",
      "2. **FarmTractor** - 21,521 products  \n",
      "3. **FieldSprayer** - 21,519 products\n",
      "4. **SeedPlanter** - 21,488 products\n",
      "5. **CropHarvester** - 21,406 products\n",
      "\n",
      "### **Specialized Components/Systems** (Lower Volume):\n",
      "6. **CabWiringUnit** - 17 products\n",
      "7. **MachineRig** - 14 products\n",
      "8. **DrivePlatform** - 10 products\n",
      "9. **ControlAssembly** - 9 products\n",
      "10. **ChassisFrame** - 9 products\n",
      "11. **HydraulicSystem** - 3 products\n",
      "\n",
      "The majority of finished products (over 107,000 items) are agricultural machinery, with the top 5 categories being farm equipment used for different agricultural operations like harvesting, planting, spraying, and collecting hay. The remaining categories appear to be specialized components or assemblies that are likely used as finished products for specific applications or as major subassemblies. None None\n",
      "\n",
      "\n",
      "\n",
      "\n",
      "Final Response:\n"
     ]
    },
    {
     "data": {
      "text/plain": [
       "<IPython.core.display.Markdown object>"
      ],
      "text/markdown": "Perfect! Based on the database, here are the types of finished products available:\n\n## Types of Finished Products\n\nThe database contains **11 different types** of finished products, which can be categorized into two main groups:\n\n### **Major Agricultural Equipment** (High Volume):\n1. **HayCollector** - 21,671 products\n2. **FarmTractor** - 21,521 products  \n3. **FieldSprayer** - 21,519 products\n4. **SeedPlanter** - 21,488 products\n5. **CropHarvester** - 21,406 products\n\n### **Specialized Components/Systems** (Lower Volume):\n6. **CabWiringUnit** - 17 products\n7. **MachineRig** - 14 products\n8. **DrivePlatform** - 10 products\n9. **ControlAssembly** - 9 products\n10. **ChassisFrame** - 9 products\n11. **HydraulicSystem** - 3 products\n\nThe majority of finished products (over 107,000 items) are agricultural machinery, with the top 5 categories being farm equipment used for different agricultural operations like harvesting, planting, spraying, and collecting hay. The remaining categories appear to be specialized components or assemblies that are likely used as finished products for specific applications or as major subassemblies."
     },
     "metadata": {},
     "output_type": "display_data"
    }
   ],
   "execution_count": 16
  },
  {
   "metadata": {
    "id": "04x4PdPMgTtE",
    "tags": []
   },
   "cell_type": "code",
   "outputs": [],
   "execution_count": null,
   "source": [
    "from neo4j import GraphDatabase\n",
    "from typing import Any, List, Dict\n",
    "import re\n",
    "\n",
    "class neo4jDatabase:\n",
    "    def __init__(self,  neo4j_uri: str, neo4j_username: str, neo4j_password: str):\n",
    "        \"\"\"Initialize connection to the Neo4j database\"\"\"\n",
    "        logger.debug(f\"Initializing database connection to {neo4j_uri}\")\n",
    "        d = GraphDatabase.driver(neo4j_uri, auth=(neo4j_username, neo4j_password))\n",
    "        d.verify_connectivity()\n",
    "        self.driver = d\n",
    "\n",
    "    def is_write_query(self, query: str) -> bool:\n",
    "      return re.search(r\"\\b(MERGE|CREATE|SET|DELETE|REMOVE|ADD)\\b\", query, re.IGNORECASE) is not None\n",
    "\n",
    "    #TODO: Use result transformer here to r: r.data()\n",
    "    def _execute_query(self, query: str, params: Dict[str, Any] | None = None) -> List[Dict[str, Any]]:\n",
    "        \"\"\"Execute a Cypher query and return results as a list of dictionaries\"\"\"\n",
    "        logger.debug(f\"Executing query: {query}\")\n",
    "        try:\n",
    "            if self.is_write_query(query):\n",
    "                logger.error(f\"Write query not supported {query}\")\n",
    "                raise \"Write Queries are not supported in this agent\"\n",
    "            else:\n",
    "                #TODO: Add Routing here for efficiency\n",
    "                result = self.driver.execute_query(query, params)\n",
    "                results = [dict(r) for r in result.records]\n",
    "                logger.debug(f\"Read query returned {len(results)} rows\")\n",
    "                return results\n",
    "        except Exception as e:\n",
    "            logger.error(f\"Database error executing query: {e}\\n{query}\")\n",
    "            raise"
   ]
  },
  {
   "cell_type": "code",
   "metadata": {
    "id": "1t5Nx3Yq2DKP",
    "tags": []
   },
   "source": [
    "db = neo4jDatabase(NEO4J_URI, NEO4J_USERNAME, NEO4J_PASSWORD)"
   ],
   "outputs": [],
   "execution_count": null
  },
  {
   "cell_type": "code",
   "metadata": {
    "colab": {
     "base_uri": "https://localhost:8080/"
    },
    "id": "kSGPD5hxh2cw",
    "outputId": "9357864e-cb04-48f2-ab30-05df1f2f4216",
    "tags": []
   },
   "source": [
    "# Testing database connection\n",
    "db._execute_query(\"RETURN 1\")"
   ],
   "outputs": [],
   "execution_count": null
  },
  {
   "cell_type": "markdown",
   "metadata": {
    "id": "uMNZTdX_2r-L"
   },
   "source": [
    "## Defining Functions for our Agent\n",
    "\n",
    "1. **`get_finished_product_families`**\n",
    "Retrieves a list of finished product families and the number of products in each family.\n",
    "2. **`get_component_families`**\n",
    "Lists all component families (non-finished products), including the count of components in each family.\n",
    "3. **`get_item`**\n",
    "Fetches properties of an item, identified by a unique SKU ID, which can represent a component or finished product.\n",
    "4. **`get_known_item_country_dependencies`**\n",
    "Retrieves all known country dependencies for a given item, covering sourcing & manufacturing, and supply chain relationships.\n",
    "5. **`get_item_bill_of_materials`**\n",
    "Gathers the hierarchical bill of materials (BOM) for a specific item.\n",
    "6. **`get_standard_country_codes_and_names`**\n",
    "Provides a standardized list of country codes and corresponding names for use within applications and reporting.\n",
    "7. **`get_products_with_country_dependencies`**\n",
    "Identifies products that have sourcing or manufacturing dependencies on specific countries.\n",
    "8. **`get_supplier_substitutions`**\n",
    "Suggests alternative suppliers when the specified supplier (identified by a code) is unavailable or out of operation.\n",
    "9. **`get_finished_products_depending_on_items`**\n",
    "Determines which finished products rely on specific items as components in their structure.\n"
   ]
  },
  {
   "cell_type": "code",
   "metadata": {},
   "source": [
    "def get_finished_product_families() -> List[Dict[str, Any]]:\n",
    "    \"\"\"\n",
    "    Get the different type of Product Families - for finished products only.\n",
    "    Use this when asked for different types, families, or groups of finished products.\n",
    "    \"\"\"\n",
    "    try:\n",
    "        results = db._execute_query(\"\"\"\n",
    "        MATCH (i:Item)\n",
    "        WHERE i.is_finished_product\n",
    "        RETURN i.family AS family, count(*) AS numberOfProducts\n",
    "        \"\"\")\n",
    "        return results\n",
    "    except Exception as e:\n",
    "        return [{\"error\":str(e)}]\n",
    "#test\n",
    "get_finished_product_families()"
   ],
   "outputs": [],
   "execution_count": null
  },
  {
   "cell_type": "code",
   "metadata": {
    "scrolled": true
   },
   "source": [
    "def get_component_families() -> List[Dict[str, Any]]:\n",
    "    \"\"\"\n",
    "    Get the different type of Component Families - for components only -not finished products.\n",
    "    Use this when asked for different types, families or groups of components and/or parts.\n",
    "    \"\"\"\n",
    "    try:\n",
    "        results = db._execute_query(\"\"\"\n",
    "        MATCH (i:Item)\n",
    "        WHERE NOT i.is_finished_product\n",
    "        RETURN i.family AS family, count(*) AS numberOfComponents\n",
    "        \"\"\")\n",
    "        return results\n",
    "    except Exception as e:\n",
    "        return [{\"error\":str(e)}]\n",
    "#test\n",
    "get_component_families()"
   ],
   "outputs": [],
   "execution_count": null
  },
  {
   "cell_type": "code",
   "metadata": {},
   "source": [
    "def get_item(sku_id: str) -> dict[str, Any]:\n",
    "    \"\"\"\n",
    "    Gets Item properties\n",
    "    Args:\n",
    "        sku_id (str): code uniquely identifying the item which can be a component or finished product\n",
    "    Returns:\n",
    "        dict[str, Any]: item properties\n",
    "    \"\"\"\n",
    "    try:\n",
    "        results = db._execute_query(\"\"\"\n",
    "        MATCH (i:Item {sku_id: $sku_id})\n",
    "        RETURN i.sku_id AS sku_id, i.name AS name, i.family AS family, i.is_finished_product AS is_finished_product\n",
    "        \"\"\", {\"sku_id\": sku_id})\n",
    "        return results\n",
    "    except Exception as e:\n",
    "        return {\"error\": str(e)}"
   ],
   "outputs": [],
   "execution_count": null
  },
  {
   "cell_type": "code",
   "metadata": {},
   "source": [
    "get_item(\"35472245A\")"
   ],
   "outputs": [],
   "execution_count": null
  },
  {
   "cell_type": "code",
   "metadata": {},
   "source": [
    "def get_known_item_country_dependencies(sku_id: str) -> List[Dict[str, Any]]:\n",
    "    \"\"\"\n",
    "    Retrieve all known country dependencies for a given item, which can represent either a finished product, a component, or both. This includes data on sourcing, manufacturing, or other relationships tied to specific countries.\n",
    "    Dependencies are determined recursively by examining all connected components in the item's bill of materials (BOM). For each component, this function identifies:\n",
    "    1. **Known Country Dependencies:** A list of countries and their corresponding dependency descriptions (e.g., sourcing steel, manufacturing).\n",
    "    2. **Supply Chain Dependencies:** A visual representation of how components with such country dependencies are linked to the provided item through potentially multiple stages of the BOM hierarchy, represented as a sequence of components connected by arrows, culminating in the provided item.\n",
    "\n",
    "    Note: This function only retrieves available data, which may be incomplete due to limited internal intelligence.\n",
    "\n",
    "    Args:\n",
    "        sku_id (str): code uniquely identifying the component or finished product\n",
    "    Returns:\n",
    "        list[dict[str, Any]]: a list of components in this items bill of materials with country dependencies along with their country dependencies and how they relate to the item in the bill of materials hierarchy.\n",
    "    \"\"\"\n",
    "    try:\n",
    "        results = db._execute_query(\"\"\"\n",
    "        MATCH (i:Item {sku_id: $sku_id})\n",
    "        MATCH path=(i)<-[:BOM*]-(comp:Item)-[r:DEPENDS_ON]->(c:Country)\n",
    "        RETURN\n",
    "        comp.sku_id AS sku_id,\n",
    "        comp.name AS name,\n",
    "        collect({country: c.name, dependency: r.description}) AS known_country_dependencies,\n",
    "        ' <- ' + apoc.text.join([n IN tail(nodes(path))[..-1] | n.sku_id + ' (' + coalesce(n.name, '') + ')' ], ' <- ') AS supply_chain_dependency\n",
    "        \"\"\", {\"sku_id\": sku_id})\n",
    "        return results\n",
    "    except Exception as e:\n",
    "        return [{\"error\": str(e)}]"
   ],
   "outputs": [],
   "execution_count": null
  },
  {
   "cell_type": "code",
   "metadata": {},
   "source": [
    "get_known_item_country_dependencies(\"35472245A\")"
   ],
   "outputs": [],
   "execution_count": null
  },
  {
   "cell_type": "code",
   "metadata": {},
   "source": [
    "def get_item_bill_of_materials(sku_id: str) -> List[Dict[str, Any]]:\n",
    "    \"\"\"\n",
    "    Retrieve the complete Bill of Materials (BOM) hierarchy for a given finished product or component identified by the SKU.\n",
    "    This function provides a detailed view of all components involved in the production of the specified item.\n",
    "    It identifies components recursively linked to the given item through the BOM hierarchy.\n",
    "\n",
    "    Key Features:\n",
    "    1. **Bill of Material Dependencies:** Identifies all components recursively linked to the given item through the BOM hierarchy.\n",
    "    2. **Dependency Path Representation:** Produces a flattened tree structure where each entry represents a sequence of components\n",
    "       connected by arrows, showing the hierarchical relationships from the base components to the provided item.\n",
    "\n",
    "\n",
    "    Args:\n",
    "        sku_id (str): The SKU (Stock Keeping Unit) that uniquely identifies a product, component, or part.\n",
    "\n",
    "    Returns:\n",
    "        list[dict[str, Any]]: A list of dependency paths represented as strings. Each path shows the components in the BOM hierarchy\n",
    "        leading to the specified item, connected by arrows (` <- `). For example:\n",
    "            \" <- 35472245 (CabWiringUnit_Z5OO3)\"\n",
    "            \" <- 35472245 (CabWiringUnit_Z5OO3) <- 35475154X (CabWiringUnit_VT75O)\"\n",
    "            \" <- 35472245 (CabWiringUnit_Z5OO3) <- 35475154X (CabWiringUnit_VT75O) <- M3571002BX (CabWiringUnit_A9FH4)\"\n",
    "    \"\"\"\n",
    "\n",
    "    try:\n",
    "        results = db._execute_query(\"\"\"\n",
    "        MATCH (i:Item {sku_id: $sku_id})\n",
    "        MATCH path=(i)<-[:BOM*]-(:Item)\n",
    "        RETURN ' <- ' + apoc.text.join([n IN tail(nodes(path)) | n.sku_id + ' (' + coalesce(n.name, '') + ')' ], ' <- ') AS supply_chain_dependency\n",
    "        \"\"\", {\"sku_id\": sku_id})\n",
    "        return results\n",
    "    except Exception as e:\n",
    "        return [{\"error\": str(e)}]\n"
   ],
   "outputs": [],
   "execution_count": null
  },
  {
   "cell_type": "code",
   "metadata": {},
   "source": [
    "get_item_bill_of_materials(\"35472245A\")"
   ],
   "outputs": [],
   "execution_count": null
  },
  {
   "cell_type": "code",
   "metadata": {},
   "source": [
    "def get_standard_country_codes_and_names() -> List[Dict[str, Any]]:\n",
    "    \"\"\"\n",
    "    Get the standardized country codes and names that are mentioned in the BOM and supply chain data.\n",
    "    Other methods that have country names and code as input will only match data if with these standardized codes/names.\n",
    "    Note that not all countries may be listed, as not all countries are mentioned in intel.\n",
    "    \"\"\"\n",
    "    try:\n",
    "        results = db._execute_query(\"\"\"\n",
    "        MATCH (c:Country)\n",
    "        RETURN c.code as code, c.name as name\n",
    "        \"\"\")\n",
    "        return results\n",
    "    except Exception as e:\n",
    "        return [{\"error\":str(e)}]\n",
    "#test\n",
    "get_standard_country_codes_and_names()"
   ],
   "outputs": [],
   "execution_count": null
  },
  {
   "cell_type": "code",
   "metadata": {},
   "source": [
    "from typing import List, Dict\n",
    "\n",
    "\n",
    "def get_products_with_country_dependencies(country_code:str, dependency_search_term: Optional[str] = None) -> List[Dict[str, Any]]:\n",
    "    \"\"\"\n",
    "    Identify finished products that are affected by dependencies on a specific material or resource from a given country.\n",
    "\n",
    "    This function traces the supply chain of finished products to specific materials or resources sourced from a particular country. By analyzing the Bill of Materials (BOM) hierarchy,\n",
    "    it identifies how dependencies on components are linked to the production of finished products.\n",
    "\n",
    "    Key Features:\n",
    "    1. **Country-Specific Dependencies:** Finds components linked to a specific country and determines how their dependencies\n",
    "       impact finished products.\n",
    "    2. **Dependency Search:** Allows optional filtering of dependencies by a search term (e.g., \"nickel\").\n",
    "    3. **Supply Chain Traceability:** Provides detailed paths showing how the affected components feed into finished products.\n",
    "\n",
    "    Args:\n",
    "        country_code (str): The standardized ISO 3166 alpha-3 country code (e.g., \"CAN\" for Canada) to trace dependencies related to a specific country.\n",
    "        dependency_search_term (Optional[str]): A search term to filter specific dependencies (e.g., \"nickel\").\n",
    "            If omitted, all dependencies for the country are considered. keep the search terms short and simple - exact matching is used for criteria\n",
    "\n",
    "    Returns:\n",
    "        List[Dict[str, Any]]: A list where each element represents a finished product impacted by the specified dependencies.\n",
    "        Each entry includes:\n",
    "            - **product_sku_id (str):** The SKU of the finished product.\n",
    "            - **product_name (str):** The name of the finished product.\n",
    "            - **dependencies (list):** A list of dictionaries, with each dictionary representing:\n",
    "                - **depends_on_item_sku_id (str):** The SKU of the component causing the dependency.\n",
    "                - **depends_on_item_name (str):** The name of the component causing the dependency.\n",
    "                - **country_dependency_of_item (list[dict]):** A list of country dependencies associated with the component,\n",
    "                  including:\n",
    "                    - **dependency (str):** A description of the dependency (e.g., \"sourcing nickel\").\n",
    "                    - **country (str):** The country associated with the dependency (e.g., \"Canada\").\n",
    "                - **supply_chain_dependency_for_product (str):** A trace of the supply chain relationship between the component\n",
    "                  and the finished product. This trace is represented as a sequence of SKUs and component names connected by arrows (e.g.,\n",
    "                  \" <- D0301002 (PrecisionBolt_252A1) <- 13952372 (ChassisFrame_3AC3Z)\").\n",
    "\n",
    "    Examples:\n",
    "        - **Query:** country_code = \"CAN\", dependency_search_term = \"nickel\"\n",
    "        - **Output:**\n",
    "            [\n",
    "                {\n",
    "                    \"product_sku_id\": \"35513559\",\n",
    "                    \"product_name\": \"FarmTractor_VLM4F\",\n",
    "                    \"dependencies\": [\n",
    "                        {\n",
    "                            \"depends_on_item_sku_id\": \"D0301002\",\n",
    "                            \"depends_on_item_name\": \"PrecisionBolt_252A1\",\n",
    "                            \"country_dependency_of_item\": [\n",
    "                                {\n",
    "                                    \"dependency\": \"sourcing nickel\",\n",
    "                                    \"country\": \"Canada\"\n",
    "                                }\n",
    "                            ],\n",
    "                            \"supply_chain_dependency_for_product\": \" <- D0301002 (PrecisionBolt_252A1) <- 13978746 (CabWiringUnit_EVKCK)\"\n",
    "                        }\n",
    "                    ]\n",
    "                },\n",
    "                ...\n",
    "            ]\n",
    "    \"\"\"\n",
    "\n",
    "    try:\n",
    "        if dependency_search_term is None:\n",
    "            results = db._execute_query(\"\"\"\n",
    "            MATCH (i:Item)-[r:DEPENDS_ON]->(c:Country {code:$countryCode})\n",
    "            WITH i,r,c\n",
    "            MATCH path = (i)-[:BOM*]->(p {is_finished_product:true})\n",
    "            WITH p.sku_id AS product_sku_id, p.name AS product_name,  i.sku_id AS depends_on_item_sku_id, i.name AS depends_on_item_name, collect({country: c.name, dependency: r.description}) AS known_country_dependency,\n",
    "                ' <- ' + apoc.text.join([n IN reverse(nodes(path)[..-1]) | n.sku_id + ' (' + coalesce(n.name, '') + ')' ], ' <- ') AS supply_chain_dependency\n",
    "            RETURN  product_sku_id, product_name, collect({depends_on_item_sku_id: depends_on_item_sku_id, depends_on_item_name: depends_on_item_name, country_dependency_of_item: known_country_dependency, supply_chain_dependency_for_product: supply_chain_dependency}) AS dependencies\n",
    "            \"\"\", {\"countryCode\": country_code, \"dependencySearchTerm\": dependency_search_term})\n",
    "        else:\n",
    "            results = db._execute_query(\"\"\"\n",
    "            MATCH (i:Item)-[r:DEPENDS_ON]->(c:Country {code:$countryCode})\n",
    "            WHERE  lower(r.description) CONTAINS lower($dependencySearchTerm)\n",
    "            WITH i,r,c\n",
    "            MATCH path = (i)-[:BOM*]->(p {is_finished_product:true})\n",
    "            WITH p.sku_id AS product_sku_id, p.name AS product_name,  i.sku_id AS depends_on_item_sku_id, i.name AS depends_on_item_name, collect({country: c.name, dependency: r.description}) AS known_country_dependency,\n",
    "                ' <- ' + apoc.text.join([n IN reverse(nodes(path)[..-1])| n.sku_id + ' (' + coalesce(n.name, '') + ')' ], ' <- ') AS supply_chain_dependency\n",
    "            RETURN  product_sku_id, product_name, collect({depends_on_item_sku_id: depends_on_item_sku_id, depends_on_item_name: depends_on_item_name, country_dependency_of_item: known_country_dependency, supply_chain_dependency_for_product: supply_chain_dependency}) AS dependencies\n",
    "            \"\"\", {\"countryCode\": country_code, \"dependencySearchTerm\": dependency_search_term})\n",
    "        return results\n",
    "    except Exception as e:\n",
    "        return [{\"error\": str(e)}]"
   ],
   "outputs": [],
   "execution_count": null
  },
  {
   "cell_type": "code",
   "metadata": {},
   "source": [
    "get_products_with_country_dependencies(\"CAN\", \"nickel\")[:2]"
   ],
   "outputs": [],
   "execution_count": null
  },
  {
   "cell_type": "code",
   "metadata": {},
   "source": [
    "get_products_with_country_dependencies(\"USA\")[:2]"
   ],
   "outputs": [],
   "execution_count": null
  },
  {
   "cell_type": "code",
   "metadata": {},
   "source": [
    "def get_supplier_substitutions(supplier_code: str) -> List[Dict[str, Any]]:\n",
    "    \"\"\"\n",
    "    Retrieves substitution recommendations for items (components and/or finished products) supplied by a specific supplier.\n",
    "\n",
    "    This function is designed to assist in scenarios where a supplier (identified by its unique code)\n",
    "    is temporarily or permanently unable to operate or is otherwise designated for substitution.\n",
    "    It identifies items supplied by the specified supplier and recommends other suppliers on the same BOM tier that\n",
    "    can substitute those items. Recommendations are ranked by supplier proximity based on geodistance.\n",
    "\n",
    "    Args:\n",
    "        supplier_code (str): A unique code identifying the supplier in question.\n",
    "\n",
    "    Returns:\n",
    "        list[dict[str, Any]]: A list of dictionaries, each containing details for an item supplied by the specified supplier:\n",
    "            - sku_id (str): The unique identifier for the item.\n",
    "            - name (str): The name or description of the item.\n",
    "            - recommended_supplier (dict): The closest alternative supplier for the item, including:\n",
    "                - code (str): The unique code for the supplier.\n",
    "                - distance (float): The geodistance (in miles) between the original supplier's location and the alternate supplier.\n",
    "              This is `null` if no alternative suppliers are available.\n",
    "            - other_suppliers (list[dict]): A list of additional alternative suppliers, sorted by ascending distance, with each supplier having:\n",
    "                - code (str): The unique code for the supplier.\n",
    "                - distance (float): The geodistance (in miles).\n",
    "              This is an empty list if no additional alternatives are available.\n",
    "\n",
    "    Example Output:\n",
    "        [\n",
    "            {\n",
    "                \"sku_id\": \"28710197\",\n",
    "                \"name\": \"Harness_YU5KA\",\n",
    "                \"recommended_supplier\": {\n",
    "                    \"distance\": 99.65,\n",
    "                    \"code\": \"T4J5DE\"\n",
    "                },\n",
    "                \"other_suppliers\": []\n",
    "            },\n",
    "            {\n",
    "                \"sku_id\": \"28018274\",\n",
    "                \"name\": \"Clamp_MRVR0\",\n",
    "                \"recommended_supplier\": {\n",
    "                    \"distance\": 99.65,\n",
    "                    \"code\": \"T4J5DE\"\n",
    "                },\n",
    "                \"other_suppliers\": [\n",
    "                    {\n",
    "                        \"distance\": 1376.98,\n",
    "                        \"code\": \"RO6UY3\"\n",
    "                    },\n",
    "                    {\n",
    "                        \"distance\": 11170.08,\n",
    "                        \"code\": \"6TIPXK\"\n",
    "                    }\n",
    "                ]\n",
    "            }\n",
    "        ]\n",
    "\n",
    "    \"\"\"\n",
    "    try:\n",
    "        results = db._execute_query(\"\"\"\n",
    "        MATCH (l)<-[:LOCATED_AT]-(s:Supplier {code: $code})<-[:AT]-(i:Item)\n",
    "        OPTIONAL MATCH (i)-[:AT]->(sAlt:Supplier  WHERE sAlt.tier = s.tier AND sAlt <> s)-[:LOCATED_AT]->(lAlt)\n",
    "        WHERE sAlt.tier = s.tier AND sAlt <> s\n",
    "        // Calculate geodistance\n",
    "        WITH i, sAlt, round(point.distance(l.geo_point, lAlt.geo_point) * 0.000621371) AS distance_in_miles\n",
    "        ORDER BY i, distance_in_miles ASC\n",
    "        // Collect recommended supplier and other options\n",
    "        WITH i, collect({code: sAlt.code, distance: distance_in_miles}) AS all_sAlt\n",
    "        RETURN i.sku_id AS sku_id, i.name as name, all_sAlt[0] AS recommended_supplier, tail(all_sAlt) AS other_suppliers\n",
    "        \"\"\", {\"code\":supplier_code})\n",
    "        return results\n",
    "    except Exception as e:\n",
    "        return [{\"error\":str(e)}]"
   ],
   "outputs": [],
   "execution_count": null
  },
  {
   "cell_type": "code",
   "metadata": {},
   "source": [
    "def get_finished_products_depending_on_items(sku_ids: List[str]) -> List[Dict[str, Any]]:\n",
    "    \"\"\"\n",
    "    Find finished products that depend on the provided item SKUs in their supply chain.\n",
    "\n",
    "    This function identifies finished products in a supply chain that directly or indirectly rely\n",
    "    on specific items (provided by their SKUs). Using the Bill of Materials (BOM) relationships,\n",
    "    it traces the supply chain dependencies starting from the supplied `sku_ids` and identifies\n",
    "    finished products (`is_finished_product == true`). It also generates a detailed dependency path\n",
    "    for each finished product, showing how the input SKUs are linked to the finished product.\n",
    "\n",
    "    Args:\n",
    "        sku_ids (List[str]): A list of item SKUs to find dependencies for.\n",
    "\n",
    "    Returns:\n",
    "        List[Dict[str, Any]]: A list of dictionaries where each entry corresponds to a finished product.\n",
    "            Each dictionary contains:\n",
    "            - `sku_id` (str): The SKU of the finished product.\n",
    "            - `depends_on_item_sku_ids` (List[str]): A list of unique item SKUs from the input that this\n",
    "              finished product depends on.\n",
    "            - `supply_chain_dependency` (List[str]): A list of dependency paths starting from the finished\n",
    "              product and tracing backward to the input SKUs. Each path is represented as a string,\n",
    "              detailing the SKUs and names of items connected in the workflow. The format of each\n",
    "              path is:\n",
    "              ```\n",
    "              \"<- FinishedProductSKU (FinishedProductName) <- IntermediateSKU (IntermediateName) <- InputSKU (InputName)\"\n",
    "              ```\n",
    "              If there are multiple paths for the same input SKU leading to the finished product, all\n",
    "              paths are included.\n",
    "\n",
    "    Example Output:\n",
    "        [\n",
    "            {\n",
    "                \"sku_id\": \"13867580\",\n",
    "                \"depends_on_item_sku_ids\": [\"B0301002\"],\n",
    "                \"supply_chain_dependency\": [\n",
    "                    \" <- 13578113 (DrivePlatform_B6A4T) <- B0301002 (Bolt_W5F3Y)\"\n",
    "                ]\n",
    "            },\n",
    "            {\n",
    "                \"sku_id\": \"35750243\",\n",
    "                \"depends_on_item_sku_ids\": [\"B0301002\"],\n",
    "                \"supply_chain_dependency\": [\n",
    "                    \" <- 13578113 (DrivePlatform_B6A4T) <- B0301002 (Bolt_W5F3Y)\",\n",
    "                    \" <- 13599782 (MachineRig_IBA4I) <- B0301002 (Bolt_W5F3Y)\"\n",
    "                ]\n",
    "            }\n",
    "        ]\n",
    "\n",
    "    \"\"\"\n",
    "    try:\n",
    "        results = db._execute_query(\"\"\"\n",
    "        MATCH path = (i:Item)-[:BOM*]->(p {is_finished_product: true})\n",
    "        WHERE i.sku_id IN $skuIds\n",
    "\n",
    "        RETURN p.sku_id AS sku_id,\n",
    "          collect(DISTINCT i.sku_id) AS depends_on_item_sku_ids,\n",
    "          collect(' <- ' + apoc.text.join([n IN reverse(nodes(path)[..-1]) | n.sku_id + ' (' + coalesce(n.name, '') + ')' ], ' <- ')) AS supply_chain_dependency\n",
    "        \"\"\", {\"skuIds\":sku_ids})\n",
    "        return results\n",
    "    except Exception as e:\n",
    "        return [{\"error\":str(e)}]"
   ],
   "outputs": [],
   "execution_count": null
  },
  {
   "cell_type": "code",
   "metadata": {},
   "source": [
    "get_finished_products_depending_on_items([\"KM100347\", \"B0301002\", \"KM100322\"])[:3]"
   ],
   "outputs": [],
   "execution_count": null
  },
  {
   "cell_type": "code",
   "metadata": {},
   "source": [
    "#search for dependencies on a\n",
    "\n",
    "#1 get country options - separate function\n",
    "#2 search for countries and dependencies\n",
    "#come dependencies"
   ],
   "outputs": [],
   "execution_count": null
  },
  {
   "cell_type": "markdown",
   "metadata": {
    "id": "meW7SNrTyCgn"
   },
   "source": [
    "# Define our Agents\n",
    "\n",
    "An AI agent reasons, plans, and takes actions.\n",
    "\n",
    "The agent takes actions via access to **tools**, deciding how and when to invoke a tool. The agent also manages orchestration, creating a plan for answering a user query and adapting to responses that aren't quite correct.\n",
    "\n",
    "Agent **tools** can be Python functions, or Vertex AI Extensions, or MCP Servers.\n",
    "\n",
    "## Creating the Database Agent.\n",
    "\n",
    "* display name\n",
    "* instructions - detailed, making it clear exactly how the agent should behave and which tools to use when\n",
    "* tools\n",
    "\n"
   ]
  },
  {
   "cell_type": "code",
   "metadata": {
    "id": "yI9pmcREDKNK",
    "tags": []
   },
   "source": [
    "from google.adk.agents import Agent"
   ],
   "outputs": [],
   "execution_count": null
  },
  {
   "cell_type": "code",
   "metadata": {
    "id": "exrr_oCNLxqZ",
    "tags": []
   },
   "source": [
    "MODEL=\"gemini-2.5-pro-preview-03-25\""
   ],
   "outputs": [],
   "execution_count": null
  },
  {
   "cell_type": "code",
   "metadata": {
    "id": "E7zyD4nvxFy4",
    "tags": []
   },
   "source": [
    "database_agent = Agent(\n",
    "    model=MODEL,\n",
    "    name='graph_database_agent',\n",
    "    instruction=\"\"\"\n",
    "      You are an Neo4j graph database and Cypher query expert, that must use the database schema with a user question and repeatedly generate valid cypher statements\n",
    "      to execute on the database and answer the user's questions in a friendly manner in natural language.\n",
    "      If in doubt the database schema is always prioritized when it comes to nodes-types (labels) or relationship-types or property names, never take the user's input at face value.\n",
    "      If the user requests also render tables, charts or other artifacts with the query results.\n",
    "      Always validate the correct node-labels at the end of a relationship based on the schema.\n",
    "\n",
    "      If a query fails or doesn't return data, use the error response 3 times to try to fix the generated query and re-run it, don't return the error to the user.\n",
    "      If you cannot fix the query, explain the issue to the user and apologize.\n",
    "\n",
    "      Fetch the graph database schema first and keep it in session memory to access later for query generation.\n",
    "      Keep results of previous executions in session memory and access if needed, for instance ids or other attributes of nodes to find them again\n",
    "      removing the need to ask the user. This also allows for generating shorter, more focused and less error-prone queries\n",
    "      to for drill downs, sequences and loops.\n",
    "      If possible resolve names to primary keys or ids and use those for looking up entities.\n",
    "      The schema always indicates *outgoing* relationship-types from an entity to another entity, the graph patterns read like english language.\n",
    "      `company has supplier` would be the pattern `(o:Organization)-[:HAS_SUPPLIER]->(s:Organization)`\n",
    "\n",
    "      To get the schema of a database use the `get_schema` tool without parameters. Store the response of the schema tool in session context\n",
    "      to access later for query generation.\n",
    "\n",
    "      To answer a user question generate one or more Cypher statements based on the database schema and the parts of the user question.\n",
    "      If necessary resolve categorical attributes (like names, countries, industries, publications) first by retrieving them for a set of entities to translate from the user's request.\n",
    "      Use the `execute_query` tool repeatedly with the Cypher statements, you MUST generate statements that use named query parameters with `$parameter` style names\n",
    "      and MUST pass them as a second dictionary parameter to the tool, even if empty.\n",
    "      Parameter data can come from the users requests, prior query results or additional lookup queries.\n",
    "      After the data for the question has been sufficiently retrieved, pass the data and control back to the parent agent.\n",
    "    \"\"\",\n",
    "    tools=[\n",
    "        get_schema, execute_read_query\n",
    "    ]\n",
    ")"
   ],
   "outputs": [],
   "execution_count": null
  },
  {
   "cell_type": "code",
   "metadata": {
    "id": "wm2YPp1eG2WQ",
    "tags": []
   },
   "source": [
    "bom_supplier_research_agent = Agent(\n",
    "    model=MODEL,\n",
    "    name='bom_supplier_research_agent',\n",
    "    instruction=\"\"\"\n",
    "    You are an agent that has access to a database of bill of materials (BOM), supplier, product/component, and customer relationships.\n",
    "    Use the provided tools to answer questions. \n",
    "    when returning information, try to always return not just the factual attribute data but also\n",
    "    codes, skus, and ids to allow the other agents to investigate them more.\n",
    "    \"\"\",\n",
    "    tools=[\n",
    "        get_schema,\n",
    "        get_item,\n",
    "        get_known_item_country_dependencies,\n",
    "        get_item_bill_of_materials,\n",
    "        get_standard_country_codes_and_names,\n",
    "        get_finished_product_families,\n",
    "        get_products_with_country_dependencies,\n",
    "        get_component_families,\n",
    "        get_supplier_substitutions,\n",
    "        get_finished_products_depending_on_items\n",
    "    ]\n",
    ")"
   ],
   "outputs": [],
   "execution_count": null
  },
  {
   "cell_type": "code",
   "metadata": {
    "id": "FSlyylN9HBJh",
    "tags": []
   },
   "source": [
    "root_agent = Agent(\n",
    "    model=MODEL,\n",
    "    name='bom_supplier_agent',\n",
    "    global_instruction = \"\",\n",
    "    instruction=\"\"\"\n",
    "    You are an agent that has access to a database of bill of materials (BOM), supplier, product/component, and customer relationships.\n",
    "    You have a set of agents to retrieve information, you should prefer the research agents over the database agent - particularly for questions around bill of materials, component & product info, and country dependencies. Only use the database agent if you have to as a fallback.\n",
    "    If the user requests it, do render tables, charts or other artifacts with the research results.\n",
    "    \"\"\",\n",
    "\n",
    "    sub_agents=[bom_supplier_research_agent, database_agent]\n",
    ")"
   ],
   "outputs": [],
   "execution_count": null
  },
  {
   "cell_type": "markdown",
   "metadata": {
    "id": "4yRbuebi-Zh6"
   },
   "source": [
    "# Let's try it\n",
    "\n",
    "You can [run the ADK locally](https://google.github.io/adk-docs/get-started/local-testing/#expected-output) a web application with `adk web` or the FastAPI server with `adk api_server`.\n",
    "\n",
    "You can also deploy the agent to [Cloud Run](https://google.github.io/adk-docs/deploy/cloud-run/) or to [Agent Engine](https://google.github.io/adk-docs/deploy/agent-engine/)."
   ]
  },
  {
   "cell_type": "code",
   "metadata": {
    "id": "tyGD1YGaVVK6",
    "tags": []
   },
   "source": [
    "APP_NAME = 'BOM & Supplier Analyst'\n",
    "USER_ID = 'Zach Blumenfeld'\n",
    "\n",
    "from google.adk.runners import InMemoryRunner\n",
    "from google.genai.types import Part, UserContent\n",
    "\n",
    "\n",
    "runner = InMemoryRunner(app_name=APP_NAME, agent=root_agent)\n",
    "\n",
    "session = runner.session_service.create_session(app_name=runner.app_name, user_id=USER_ID)"
   ],
   "outputs": [],
   "execution_count": null
  },
  {
   "metadata": {},
   "cell_type": "code",
   "source": "type(session)",
   "outputs": [],
   "execution_count": null
  },
  {
   "metadata": {},
   "cell_type": "code",
   "source": [
    "async def run_prompt(new_message: str):\n",
    "  content = UserContent(parts=[Part(text=new_message)])\n",
    "# print (content)\n",
    "  result = None\n",
    "  async for event in runner.run_async(user_id=USER_ID, session_id=session.id, new_message=content):\n",
    "#    print(event.content.model_dump(exclude_none=True))\n",
    "#    print(event.content.parts)\n",
    "    for part in event.content.parts:\n",
    "      print(part.text, part.function_call, part.function_response)\n",
    "      if part.text:\n",
    "#        print(part.text)\n",
    "        result = part.text\n",
    "  return result"
   ],
   "outputs": [],
   "execution_count": null
  },
  {
   "cell_type": "code",
   "metadata": {
    "colab": {
     "base_uri": "https://localhost:8080/",
     "height": 288
    },
    "id": "L_7x-n3Q1km9",
    "outputId": "3d4496d4-3f0e-4a1b-ab60-ab26246ff54a",
    "tags": []
   },
   "source": [
    "from IPython.display import Markdown, display\n",
    "\n",
    "res = await run_prompt('what types of finished products are there?')\n",
    "print(\"\\n\\n\\n\\nFinal Response:\")\n",
    "display(Markdown(res))"
   ],
   "outputs": [],
   "execution_count": null
  },
  {
   "cell_type": "code",
   "metadata": {},
   "source": [
    "res = await run_prompt('Can you summarize the BOM and potential country dependencies for product \"35472245A\"')\n",
    "print(\"\\n\\n\\n\\nFinal Response:\")\n",
    "display(Markdown(res))"
   ],
   "outputs": [],
   "execution_count": null
  },
  {
   "cell_type": "code",
   "metadata": {},
   "source": [
    "res = await run_prompt('What products depend on Canada for nickel?')\n",
    "print(\"\\n\\n\\n\\nFinal Response:\")\n",
    "display(Markdown(res))"
   ],
   "outputs": [],
   "execution_count": null
  },
  {
   "cell_type": "code",
   "metadata": {},
   "source": [
    "res = await run_prompt('Supplier YP8UYT had a fire and is out of ooperation. I need to source alternatives.  Can you help?')\n",
    "print(\"\\n\\n\\n\\nFinal Response:\")\n",
    "display(Markdown(res))"
   ],
   "outputs": [],
   "execution_count": null
  },
  {
   "cell_type": "code",
   "metadata": {
    "colab": {
     "base_uri": "https://localhost:8080/"
    },
    "id": "bsutZ5xe2TxK",
    "outputId": "5cb66b09-9a28-4d36-b00a-0d8fd33044b1"
   },
   "source": [
    "for session in runner.session_service.list_sessions(app_name=APP_NAME, user_id=USER_ID).sessions:\n",
    "  print(session.model_dump())"
   ],
   "outputs": [],
   "execution_count": null
  },
  {
   "cell_type": "code",
   "metadata": {
    "colab": {
     "base_uri": "https://localhost:8080/",
     "height": 198
    },
    "id": "1LBAZrGX7cQa",
    "outputId": "2f58cc04-952a-4023-c818-737df992b8d9"
   },
   "source": [
    "result = await run_prompt(\"Summarize the results of the previous research questions\")\n",
    "print(\"\\n\\n\\n\\nFinal Response:\")\n",
    "display(Markdown(result))"
   ],
   "outputs": [],
   "execution_count": null
  },
  {
   "cell_type": "code",
   "metadata": {
    "colab": {
     "base_uri": "https://localhost:8080/"
    },
    "id": "2DWthTncLmtm",
    "outputId": "e619ee13-cf4f-44c5-a273-a78905f05776"
   },
   "source": [
    "for session in runner.session_service.list_sessions(app_name=APP_NAME, user_id=USER_ID).sessions:\n",
    "  print(f\"Deleting session {session}\")\n",
    "  runner.session_service.delete_session(app_name=APP_NAME, user_id=USER_ID, session_id=session.id)"
   ],
   "outputs": [],
   "execution_count": null
  }
 ],
 "metadata": {
  "colab": {
   "provenance": []
  },
  "environment": {
   "kernel": "conda-base-py",
   "name": "workbench-notebooks.m129",
   "type": "gcloud",
   "uri": "us-docker.pkg.dev/deeplearning-platform-release/gcr.io/workbench-notebooks:m129"
  },
  "kernelspec": {
   "display_name": "Python 3 (ipykernel)",
   "language": "python",
   "name": "python3"
  },
  "language_info": {
   "codemirror_mode": {
    "name": "ipython",
    "version": 3
   },
   "file_extension": ".py",
   "mimetype": "text/x-python",
   "name": "python",
   "nbconvert_exporter": "python",
   "pygments_lexer": "ipython3",
   "version": "3.11.6"
  }
 },
 "nbformat": 4,
 "nbformat_minor": 4
}
