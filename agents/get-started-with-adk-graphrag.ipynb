{
 "cells": [
  {
   "cell_type": "markdown",
   "metadata": {
    "id": "3OqG2k_o_zmb"
   },
   "source": [
    "# Getting Started with the Agent Development Kit (ADK) with Neo4j\n",
    "\n",
    "This notebook shows how to use the Vertex AI Agent Framework to setup a multi-agent system integrating Neo4j.\n",
    "\n",
    "The Vertex AI ADK is a python-based SDK that empowers developers to build multi-agent applications with custom logic, tools, and integrations.\n",
    "\n",
    "In this notebook you will learn how to do the following:\n",
    "\n",
    "*  Install Agent Development Kit\n",
    "*  Define functions as tools\n",
    "*  Define a database and analyst agent\n",
    "*  Create a \"Bom & Supplier Research\" Multi-Agent\n",
    "\n",
    "\n",
    "## Learn more about Neo4j\n",
    "\n",
    "* https://neo4j.com/genai\n",
    "* https://neo4j.com/developer\n",
    "* https://graphrag.com\n",
    "* https://neo4j.com/labs/genai-ecosystem\n",
    "* [Neo4j and MCP Toolbox](https://neo4j.com/blog/developer/ai-agents-gen-ai-toolbox/)\n",
    "\n",
    "## Learn more about the ADK\n",
    "\n",
    "* [Launch Blog](https://cloud.google.com/blog/products/ai-machine-learning/build-and-manage-multi-system-agents-with-vertex-ai)\n",
    "* [Developer Blog](https://developers.googleblog.com/en/agent-development-kit-easy-to-build-multi-agent-applications/)\n",
    "* https://pypi.org/project/google-adk/\n",
    "* https://google.github.io/adk-docs/\n",
    "* https://github.com/google/adk-samples/\n",
    "* [LLM Agents](https://google.github.io/adk-docs/agents/llm-agents/#putting-it-together-example)\n",
    "* [Deploy to Agent Engine](https://google.github.io/adk-docs/deploy/agent-engine/)"
   ]
  },
  {
   "cell_type": "markdown",
   "metadata": {},
   "source": [
    "## Use Case Focus For Our Agent\n",
    "- __Summarize BOM Trees & Dependencies for Product:__ Can you summarize the BOM and potential country dependencies for product `<sku_id>`?\n",
    "- __Find Dependant Products:__ What products depend on `<country>` for `<material>`?\n",
    "- __Supplier Substitution:__ Supplier `<code>` is out of operation. I need to source alternatives.  Can you help?\n"
   ]
  },
  {
   "cell_type": "markdown",
   "metadata": {
    "id": "E29jokLY8VRH"
   },
   "source": [
    "# Install the Agent Development Kit"
   ]
  },
  {
   "cell_type": "code",
   "execution_count": 1,
   "metadata": {
    "ExecuteTime": {
     "end_time": "2025-04-21T01:07:47.390995Z",
     "start_time": "2025-04-21T01:07:26.836356Z"
    },
    "id": "chT-5K9yrrW9",
    "tags": []
   },
   "outputs": [],
   "source": [
    "# from google.colab import auth\n",
    "# auth.authenticate_user()\n",
    "!gcloud auth application-default login > /dev/null 2>&1"
   ]
  },
  {
   "cell_type": "code",
   "execution_count": 6,
   "metadata": {
    "id": "RNrh4GXq8bVn",
    "tags": []
   },
   "outputs": [
    {
     "name": "stdout",
     "output_type": "stream",
     "text": [
      "Requirement already satisfied: neo4j-rust-ext in /opt/conda/lib/python3.10/site-packages (5.28.1.0)\n",
      "Requirement already satisfied: python-dotenv in /opt/conda/lib/python3.10/site-packages (1.1.0)\n",
      "Requirement already satisfied: google-cloud-aiplatform[adk,agent_engines] in /opt/conda/lib/python3.10/site-packages (1.89.0)\n",
      "Requirement already satisfied: google-api-core!=2.0.*,!=2.1.*,!=2.2.*,!=2.3.*,!=2.4.*,!=2.5.*,!=2.6.*,!=2.7.*,<3.0.0,>=1.34.1 in /opt/conda/lib/python3.10/site-packages (from google-api-core[grpc]!=2.0.*,!=2.1.*,!=2.2.*,!=2.3.*,!=2.4.*,!=2.5.*,!=2.6.*,!=2.7.*,<3.0.0,>=1.34.1->google-cloud-aiplatform[adk,agent_engines]) (2.24.2)\n",
      "Requirement already satisfied: google-auth<3.0.0,>=2.14.1 in /opt/conda/lib/python3.10/site-packages (from google-cloud-aiplatform[adk,agent_engines]) (2.38.0)\n",
      "Requirement already satisfied: proto-plus<2.0.0,>=1.22.3 in /opt/conda/lib/python3.10/site-packages (from google-cloud-aiplatform[adk,agent_engines]) (1.26.1)\n",
      "Requirement already satisfied: protobuf!=4.21.0,!=4.21.1,!=4.21.2,!=4.21.3,!=4.21.4,!=4.21.5,<7.0.0,>=3.20.2 in /opt/conda/lib/python3.10/site-packages (from google-cloud-aiplatform[adk,agent_engines]) (3.20.3)\n",
      "Requirement already satisfied: packaging>=14.3 in /opt/conda/lib/python3.10/site-packages (from google-cloud-aiplatform[adk,agent_engines]) (24.2)\n",
      "Requirement already satisfied: google-cloud-storage<3.0.0,>=1.32.0 in /opt/conda/lib/python3.10/site-packages (from google-cloud-aiplatform[adk,agent_engines]) (2.19.0)\n",
      "Requirement already satisfied: google-cloud-bigquery!=3.20.0,<4.0.0,>=1.15.0 in /opt/conda/lib/python3.10/site-packages (from google-cloud-aiplatform[adk,agent_engines]) (3.31.0)\n",
      "Requirement already satisfied: google-cloud-resource-manager<3.0.0,>=1.3.3 in /opt/conda/lib/python3.10/site-packages (from google-cloud-aiplatform[adk,agent_engines]) (1.14.2)\n",
      "Requirement already satisfied: shapely<3.0.0 in /opt/conda/lib/python3.10/site-packages (from google-cloud-aiplatform[adk,agent_engines]) (2.0.7)\n",
      "Requirement already satisfied: pydantic<3 in /opt/conda/lib/python3.10/site-packages (from google-cloud-aiplatform[adk,agent_engines]) (2.11.0)\n",
      "Requirement already satisfied: typing-extensions in /opt/conda/lib/python3.10/site-packages (from google-cloud-aiplatform[adk,agent_engines]) (4.13.0)\n",
      "Requirement already satisfied: docstring-parser<1 in /opt/conda/lib/python3.10/site-packages (from google-cloud-aiplatform[adk,agent_engines]) (0.16)\n",
      "Requirement already satisfied: google-adk>=0.0.2 in /opt/conda/lib/python3.10/site-packages (from google-cloud-aiplatform[adk,agent_engines]) (0.2.0)\n",
      "Requirement already satisfied: cloudpickle<4.0,>=3.0 in /opt/conda/lib/python3.10/site-packages (from google-cloud-aiplatform[adk,agent_engines]) (3.1.1)\n",
      "Requirement already satisfied: google-cloud-trace<2 in /opt/conda/lib/python3.10/site-packages (from google-cloud-aiplatform[adk,agent_engines]) (1.16.1)\n",
      "Requirement already satisfied: google-cloud-logging<4 in /opt/conda/lib/python3.10/site-packages (from google-cloud-aiplatform[adk,agent_engines]) (3.12.0)\n",
      "Requirement already satisfied: opentelemetry-sdk<2 in /opt/conda/lib/python3.10/site-packages (from google-cloud-aiplatform[adk,agent_engines]) (1.31.1)\n",
      "Requirement already satisfied: opentelemetry-exporter-gcp-trace<2 in /opt/conda/lib/python3.10/site-packages (from google-cloud-aiplatform[adk,agent_engines]) (1.9.0)\n",
      "Requirement already satisfied: neo4j==5.28.1 in /opt/conda/lib/python3.10/site-packages (from neo4j-rust-ext) (5.28.1)\n",
      "Requirement already satisfied: pytz in /opt/conda/lib/python3.10/site-packages (from neo4j==5.28.1->neo4j-rust-ext) (2025.2)\n",
      "Requirement already satisfied: authlib>=1.5.1 in /opt/conda/lib/python3.10/site-packages (from google-adk>=0.0.2->google-cloud-aiplatform[adk,agent_engines]) (1.5.2)\n",
      "Requirement already satisfied: click>=8.1.8 in /opt/conda/lib/python3.10/site-packages (from google-adk>=0.0.2->google-cloud-aiplatform[adk,agent_engines]) (8.1.8)\n",
      "Requirement already satisfied: fastapi>=0.115.0 in /opt/conda/lib/python3.10/site-packages (from google-adk>=0.0.2->google-cloud-aiplatform[adk,agent_engines]) (0.115.12)\n",
      "Requirement already satisfied: google-api-python-client>=2.157.0 in /opt/conda/lib/python3.10/site-packages (from google-adk>=0.0.2->google-cloud-aiplatform[adk,agent_engines]) (2.166.0)\n",
      "Requirement already satisfied: google-cloud-secret-manager>=2.22.0 in /opt/conda/lib/python3.10/site-packages (from google-adk>=0.0.2->google-cloud-aiplatform[adk,agent_engines]) (2.23.3)\n",
      "Requirement already satisfied: google-cloud-speech>=2.30.0 in /opt/conda/lib/python3.10/site-packages (from google-adk>=0.0.2->google-cloud-aiplatform[adk,agent_engines]) (2.32.0)\n",
      "Requirement already satisfied: google-genai>=1.9.0 in /opt/conda/lib/python3.10/site-packages (from google-adk>=0.0.2->google-cloud-aiplatform[adk,agent_engines]) (1.11.0)\n",
      "Requirement already satisfied: graphviz>=0.20.2 in /opt/conda/lib/python3.10/site-packages (from google-adk>=0.0.2->google-cloud-aiplatform[adk,agent_engines]) (0.20.3)\n",
      "Requirement already satisfied: mcp>=1.5.0 in /opt/conda/lib/python3.10/site-packages (from google-adk>=0.0.2->google-cloud-aiplatform[adk,agent_engines]) (1.6.0)\n",
      "Requirement already satisfied: opentelemetry-api>=1.31.0 in /opt/conda/lib/python3.10/site-packages (from google-adk>=0.0.2->google-cloud-aiplatform[adk,agent_engines]) (1.31.1)\n",
      "Requirement already satisfied: PyYAML>=6.0.2 in /opt/conda/lib/python3.10/site-packages (from google-adk>=0.0.2->google-cloud-aiplatform[adk,agent_engines]) (6.0.2)\n",
      "Requirement already satisfied: sqlalchemy>=2.0 in /opt/conda/lib/python3.10/site-packages (from google-adk>=0.0.2->google-cloud-aiplatform[adk,agent_engines]) (2.0.40)\n",
      "Requirement already satisfied: tzlocal>=5.3 in /opt/conda/lib/python3.10/site-packages (from google-adk>=0.0.2->google-cloud-aiplatform[adk,agent_engines]) (5.3.1)\n",
      "Requirement already satisfied: uvicorn>=0.34.0 in /opt/conda/lib/python3.10/site-packages (from google-adk>=0.0.2->google-cloud-aiplatform[adk,agent_engines]) (0.34.0)\n",
      "Requirement already satisfied: googleapis-common-protos<2.0.0,>=1.56.2 in /opt/conda/lib/python3.10/site-packages (from google-api-core!=2.0.*,!=2.1.*,!=2.2.*,!=2.3.*,!=2.4.*,!=2.5.*,!=2.6.*,!=2.7.*,<3.0.0,>=1.34.1->google-api-core[grpc]!=2.0.*,!=2.1.*,!=2.2.*,!=2.3.*,!=2.4.*,!=2.5.*,!=2.6.*,!=2.7.*,<3.0.0,>=1.34.1->google-cloud-aiplatform[adk,agent_engines]) (1.69.2)\n",
      "Requirement already satisfied: requests<3.0.0,>=2.18.0 in /opt/conda/lib/python3.10/site-packages (from google-api-core!=2.0.*,!=2.1.*,!=2.2.*,!=2.3.*,!=2.4.*,!=2.5.*,!=2.6.*,!=2.7.*,<3.0.0,>=1.34.1->google-api-core[grpc]!=2.0.*,!=2.1.*,!=2.2.*,!=2.3.*,!=2.4.*,!=2.5.*,!=2.6.*,!=2.7.*,<3.0.0,>=1.34.1->google-cloud-aiplatform[adk,agent_engines]) (2.32.3)\n",
      "Requirement already satisfied: grpcio<2.0dev,>=1.33.2 in /opt/conda/lib/python3.10/site-packages (from google-api-core[grpc]!=2.0.*,!=2.1.*,!=2.2.*,!=2.3.*,!=2.4.*,!=2.5.*,!=2.6.*,!=2.7.*,<3.0.0,>=1.34.1->google-cloud-aiplatform[adk,agent_engines]) (1.71.0)\n",
      "Requirement already satisfied: grpcio-status<2.0.dev0,>=1.33.2 in /opt/conda/lib/python3.10/site-packages (from google-api-core[grpc]!=2.0.*,!=2.1.*,!=2.2.*,!=2.3.*,!=2.4.*,!=2.5.*,!=2.6.*,!=2.7.*,<3.0.0,>=1.34.1->google-cloud-aiplatform[adk,agent_engines]) (1.49.0rc1)\n",
      "Requirement already satisfied: cachetools<6.0,>=2.0.0 in /opt/conda/lib/python3.10/site-packages (from google-auth<3.0.0,>=2.14.1->google-cloud-aiplatform[adk,agent_engines]) (5.5.2)\n",
      "Requirement already satisfied: pyasn1-modules>=0.2.1 in /opt/conda/lib/python3.10/site-packages (from google-auth<3.0.0,>=2.14.1->google-cloud-aiplatform[adk,agent_engines]) (0.4.2)\n",
      "Requirement already satisfied: rsa<5,>=3.1.4 in /opt/conda/lib/python3.10/site-packages (from google-auth<3.0.0,>=2.14.1->google-cloud-aiplatform[adk,agent_engines]) (4.9)\n",
      "Requirement already satisfied: google-cloud-core<3.0.0,>=2.4.1 in /opt/conda/lib/python3.10/site-packages (from google-cloud-bigquery!=3.20.0,<4.0.0,>=1.15.0->google-cloud-aiplatform[adk,agent_engines]) (2.4.3)\n",
      "Requirement already satisfied: google-resumable-media<3.0.0,>=2.0.0 in /opt/conda/lib/python3.10/site-packages (from google-cloud-bigquery!=3.20.0,<4.0.0,>=1.15.0->google-cloud-aiplatform[adk,agent_engines]) (2.7.2)\n",
      "Requirement already satisfied: python-dateutil<3.0.0,>=2.8.2 in /opt/conda/lib/python3.10/site-packages (from google-cloud-bigquery!=3.20.0,<4.0.0,>=1.15.0->google-cloud-aiplatform[adk,agent_engines]) (2.9.0.post0)\n",
      "Requirement already satisfied: google-cloud-appengine-logging<2.0.0,>=0.1.3 in /opt/conda/lib/python3.10/site-packages (from google-cloud-logging<4->google-cloud-aiplatform[adk,agent_engines]) (1.6.1)\n",
      "Requirement already satisfied: google-cloud-audit-log<1.0.0,>=0.3.1 in /opt/conda/lib/python3.10/site-packages (from google-cloud-logging<4->google-cloud-aiplatform[adk,agent_engines]) (0.3.2)\n",
      "Requirement already satisfied: grpc-google-iam-v1<1.0.0,>=0.12.4 in /opt/conda/lib/python3.10/site-packages (from google-cloud-logging<4->google-cloud-aiplatform[adk,agent_engines]) (0.14.2)\n",
      "Requirement already satisfied: google-crc32c<2.0dev,>=1.0 in /opt/conda/lib/python3.10/site-packages (from google-cloud-storage<3.0.0,>=1.32.0->google-cloud-aiplatform[adk,agent_engines]) (1.7.1)\n",
      "Requirement already satisfied: opentelemetry-resourcedetector-gcp==1.*,>=1.5.0dev0 in /opt/conda/lib/python3.10/site-packages (from opentelemetry-exporter-gcp-trace<2->google-cloud-aiplatform[adk,agent_engines]) (1.9.0a0)\n",
      "Requirement already satisfied: opentelemetry-semantic-conventions==0.52b1 in /opt/conda/lib/python3.10/site-packages (from opentelemetry-sdk<2->google-cloud-aiplatform[adk,agent_engines]) (0.52b1)\n",
      "Requirement already satisfied: deprecated>=1.2.6 in /opt/conda/lib/python3.10/site-packages (from opentelemetry-api>=1.31.0->google-adk>=0.0.2->google-cloud-aiplatform[adk,agent_engines]) (1.2.18)\n",
      "Requirement already satisfied: importlib-metadata<8.7.0,>=6.0 in /opt/conda/lib/python3.10/site-packages (from opentelemetry-api>=1.31.0->google-adk>=0.0.2->google-cloud-aiplatform[adk,agent_engines]) (8.6.1)\n",
      "Requirement already satisfied: annotated-types>=0.6.0 in /opt/conda/lib/python3.10/site-packages (from pydantic<3->google-cloud-aiplatform[adk,agent_engines]) (0.7.0)\n",
      "Requirement already satisfied: pydantic-core==2.33.0 in /opt/conda/lib/python3.10/site-packages (from pydantic<3->google-cloud-aiplatform[adk,agent_engines]) (2.33.0)\n",
      "Requirement already satisfied: typing-inspection>=0.4.0 in /opt/conda/lib/python3.10/site-packages (from pydantic<3->google-cloud-aiplatform[adk,agent_engines]) (0.4.0)\n",
      "Requirement already satisfied: numpy<3,>=1.14 in /opt/conda/lib/python3.10/site-packages (from shapely<3.0.0->google-cloud-aiplatform[adk,agent_engines]) (2.1.3)\n",
      "Requirement already satisfied: cryptography in /opt/conda/lib/python3.10/site-packages (from authlib>=1.5.1->google-adk>=0.0.2->google-cloud-aiplatform[adk,agent_engines]) (44.0.2)\n",
      "Requirement already satisfied: starlette<0.47.0,>=0.40.0 in /opt/conda/lib/python3.10/site-packages (from fastapi>=0.115.0->google-adk>=0.0.2->google-cloud-aiplatform[adk,agent_engines]) (0.46.1)\n",
      "Requirement already satisfied: httplib2<1.0.0,>=0.19.0 in /opt/conda/lib/python3.10/site-packages (from google-api-python-client>=2.157.0->google-adk>=0.0.2->google-cloud-aiplatform[adk,agent_engines]) (0.22.0)\n",
      "Requirement already satisfied: google-auth-httplib2<1.0.0,>=0.2.0 in /opt/conda/lib/python3.10/site-packages (from google-api-python-client>=2.157.0->google-adk>=0.0.2->google-cloud-aiplatform[adk,agent_engines]) (0.2.0)\n",
      "Requirement already satisfied: uritemplate<5,>=3.0.1 in /opt/conda/lib/python3.10/site-packages (from google-api-python-client>=2.157.0->google-adk>=0.0.2->google-cloud-aiplatform[adk,agent_engines]) (4.1.1)\n",
      "Requirement already satisfied: anyio<5.0.0,>=4.8.0 in /opt/conda/lib/python3.10/site-packages (from google-genai>=1.9.0->google-adk>=0.0.2->google-cloud-aiplatform[adk,agent_engines]) (4.9.0)\n",
      "Requirement already satisfied: httpx<1.0.0,>=0.28.1 in /opt/conda/lib/python3.10/site-packages (from google-genai>=1.9.0->google-adk>=0.0.2->google-cloud-aiplatform[adk,agent_engines]) (0.28.1)\n",
      "Requirement already satisfied: websockets<15.1.0,>=13.0.0 in /opt/conda/lib/python3.10/site-packages (from google-genai>=1.9.0->google-adk>=0.0.2->google-cloud-aiplatform[adk,agent_engines]) (15.0.1)\n",
      "Requirement already satisfied: httpx-sse>=0.4 in /opt/conda/lib/python3.10/site-packages (from mcp>=1.5.0->google-adk>=0.0.2->google-cloud-aiplatform[adk,agent_engines]) (0.4.0)\n",
      "Requirement already satisfied: pydantic-settings>=2.5.2 in /opt/conda/lib/python3.10/site-packages (from mcp>=1.5.0->google-adk>=0.0.2->google-cloud-aiplatform[adk,agent_engines]) (2.9.1)\n",
      "Requirement already satisfied: sse-starlette>=1.6.1 in /opt/conda/lib/python3.10/site-packages (from mcp>=1.5.0->google-adk>=0.0.2->google-cloud-aiplatform[adk,agent_engines]) (2.2.1)\n",
      "Requirement already satisfied: pyasn1<0.7.0,>=0.6.1 in /opt/conda/lib/python3.10/site-packages (from pyasn1-modules>=0.2.1->google-auth<3.0.0,>=2.14.1->google-cloud-aiplatform[adk,agent_engines]) (0.6.1)\n",
      "Requirement already satisfied: six>=1.5 in /opt/conda/lib/python3.10/site-packages (from python-dateutil<3.0.0,>=2.8.2->google-cloud-bigquery!=3.20.0,<4.0.0,>=1.15.0->google-cloud-aiplatform[adk,agent_engines]) (1.17.0)\n",
      "Requirement already satisfied: charset_normalizer<4,>=2 in /opt/conda/lib/python3.10/site-packages (from requests<3.0.0,>=2.18.0->google-api-core!=2.0.*,!=2.1.*,!=2.2.*,!=2.3.*,!=2.4.*,!=2.5.*,!=2.6.*,!=2.7.*,<3.0.0,>=1.34.1->google-api-core[grpc]!=2.0.*,!=2.1.*,!=2.2.*,!=2.3.*,!=2.4.*,!=2.5.*,!=2.6.*,!=2.7.*,<3.0.0,>=1.34.1->google-cloud-aiplatform[adk,agent_engines]) (3.4.1)\n",
      "Requirement already satisfied: idna<4,>=2.5 in /opt/conda/lib/python3.10/site-packages (from requests<3.0.0,>=2.18.0->google-api-core!=2.0.*,!=2.1.*,!=2.2.*,!=2.3.*,!=2.4.*,!=2.5.*,!=2.6.*,!=2.7.*,<3.0.0,>=1.34.1->google-api-core[grpc]!=2.0.*,!=2.1.*,!=2.2.*,!=2.3.*,!=2.4.*,!=2.5.*,!=2.6.*,!=2.7.*,<3.0.0,>=1.34.1->google-cloud-aiplatform[adk,agent_engines]) (3.10)\n",
      "Requirement already satisfied: urllib3<3,>=1.21.1 in /opt/conda/lib/python3.10/site-packages (from requests<3.0.0,>=2.18.0->google-api-core!=2.0.*,!=2.1.*,!=2.2.*,!=2.3.*,!=2.4.*,!=2.5.*,!=2.6.*,!=2.7.*,<3.0.0,>=1.34.1->google-api-core[grpc]!=2.0.*,!=2.1.*,!=2.2.*,!=2.3.*,!=2.4.*,!=2.5.*,!=2.6.*,!=2.7.*,<3.0.0,>=1.34.1->google-cloud-aiplatform[adk,agent_engines]) (1.26.20)\n",
      "Requirement already satisfied: certifi>=2017.4.17 in /opt/conda/lib/python3.10/site-packages (from requests<3.0.0,>=2.18.0->google-api-core!=2.0.*,!=2.1.*,!=2.2.*,!=2.3.*,!=2.4.*,!=2.5.*,!=2.6.*,!=2.7.*,<3.0.0,>=1.34.1->google-api-core[grpc]!=2.0.*,!=2.1.*,!=2.2.*,!=2.3.*,!=2.4.*,!=2.5.*,!=2.6.*,!=2.7.*,<3.0.0,>=1.34.1->google-cloud-aiplatform[adk,agent_engines]) (2025.1.31)\n",
      "Requirement already satisfied: greenlet>=1 in /opt/conda/lib/python3.10/site-packages (from sqlalchemy>=2.0->google-adk>=0.0.2->google-cloud-aiplatform[adk,agent_engines]) (3.1.1)\n",
      "Requirement already satisfied: h11>=0.8 in /opt/conda/lib/python3.10/site-packages (from uvicorn>=0.34.0->google-adk>=0.0.2->google-cloud-aiplatform[adk,agent_engines]) (0.14.0)\n",
      "Requirement already satisfied: exceptiongroup>=1.0.2 in /opt/conda/lib/python3.10/site-packages (from anyio<5.0.0,>=4.8.0->google-genai>=1.9.0->google-adk>=0.0.2->google-cloud-aiplatform[adk,agent_engines]) (1.2.2)\n",
      "Requirement already satisfied: sniffio>=1.1 in /opt/conda/lib/python3.10/site-packages (from anyio<5.0.0,>=4.8.0->google-genai>=1.9.0->google-adk>=0.0.2->google-cloud-aiplatform[adk,agent_engines]) (1.3.1)\n",
      "Requirement already satisfied: wrapt<2,>=1.10 in /opt/conda/lib/python3.10/site-packages (from deprecated>=1.2.6->opentelemetry-api>=1.31.0->google-adk>=0.0.2->google-cloud-aiplatform[adk,agent_engines]) (1.17.2)\n",
      "Requirement already satisfied: pyparsing!=3.0.0,!=3.0.1,!=3.0.2,!=3.0.3,<4,>=2.4.2 in /opt/conda/lib/python3.10/site-packages (from httplib2<1.0.0,>=0.19.0->google-api-python-client>=2.157.0->google-adk>=0.0.2->google-cloud-aiplatform[adk,agent_engines]) (3.2.3)\n",
      "Requirement already satisfied: httpcore==1.* in /opt/conda/lib/python3.10/site-packages (from httpx<1.0.0,>=0.28.1->google-genai>=1.9.0->google-adk>=0.0.2->google-cloud-aiplatform[adk,agent_engines]) (1.0.8)\n",
      "Requirement already satisfied: zipp>=3.20 in /opt/conda/lib/python3.10/site-packages (from importlib-metadata<8.7.0,>=6.0->opentelemetry-api>=1.31.0->google-adk>=0.0.2->google-cloud-aiplatform[adk,agent_engines]) (3.21.0)\n",
      "Requirement already satisfied: cffi>=1.12 in /opt/conda/lib/python3.10/site-packages (from cryptography->authlib>=1.5.1->google-adk>=0.0.2->google-cloud-aiplatform[adk,agent_engines]) (1.17.1)\n",
      "Requirement already satisfied: pycparser in /opt/conda/lib/python3.10/site-packages (from cffi>=1.12->cryptography->authlib>=1.5.1->google-adk>=0.0.2->google-cloud-aiplatform[adk,agent_engines]) (2.22)\n",
      "Note: you may need to restart the kernel to use updated packages.\n"
     ]
    }
   ],
   "source": [
    "%pip install --upgrade google-cloud-aiplatform[adk,agent_engines] neo4j-rust-ext python-dotenv"
   ]
  },
  {
   "cell_type": "markdown",
   "metadata": {
    "id": "osm6MztSEX2y"
   },
   "source": [
    "# Developer API or Vertex AI\n",
    "\n",
    "The ADK supports two APIs:\n",
    "\n",
    "* Google Gemini API (AI Studio)\n",
    "* Vertex AI Gemini API."
   ]
  },
  {
   "cell_type": "markdown",
   "metadata": {
    "id": "xXhN34h_4hBr"
   },
   "source": []
  },
  {
   "cell_type": "code",
   "execution_count": 1,
   "metadata": {
    "ExecuteTime": {
     "end_time": "2025-04-23T00:14:03.162678Z",
     "start_time": "2025-04-23T00:14:03.153572Z"
    }
   },
   "outputs": [],
   "source": [
    "from dotenv import load_dotenv\n",
    "import getpass\n",
    "import os\n",
    "\n",
    "load_dotenv('nb.env', override=True)\n",
    "\n",
    "if not os.environ.get('NEO4J_URI'):\n",
    "    os.environ['NEO4J_URI'] = getpass.getpass('NEO4J_URI:\\n')\n",
    "if not os.environ.get('NEO4J_USERNAME'):\n",
    "    os.environ['NEO4J_USERNAME'] = getpass.getpass('NEO4J_USERNAME:\\n')\n",
    "if not os.environ.get('NEO4J_PASSWORD'):\n",
    "    os.environ['NEO4J_PASSWORD'] = getpass.getpass('NEO4J_PASSWORD:\\n')\n",
    "\n",
    "NEO4J_URI = os.getenv('NEO4J_URI')\n",
    "NEO4J_USERNAME = os.getenv('NEO4J_USERNAME')\n",
    "NEO4J_PASSWORD = os.getenv('NEO4J_PASSWORD')"
   ]
  },
  {
   "cell_type": "code",
   "execution_count": 2,
   "metadata": {
    "ExecuteTime": {
     "end_time": "2025-04-23T00:14:06.975785Z",
     "start_time": "2025-04-23T00:14:06.973320Z"
    },
    "id": "va9nPjT186Xm",
    "tags": []
   },
   "outputs": [],
   "source": [
    "# Only run this block for ML Developer API. Use your own API key.\n",
    "import os\n",
    "\n",
    "GOOGLE_API_KEY = os.environ.get('GOOGLE_API_KEY')\n",
    "os.environ[\"GOOGLE_GENAI_USE_VERTEXAI\"] = \"0\"\n"
   ]
  },
  {
   "cell_type": "code",
   "execution_count": 9,
   "metadata": {
    "id": "aCLvbsLp89o7",
    "tags": []
   },
   "outputs": [],
   "source": [
    "# Only run this block for Vertex AI API Use your own project / location.\n",
    "# import os\n",
    "#\n",
    "# GOOGLE_CLOUD_PROJECT = \"neo4jeventdemos\" #@param {type:\"string\"}\n",
    "#\n",
    "# os.environ[\"GOOGLE_GENAI_USE_VERTEXAI\"] = \"1\"\n",
    "# os.environ[\"GOOGLE_CLOUD_PROJECT\"] = GOOGLE_CLOUD_PROJECT\n",
    "# os.environ[\"GOOGLE_CLOUD_LOCATION\"] = \"us-central1\""
   ]
  },
  {
   "cell_type": "markdown",
   "metadata": {
    "id": "1-rAplcsx22u"
   },
   "source": [
    "# Neo4j Database Connectivity\n",
    "\n",
    "We define a small class `neo4jDatabase` that manages connecting to Neo4j and running read queries."
   ]
  },
  {
   "cell_type": "code",
   "execution_count": 3,
   "metadata": {
    "ExecuteTime": {
     "end_time": "2025-04-23T00:14:11.536423Z",
     "start_time": "2025-04-23T00:14:11.533497Z"
    },
    "id": "sRtCKjAlhrEs",
    "tags": []
   },
   "outputs": [],
   "source": [
    "import logging\n",
    "\n",
    "logger = logging.getLogger('agent_neo4j_cypher')\n",
    "logger.info(\"Initializing Database for tools\")\n",
    "\n",
    "import logging\n",
    "\n",
    "logging.getLogger(\"neo4j\").setLevel(logging.ERROR)\n",
    "logging.getLogger(\"google_genai\").setLevel(logging.ERROR)\n",
    "\n",
    "import warnings\n",
    "warnings.filterwarnings(\"ignore\", category=UserWarning, module=\"google_genai.types\")\n",
    "warnings.filterwarnings(\"ignore\", category=UserWarning, module=\"neo4j.notifications\")\n"
   ]
  },
  {
   "cell_type": "code",
   "execution_count": 4,
   "metadata": {
    "ExecuteTime": {
     "end_time": "2025-04-23T00:14:14.024203Z",
     "start_time": "2025-04-23T00:14:13.499184Z"
    },
    "id": "04x4PdPMgTtE",
    "tags": []
   },
   "outputs": [],
   "source": [
    "from neo4j import GraphDatabase\n",
    "from typing import Any, List, Dict\n",
    "import re\n",
    "\n",
    "class neo4jDatabase:\n",
    "    def __init__(self,  neo4j_uri: str, neo4j_username: str, neo4j_password: str):\n",
    "        \"\"\"Initialize connection to the Neo4j database\"\"\"\n",
    "        logger.debug(f\"Initializing database connection to {neo4j_uri}\")\n",
    "        d = GraphDatabase.driver(neo4j_uri, auth=(neo4j_username, neo4j_password))\n",
    "        d.verify_connectivity()\n",
    "        self.driver = d\n",
    "\n",
    "    def is_write_query(self, query: str) -> bool:\n",
    "      return re.search(r\"\\b(MERGE|CREATE|SET|DELETE|REMOVE|ADD)\\b\", query, re.IGNORECASE) is not None\n",
    "\n",
    "    #TODO: Use result transformer here to r: r.data()\n",
    "    def _execute_query(self, query: str, params: Dict[str, Any] | None = None) -> List[Dict[str, Any]]:\n",
    "        \"\"\"Execute a Cypher query and return results as a list of dictionaries\"\"\"\n",
    "        logger.debug(f\"Executing query: {query}\")\n",
    "        try:\n",
    "            if self.is_write_query(query):\n",
    "                logger.error(f\"Write query not supported {query}\")\n",
    "                raise \"Write Queries are not supported in this agent\"\n",
    "                # logger.debug(f\"Write query affected {counters}\")\n",
    "                # result = self.driver.execute_query(query, params)\n",
    "                # counters = vars(result.summary.counters)\n",
    "                # return [counters]\n",
    "            else:\n",
    "                #TODO: Add Routing here for efficiency\n",
    "                result = self.driver.execute_query(query, params)\n",
    "                results = [dict(r) for r in result.records]\n",
    "                logger.debug(f\"Read query returned {len(results)} rows\")\n",
    "                return results\n",
    "        except Exception as e:\n",
    "            logger.error(f\"Database error executing query: {e}\\n{query}\")\n",
    "            raise"
   ]
  },
  {
   "cell_type": "code",
   "execution_count": 5,
   "metadata": {
    "ExecuteTime": {
     "end_time": "2025-04-23T00:14:18.558246Z",
     "start_time": "2025-04-23T00:14:17.646218Z"
    },
    "id": "1t5Nx3Yq2DKP",
    "tags": []
   },
   "outputs": [],
   "source": [
    "db = neo4jDatabase(NEO4J_URI, NEO4J_USERNAME, NEO4J_PASSWORD)"
   ]
  },
  {
   "cell_type": "code",
   "execution_count": 6,
   "metadata": {
    "ExecuteTime": {
     "end_time": "2025-04-23T00:14:19.236663Z",
     "start_time": "2025-04-23T00:14:19.135353Z"
    },
    "colab": {
     "base_uri": "https://localhost:8080/"
    },
    "id": "kSGPD5hxh2cw",
    "outputId": "9357864e-cb04-48f2-ab30-05df1f2f4216",
    "tags": []
   },
   "outputs": [
    {
     "data": {
      "text/plain": [
       "[{'1': 1}]"
      ]
     },
     "execution_count": 6,
     "metadata": {},
     "output_type": "execute_result"
    }
   ],
   "source": [
    "# Testing database connection\n",
    "db._execute_query(\"RETURN 1\")"
   ]
  },
  {
   "cell_type": "markdown",
   "metadata": {
    "id": "01R-3Y492OxN"
   },
   "source": [
    "## Defining Functions for our Database Agent\n",
    "\n",
    "* get_schema - Retrieve Database Schema for the LLM\n",
    "* execute_read_query - Execute Cypher Read Query"
   ]
  },
  {
   "cell_type": "code",
   "execution_count": 7,
   "metadata": {
    "ExecuteTime": {
     "end_time": "2025-04-23T00:14:23.104650Z",
     "start_time": "2025-04-23T00:14:23.101721Z"
    },
    "id": "l1G9gtSDw8yt",
    "tags": []
   },
   "outputs": [],
   "source": [
    "def get_schema() -> List[Dict[str,Any]]:\n",
    "  \"\"\"Get the schema of the database, returns node-types(labels) with their types and attributes and relationships between node-labels\n",
    "  Args: None\n",
    "  Returns:\n",
    "    list[dict[str,Any]]: A list of dictionaries representing the schema of the database\n",
    "    For example\n",
    "    ```\n",
    "    [{'label': 'Person','attributes': {'summary': 'STRING','id': 'STRING unique indexed', 'name': 'STRING indexed'},\n",
    "      'relationships': {'HAS_PARENT': 'Person', 'HAS_CHILD': 'Person'}}]\n",
    "    ```\n",
    "  \"\"\"\n",
    "  try:\n",
    "      results = db._execute_query(\n",
    "              \"\"\"\n",
    "call apoc.meta.data() yield label, property, type, other, unique, index, elementType\n",
    "where elementType = 'node' and not label starts with '_'\n",
    "with label,\n",
    "collect(case when type <> 'RELATIONSHIP' then [property, type + case when unique then \" unique\" else \"\" end + case when index then \" indexed\" else \"\" end] end) as attributes,\n",
    "collect(case when type = 'RELATIONSHIP' then [property, head(other)] end) as relationships\n",
    "RETURN label, apoc.map.fromPairs(attributes) as attributes, apoc.map.fromPairs(relationships) as relationships\n",
    "              \"\"\"\n",
    "          )\n",
    "      return results\n",
    "  except Exception as e:\n",
    "      return [{\"error\":str(e)}]"
   ]
  },
  {
   "cell_type": "code",
   "execution_count": 8,
   "metadata": {
    "ExecuteTime": {
     "end_time": "2025-04-23T00:14:25.507944Z",
     "start_time": "2025-04-23T00:14:25.229112Z"
    },
    "id": "6qLJTGTXiLUK",
    "tags": []
   },
   "outputs": [
    {
     "data": {
      "text/plain": [
       "[{'label': 'Supplier',\n",
       "  'attributes': {'annual_spend': 'FLOAT',\n",
       "   'tier': 'STRING',\n",
       "   'sub_type': 'STRING',\n",
       "   'code': 'STRING indexed'},\n",
       "  'relationships': {'LOCATED_AT': 'GeoLocation'}},\n",
       " {'label': 'Item',\n",
       "  'attributes': {'desc_embedding': 'LIST',\n",
       "   'description': 'STRING',\n",
       "   'family': 'STRING',\n",
       "   'is_finished_product': 'BOOLEAN',\n",
       "   'name': 'STRING',\n",
       "   'sku_id': 'STRING indexed'},\n",
       "  'relationships': {'AT': 'Supplier', 'BOM': 'Item', 'DEPENDS_ON': 'Country'}},\n",
       " {'label': 'Customer',\n",
       "  'attributes': {'annual_revenue': 'FLOAT', 'code': 'INTEGER indexed'},\n",
       "  'relationships': {'LOCATED_AT': 'GeoLocation'}},\n",
       " {'label': 'GeoLocation',\n",
       "  'attributes': {'longitude': 'FLOAT',\n",
       "   'latitude': 'FLOAT',\n",
       "   'geo_point': 'POINT indexed'},\n",
       "  'relationships': {}},\n",
       " {'label': 'Country',\n",
       "  'attributes': {'name': 'STRING', 'code': 'STRING indexed'},\n",
       "  'relationships': {}}]"
      ]
     },
     "execution_count": 8,
     "metadata": {},
     "output_type": "execute_result"
    }
   ],
   "source": [
    "get_schema()"
   ]
  },
  {
   "cell_type": "code",
   "execution_count": 9,
   "metadata": {
    "ExecuteTime": {
     "end_time": "2025-04-23T00:14:32.465152Z",
     "start_time": "2025-04-23T00:14:32.462625Z"
    },
    "id": "J6CKK3-JiZUB",
    "tags": []
   },
   "outputs": [],
   "source": [
    "from typing import Optional\n",
    "\n",
    "\n",
    "def execute_read_query(query: str, params: Optional[Dict[str, Any]]=None) -> List[Dict[str, Any]]:\n",
    "    \"\"\"\n",
    "    Execute a Neo4j Cypher query and return results as a list of dictionaries\n",
    "    Args:\n",
    "        query (str): The Cypher query to execute\n",
    "        params (dict[str, Any], optional): The parameters to pass to the query or None.\n",
    "    Raises:\n",
    "        Exception: If there is an error executing the query\n",
    "    Returns:\n",
    "        list[dict[str, Any]]: A list of dictionaries representing the query results\n",
    "    \"\"\"\n",
    "    try:\n",
    "        if params is None:\n",
    "            params = {}\n",
    "        results = db._execute_query(query, params)\n",
    "        return results\n",
    "    except Exception as e:\n",
    "        return [{\"error\":str(e)}]"
   ]
  },
  {
   "cell_type": "code",
   "execution_count": 10,
   "metadata": {
    "ExecuteTime": {
     "end_time": "2025-04-23T00:14:34.716143Z",
     "start_time": "2025-04-23T00:14:34.579376Z"
    },
    "colab": {
     "base_uri": "https://localhost:8080/"
    },
    "id": "Ho2K5-2t2zYZ",
    "outputId": "52834b64-fbe6-4361-83d8-50a779d851af",
    "tags": []
   },
   "outputs": [
    {
     "data": {
      "text/plain": [
       "[{'1': 1}]"
      ]
     },
     "execution_count": 10,
     "metadata": {},
     "output_type": "execute_result"
    }
   ],
   "source": [
    "execute_read_query(\"RETURN 1\", None)"
   ]
  },
  {
   "cell_type": "markdown",
   "metadata": {
    "id": "uMNZTdX_2r-L"
   },
   "source": [
    "## Defining Functions for our Agent\n",
    "\n",
    "1. **`get_finished_product_families`**\n",
    "Retrieves a list of finished product families and the number of products in each family.\n",
    "2. **`get_component_families`**\n",
    "Lists all component families (non-finished products), including the count of components in each family.\n",
    "3. **`get_item`**\n",
    "Fetches properties of an item, identified by a unique SKU ID, which can represent a component or finished product.\n",
    "4. **`get_known_item_country_dependencies`**\n",
    "Retrieves all known country dependencies for a given item, covering sourcing & manufacturing, and supply chain relationships.\n",
    "5. **`get_item_bill_of_materials`**\n",
    "Gathers the hierarchical bill of materials (BOM) for a specific item.\n",
    "6. **`get_standard_country_codes_and_names`**\n",
    "Provides a standardized list of country codes and corresponding names for use within applications and reporting.\n",
    "7. **`get_products_with_country_dependencies`**\n",
    "Identifies products that have sourcing or manufacturing dependencies on specific countries.\n",
    "8. **`get_supplier_substitutions`**\n",
    "Suggests alternative suppliers when the specified supplier (identified by a code) is unavailable or out of operation.\n",
    "9. **`get_finished_products_depending_on_items`**\n",
    "Determines which finished products rely on specific items as components in their structure.\n"
   ]
  },
  {
   "cell_type": "code",
   "execution_count": 42,
   "metadata": {
    "ExecuteTime": {
     "end_time": "2025-04-23T01:53:50.459847Z",
     "start_time": "2025-04-23T01:53:49.788251Z"
    }
   },
   "outputs": [
    {
     "data": {
      "text/plain": [
       "[{'family': 'FarmTractor', 'numberOfProducts': 21521},\n",
       " {'family': 'SeedPlanter', 'numberOfProducts': 21488},\n",
       " {'family': 'FieldSprayer', 'numberOfProducts': 21519},\n",
       " {'family': 'CropHarvester', 'numberOfProducts': 21406},\n",
       " {'family': 'HayCollector', 'numberOfProducts': 21671},\n",
       " {'family': 'CabWiringUnit', 'numberOfProducts': 17},\n",
       " {'family': 'ControlAssembly', 'numberOfProducts': 9},\n",
       " {'family': 'MachineRig', 'numberOfProducts': 14},\n",
       " {'family': 'HydraulicSystem', 'numberOfProducts': 3},\n",
       " {'family': 'ChassisFrame', 'numberOfProducts': 9},\n",
       " {'family': 'DrivePlatform', 'numberOfProducts': 10}]"
      ]
     },
     "execution_count": 42,
     "metadata": {},
     "output_type": "execute_result"
    }
   ],
   "source": [
    "def get_finished_product_families() -> List[Dict[str, Any]]:\n",
    "    \"\"\"\n",
    "    Get the different type of Product Families - for finished products only.\n",
    "    Use this when asked for different types, families, or groups of finished products.\n",
    "    \"\"\"\n",
    "    try:\n",
    "        results = db._execute_query(\"\"\"\n",
    "        MATCH (i:Item)\n",
    "        WHERE i.is_finished_product\n",
    "        RETURN i.family AS family, count(*) AS numberOfProducts\n",
    "        \"\"\")\n",
    "        return results\n",
    "    except Exception as e:\n",
    "        return [{\"error\":str(e)}]\n",
    "#test\n",
    "get_finished_product_families()"
   ]
  },
  {
   "cell_type": "code",
   "execution_count": 43,
   "metadata": {
    "ExecuteTime": {
     "end_time": "2025-04-23T01:53:52.425204Z",
     "start_time": "2025-04-23T01:53:52.262263Z"
    }
   },
   "outputs": [
    {
     "data": {
      "text/plain": [
       "[{'family': 'MachineRig', 'numberOfComponents': 20017},\n",
       " {'family': 'DrivePlatform', 'numberOfComponents': 19896},\n",
       " {'family': 'HydraulicSystem', 'numberOfComponents': 20192},\n",
       " {'family': 'ChassisFrame', 'numberOfComponents': 19893},\n",
       " {'family': 'ControlAssembly', 'numberOfComponents': 19824},\n",
       " {'family': 'CabWiringUnit', 'numberOfComponents': 19886},\n",
       " {'family': 'Bushing', 'numberOfComponents': 162},\n",
       " {'family': 'Spring', 'numberOfComponents': 144},\n",
       " {'family': 'GearSet', 'numberOfComponents': 169},\n",
       " {'family': 'ElectricalControlBox', 'numberOfComponents': 77},\n",
       " {'family': 'ComponentModule', 'numberOfComponents': 63},\n",
       " {'family': 'Board', 'numberOfComponents': 82},\n",
       " {'family': 'SteeringColumn', 'numberOfComponents': 65},\n",
       " {'family': 'FrameSegment', 'numberOfComponents': 62},\n",
       " {'family': 'SensorModule', 'numberOfComponents': 67},\n",
       " {'family': 'OperatorCab', 'numberOfComponents': 12},\n",
       " {'family': 'AxleAssembly', 'numberOfComponents': 79},\n",
       " {'family': 'ControlUnit', 'numberOfComponents': 66},\n",
       " {'family': 'ToolMountKit', 'numberOfComponents': 11},\n",
       " {'family': 'MachineFrame', 'numberOfComponents': 11},\n",
       " {'family': 'EngineCore', 'numberOfComponents': 61},\n",
       " {'family': 'PowerSystemModule', 'numberOfComponents': 15},\n",
       " {'family': 'Connector', 'numberOfComponents': 573},\n",
       " {'family': 'SensorUnit', 'numberOfComponents': 523},\n",
       " {'family': 'PumpAssembly', 'numberOfComponents': 594},\n",
       " {'family': 'MotorDrive', 'numberOfComponents': 558},\n",
       " {'family': 'ControlValve', 'numberOfComponents': 548},\n",
       " {'family': 'Cylinder', 'numberOfComponents': 525},\n",
       " {'family': 'Bearing', 'numberOfComponents': 168},\n",
       " {'family': 'Gear', 'numberOfComponents': 145},\n",
       " {'family': 'Harness', 'numberOfComponents': 164},\n",
       " {'family': 'Sensor', 'numberOfComponents': 164},\n",
       " {'family': 'Clamp', 'numberOfComponents': 162},\n",
       " {'family': 'Belt', 'numberOfComponents': 155},\n",
       " {'family': 'WiringLoom', 'numberOfComponents': 165},\n",
       " {'family': 'HydraulicFitting', 'numberOfComponents': 172},\n",
       " {'family': 'Pulley', 'numberOfComponents': 171},\n",
       " {'family': 'Fastener', 'numberOfComponents': 35},\n",
       " {'family': 'Bolt', 'numberOfComponents': 41},\n",
       " {'family': 'RubberSeal', 'numberOfComponents': 40},\n",
       " {'family': 'Tubing', 'numberOfComponents': 41},\n",
       " {'family': 'Casting', 'numberOfComponents': 32},\n",
       " {'family': 'RawWire', 'numberOfComponents': 34},\n",
       " {'family': 'Rod', 'numberOfComponents': 36},\n",
       " {'family': 'PrecisionBolt', 'numberOfComponents': 35},\n",
       " {'family': 'MachineArm', 'numberOfComponents': 7}]"
      ]
     },
     "execution_count": 43,
     "metadata": {},
     "output_type": "execute_result"
    }
   ],
   "source": [
    "def get_component_families() -> List[Dict[str, Any]]:\n",
    "    \"\"\"\n",
    "    Get the different type of Component Families - for components only -not finished products.\n",
    "    Use this when asked for different types, families or groups of components and/or parts.\n",
    "    \"\"\"\n",
    "    try:\n",
    "        results = db._execute_query(\"\"\"\n",
    "        MATCH (i:Item)\n",
    "        WHERE NOT i.is_finished_product\n",
    "        RETURN i.family AS family, count(*) AS numberOfComponents\n",
    "        \"\"\")\n",
    "        return results\n",
    "    except Exception as e:\n",
    "        return [{\"error\":str(e)}]\n",
    "#test\n",
    "get_component_families()"
   ]
  },
  {
   "cell_type": "code",
   "execution_count": 44,
   "metadata": {
    "ExecuteTime": {
     "end_time": "2025-04-23T01:53:55.136103Z",
     "start_time": "2025-04-23T01:53:55.133344Z"
    }
   },
   "outputs": [],
   "source": [
    "def get_item(sku_id: str) -> dict[str, Any]:\n",
    "    \"\"\"\n",
    "    Gets Item properties\n",
    "    Args:\n",
    "        sku_id (str): code uniquely identifying the item which can be a component or finished product\n",
    "    Returns:\n",
    "        dict[str, Any]: item properties\n",
    "    \"\"\"\n",
    "    try:\n",
    "        results = db._execute_query(\"\"\"\n",
    "        MATCH (i:Item {sku_id: $sku_id})\n",
    "        RETURN i.sku_id AS sku_id, i.name AS name, i.family AS family, i.is_finished_product AS is_finished_product\n",
    "        \"\"\", {\"sku_id\": sku_id})\n",
    "        return results\n",
    "    except Exception as e:\n",
    "        return {\"error\": str(e)}"
   ]
  },
  {
   "cell_type": "code",
   "execution_count": 45,
   "metadata": {
    "ExecuteTime": {
     "end_time": "2025-04-23T01:53:56.490450Z",
     "start_time": "2025-04-23T01:53:56.379802Z"
    }
   },
   "outputs": [
    {
     "data": {
      "text/plain": [
       "[{'sku_id': '35472245A',\n",
       "  'name': 'FarmTractor_7YUC0',\n",
       "  'family': 'FarmTractor',\n",
       "  'is_finished_product': True}]"
      ]
     },
     "execution_count": 45,
     "metadata": {},
     "output_type": "execute_result"
    }
   ],
   "source": [
    "get_item(\"35472245A\")"
   ]
  },
  {
   "cell_type": "code",
   "execution_count": 46,
   "metadata": {
    "ExecuteTime": {
     "end_time": "2025-04-23T01:53:58.449849Z",
     "start_time": "2025-04-23T01:53:58.447075Z"
    }
   },
   "outputs": [],
   "source": [
    "def get_known_item_country_dependencies(sku_id: str) -> List[Dict[str, Any]]:\n",
    "    \"\"\"\n",
    "    Retrieve all known country dependencies for a given item, which can represent either a finished product, a component, or both. This includes data on sourcing, manufacturing, or other relationships tied to specific countries.\n",
    "    Dependencies are determined recursively by examining all connected components in the item's bill of materials (BOM). For each component, this function identifies:\n",
    "    1. **Known Country Dependencies:** A list of countries and their corresponding dependency descriptions (e.g., sourcing steel, manufacturing).\n",
    "    2. **Supply Chain Dependencies:** A visual representation of how components with such country dependencies are linked to the provided item through potentially multiple stages of the BOM hierarchy, represented as a sequence of components connected by arrows, culminating in the provided item.\n",
    "\n",
    "    Note: This function only retrieves available data, which may be incomplete due to limited internal intelligence.\n",
    "\n",
    "    Args:\n",
    "        sku_id (str): code uniquely identifying the component or finished product\n",
    "    Returns:\n",
    "        list[dict[str, Any]]: a list of components in this items bill of materials with country dependencies along with their country dependencies and how they relate to the item in the bill of materials hierarchy.\n",
    "    \"\"\"\n",
    "    try:\n",
    "        results = db._execute_query(\"\"\"\n",
    "        MATCH (i:Item {sku_id: $sku_id})\n",
    "        MATCH path=(i)<-[:BOM*]-(comp:Item)-[r:DEPENDS_ON]->(c:Country)\n",
    "        RETURN\n",
    "        comp.sku_id AS sku_id,\n",
    "        comp.name AS name,\n",
    "        collect({country: c.name, dependency: r.description}) AS known_country_dependencies,\n",
    "        ' <- ' + apoc.text.join([n IN tail(nodes(path))[..-1] | n.sku_id + ' (' + coalesce(n.name, '') + ')' ], ' <- ') AS supply_chain_dependency\n",
    "        \"\"\", {\"sku_id\": sku_id})\n",
    "        return results\n",
    "    except Exception as e:\n",
    "        return [{\"error\": str(e)}]"
   ]
  },
  {
   "cell_type": "code",
   "execution_count": 47,
   "metadata": {
    "ExecuteTime": {
     "end_time": "2025-04-23T01:54:03.859387Z",
     "start_time": "2025-04-23T01:54:03.515850Z"
    }
   },
   "outputs": [
    {
     "data": {
      "text/plain": [
       "[{'sku_id': 'M7307U91X',\n",
       "  'name': 'RawWire_YCBEO',\n",
       "  'known_country_dependencies': [{'dependency': 'sourcing raw copper cathode',\n",
       "    'country': 'Chile'},\n",
       "   {'dependency': 'drawing and annealing facilities', 'country': 'Mexico'},\n",
       "   {'dependency': 'drawing and annealing facilities', 'country': 'Viet Nam'},\n",
       "   {'dependency': 'sourcing raw copper cathode', 'country': 'Peru'}],\n",
       "  'supply_chain_dependency': ' <- 35472245 (CabWiringUnit_Z5OO3) <- 35523080X (CabWiringUnit_UJ3OE) <- M7307U91X (RawWire_YCBEO)'},\n",
       " {'sku_id': 'M7307U92X',\n",
       "  'name': 'PrecisionBolt_O12J1',\n",
       "  'known_country_dependencies': [{'dependency': 'final machining and threading processes',\n",
       "    'country': 'United States of America'},\n",
       "   {'dependency': 'sourcing raw titanium sponge', 'country': 'Japan'},\n",
       "   {'dependency': 'procuring alloying elements (aluminum and vanadium)',\n",
       "    'country': 'Russian Federation'}],\n",
       "  'supply_chain_dependency': ' <- 35472245 (CabWiringUnit_Z5OO3) <- 35523087X (CabWiringUnit_CZ0N2) <- M7307U92X (PrecisionBolt_O12J1)'},\n",
       " {'sku_id': 'M7307U93X',\n",
       "  'name': 'Fastener_CP82S',\n",
       "  'known_country_dependencies': [{'dependency': 'Precision forging.',\n",
       "    'country': 'Germany'},\n",
       "   {'dependency': 'Sourcing raw titanium.', 'country': 'Russian Federation'}],\n",
       "  'supply_chain_dependency': ' <- 35472245 (CabWiringUnit_Z5OO3) <- 35523089X (DrivePlatform_ZB6KE) <- M7307U93X (Fastener_CP82S)'}]"
      ]
     },
     "execution_count": 47,
     "metadata": {},
     "output_type": "execute_result"
    }
   ],
   "source": [
    "get_known_item_country_dependencies(\"35472245A\")"
   ]
  },
  {
   "cell_type": "code",
   "execution_count": 48,
   "metadata": {
    "ExecuteTime": {
     "end_time": "2025-04-23T01:54:05.294899Z",
     "start_time": "2025-04-23T01:54:05.292373Z"
    }
   },
   "outputs": [],
   "source": [
    "def get_item_bill_of_materials(sku_id: str) -> List[Dict[str, Any]]:\n",
    "    \"\"\"\n",
    "    Retrieve the complete Bill of Materials (BOM) hierarchy for a given finished product or component identified by the SKU.\n",
    "    This function provides a detailed view of all components involved in the production of the specified item.\n",
    "    It identifies components recursively linked to the given item through the BOM hierarchy.\n",
    "\n",
    "    Key Features:\n",
    "    1. **Bill of Material Dependencies:** Identifies all components recursively linked to the given item through the BOM hierarchy.\n",
    "    2. **Dependency Path Representation:** Produces a flattened tree structure where each entry represents a sequence of components\n",
    "       connected by arrows, showing the hierarchical relationships from the base components to the provided item.\n",
    "\n",
    "\n",
    "    Args:\n",
    "        sku_id (str): The SKU (Stock Keeping Unit) that uniquely identifies a product, component, or part.\n",
    "\n",
    "    Returns:\n",
    "        list[dict[str, Any]]: A list of dependency paths represented as strings. Each path shows the components in the BOM hierarchy\n",
    "        leading to the specified item, connected by arrows (` <- `). For example:\n",
    "            \" <- 35472245 (CabWiringUnit_Z5OO3)\"\n",
    "            \" <- 35472245 (CabWiringUnit_Z5OO3) <- 35475154X (CabWiringUnit_VT75O)\"\n",
    "            \" <- 35472245 (CabWiringUnit_Z5OO3) <- 35475154X (CabWiringUnit_VT75O) <- M3571002BX (CabWiringUnit_A9FH4)\"\n",
    "    \"\"\"\n",
    "\n",
    "    try:\n",
    "        results = db._execute_query(\"\"\"\n",
    "        MATCH (i:Item {sku_id: $sku_id})\n",
    "        MATCH path=(i)<-[:BOM*]-(:Item)\n",
    "        RETURN ' <- ' + apoc.text.join([n IN tail(nodes(path)) | n.sku_id + ' (' + coalesce(n.name, '') + ')' ], ' <- ') AS supply_chain_dependency\n",
    "        \"\"\", {\"sku_id\": sku_id})\n",
    "        return results\n",
    "    except Exception as e:\n",
    "        return [{\"error\": str(e)}]\n"
   ]
  },
  {
   "cell_type": "code",
   "execution_count": 49,
   "metadata": {
    "ExecuteTime": {
     "end_time": "2025-04-23T01:54:08.144390Z",
     "start_time": "2025-04-23T01:54:08.031593Z"
    }
   },
   "outputs": [
    {
     "data": {
      "text/plain": [
       "[{'supply_chain_dependency': ' <- 35472245 (CabWiringUnit_Z5OO3)'},\n",
       " {'supply_chain_dependency': ' <- 35472245 (CabWiringUnit_Z5OO3) <- M6495003X (DrivePlatform_SBK8U)'},\n",
       " {'supply_chain_dependency': ' <- 35472245 (CabWiringUnit_Z5OO3) <- M6499003X (MachineRig_RFYOE)'},\n",
       " {'supply_chain_dependency': ' <- 35472245 (CabWiringUnit_Z5OO3) <- M6499002X (HydraulicSystem_EE22P)'},\n",
       " {'supply_chain_dependency': ' <- 35472245 (CabWiringUnit_Z5OO3) <- 35370826 (MachineRig_INWWQ)'},\n",
       " {'supply_chain_dependency': ' <- 35472245 (CabWiringUnit_Z5OO3) <- 35433612 (ChassisFrame_2GN2W)'},\n",
       " {'supply_chain_dependency': ' <- 35472245 (CabWiringUnit_Z5OO3) <- 35475030 (ElectricalControlBox_6ROWJ)'},\n",
       " {'supply_chain_dependency': ' <- 35472245 (CabWiringUnit_Z5OO3) <- 28028534X (ControlAssembly_JRO9M)'},\n",
       " {'supply_chain_dependency': ' <- 35472245 (CabWiringUnit_Z5OO3) <- 35475154X (CabWiringUnit_VT75O)'},\n",
       " {'supply_chain_dependency': ' <- 35472245 (CabWiringUnit_Z5OO3) <- 35475154X (CabWiringUnit_VT75O) <- M3571002BX (CabWiringUnit_A9FH4)'},\n",
       " {'supply_chain_dependency': ' <- 35472245 (CabWiringUnit_Z5OO3) <- 16031437X (CabWiringUnit_EMMHN)'},\n",
       " {'supply_chain_dependency': ' <- 35472245 (CabWiringUnit_Z5OO3) <- 9396465X (ControlAssembly_0IVY8)'},\n",
       " {'supply_chain_dependency': ' <- 35472245 (CabWiringUnit_Z5OO3) <- 35464217 (ChassisFrame_E5AF5)'},\n",
       " {'supply_chain_dependency': ' <- 35472245 (CabWiringUnit_Z5OO3) <- 35472500 (MachineRig_2DXYC)'},\n",
       " {'supply_chain_dependency': ' <- 35472245 (CabWiringUnit_Z5OO3) <- 35670669X (ChassisFrame_7T52A)'},\n",
       " {'supply_chain_dependency': ' <- 35472245 (CabWiringUnit_Z5OO3) <- 9396276X (DrivePlatform_7A4OC)'},\n",
       " {'supply_chain_dependency': ' <- 35472245 (CabWiringUnit_Z5OO3) <- 33225099X (ChassisFrame_AC8YY)'},\n",
       " {'supply_chain_dependency': ' <- 35472245 (CabWiringUnit_Z5OO3) <- 9396196X (HydraulicSystem_DT9FC)'},\n",
       " {'supply_chain_dependency': ' <- 35472245 (CabWiringUnit_Z5OO3) <- 16087854X (ChassisFrame_ONS5D)'},\n",
       " {'supply_chain_dependency': ' <- 35472245 (CabWiringUnit_Z5OO3) <- 16087891X (HydraulicSystem_D21RL)'},\n",
       " {'supply_chain_dependency': ' <- 35472245 (CabWiringUnit_Z5OO3) <- 16087850X (DrivePlatform_0Q8IF)'},\n",
       " {'supply_chain_dependency': ' <- 35472245 (CabWiringUnit_Z5OO3) <- 35458978X (ChassisFrame_G6VC6)'},\n",
       " {'supply_chain_dependency': ' <- 35472245 (CabWiringUnit_Z5OO3) <- 9396190X (CabWiringUnit_K1JQL)'},\n",
       " {'supply_chain_dependency': ' <- 35472245 (CabWiringUnit_Z5OO3) <- 9396303X (HydraulicSystem_RDXWF)'},\n",
       " {'supply_chain_dependency': ' <- 35472245 (CabWiringUnit_Z5OO3) <- 33131665X (ControlAssembly_UIV10)'},\n",
       " {'supply_chain_dependency': ' <- 35472245 (CabWiringUnit_Z5OO3) <- 35473640X (MachineRig_VMN1B)'},\n",
       " {'supply_chain_dependency': ' <- 35472245 (CabWiringUnit_Z5OO3) <- 35473640X (MachineRig_VMN1B) <- M3571001BX (ControlAssembly_FTEVP)'},\n",
       " {'supply_chain_dependency': ' <- 35472245 (CabWiringUnit_Z5OO3) <- 35473640X (MachineRig_VMN1B) <- M5772008X (HydraulicSystem_BGWHS)'},\n",
       " {'supply_chain_dependency': ' <- 35472245 (CabWiringUnit_Z5OO3) <- 35431325 (HydraulicSystem_MKHY3)'},\n",
       " {'supply_chain_dependency': ' <- 35472245 (CabWiringUnit_Z5OO3) <- 35523080X (CabWiringUnit_UJ3OE)'},\n",
       " {'supply_chain_dependency': ' <- 35472245 (CabWiringUnit_Z5OO3) <- 35523080X (CabWiringUnit_UJ3OE) <- M7307U91X (RawWire_YCBEO)'},\n",
       " {'supply_chain_dependency': ' <- 35472245 (CabWiringUnit_Z5OO3) <- 35523087X (CabWiringUnit_CZ0N2)'},\n",
       " {'supply_chain_dependency': ' <- 35472245 (CabWiringUnit_Z5OO3) <- 35523087X (CabWiringUnit_CZ0N2) <- M7307U92X (PrecisionBolt_O12J1)'},\n",
       " {'supply_chain_dependency': ' <- 35472245 (CabWiringUnit_Z5OO3) <- 35523089X (DrivePlatform_ZB6KE)'},\n",
       " {'supply_chain_dependency': ' <- 35472245 (CabWiringUnit_Z5OO3) <- 35523089X (DrivePlatform_ZB6KE) <- M7307U93X (Fastener_CP82S)'},\n",
       " {'supply_chain_dependency': ' <- 35472245 (CabWiringUnit_Z5OO3) <- 35464158 (MachineRig_OGD8S)'},\n",
       " {'supply_chain_dependency': ' <- 35472245 (CabWiringUnit_Z5OO3) <- 35115833 (DrivePlatform_TIX6V)'},\n",
       " {'supply_chain_dependency': ' <- 35472245 (CabWiringUnit_Z5OO3) <- 35464163 (CabWiringUnit_1S7KD)'}]"
      ]
     },
     "execution_count": 49,
     "metadata": {},
     "output_type": "execute_result"
    }
   ],
   "source": [
    "get_item_bill_of_materials(\"35472245A\")"
   ]
  },
  {
   "cell_type": "code",
   "execution_count": 58,
   "metadata": {
    "ExecuteTime": {
     "end_time": "2025-04-23T13:16:30.322173Z",
     "start_time": "2025-04-23T13:16:29.493952Z"
    }
   },
   "outputs": [
    {
     "data": {
      "text/plain": [
       "[{'CountryCode': 'AUS', 'CountryName': 'Australia'},\n",
       " {'CountryCode': 'BEL', 'CountryName': 'Belgium'},\n",
       " {'CountryCode': 'BRA', 'CountryName': 'Brazil'},\n",
       " {'CountryCode': 'CAN', 'CountryName': 'Canada'},\n",
       " {'CountryCode': 'CHE', 'CountryName': 'Switzerland'},\n",
       " {'CountryCode': 'CHL', 'CountryName': 'Chile'},\n",
       " {'CountryCode': 'CHN', 'CountryName': 'China'},\n",
       " {'CountryCode': 'COL', 'CountryName': 'Colombia'},\n",
       " {'CountryCode': 'DEU', 'CountryName': 'Germany'},\n",
       " {'CountryCode': 'EGY', 'CountryName': 'Egypt'},\n",
       " {'CountryCode': 'GIN', 'CountryName': 'Guinea'},\n",
       " {'CountryCode': 'IDN', 'CountryName': 'Indonesia'},\n",
       " {'CountryCode': 'IND', 'CountryName': 'India'},\n",
       " {'CountryCode': 'IRL', 'CountryName': 'Ireland'},\n",
       " {'CountryCode': 'ISL', 'CountryName': 'Iceland'},\n",
       " {'CountryCode': 'ITA', 'CountryName': 'Italy'},\n",
       " {'CountryCode': 'JPN', 'CountryName': 'Japan'},\n",
       " {'CountryCode': 'KAZ', 'CountryName': 'Kazakhstan'},\n",
       " {'CountryCode': 'KOR', 'CountryName': 'Korea, Republic of'},\n",
       " {'CountryCode': 'MAR', 'CountryName': 'Morocco'},\n",
       " {'CountryCode': 'MEX', 'CountryName': 'Mexico'},\n",
       " {'CountryCode': 'MYS', 'CountryName': 'Malaysia'},\n",
       " {'CountryCode': 'NOR', 'CountryName': 'Norway'},\n",
       " {'CountryCode': 'PER', 'CountryName': 'Peru'},\n",
       " {'CountryCode': 'PHL', 'CountryName': 'Philippines'},\n",
       " {'CountryCode': 'POL', 'CountryName': 'Poland'},\n",
       " {'CountryCode': 'QAT', 'CountryName': 'Qatar'},\n",
       " {'CountryCode': 'RUS', 'CountryName': 'Russian Federation'},\n",
       " {'CountryCode': 'SAU', 'CountryName': 'Saudi Arabia'},\n",
       " {'CountryCode': 'SWE', 'CountryName': 'Sweden'},\n",
       " {'CountryCode': 'THA', 'CountryName': 'Thailand'},\n",
       " {'CountryCode': 'TUR', 'CountryName': 'Turkey'},\n",
       " {'CountryCode': 'TWN', 'CountryName': 'Taiwan, Province of China'},\n",
       " {'CountryCode': 'UKR', 'CountryName': 'Ukraine'},\n",
       " {'CountryCode': 'USA', 'CountryName': 'United States of America'},\n",
       " {'CountryCode': 'VNM', 'CountryName': 'Viet Nam'},\n",
       " {'CountryCode': 'ZAF', 'CountryName': 'South Africa'},\n",
       " {'CountryCode': 'ZMB', 'CountryName': 'Zambia'}]"
      ]
     },
     "execution_count": 58,
     "metadata": {},
     "output_type": "execute_result"
    }
   ],
   "source": [
    "def get_standard_country_codes_and_names() -> List[Dict[str, Any]]:\n",
    "    \"\"\"\n",
    "    Get the standardized country codes and names that are mentioned in the BOM and supply chain data.\n",
    "    Other methods that have country names and code as input will only match data if with these standardized codes/names.\n",
    "    Note that not all countries may be listed, as not all countries are mentioned in intel.\n",
    "    \"\"\"\n",
    "    try:\n",
    "        results = db._execute_query(\"\"\"\n",
    "        MATCH (c:Country)\n",
    "        RETURN c.code as code, c.name as name\n",
    "        \"\"\")\n",
    "        return results\n",
    "    except Exception as e:\n",
    "        return [{\"error\":str(e)}]\n",
    "#test\n",
    "get_standard_country_codes_and_names()"
   ]
  },
  {
   "cell_type": "code",
   "execution_count": 63,
   "metadata": {
    "ExecuteTime": {
     "end_time": "2025-04-23T14:16:58.577071Z",
     "start_time": "2025-04-23T14:16:58.572300Z"
    }
   },
   "outputs": [],
   "source": [
    "from typing import List, Dict\n",
    "\n",
    "\n",
    "def get_products_with_country_dependencies(country_code:str, dependency_search_term: Optional[str] = None) -> List[Dict[str, Any]]:\n",
    "    \"\"\"\n",
    "    Identify finished products that are affected by dependencies on a specific material or resource from a given country.\n",
    "\n",
    "    This function traces the supply chain of finished products to specific materials or resources sourced from a particular country. By analyzing the Bill of Materials (BOM) hierarchy,\n",
    "    it identifies how dependencies on components are linked to the production of finished products.\n",
    "\n",
    "    Key Features:\n",
    "    1. **Country-Specific Dependencies:** Finds components linked to a specific country and determines how their dependencies\n",
    "       impact finished products.\n",
    "    2. **Dependency Search:** Allows optional filtering of dependencies by a search term (e.g., \"nickel\").\n",
    "    3. **Supply Chain Traceability:** Provides detailed paths showing how the affected components feed into finished products.\n",
    "\n",
    "    Args:\n",
    "        country_code (str): The standardized ISO 3166 alpha-3 country code (e.g., \"CAN\" for Canada) to trace dependencies related to a specific country.\n",
    "        dependency_search_term (Optional[str]): A search term to filter specific dependencies (e.g., \"nickel\").\n",
    "            If omitted, all dependencies for the country are considered. keep the search terms short and simple - exact matching is used for criteria\n",
    "\n",
    "    Returns:\n",
    "        List[Dict[str, Any]]: A list where each element represents a finished product impacted by the specified dependencies.\n",
    "        Each entry includes:\n",
    "            - **product_sku_id (str):** The SKU of the finished product.\n",
    "            - **product_name (str):** The name of the finished product.\n",
    "            - **dependencies (list):** A list of dictionaries, with each dictionary representing:\n",
    "                - **depends_on_item_sku_id (str):** The SKU of the component causing the dependency.\n",
    "                - **depends_on_item_name (str):** The name of the component causing the dependency.\n",
    "                - **country_dependency_of_item (list[dict]):** A list of country dependencies associated with the component,\n",
    "                  including:\n",
    "                    - **dependency (str):** A description of the dependency (e.g., \"sourcing nickel\").\n",
    "                    - **country (str):** The country associated with the dependency (e.g., \"Canada\").\n",
    "                - **supply_chain_dependency_for_product (str):** A trace of the supply chain relationship between the component\n",
    "                  and the finished product. This trace is represented as a sequence of SKUs and component names connected by arrows (e.g.,\n",
    "                  \" <- D0301002 (PrecisionBolt_252A1) <- 13952372 (ChassisFrame_3AC3Z)\").\n",
    "\n",
    "    Examples:\n",
    "        - **Query:** country_code = \"CAN\", dependency_search_term = \"nickel\"\n",
    "        - **Output:**\n",
    "            [\n",
    "                {\n",
    "                    \"product_sku_id\": \"35513559\",\n",
    "                    \"product_name\": \"FarmTractor_VLM4F\",\n",
    "                    \"dependencies\": [\n",
    "                        {\n",
    "                            \"depends_on_item_sku_id\": \"D0301002\",\n",
    "                            \"depends_on_item_name\": \"PrecisionBolt_252A1\",\n",
    "                            \"country_dependency_of_item\": [\n",
    "                                {\n",
    "                                    \"dependency\": \"sourcing nickel\",\n",
    "                                    \"country\": \"Canada\"\n",
    "                                }\n",
    "                            ],\n",
    "                            \"supply_chain_dependency_for_product\": \" <- D0301002 (PrecisionBolt_252A1) <- 13978746 (CabWiringUnit_EVKCK)\"\n",
    "                        }\n",
    "                    ]\n",
    "                },\n",
    "                ...\n",
    "            ]\n",
    "    \"\"\"\n",
    "\n",
    "    try:\n",
    "        if dependency_search_term is None:\n",
    "            results = db._execute_query(\"\"\"\n",
    "            MATCH (i:Item)-[r:DEPENDS_ON]->(c:Country {code:$countryCode})\n",
    "            WITH i,r,c\n",
    "            MATCH path = (i)-[:BOM*]->(p {is_finished_product:true})\n",
    "            WITH p.sku_id AS product_sku_id, p.name AS product_name,  i.sku_id AS depends_on_item_sku_id, i.name AS depends_on_item_name, collect({country: c.name, dependency: r.description}) AS known_country_dependency,\n",
    "                ' <- ' + apoc.text.join([n IN reverse(nodes(path)[..-1]) | n.sku_id + ' (' + coalesce(n.name, '') + ')' ], ' <- ') AS supply_chain_dependency\n",
    "            RETURN  product_sku_id, product_name, collect({depends_on_item_sku_id: depends_on_item_sku_id, depends_on_item_name: depends_on_item_name, country_dependency_of_item: known_country_dependency, supply_chain_dependency_for_product: supply_chain_dependency}) AS dependencies\n",
    "            \"\"\", {\"countryCode\": country_code, \"dependencySearchTerm\": dependency_search_term})\n",
    "        else:\n",
    "            results = db._execute_query(\"\"\"\n",
    "            MATCH (i:Item)-[r:DEPENDS_ON]->(c:Country {code:$countryCode})\n",
    "            WHERE  lower(r.description) CONTAINS lower($dependencySearchTerm)\n",
    "            WITH i,r,c\n",
    "            MATCH path = (i)-[:BOM*]->(p {is_finished_product:true})\n",
    "            WITH p.sku_id AS product_sku_id, p.name AS product_name,  i.sku_id AS depends_on_item_sku_id, i.name AS depends_on_item_name, collect({country: c.name, dependency: r.description}) AS known_country_dependency,\n",
    "                ' <- ' + apoc.text.join([n IN reverse(nodes(path)[..-1])| n.sku_id + ' (' + coalesce(n.name, '') + ')' ], ' <- ') AS supply_chain_dependency\n",
    "            RETURN  product_sku_id, product_name, collect({depends_on_item_sku_id: depends_on_item_sku_id, depends_on_item_name: depends_on_item_name, country_dependency_of_item: known_country_dependency, supply_chain_dependency_for_product: supply_chain_dependency}) AS dependencies\n",
    "            \"\"\", {\"countryCode\": country_code, \"dependencySearchTerm\": dependency_search_term})\n",
    "        return results\n",
    "    except Exception as e:\n",
    "        return [{\"error\": str(e)}]"
   ]
  },
  {
   "cell_type": "code",
   "execution_count": 65,
   "metadata": {
    "ExecuteTime": {
     "end_time": "2025-04-23T14:17:14.093431Z",
     "start_time": "2025-04-23T14:17:13.461711Z"
    }
   },
   "outputs": [
    {
     "data": {
      "text/plain": [
       "[{'product_sku_id': '35298723',\n",
       "  'product_name': 'FieldSprayer_BE9WW',\n",
       "  'dependencies': [{'supply_chain_dependency_for_product': ' <- E0301006 (PrecisionBolt_66KS7)',\n",
       "    'depends_on_item_sku_id': 'E0301006',\n",
       "    'depends_on_item_name': 'PrecisionBolt_66KS7',\n",
       "    'country_dependency_of_item': [{'dependency': 'sourcing nickel for alloy',\n",
       "      'country': 'Canada'}]}]},\n",
       " {'product_sku_id': '35298721',\n",
       "  'product_name': 'SeedPlanter_DJG7M',\n",
       "  'dependencies': [{'supply_chain_dependency_for_product': ' <- E0301006 (PrecisionBolt_66KS7)',\n",
       "    'depends_on_item_sku_id': 'E0301006',\n",
       "    'depends_on_item_name': 'PrecisionBolt_66KS7',\n",
       "    'country_dependency_of_item': [{'dependency': 'sourcing nickel for alloy',\n",
       "      'country': 'Canada'}]}]}]"
      ]
     },
     "execution_count": 65,
     "metadata": {},
     "output_type": "execute_result"
    }
   ],
   "source": [
    "get_products_with_country_dependencies(\"CAN\", \"nickel\")[:2]"
   ]
  },
  {
   "cell_type": "code",
   "execution_count": 67,
   "metadata": {
    "ExecuteTime": {
     "end_time": "2025-04-23T14:17:40.709924Z",
     "start_time": "2025-04-23T14:17:39.396043Z"
    }
   },
   "outputs": [
    {
     "data": {
      "text/plain": [
       "[{'product_sku_id': '35296458',\n",
       "  'product_name': 'HayCollector_GSZGQ',\n",
       "  'dependencies': [{'supply_chain_dependency_for_product': ' <- KM100605 (Bolt_HZU3P)',\n",
       "    'depends_on_item_sku_id': 'KM100605',\n",
       "    'depends_on_item_name': 'Bolt_HZU3P',\n",
       "    'country_dependency_of_item': [{'dependency': 'finishing and coating',\n",
       "      'country': 'United States of America'}]}]},\n",
       " {'product_sku_id': '35296455',\n",
       "  'product_name': 'CropHarvester_5EWBJ',\n",
       "  'dependencies': [{'supply_chain_dependency_for_product': ' <- KM100605 (Bolt_HZU3P)',\n",
       "    'depends_on_item_sku_id': 'KM100605',\n",
       "    'depends_on_item_name': 'Bolt_HZU3P',\n",
       "    'country_dependency_of_item': [{'dependency': 'finishing and coating',\n",
       "      'country': 'United States of America'}]}]}]"
      ]
     },
     "execution_count": 67,
     "metadata": {},
     "output_type": "execute_result"
    }
   ],
   "source": [
    "get_products_with_country_dependencies(\"USA\")[:2]"
   ]
  },
  {
   "cell_type": "code",
   "execution_count": 70,
   "metadata": {
    "ExecuteTime": {
     "end_time": "2025-04-23T15:37:46.742973Z",
     "start_time": "2025-04-23T15:37:46.727961Z"
    }
   },
   "outputs": [],
   "source": [
    "def get_supplier_substitutions(supplier_code: str) -> List[Dict[str, Any]]:\n",
    "    \"\"\"\n",
    "    Retrieves substitution recommendations for items (components and/or finished products) supplied by a specific supplier.\n",
    "\n",
    "    This function is designed to assist in scenarios where a supplier (identified by its unique code)\n",
    "    is temporarily or permanently unable to operate or is otherwise designated for substitution.\n",
    "    It identifies items supplied by the specified supplier and recommends other suppliers on the same BOM tier that\n",
    "    can substitute those items. Recommendations are ranked by supplier proximity based on geodistance.\n",
    "\n",
    "    Args:\n",
    "        supplier_code (str): A unique code identifying the supplier in question.\n",
    "\n",
    "    Returns:\n",
    "        list[dict[str, Any]]: A list of dictionaries, each containing details for an item supplied by the specified supplier:\n",
    "            - sku_id (str): The unique identifier for the item.\n",
    "            - name (str): The name or description of the item.\n",
    "            - recommended_supplier (dict): The closest alternative supplier for the item, including:\n",
    "                - code (str): The unique code for the supplier.\n",
    "                - distance (float): The geodistance (in miles) between the original supplier's location and the alternate supplier.\n",
    "              This is `null` if no alternative suppliers are available.\n",
    "            - other_suppliers (list[dict]): A list of additional alternative suppliers, sorted by ascending distance, with each supplier having:\n",
    "                - code (str): The unique code for the supplier.\n",
    "                - distance (float): The geodistance (in miles).\n",
    "              This is an empty list if no additional alternatives are available.\n",
    "\n",
    "    Example Output:\n",
    "        [\n",
    "            {\n",
    "                \"sku_id\": \"28710197\",\n",
    "                \"name\": \"Harness_YU5KA\",\n",
    "                \"recommended_supplier\": {\n",
    "                    \"distance\": 99.65,\n",
    "                    \"code\": \"T4J5DE\"\n",
    "                },\n",
    "                \"other_suppliers\": []\n",
    "            },\n",
    "            {\n",
    "                \"sku_id\": \"28018274\",\n",
    "                \"name\": \"Clamp_MRVR0\",\n",
    "                \"recommended_supplier\": {\n",
    "                    \"distance\": 99.65,\n",
    "                    \"code\": \"T4J5DE\"\n",
    "                },\n",
    "                \"other_suppliers\": [\n",
    "                    {\n",
    "                        \"distance\": 1376.98,\n",
    "                        \"code\": \"RO6UY3\"\n",
    "                    },\n",
    "                    {\n",
    "                        \"distance\": 11170.08,\n",
    "                        \"code\": \"6TIPXK\"\n",
    "                    }\n",
    "                ]\n",
    "            }\n",
    "        ]\n",
    "\n",
    "    \"\"\"\n",
    "    try:\n",
    "        results = db._execute_query(\"\"\"\n",
    "        MATCH (l)<-[:LOCATED_AT]-(s:Supplier {code: $code})<-[:AT]-(i:Item)\n",
    "        OPTIONAL MATCH (i)-[:AT]->(sAlt:Supplier  WHERE sAlt.tier = s.tier AND sAlt <> s)-[:LOCATED_AT]->(lAlt)\n",
    "        WHERE sAlt.tier = s.tier AND sAlt <> s\n",
    "        // Calculate geodistance\n",
    "        WITH i, sAlt, round(point.distance(l.geo_point, lAlt.geo_point) * 0.000621371) AS distance_in_miles\n",
    "        ORDER BY i, distance_in_miles ASC\n",
    "        // Collect recommended supplier and other options\n",
    "        WITH i, collect({code: sAlt.code, distance: distance_in_miles}) AS all_sAlt\n",
    "        RETURN i.sku_id AS sku_id, i.name as name, all_sAlt[0] AS recommended_supplier, tail(all_sAlt) AS other_suppliers\n",
    "        \"\"\", {\"code\":supplier_code})\n",
    "        return results\n",
    "    except Exception as e:\n",
    "        return [{\"error\":str(e)}]"
   ]
  },
  {
   "cell_type": "code",
   "execution_count": 74,
   "metadata": {
    "ExecuteTime": {
     "end_time": "2025-04-23T16:08:55.274206Z",
     "start_time": "2025-04-23T16:08:55.267230Z"
    }
   },
   "outputs": [],
   "source": [
    "def get_finished_products_depending_on_items(sku_ids: List[str]) -> List[Dict[str, Any]]:\n",
    "    \"\"\"\n",
    "    Find finished products that depend on the provided item SKUs in their supply chain.\n",
    "\n",
    "    This function identifies finished products in a supply chain that directly or indirectly rely\n",
    "    on specific items (provided by their SKUs). Using the Bill of Materials (BOM) relationships,\n",
    "    it traces the supply chain dependencies starting from the supplied `sku_ids` and identifies\n",
    "    finished products (`is_finished_product == true`). It also generates a detailed dependency path\n",
    "    for each finished product, showing how the input SKUs are linked to the finished product.\n",
    "\n",
    "    Args:\n",
    "        sku_ids (List[str]): A list of item SKUs to find dependencies for.\n",
    "\n",
    "    Returns:\n",
    "        List[Dict[str, Any]]: A list of dictionaries where each entry corresponds to a finished product.\n",
    "            Each dictionary contains:\n",
    "            - `sku_id` (str): The SKU of the finished product.\n",
    "            - `depends_on_item_sku_ids` (List[str]): A list of unique item SKUs from the input that this\n",
    "              finished product depends on.\n",
    "            - `supply_chain_dependency` (List[str]): A list of dependency paths starting from the finished\n",
    "              product and tracing backward to the input SKUs. Each path is represented as a string,\n",
    "              detailing the SKUs and names of items connected in the workflow. The format of each\n",
    "              path is:\n",
    "              ```\n",
    "              \"<- FinishedProductSKU (FinishedProductName) <- IntermediateSKU (IntermediateName) <- InputSKU (InputName)\"\n",
    "              ```\n",
    "              If there are multiple paths for the same input SKU leading to the finished product, all\n",
    "              paths are included.\n",
    "\n",
    "    Example Output:\n",
    "        [\n",
    "            {\n",
    "                \"sku_id\": \"13867580\",\n",
    "                \"depends_on_item_sku_ids\": [\"B0301002\"],\n",
    "                \"supply_chain_dependency\": [\n",
    "                    \" <- 13578113 (DrivePlatform_B6A4T) <- B0301002 (Bolt_W5F3Y)\"\n",
    "                ]\n",
    "            },\n",
    "            {\n",
    "                \"sku_id\": \"35750243\",\n",
    "                \"depends_on_item_sku_ids\": [\"B0301002\"],\n",
    "                \"supply_chain_dependency\": [\n",
    "                    \" <- 13578113 (DrivePlatform_B6A4T) <- B0301002 (Bolt_W5F3Y)\",\n",
    "                    \" <- 13599782 (MachineRig_IBA4I) <- B0301002 (Bolt_W5F3Y)\"\n",
    "                ]\n",
    "            }\n",
    "        ]\n",
    "\n",
    "    \"\"\"\n",
    "    try:\n",
    "        results = db._execute_query(\"\"\"\n",
    "        MATCH path = (i:Item)-[:BOM*]->(p {is_finished_product: true})\n",
    "        WHERE i.sku_id IN $skuIds\n",
    "\n",
    "        RETURN p.sku_id AS sku_id,\n",
    "          collect(DISTINCT i.sku_id) AS depends_on_item_sku_ids,\n",
    "          collect(' <- ' + apoc.text.join([n IN reverse(nodes(path)[..-1]) | n.sku_id + ' (' + coalesce(n.name, '') + ')' ], ' <- ')) AS supply_chain_dependency\n",
    "        \"\"\", {\"skuIds\":sku_ids})\n",
    "        return results\n",
    "    except Exception as e:\n",
    "        return [{\"error\":str(e)}]"
   ]
  },
  {
   "cell_type": "code",
   "execution_count": 75,
   "metadata": {
    "ExecuteTime": {
     "end_time": "2025-04-23T16:08:58.729829Z",
     "start_time": "2025-04-23T16:08:58.049310Z"
    }
   },
   "outputs": [
    {
     "data": {
      "text/plain": [
       "[{'sku_id': '13867580',\n",
       "  'depends_on_item_sku_ids': ['B0301002'],\n",
       "  'supply_chain_dependency': [' <- 13578113 (DrivePlatform_B6A4T) <- B0301002 (Bolt_W5F3Y)']},\n",
       " {'sku_id': '35750245',\n",
       "  'depends_on_item_sku_ids': ['B0301002'],\n",
       "  'supply_chain_dependency': [' <- 13578113 (DrivePlatform_B6A4T) <- B0301002 (Bolt_W5F3Y)']},\n",
       " {'sku_id': '35750243',\n",
       "  'depends_on_item_sku_ids': ['B0301002'],\n",
       "  'supply_chain_dependency': [' <- 13578113 (DrivePlatform_B6A4T) <- B0301002 (Bolt_W5F3Y)',\n",
       "   ' <- 13599782 (MachineRig_IBA4I) <- B0301002 (Bolt_W5F3Y)']}]"
      ]
     },
     "execution_count": 75,
     "metadata": {},
     "output_type": "execute_result"
    }
   ],
   "source": [
    "get_finished_products_depending_on_items([\"KM100347\", \"B0301002\", \"KM100322\"])[:3]"
   ]
  },
  {
   "cell_type": "code",
   "execution_count": null,
   "metadata": {},
   "outputs": [],
   "source": [
    "#search for dependencies on a\n",
    "\n",
    "#1 get country options - separate function\n",
    "#2 search for countries and dependencies\n",
    "#come dependencies"
   ]
  },
  {
   "cell_type": "markdown",
   "metadata": {
    "id": "meW7SNrTyCgn"
   },
   "source": [
    "# Define our Agents\n",
    "\n",
    "An AI agent reasons, plans, and takes actions.\n",
    "\n",
    "The agent takes actions via access to **tools**, deciding how and when to invoke a tool. The agent also manages orchestration, creating a plan for answering a user query and adapting to responses that aren't quite correct.\n",
    "\n",
    "Agent **tools** can be Python functions, or Vertex AI Extensions, or MCP Servers.\n",
    "\n",
    "## Creating the Database Agent.\n",
    "\n",
    "* display name\n",
    "* instructions - detailed, making it clear exactly how the agent should behave and which tools to use when\n",
    "* tools\n",
    "\n"
   ]
  },
  {
   "cell_type": "code",
   "execution_count": 76,
   "metadata": {
    "ExecuteTime": {
     "end_time": "2025-04-23T16:20:04.113575Z",
     "start_time": "2025-04-23T16:20:04.070201Z"
    },
    "id": "yI9pmcREDKNK",
    "tags": []
   },
   "outputs": [],
   "source": [
    "from google.adk.agents import Agent"
   ]
  },
  {
   "cell_type": "code",
   "execution_count": 77,
   "metadata": {
    "ExecuteTime": {
     "end_time": "2025-04-23T16:20:05.007121Z",
     "start_time": "2025-04-23T16:20:05.004944Z"
    },
    "id": "exrr_oCNLxqZ",
    "tags": []
   },
   "outputs": [],
   "source": [
    "MODEL=\"gemini-2.5-pro-preview-03-25\""
   ]
  },
  {
   "cell_type": "code",
   "execution_count": 78,
   "metadata": {
    "ExecuteTime": {
     "end_time": "2025-04-23T16:20:07.442870Z",
     "start_time": "2025-04-23T16:20:07.433418Z"
    },
    "id": "E7zyD4nvxFy4",
    "tags": []
   },
   "outputs": [],
   "source": [
    "database_agent = Agent(\n",
    "    model=MODEL,\n",
    "    name='graph_database_agent',\n",
    "    instruction=\"\"\"\n",
    "      You are an Neo4j graph database and Cypher query expert, that must use the database schema with a user question and repeatedly generate valid cypher statements\n",
    "      to execute on the database and answer the user's questions in a friendly manner in natural language.\n",
    "      If in doubt the database schema is always prioritized when it comes to nodes-types (labels) or relationship-types or property names, never take the user's input at face value.\n",
    "      If the user requests also render tables, charts or other artifacts with the query results.\n",
    "      Always validate the correct node-labels at the end of a relationship based on the schema.\n",
    "\n",
    "      If a query fails or doesn't return data, use the error response 3 times to try to fix the generated query and re-run it, don't return the error to the user.\n",
    "      If you cannot fix the query, explain the issue to the user and apologize.\n",
    "\n",
    "      Fetch the graph database schema first and keep it in session memory to access later for query generation.\n",
    "      Keep results of previous executions in session memory and access if needed, for instance ids or other attributes of nodes to find them again\n",
    "      removing the need to ask the user. This also allows for generating shorter, more focused and less error-prone queries\n",
    "      to for drill downs, sequences and loops.\n",
    "      If possible resolve names to primary keys or ids and use those for looking up entities.\n",
    "      The schema always indicates *outgoing* relationship-types from an entity to another entity, the graph patterns read like english language.\n",
    "      `company has supplier` would be the pattern `(o:Organization)-[:HAS_SUPPLIER]->(s:Organization)`\n",
    "\n",
    "      To get the schema of a database use the `get_schema` tool without parameters. Store the response of the schema tool in session context\n",
    "      to access later for query generation.\n",
    "\n",
    "      To answer a user question generate one or more Cypher statements based on the database schema and the parts of the user question.\n",
    "      If necessary resolve categorical attributes (like names, countries, industries, publications) first by retrieving them for a set of entities to translate from the user's request.\n",
    "      Use the `execute_query` tool repeatedly with the Cypher statements, you MUST generate statements that use named query parameters with `$parameter` style names\n",
    "      and MUST pass them as a second dictionary parameter to the tool, even if empty.\n",
    "      Parameter data can come from the users requests, prior query results or additional lookup queries.\n",
    "      After the data for the question has been sufficiently retrieved, pass the data and control back to the parent agent.\n",
    "    \"\"\",\n",
    "    tools=[\n",
    "        get_schema, execute_read_query\n",
    "    ]\n",
    ")"
   ]
  },
  {
   "cell_type": "code",
   "execution_count": 79,
   "metadata": {
    "ExecuteTime": {
     "end_time": "2025-04-23T16:20:09.962721Z",
     "start_time": "2025-04-23T16:20:09.960397Z"
    },
    "id": "wm2YPp1eG2WQ",
    "tags": []
   },
   "outputs": [],
   "source": [
    "bom_supplier_research_agent = Agent(\n",
    "    model=MODEL,\n",
    "    name='bom_supplier_research_agent',\n",
    "    instruction=\"\"\"\n",
    "    You are an agent that has access to a database of bill of materials (BOM), supplier, product/component, and customer relationships.\n",
    "    Use the provided tools to answer questions. \n",
    "    when returning information, try to always return not just the factual attribute data but also\n",
    "    codes, skus, and ids to allow the other agents to investigate them more.\n",
    "    \"\"\",\n",
    "    tools=[\n",
    "        get_schema,\n",
    "        get_item,\n",
    "        get_known_item_country_dependencies,\n",
    "        get_item_bill_of_materials,\n",
    "        get_standard_country_codes_and_names,\n",
    "        get_finished_product_families,\n",
    "        get_products_with_country_dependencies,\n",
    "        get_component_families,\n",
    "        get_supplier_substitutions,\n",
    "        get_finished_products_depending_on_items\n",
    "    ]\n",
    ")"
   ]
  },
  {
   "cell_type": "code",
   "execution_count": 80,
   "metadata": {
    "ExecuteTime": {
     "end_time": "2025-04-23T16:20:13.550357Z",
     "start_time": "2025-04-23T16:20:13.547840Z"
    },
    "id": "FSlyylN9HBJh",
    "tags": []
   },
   "outputs": [],
   "source": [
    "root_agent = Agent(\n",
    "    model=MODEL,\n",
    "    name='bom_supplier_agent',\n",
    "    global_instruction = \"\",\n",
    "    instruction=\"\"\"\n",
    "    You are an agent that has access to a database of bill of materials (BOM), supplier, product/component, and customer relationships.\n",
    "    You have a set of agents to retrieve information, you should prefer the research agents over the database agent - particularly for questions around bill of materials, component & product info, and country dependencies. Only use the database agent if you have to as a fallback.\n",
    "    If the user requests it, do render tables, charts or other artifacts with the research results.\n",
    "    \"\"\",\n",
    "\n",
    "    sub_agents=[bom_supplier_research_agent, database_agent]\n",
    ")"
   ]
  },
  {
   "cell_type": "markdown",
   "metadata": {
    "id": "4yRbuebi-Zh6"
   },
   "source": [
    "# Let's try it\n",
    "\n",
    "You can [run the ADK locally](https://google.github.io/adk-docs/get-started/local-testing/#expected-output) a web application with `adk web` or the FastAPI server with `adk api_server`.\n",
    "\n",
    "You can also deploy the agent to [Cloud Run](https://google.github.io/adk-docs/deploy/cloud-run/) or to [Agent Engine](https://google.github.io/adk-docs/deploy/agent-engine/)."
   ]
  },
  {
   "cell_type": "code",
   "execution_count": 81,
   "metadata": {
    "ExecuteTime": {
     "end_time": "2025-04-23T16:20:16.896805Z",
     "start_time": "2025-04-23T16:20:16.892383Z"
    },
    "id": "tyGD1YGaVVK6",
    "tags": []
   },
   "outputs": [],
   "source": [
    "APP_NAME = 'BOM & Supplier Analyst'\n",
    "USER_ID = 'Zach Blumenfeld'\n",
    "\n",
    "from google.adk.runners import InMemoryRunner\n",
    "from google.genai.types import Part, UserContent\n",
    "\n",
    "\n",
    "runner = InMemoryRunner(app_name=APP_NAME, agent=root_agent)\n",
    "\n",
    "session = runner.session_service.create_session( app_name=runner.app_name, user_id=USER_ID)\n",
    "\n",
    "async def run_prompt(new_message: str):\n",
    "  content = UserContent(parts=[Part(text=new_message)])\n",
    "# print (content)\n",
    "  result = None\n",
    "  async for event in runner.run_async(user_id=session.user_id, session_id=session.id, new_message=content):\n",
    "#    print(event.content.model_dump(exclude_none=True))\n",
    "#    print(event.content.parts)\n",
    "    for part in event.content.parts:\n",
    "      print(part.text, part.function_call, part.function_response)\n",
    "      if part.text:\n",
    "#        print(part.text)\n",
    "        result = part.text\n",
    "  return result"
   ]
  },
  {
   "cell_type": "code",
   "execution_count": 82,
   "metadata": {
    "ExecuteTime": {
     "end_time": "2025-04-23T16:20:30.724494Z",
     "start_time": "2025-04-23T16:20:21.812403Z"
    },
    "colab": {
     "base_uri": "https://localhost:8080/",
     "height": 288
    },
    "id": "L_7x-n3Q1km9",
    "outputId": "3d4496d4-3f0e-4a1b-ab60-ab26246ff54a",
    "tags": []
   },
   "outputs": [
    {
     "name": "stdout",
     "output_type": "stream",
     "text": [
      "None id='adk-3fcaecf6-d9bc-4ba0-a731-4942d4725565' args={'agent_name': 'bom_supplier_research_agent'} name='transfer_to_agent' None\n",
      "None None id='adk-3fcaecf6-d9bc-4ba0-a731-4942d4725565' name='transfer_to_agent' response={}\n",
      "None id='adk-b9772497-8695-48c2-ab84-462705d66eff' args={} name='get_finished_product_families' None\n",
      "None None id='adk-b9772497-8695-48c2-ab84-462705d66eff' name='get_finished_product_families' response={'result': [{'family': 'FarmTractor', 'numberOfProducts': 21521}, {'family': 'SeedPlanter', 'numberOfProducts': 21488}, {'family': 'FieldSprayer', 'numberOfProducts': 21519}, {'family': 'CropHarvester', 'numberOfProducts': 21406}, {'family': 'HayCollector', 'numberOfProducts': 21671}, {'family': 'CabWiringUnit', 'numberOfProducts': 17}, {'family': 'ControlAssembly', 'numberOfProducts': 9}, {'family': 'MachineRig', 'numberOfProducts': 14}, {'family': 'HydraulicSystem', 'numberOfProducts': 3}, {'family': 'ChassisFrame', 'numberOfProducts': 9}, {'family': 'DrivePlatform', 'numberOfProducts': 10}]}\n",
      "None id='adk-5e578f09-943a-4387-9f6a-e56d7ff4e47e' args={} name='get_finished_product_families' None\n",
      "None None id='adk-5e578f09-943a-4387-9f6a-e56d7ff4e47e' name='get_finished_product_families' response={'result': [{'family': 'FarmTractor', 'numberOfProducts': 21521}, {'family': 'SeedPlanter', 'numberOfProducts': 21488}, {'family': 'FieldSprayer', 'numberOfProducts': 21519}, {'family': 'CropHarvester', 'numberOfProducts': 21406}, {'family': 'HayCollector', 'numberOfProducts': 21671}, {'family': 'CabWiringUnit', 'numberOfProducts': 17}, {'family': 'ControlAssembly', 'numberOfProducts': 9}, {'family': 'MachineRig', 'numberOfProducts': 14}, {'family': 'HydraulicSystem', 'numberOfProducts': 3}, {'family': 'ChassisFrame', 'numberOfProducts': 9}, {'family': 'DrivePlatform', 'numberOfProducts': 10}]}\n",
      "Here are the types of finished product families in the database:\n",
      "\n",
      "*   **FarmTractor**: 21521 products\n",
      "*   **SeedPlanter**: 21488 products\n",
      "*   **FieldSprayer**: 21519 products\n",
      "*   **CropHarvester**: 21406 products\n",
      "*   **HayCollector**: 21671 products\n",
      "*   **CabWiringUnit**: 17 products\n",
      "*   **ControlAssembly**: 9 products\n",
      "*   **MachineRig**: 14 products\n",
      "*   **HydraulicSystem**: 3 products\n",
      "*   **ChassisFrame**: 9 products\n",
      "*   **DrivePlatform**: 10 products None None\n",
      "\n",
      "\n",
      "\n",
      "\n",
      "Final Response:\n"
     ]
    },
    {
     "data": {
      "text/markdown": [
       "Here are the types of finished product families in the database:\n",
       "\n",
       "*   **FarmTractor**: 21521 products\n",
       "*   **SeedPlanter**: 21488 products\n",
       "*   **FieldSprayer**: 21519 products\n",
       "*   **CropHarvester**: 21406 products\n",
       "*   **HayCollector**: 21671 products\n",
       "*   **CabWiringUnit**: 17 products\n",
       "*   **ControlAssembly**: 9 products\n",
       "*   **MachineRig**: 14 products\n",
       "*   **HydraulicSystem**: 3 products\n",
       "*   **ChassisFrame**: 9 products\n",
       "*   **DrivePlatform**: 10 products"
      ],
      "text/plain": [
       "<IPython.core.display.Markdown object>"
      ]
     },
     "metadata": {},
     "output_type": "display_data"
    }
   ],
   "source": [
    "from IPython.display import Markdown, display\n",
    "\n",
    "res = await run_prompt('what types of finished products are there?')\n",
    "print(\"\\n\\n\\n\\nFinal Response:\")\n",
    "display(Markdown(res))"
   ]
  },
  {
   "cell_type": "code",
   "execution_count": 83,
   "metadata": {
    "ExecuteTime": {
     "end_time": "2025-04-23T16:21:03.837977Z",
     "start_time": "2025-04-23T16:20:40.457716Z"
    }
   },
   "outputs": [
    {
     "name": "stdout",
     "output_type": "stream",
     "text": [
      "None id='adk-3bb24a1d-417c-4662-8b85-424a488a9a8b' args={'sku_id': '35472245A'} name='get_item_bill_of_materials' None\n",
      "None id='adk-a7d36970-34d3-47d6-8caf-a893db316498' args={'sku_id': '35472245A'} name='get_known_item_country_dependencies' None\n",
      "None None id='adk-3bb24a1d-417c-4662-8b85-424a488a9a8b' name='get_item_bill_of_materials' response={'result': [{'supply_chain_dependency': ' <- 35472245 (CabWiringUnit_Z5OO3)'}, {'supply_chain_dependency': ' <- 35472245 (CabWiringUnit_Z5OO3) <- M6495003X (DrivePlatform_SBK8U)'}, {'supply_chain_dependency': ' <- 35472245 (CabWiringUnit_Z5OO3) <- M6499003X (MachineRig_RFYOE)'}, {'supply_chain_dependency': ' <- 35472245 (CabWiringUnit_Z5OO3) <- M6499002X (HydraulicSystem_EE22P)'}, {'supply_chain_dependency': ' <- 35472245 (CabWiringUnit_Z5OO3) <- 35370826 (MachineRig_INWWQ)'}, {'supply_chain_dependency': ' <- 35472245 (CabWiringUnit_Z5OO3) <- 35433612 (ChassisFrame_2GN2W)'}, {'supply_chain_dependency': ' <- 35472245 (CabWiringUnit_Z5OO3) <- 35475030 (ElectricalControlBox_6ROWJ)'}, {'supply_chain_dependency': ' <- 35472245 (CabWiringUnit_Z5OO3) <- 28028534X (ControlAssembly_JRO9M)'}, {'supply_chain_dependency': ' <- 35472245 (CabWiringUnit_Z5OO3) <- 35475154X (CabWiringUnit_VT75O)'}, {'supply_chain_dependency': ' <- 35472245 (CabWiringUnit_Z5OO3) <- 35475154X (CabWiringUnit_VT75O) <- M3571002BX (CabWiringUnit_A9FH4)'}, {'supply_chain_dependency': ' <- 35472245 (CabWiringUnit_Z5OO3) <- 16031437X (CabWiringUnit_EMMHN)'}, {'supply_chain_dependency': ' <- 35472245 (CabWiringUnit_Z5OO3) <- 9396465X (ControlAssembly_0IVY8)'}, {'supply_chain_dependency': ' <- 35472245 (CabWiringUnit_Z5OO3) <- 35464217 (ChassisFrame_E5AF5)'}, {'supply_chain_dependency': ' <- 35472245 (CabWiringUnit_Z5OO3) <- 35472500 (MachineRig_2DXYC)'}, {'supply_chain_dependency': ' <- 35472245 (CabWiringUnit_Z5OO3) <- 35670669X (ChassisFrame_7T52A)'}, {'supply_chain_dependency': ' <- 35472245 (CabWiringUnit_Z5OO3) <- 9396276X (DrivePlatform_7A4OC)'}, {'supply_chain_dependency': ' <- 35472245 (CabWiringUnit_Z5OO3) <- 33225099X (ChassisFrame_AC8YY)'}, {'supply_chain_dependency': ' <- 35472245 (CabWiringUnit_Z5OO3) <- 9396196X (HydraulicSystem_DT9FC)'}, {'supply_chain_dependency': ' <- 35472245 (CabWiringUnit_Z5OO3) <- 16087854X (ChassisFrame_ONS5D)'}, {'supply_chain_dependency': ' <- 35472245 (CabWiringUnit_Z5OO3) <- 16087891X (HydraulicSystem_D21RL)'}, {'supply_chain_dependency': ' <- 35472245 (CabWiringUnit_Z5OO3) <- 16087850X (DrivePlatform_0Q8IF)'}, {'supply_chain_dependency': ' <- 35472245 (CabWiringUnit_Z5OO3) <- 35458978X (ChassisFrame_G6VC6)'}, {'supply_chain_dependency': ' <- 35472245 (CabWiringUnit_Z5OO3) <- 9396190X (CabWiringUnit_K1JQL)'}, {'supply_chain_dependency': ' <- 35472245 (CabWiringUnit_Z5OO3) <- 9396303X (HydraulicSystem_RDXWF)'}, {'supply_chain_dependency': ' <- 35472245 (CabWiringUnit_Z5OO3) <- 33131665X (ControlAssembly_UIV10)'}, {'supply_chain_dependency': ' <- 35472245 (CabWiringUnit_Z5OO3) <- 35473640X (MachineRig_VMN1B)'}, {'supply_chain_dependency': ' <- 35472245 (CabWiringUnit_Z5OO3) <- 35473640X (MachineRig_VMN1B) <- M3571001BX (ControlAssembly_FTEVP)'}, {'supply_chain_dependency': ' <- 35472245 (CabWiringUnit_Z5OO3) <- 35473640X (MachineRig_VMN1B) <- M5772008X (HydraulicSystem_BGWHS)'}, {'supply_chain_dependency': ' <- 35472245 (CabWiringUnit_Z5OO3) <- 35431325 (HydraulicSystem_MKHY3)'}, {'supply_chain_dependency': ' <- 35472245 (CabWiringUnit_Z5OO3) <- 35523080X (CabWiringUnit_UJ3OE)'}, {'supply_chain_dependency': ' <- 35472245 (CabWiringUnit_Z5OO3) <- 35523080X (CabWiringUnit_UJ3OE) <- M7307U91X (RawWire_YCBEO)'}, {'supply_chain_dependency': ' <- 35472245 (CabWiringUnit_Z5OO3) <- 35523087X (CabWiringUnit_CZ0N2)'}, {'supply_chain_dependency': ' <- 35472245 (CabWiringUnit_Z5OO3) <- 35523087X (CabWiringUnit_CZ0N2) <- M7307U92X (PrecisionBolt_O12J1)'}, {'supply_chain_dependency': ' <- 35472245 (CabWiringUnit_Z5OO3) <- 35523089X (DrivePlatform_ZB6KE)'}, {'supply_chain_dependency': ' <- 35472245 (CabWiringUnit_Z5OO3) <- 35523089X (DrivePlatform_ZB6KE) <- M7307U93X (Fastener_CP82S)'}, {'supply_chain_dependency': ' <- 35472245 (CabWiringUnit_Z5OO3) <- 35464158 (MachineRig_OGD8S)'}, {'supply_chain_dependency': ' <- 35472245 (CabWiringUnit_Z5OO3) <- 35115833 (DrivePlatform_TIX6V)'}, {'supply_chain_dependency': ' <- 35472245 (CabWiringUnit_Z5OO3) <- 35464163 (CabWiringUnit_1S7KD)'}]}\n",
      "None None id='adk-a7d36970-34d3-47d6-8caf-a893db316498' name='get_known_item_country_dependencies' response={'result': [{'sku_id': 'M7307U91X', 'name': 'RawWire_YCBEO', 'known_country_dependencies': [{'dependency': 'sourcing raw copper cathode', 'country': 'Chile'}, {'dependency': 'drawing and annealing facilities', 'country': 'Mexico'}, {'dependency': 'drawing and annealing facilities', 'country': 'Viet Nam'}, {'dependency': 'sourcing raw copper cathode', 'country': 'Peru'}], 'supply_chain_dependency': ' <- 35472245 (CabWiringUnit_Z5OO3) <- 35523080X (CabWiringUnit_UJ3OE) <- M7307U91X (RawWire_YCBEO)'}, {'sku_id': 'M7307U92X', 'name': 'PrecisionBolt_O12J1', 'known_country_dependencies': [{'dependency': 'final machining and threading processes', 'country': 'United States of America'}, {'dependency': 'sourcing raw titanium sponge', 'country': 'Japan'}, {'dependency': 'procuring alloying elements (aluminum and vanadium)', 'country': 'Russian Federation'}], 'supply_chain_dependency': ' <- 35472245 (CabWiringUnit_Z5OO3) <- 35523087X (CabWiringUnit_CZ0N2) <- M7307U92X (PrecisionBolt_O12J1)'}, {'sku_id': 'M7307U93X', 'name': 'Fastener_CP82S', 'known_country_dependencies': [{'dependency': 'Precision forging.', 'country': 'Germany'}, {'dependency': 'Sourcing raw titanium.', 'country': 'Russian Federation'}], 'supply_chain_dependency': ' <- 35472245 (CabWiringUnit_Z5OO3) <- 35523089X (DrivePlatform_ZB6KE) <- M7307U93X (Fastener_CP82S)'}]}\n",
      "Okay, here is a summary of the Bill of Materials (BOM) and potential country dependencies for the product associated with SKU `35472245A`.\n",
      "\n",
      "The primary component identified seems to be `35472245 (CabWiringUnit_Z5OO3)`.\n",
      "\n",
      "**Bill of Materials (BOM) Summary:**\n",
      "\n",
      "The product `35472245A` (represented by `35472245 (CabWiringUnit_Z5OO3)`) has a multi-level BOM structure. It incorporates various sub-assemblies and components, including:\n",
      "\n",
      "*   Drive Platforms (e.g., `M6495003X (DrivePlatform_SBK8U)`, `9396276X (DrivePlatform_7A4OC)`)\n",
      "*   Machine Rigs (e.g., `M6499003X (MachineRig_RFYOE)`, `35472500 (MachineRig_2DXYC)`)\n",
      "*   Hydraulic Systems (e.g., `M6499002X (HydraulicSystem_EE22P)`, `9396196X (HydraulicSystem_DT9FC)`)\n",
      "*   Chassis Frames (e.g., `35433612 (ChassisFrame_2GN2W)`, `35464217 (ChassisFrame_E5AF5)`)\n",
      "*   Control Assemblies (e.g., `28028534X (ControlAssembly_JRO9M)`, `9396465X (ControlAssembly_0IVY8)`)\n",
      "*   Other Cab Wiring Units (e.g., `35475154X (CabWiringUnit_VT75O)`, which itself depends on `M3571002BX (CabWiringUnit_A9FH4)`)\n",
      "*   Electrical Components (e.g., `35475030 (ElectricalControlBox_6ROWJ)`)\n",
      "\n",
      "**Known Country Dependencies Summary:**\n",
      "\n",
      "Within the BOM for `35472245A`, the following components have known country dependencies:\n",
      "\n",
      "1.  **Component:** `M7307U91X (RawWire_YCBEO)`\n",
      "    *   **Supply Chain Path:** ` <- 35472245 (CabWiringUnit_Z5OO3) <- 35523080X (CabWiringUnit_UJ3OE) <- M7307U91X (RawWire_YCBEO)`\n",
      "    *   **Dependencies:**\n",
      "        *   Sourcing raw copper cathode: Chile, Peru\n",
      "        *   Drawing and annealing facilities: Mexico, Viet Nam\n",
      "\n",
      "2.  **Component:** `M7307U92X (PrecisionBolt_O12J1)`\n",
      "    *   **Supply Chain Path:** ` <- 35472245 (CabWiringUnit_Z5OO3) <- 35523087X (CabWiringUnit_CZ0N2) <- M7307U92X (PrecisionBolt_O12J1)`\n",
      "    *   **Dependencies:**\n",
      "        *   Sourcing raw titanium sponge: Japan\n",
      "        *   Procuring alloying elements (aluminum and vanadium): Russian Federation\n",
      "        *   Final machining and threading processes: United States of America\n",
      "\n",
      "3.  **Component:** `M7307U93X (Fastener_CP82S)`\n",
      "    *   **Supply Chain Path:** ` <- 35472245 (CabWiringUnit_Z5OO3) <- 35523089X (DrivePlatform_ZB6KE) <- M7307U93X (Fastener_CP82S)`\n",
      "    *   **Dependencies:**\n",
      "        *   Sourcing raw titanium: Russian Federation\n",
      "        *   Precision forging: Germany\n",
      "\n",
      "*Please note that the country dependency data might be incomplete based on available internal intelligence.* None None\n",
      "\n",
      "\n",
      "\n",
      "\n",
      "Final Response:\n"
     ]
    },
    {
     "data": {
      "text/markdown": [
       "Okay, here is a summary of the Bill of Materials (BOM) and potential country dependencies for the product associated with SKU `35472245A`.\n",
       "\n",
       "The primary component identified seems to be `35472245 (CabWiringUnit_Z5OO3)`.\n",
       "\n",
       "**Bill of Materials (BOM) Summary:**\n",
       "\n",
       "The product `35472245A` (represented by `35472245 (CabWiringUnit_Z5OO3)`) has a multi-level BOM structure. It incorporates various sub-assemblies and components, including:\n",
       "\n",
       "*   Drive Platforms (e.g., `M6495003X (DrivePlatform_SBK8U)`, `9396276X (DrivePlatform_7A4OC)`)\n",
       "*   Machine Rigs (e.g., `M6499003X (MachineRig_RFYOE)`, `35472500 (MachineRig_2DXYC)`)\n",
       "*   Hydraulic Systems (e.g., `M6499002X (HydraulicSystem_EE22P)`, `9396196X (HydraulicSystem_DT9FC)`)\n",
       "*   Chassis Frames (e.g., `35433612 (ChassisFrame_2GN2W)`, `35464217 (ChassisFrame_E5AF5)`)\n",
       "*   Control Assemblies (e.g., `28028534X (ControlAssembly_JRO9M)`, `9396465X (ControlAssembly_0IVY8)`)\n",
       "*   Other Cab Wiring Units (e.g., `35475154X (CabWiringUnit_VT75O)`, which itself depends on `M3571002BX (CabWiringUnit_A9FH4)`)\n",
       "*   Electrical Components (e.g., `35475030 (ElectricalControlBox_6ROWJ)`)\n",
       "\n",
       "**Known Country Dependencies Summary:**\n",
       "\n",
       "Within the BOM for `35472245A`, the following components have known country dependencies:\n",
       "\n",
       "1.  **Component:** `M7307U91X (RawWire_YCBEO)`\n",
       "    *   **Supply Chain Path:** ` <- 35472245 (CabWiringUnit_Z5OO3) <- 35523080X (CabWiringUnit_UJ3OE) <- M7307U91X (RawWire_YCBEO)`\n",
       "    *   **Dependencies:**\n",
       "        *   Sourcing raw copper cathode: Chile, Peru\n",
       "        *   Drawing and annealing facilities: Mexico, Viet Nam\n",
       "\n",
       "2.  **Component:** `M7307U92X (PrecisionBolt_O12J1)`\n",
       "    *   **Supply Chain Path:** ` <- 35472245 (CabWiringUnit_Z5OO3) <- 35523087X (CabWiringUnit_CZ0N2) <- M7307U92X (PrecisionBolt_O12J1)`\n",
       "    *   **Dependencies:**\n",
       "        *   Sourcing raw titanium sponge: Japan\n",
       "        *   Procuring alloying elements (aluminum and vanadium): Russian Federation\n",
       "        *   Final machining and threading processes: United States of America\n",
       "\n",
       "3.  **Component:** `M7307U93X (Fastener_CP82S)`\n",
       "    *   **Supply Chain Path:** ` <- 35472245 (CabWiringUnit_Z5OO3) <- 35523089X (DrivePlatform_ZB6KE) <- M7307U93X (Fastener_CP82S)`\n",
       "    *   **Dependencies:**\n",
       "        *   Sourcing raw titanium: Russian Federation\n",
       "        *   Precision forging: Germany\n",
       "\n",
       "*Please note that the country dependency data might be incomplete based on available internal intelligence.*"
      ],
      "text/plain": [
       "<IPython.core.display.Markdown object>"
      ]
     },
     "metadata": {},
     "output_type": "display_data"
    }
   ],
   "source": [
    "res = await run_prompt('Can you summarize the BOM and potential country dependencies for product \"35472245A\"')\n",
    "print(\"\\n\\n\\n\\nFinal Response:\")\n",
    "display(Markdown(res))"
   ]
  },
  {
   "cell_type": "code",
   "execution_count": 84,
   "metadata": {
    "ExecuteTime": {
     "end_time": "2025-04-23T16:22:08.682605Z",
     "start_time": "2025-04-23T16:21:54.868522Z"
    }
   },
   "outputs": [
    {
     "name": "stdout",
     "output_type": "stream",
     "text": [
      "None id='adk-44323e38-eb7e-4f3e-9c92-26e3e59a9c76' args={'country_code': 'CAN', 'dependency_search_term': 'nickel'} name='get_products_with_country_dependencies' None\n",
      "None None id='adk-44323e38-eb7e-4f3e-9c92-26e3e59a9c76' name='get_products_with_country_dependencies' response={'result': [{'product_sku_id': '35298723', 'product_name': 'FieldSprayer_BE9WW', 'dependencies': [{'supply_chain_dependency_for_product': ' <- E0301006 (PrecisionBolt_66KS7)', 'depends_on_item_sku_id': 'E0301006', 'depends_on_item_name': 'PrecisionBolt_66KS7', 'country_dependency_of_item': [{'dependency': 'sourcing nickel for alloy', 'country': 'Canada'}]}]}, {'product_sku_id': '35298721', 'product_name': 'SeedPlanter_DJG7M', 'dependencies': [{'supply_chain_dependency_for_product': ' <- E0301006 (PrecisionBolt_66KS7)', 'depends_on_item_sku_id': 'E0301006', 'depends_on_item_name': 'PrecisionBolt_66KS7', 'country_dependency_of_item': [{'dependency': 'sourcing nickel for alloy', 'country': 'Canada'}]}]}, {'product_sku_id': '35701269', 'product_name': 'FarmTractor_2DYUV', 'dependencies': [{'supply_chain_dependency_for_product': ' <- D0301002 (PrecisionBolt_252A1) <- 13978746 (CabWiringUnit_EVKCK)', 'depends_on_item_sku_id': 'D0301002', 'depends_on_item_name': 'PrecisionBolt_252A1', 'country_dependency_of_item': [{'dependency': 'sourcing nickel', 'country': 'Canada'}]}]}, {'product_sku_id': '35561992', 'product_name': 'SeedPlanter_WM8Z2', 'dependencies': [{'supply_chain_dependency_for_product': ' <- D0301002 (PrecisionBolt_252A1) <- 13978746 (CabWiringUnit_EVKCK)', 'depends_on_item_sku_id': 'D0301002', 'depends_on_item_name': 'PrecisionBolt_252A1', 'country_dependency_of_item': [{'dependency': 'sourcing nickel', 'country': 'Canada'}]}]}, {'product_sku_id': '35733612', 'product_name': 'CropHarvester_ZHSAB', 'dependencies': [{'supply_chain_dependency_for_product': ' <- D0301002 (PrecisionBolt_252A1) <- 13978746 (CabWiringUnit_EVKCK)', 'depends_on_item_sku_id': 'D0301002', 'depends_on_item_name': 'PrecisionBolt_252A1', 'country_dependency_of_item': [{'dependency': 'sourcing nickel', 'country': 'Canada'}]}]}, {'product_sku_id': '35513559', 'product_name': 'FarmTractor_VLM4F', 'dependencies': [{'supply_chain_dependency_for_product': ' <- D0301002 (PrecisionBolt_252A1) <- 13978746 (CabWiringUnit_EVKCK)', 'depends_on_item_sku_id': 'D0301002', 'depends_on_item_name': 'PrecisionBolt_252A1', 'country_dependency_of_item': [{'dependency': 'sourcing nickel', 'country': 'Canada'}]}]}, {'product_sku_id': '35733576', 'product_name': 'FarmTractor_2QT51', 'dependencies': [{'supply_chain_dependency_for_product': ' <- D0301002 (PrecisionBolt_252A1) <- 13978746 (CabWiringUnit_EVKCK)', 'depends_on_item_sku_id': 'D0301002', 'depends_on_item_name': 'PrecisionBolt_252A1', 'country_dependency_of_item': [{'dependency': 'sourcing nickel', 'country': 'Canada'}]}]}, {'product_sku_id': '35861688', 'product_name': 'CropHarvester_V1GUY', 'dependencies': [{'supply_chain_dependency_for_product': ' <- D0301002 (PrecisionBolt_252A1) <- 13952372 (ChassisFrame_3AC3Z)', 'depends_on_item_sku_id': 'D0301002', 'depends_on_item_name': 'PrecisionBolt_252A1', 'country_dependency_of_item': [{'dependency': 'sourcing nickel', 'country': 'Canada'}]}]}, {'product_sku_id': '35775932', 'product_name': 'HayCollector_4APNS', 'dependencies': [{'supply_chain_dependency_for_product': ' <- D0301002 (PrecisionBolt_252A1) <- 13952372 (ChassisFrame_3AC3Z)', 'depends_on_item_sku_id': 'D0301002', 'depends_on_item_name': 'PrecisionBolt_252A1', 'country_dependency_of_item': [{'dependency': 'sourcing nickel', 'country': 'Canada'}]}]}, {'product_sku_id': '35839618', 'product_name': 'HayCollector_UWIBH', 'dependencies': [{'supply_chain_dependency_for_product': ' <- D0301002 (PrecisionBolt_252A1) <- 13952372 (ChassisFrame_3AC3Z)', 'depends_on_item_sku_id': 'D0301002', 'depends_on_item_name': 'PrecisionBolt_252A1', 'country_dependency_of_item': [{'dependency': 'sourcing nickel', 'country': 'Canada'}]}]}, {'product_sku_id': '35764312', 'product_name': 'FieldSprayer_KHWK2', 'dependencies': [{'supply_chain_dependency_for_product': ' <- D0301002 (PrecisionBolt_252A1) <- 13952372 (ChassisFrame_3AC3Z)', 'depends_on_item_sku_id': 'D0301002', 'depends_on_item_name': 'PrecisionBolt_252A1', 'country_dependency_of_item': [{'dependency': 'sourcing nickel', 'country': 'Canada'}]}]}, {'product_sku_id': '35764334', 'product_name': 'HayCollector_6S90S', 'dependencies': [{'supply_chain_dependency_for_product': ' <- D0301002 (PrecisionBolt_252A1) <- 13952372 (ChassisFrame_3AC3Z)', 'depends_on_item_sku_id': 'D0301002', 'depends_on_item_name': 'PrecisionBolt_252A1', 'country_dependency_of_item': [{'dependency': 'sourcing nickel', 'country': 'Canada'}]}]}, {'product_sku_id': '35860398', 'product_name': 'CropHarvester_ABK76', 'dependencies': [{'supply_chain_dependency_for_product': ' <- D0301002 (PrecisionBolt_252A1) <- 13952372 (ChassisFrame_3AC3Z)', 'depends_on_item_sku_id': 'D0301002', 'depends_on_item_name': 'PrecisionBolt_252A1', 'country_dependency_of_item': [{'dependency': 'sourcing nickel', 'country': 'Canada'}]}]}, {'product_sku_id': '35839611', 'product_name': 'SeedPlanter_3J2JW', 'dependencies': [{'supply_chain_dependency_for_product': ' <- D0301002 (PrecisionBolt_252A1) <- 13952372 (ChassisFrame_3AC3Z)', 'depends_on_item_sku_id': 'D0301002', 'depends_on_item_name': 'PrecisionBolt_252A1', 'country_dependency_of_item': [{'dependency': 'sourcing nickel', 'country': 'Canada'}]}]}, {'product_sku_id': '35775931', 'product_name': 'FarmTractor_VOL6Y', 'dependencies': [{'supply_chain_dependency_for_product': ' <- D0301002 (PrecisionBolt_252A1) <- 13952372 (ChassisFrame_3AC3Z)', 'depends_on_item_sku_id': 'D0301002', 'depends_on_item_name': 'PrecisionBolt_252A1', 'country_dependency_of_item': [{'dependency': 'sourcing nickel', 'country': 'Canada'}]}]}, {'product_sku_id': '35845787', 'product_name': 'FarmTractor_IUP4U', 'dependencies': [{'supply_chain_dependency_for_product': ' <- D0301002 (PrecisionBolt_252A1) <- 13952372 (ChassisFrame_3AC3Z)', 'depends_on_item_sku_id': 'D0301002', 'depends_on_item_name': 'PrecisionBolt_252A1', 'country_dependency_of_item': [{'dependency': 'sourcing nickel', 'country': 'Canada'}]}]}, {'product_sku_id': '35839613', 'product_name': 'FieldSprayer_63AJB', 'dependencies': [{'supply_chain_dependency_for_product': ' <- D0301002 (PrecisionBolt_252A1) <- 13952372 (ChassisFrame_3AC3Z)', 'depends_on_item_sku_id': 'D0301002', 'depends_on_item_name': 'PrecisionBolt_252A1', 'country_dependency_of_item': [{'dependency': 'sourcing nickel', 'country': 'Canada'}]}]}, {'product_sku_id': '35841324', 'product_name': 'FarmTractor_HKVNA', 'dependencies': [{'supply_chain_dependency_for_product': ' <- D0301002 (PrecisionBolt_252A1) <- 13952372 (ChassisFrame_3AC3Z)', 'depends_on_item_sku_id': 'D0301002', 'depends_on_item_name': 'PrecisionBolt_252A1', 'country_dependency_of_item': [{'dependency': 'sourcing nickel', 'country': 'Canada'}]}]}, {'product_sku_id': '35764331', 'product_name': 'FarmTractor_LA44E', 'dependencies': [{'supply_chain_dependency_for_product': ' <- D0301002 (PrecisionBolt_252A1) <- 13952372 (ChassisFrame_3AC3Z)', 'depends_on_item_sku_id': 'D0301002', 'depends_on_item_name': 'PrecisionBolt_252A1', 'country_dependency_of_item': [{'dependency': 'sourcing nickel', 'country': 'Canada'}]}]}, {'product_sku_id': '35841333', 'product_name': 'SeedPlanter_1P2R4', 'dependencies': [{'supply_chain_dependency_for_product': ' <- D0301002 (PrecisionBolt_252A1) <- 13952372 (ChassisFrame_3AC3Z)', 'depends_on_item_sku_id': 'D0301002', 'depends_on_item_name': 'PrecisionBolt_252A1', 'country_dependency_of_item': [{'dependency': 'sourcing nickel', 'country': 'Canada'}]}]}, {'product_sku_id': '35839620', 'product_name': 'CropHarvester_YSN76', 'dependencies': [{'supply_chain_dependency_for_product': ' <- D0301002 (PrecisionBolt_252A1) <- 13952372 (ChassisFrame_3AC3Z)', 'depends_on_item_sku_id': 'D0301002', 'depends_on_item_name': 'PrecisionBolt_252A1', 'country_dependency_of_item': [{'dependency': 'sourcing nickel', 'country': 'Canada'}]}]}, {'product_sku_id': '35861691', 'product_name': 'SeedPlanter_D9K9H', 'dependencies': [{'supply_chain_dependency_for_product': ' <- D0301002 (PrecisionBolt_252A1) <- 13952372 (ChassisFrame_3AC3Z)', 'depends_on_item_sku_id': 'D0301002', 'depends_on_item_name': 'PrecisionBolt_252A1', 'country_dependency_of_item': [{'dependency': 'sourcing nickel', 'country': 'Canada'}]}]}, {'product_sku_id': '35866296', 'product_name': 'HayCollector_RVK3E', 'dependencies': [{'supply_chain_dependency_for_product': ' <- D0301002 (PrecisionBolt_252A1) <- 13952372 (ChassisFrame_3AC3Z)', 'depends_on_item_sku_id': 'D0301002', 'depends_on_item_name': 'PrecisionBolt_252A1', 'country_dependency_of_item': [{'dependency': 'sourcing nickel', 'country': 'Canada'}]}]}, {'product_sku_id': '35764327', 'product_name': 'CropHarvester_9YZB9', 'dependencies': [{'supply_chain_dependency_for_product': ' <- D0301002 (PrecisionBolt_252A1) <- 13952372 (ChassisFrame_3AC3Z)', 'depends_on_item_sku_id': 'D0301002', 'depends_on_item_name': 'PrecisionBolt_252A1', 'country_dependency_of_item': [{'dependency': 'sourcing nickel', 'country': 'Canada'}]}]}]}\n",
      "Here are the finished products that depend on nickel sourced from Canada (\"CAN\"), along with the specific component and its relation in the supply chain:\n",
      "\n",
      "**Based on component `E0301006 (PrecisionBolt_66KS7)` (dependency: \"sourcing nickel for alloy\"):**\n",
      "\n",
      "*   **Product:** `35298723` - `FieldSprayer_BE9WW`\n",
      "    *   Supply Chain Path: ` <- E0301006 (PrecisionBolt_66KS7)`\n",
      "*   **Product:** `35298721` - `SeedPlanter_DJG7M`\n",
      "    *   Supply Chain Path: ` <- E0301006 (PrecisionBolt_66KS7)`\n",
      "\n",
      "**Based on component `D0301002 (PrecisionBolt_252A1)` (dependency: \"sourcing nickel\"):**\n",
      "\n",
      "*   **Products connected via `<- D0301002 (PrecisionBolt_252A1) <- 13978746 (CabWiringUnit_EVKCK)`:**\n",
      "    *   `35701269` - `FarmTractor_2DYUV`\n",
      "    *   `35561992` - `SeedPlanter_WM8Z2`\n",
      "    *   `35733612` - `CropHarvester_ZHSAB`\n",
      "    *   `35513559` - `FarmTractor_VLM4F`\n",
      "    *   `35733576` - `FarmTractor_2QT51`\n",
      "*   **Products connected via `<- D0301002 (PrecisionBolt_252A1) <- 13952372 (ChassisFrame_3AC3Z)`:**\n",
      "    *   `35861688` - `CropHarvester_V1GUY`\n",
      "    *   `35775932` - `HayCollector_4APNS`\n",
      "    *   `35839618` - `HayCollector_UWIBH`\n",
      "    *   `35764312` - `FieldSprayer_KHWK2`\n",
      "    *   `35764334` - `HayCollector_6S90S`\n",
      "    *   `35860398` - `CropHarvester_ABK76`\n",
      "    *   `35839611` - `SeedPlanter_3J2JW`\n",
      "    *   `35775931` - `FarmTractor_VOL6Y`\n",
      "    *   `35845787` - `FarmTractor_IUP4U`\n",
      "    *   `35839613` - `FieldSprayer_63AJB`\n",
      "    *   `35841324` - `FarmTractor_HKVNA`\n",
      "    *   `35764331` - `FarmTractor_LA44E`\n",
      "    *   `35841333` - `SeedPlanter_1P2R4`\n",
      "    *   `35839620` - `CropHarvester_YSN76`\n",
      "    *   `35861691` - `SeedPlanter_D9K9H`\n",
      "    *   `35866296` - `HayCollector_RVK3E`\n",
      "    *   `35764327` - `CropHarvester_9YZB9`\n",
      "\n",
      "In summary, several products across the `FieldSprayer`, `SeedPlanter`, `FarmTractor`, `CropHarvester`, and `HayCollector` families depend on Canadian nickel, primarily through the components `PrecisionBolt_66KS7` (SKU: `E0301006`) and `PrecisionBolt_252A1` (SKU: `D0301002`). None None\n",
      "\n",
      "\n",
      "\n",
      "\n",
      "Final Response:\n"
     ]
    },
    {
     "data": {
      "text/markdown": [
       "Here are the finished products that depend on nickel sourced from Canada (\"CAN\"), along with the specific component and its relation in the supply chain:\n",
       "\n",
       "**Based on component `E0301006 (PrecisionBolt_66KS7)` (dependency: \"sourcing nickel for alloy\"):**\n",
       "\n",
       "*   **Product:** `35298723` - `FieldSprayer_BE9WW`\n",
       "    *   Supply Chain Path: ` <- E0301006 (PrecisionBolt_66KS7)`\n",
       "*   **Product:** `35298721` - `SeedPlanter_DJG7M`\n",
       "    *   Supply Chain Path: ` <- E0301006 (PrecisionBolt_66KS7)`\n",
       "\n",
       "**Based on component `D0301002 (PrecisionBolt_252A1)` (dependency: \"sourcing nickel\"):**\n",
       "\n",
       "*   **Products connected via `<- D0301002 (PrecisionBolt_252A1) <- 13978746 (CabWiringUnit_EVKCK)`:**\n",
       "    *   `35701269` - `FarmTractor_2DYUV`\n",
       "    *   `35561992` - `SeedPlanter_WM8Z2`\n",
       "    *   `35733612` - `CropHarvester_ZHSAB`\n",
       "    *   `35513559` - `FarmTractor_VLM4F`\n",
       "    *   `35733576` - `FarmTractor_2QT51`\n",
       "*   **Products connected via `<- D0301002 (PrecisionBolt_252A1) <- 13952372 (ChassisFrame_3AC3Z)`:**\n",
       "    *   `35861688` - `CropHarvester_V1GUY`\n",
       "    *   `35775932` - `HayCollector_4APNS`\n",
       "    *   `35839618` - `HayCollector_UWIBH`\n",
       "    *   `35764312` - `FieldSprayer_KHWK2`\n",
       "    *   `35764334` - `HayCollector_6S90S`\n",
       "    *   `35860398` - `CropHarvester_ABK76`\n",
       "    *   `35839611` - `SeedPlanter_3J2JW`\n",
       "    *   `35775931` - `FarmTractor_VOL6Y`\n",
       "    *   `35845787` - `FarmTractor_IUP4U`\n",
       "    *   `35839613` - `FieldSprayer_63AJB`\n",
       "    *   `35841324` - `FarmTractor_HKVNA`\n",
       "    *   `35764331` - `FarmTractor_LA44E`\n",
       "    *   `35841333` - `SeedPlanter_1P2R4`\n",
       "    *   `35839620` - `CropHarvester_YSN76`\n",
       "    *   `35861691` - `SeedPlanter_D9K9H`\n",
       "    *   `35866296` - `HayCollector_RVK3E`\n",
       "    *   `35764327` - `CropHarvester_9YZB9`\n",
       "\n",
       "In summary, several products across the `FieldSprayer`, `SeedPlanter`, `FarmTractor`, `CropHarvester`, and `HayCollector` families depend on Canadian nickel, primarily through the components `PrecisionBolt_66KS7` (SKU: `E0301006`) and `PrecisionBolt_252A1` (SKU: `D0301002`)."
      ],
      "text/plain": [
       "<IPython.core.display.Markdown object>"
      ]
     },
     "metadata": {},
     "output_type": "display_data"
    }
   ],
   "source": [
    "res = await run_prompt('What products depend on Canada for nickel?')\n",
    "print(\"\\n\\n\\n\\nFinal Response:\")\n",
    "display(Markdown(res))"
   ]
  },
  {
   "cell_type": "code",
   "execution_count": 85,
   "metadata": {
    "ExecuteTime": {
     "end_time": "2025-04-23T16:25:07.923356Z",
     "start_time": "2025-04-23T16:24:46.953320Z"
    }
   },
   "outputs": [
    {
     "name": "stdout",
     "output_type": "stream",
     "text": [
      "None id='adk-12e53214-9114-4333-b7cd-15c3a20fef70' args={'supplier_code': 'YP8UYT'} name='get_supplier_substitutions' None\n",
      "None None id='adk-12e53214-9114-4333-b7cd-15c3a20fef70' name='get_supplier_substitutions' response={'result': [{'sku_id': '28710197', 'name': 'Harness_YU5KA', 'recommended_supplier': {'distance': 100.0, 'code': 'T4J5DE'}, 'other_suppliers': []}, {'sku_id': '28018274', 'name': 'Clamp_MRVR0', 'recommended_supplier': {'distance': 100.0, 'code': 'T4J5DE'}, 'other_suppliers': [{'distance': 1377.0, 'code': 'RO6UY3'}, {'distance': 11170.0, 'code': '6TIPXK'}]}, {'sku_id': 'DED9021006200', 'name': 'HydraulicSystem_KY7NM', 'recommended_supplier': {'distance': 100.0, 'code': 'T4J5DE'}, 'other_suppliers': [{'distance': 11218.0, 'code': '67F8ZB'}]}, {'sku_id': '28189847', 'name': 'Sensor_M5TC1', 'recommended_supplier': {'distance': 100.0, 'code': 'T4J5DE'}, 'other_suppliers': [{'distance': 134.0, 'code': 'EY2DU5'}, {'distance': 1359.0, 'code': 'CC2XO0'}, {'distance': 1377.0, 'code': 'RO6UY3'}, {'distance': 11170.0, 'code': '6TIPXK'}, {'distance': 11218.0, 'code': 'ZCOX6M'}]}, {'sku_id': '28428194', 'name': 'Pulley_JG25U', 'recommended_supplier': {'distance': 100.0, 'code': 'T4J5DE'}, 'other_suppliers': []}, {'sku_id': '16228496', 'name': 'Gear_HIE2T', 'recommended_supplier': {'distance': 100.0, 'code': 'T4J5DE'}, 'other_suppliers': [{'distance': 100.0, 'code': 'JYRKG2'}, {'distance': 134.0, 'code': 'EY2DU5'}, {'distance': 228.0, 'code': 'TCUA8H'}, {'distance': 1377.0, 'code': 'RO6UY3'}, {'distance': 1436.0, 'code': 'PQSIH9'}, {'distance': 1627.0, 'code': 'Z09DJG'}, {'distance': 10187.0, 'code': 'OY1UE5'}, {'distance': 10415.0, 'code': 'R0AZ6C'}, {'distance': 10642.0, 'code': 'NLBFEK'}, {'distance': 11170.0, 'code': '6TIPXK'}, {'distance': 11218.0, 'code': '67F8ZB'}, {'distance': 11218.0, 'code': 'LDZSV0'}, {'distance': 11218.0, 'code': '3VOH4R'}, {'distance': 11218.0, 'code': 'ABGQV8'}, {'distance': 11218.0, 'code': 'DSKDW4'}]}, {'sku_id': '28443180', 'name': 'Belt_TC5XP', 'recommended_supplier': {'distance': 100.0, 'code': 'T4J5DE'}, 'other_suppliers': [{'distance': 1377.0, 'code': 'RO6UY3'}]}, {'sku_id': '28469393', 'name': 'Bearing_XMY98', 'recommended_supplier': {'distance': 0.0, 'code': 'WOYEWL'}, 'other_suppliers': [{'distance': 100.0, 'code': 'T4J5DE'}, {'distance': 100.0, 'code': 'JYRKG2'}, {'distance': 208.0, 'code': '0MW25Z'}, {'distance': 208.0, 'code': 'FP0QV8'}, {'distance': 10187.0, 'code': 'OY1UE5'}, {'distance': 11218.0, 'code': '67F8ZB'}, {'distance': 11218.0, 'code': 'ABGQV8'}]}, {'sku_id': '16249305', 'name': 'GearSet_7MCLV', 'recommended_supplier': {'distance': 100.0, 'code': 'T4J5DE'}, 'other_suppliers': [{'distance': 100.0, 'code': 'JYRKG2'}, {'distance': 432.0, 'code': 'F9MVG2'}, {'distance': 1377.0, 'code': 'RO6UY3'}, {'distance': 1436.0, 'code': 'PQSIH9'}, {'distance': 1627.0, 'code': '1AS9EK'}, {'distance': 10187.0, 'code': 'OY1UE5'}, {'distance': 11170.0, 'code': '6TIPXK'}, {'distance': 11218.0, 'code': 'ABGQV8'}, {'distance': 11218.0, 'code': 'ZCOX6M'}, {'distance': 11218.0, 'code': 'DSKDW4'}]}, {'sku_id': '28202339', 'name': 'HydraulicFitting_B24BJ', 'recommended_supplier': {'distance': 100.0, 'code': 'T4J5DE'}, 'other_suppliers': [{'distance': 100.0, 'code': 'JYRKG2'}, {'distance': 432.0, 'code': 'F9MVG2'}, {'distance': 611.0, 'code': 'MX9142'}, {'distance': 1220.0, 'code': 'OKNNDD'}, {'distance': 1377.0, 'code': 'RO6UY3'}, {'distance': 10642.0, 'code': 'NLBFEK'}, {'distance': 11170.0, 'code': '6TIPXK'}, {'distance': 11218.0, 'code': '67F8ZB'}, {'distance': 11218.0, 'code': 'LDZSV0'}, {'distance': 11218.0, 'code': 'ABGQV8'}, {'distance': 11218.0, 'code': 'ZCOX6M'}]}, {'sku_id': '28232078', 'name': 'Clamp_P9GLY', 'recommended_supplier': {'distance': 100.0, 'code': 'T4J5DE'}, 'other_suppliers': [{'distance': 100.0, 'code': 'JYRKG2'}, {'distance': 432.0, 'code': 'F9MVG2'}, {'distance': 1377.0, 'code': 'RO6UY3'}, {'distance': 1627.0, 'code': 'Z09DJG'}, {'distance': 10187.0, 'code': 'THRFXZ'}, {'distance': 10642.0, 'code': 'NLBFEK'}, {'distance': 11170.0, 'code': '6TIPXK'}, {'distance': 11218.0, 'code': '67F8ZB'}, {'distance': 11218.0, 'code': 'LDZSV0'}, {'distance': 11218.0, 'code': 'ABGQV8'}]}, {'sku_id': '28083943', 'name': 'GearSet_QVLA1', 'recommended_supplier': {'distance': 100.0, 'code': 'T4J5DE'}, 'other_suppliers': [{'distance': 332.0, 'code': '36G09B'}, {'distance': 332.0, 'code': 'AYFNW0'}, {'distance': 332.0, 'code': 'GZWGBJ'}, {'distance': 1377.0, 'code': 'RO6UY3'}, {'distance': 10187.0, 'code': 'OY1UE5'}, {'distance': 10642.0, 'code': 'NLBFEK'}, {'distance': 11161.0, 'code': '6YIZBB'}, {'distance': 11170.0, 'code': '6TIPXK'}]}, {'sku_id': 'DED9230001530', 'name': 'CabWiringUnit_CA92P', 'recommended_supplier': {'distance': 100.0, 'code': 'T4J5DE'}, 'other_suppliers': []}]}\n",
      "Okay, I can help with that. Here are the items supplied by supplier `YP8UYT` and recommended alternative suppliers based on proximity (distance in miles):\n",
      "\n",
      "1.  **Item:** `28710197` - `Harness_YU5KA`\n",
      "    *   **Recommended Supplier:** `T4J5DE` (Distance: 100 miles)\n",
      "    *   **Other Suppliers:** None found.\n",
      "2.  **Item:** `28018274` - `Clamp_MRVR0`\n",
      "    *   **Recommended Supplier:** `T4J5DE` (Distance: 100 miles)\n",
      "    *   **Other Suppliers:**\n",
      "        *   `RO6UY3` (Distance: 1377 miles)\n",
      "        *   `6TIPXK` (Distance: 11170 miles)\n",
      "3.  **Item:** `DED9021006200` - `HydraulicSystem_KY7NM`\n",
      "    *   **Recommended Supplier:** `T4J5DE` (Distance: 100 miles)\n",
      "    *   **Other Suppliers:**\n",
      "        *   `67F8ZB` (Distance: 11218 miles)\n",
      "4.  **Item:** `28189847` - `Sensor_M5TC1`\n",
      "    *   **Recommended Supplier:** `T4J5DE` (Distance: 100 miles)\n",
      "    *   **Other Suppliers:**\n",
      "        *   `EY2DU5` (Distance: 134 miles)\n",
      "        *   `CC2XO0` (Distance: 1359 miles)\n",
      "        *   `RO6UY3` (Distance: 1377 miles)\n",
      "        *   `6TIPXK` (Distance: 11170 miles)\n",
      "        *   `ZCOX6M` (Distance: 11218 miles)\n",
      "5.  **Item:** `28428194` - `Pulley_JG25U`\n",
      "    *   **Recommended Supplier:** `T4J5DE` (Distance: 100 miles)\n",
      "    *   **Other Suppliers:** None found.\n",
      "6.  **Item:** `16228496` - `Gear_HIE2T`\n",
      "    *   **Recommended Supplier:** `T4J5DE` (Distance: 100 miles)\n",
      "    *   **Other Suppliers:**\n",
      "        *   `JYRKG2` (Distance: 100 miles)\n",
      "        *   `EY2DU5` (Distance: 134 miles)\n",
      "        *   `TCUA8H` (Distance: 228 miles)\n",
      "        *   `RO6UY3` (Distance: 1377 miles)\n",
      "        *   `PQSIH9` (Distance: 1436 miles)\n",
      "        *   `Z09DJG` (Distance: 1627 miles)\n",
      "        *   `OY1UE5` (Distance: 10187 miles)\n",
      "        *   `R0AZ6C` (Distance: 10415 miles)\n",
      "        *   `NLBFEK` (Distance: 10642 miles)\n",
      "        *   `6TIPXK` (Distance: 11170 miles)\n",
      "        *   `67F8ZB`, `LDZSV0`, `3VOH4R`, `ABGQV8`, `DSKDW4` (all Distance: 11218 miles)\n",
      "7.  **Item:** `28443180` - `Belt_TC5XP`\n",
      "    *   **Recommended Supplier:** `T4J5DE` (Distance: 100 miles)\n",
      "    *   **Other Suppliers:**\n",
      "        *   `RO6UY3` (Distance: 1377 miles)\n",
      "8.  **Item:** `28469393` - `Bearing_XMY98`\n",
      "    *   **Recommended Supplier:** `WOYEWL` (Distance: 0 miles - *Note: Distance 0 suggests this might be the same location or a very close co-located supplier*)\n",
      "    *   **Other Suppliers:**\n",
      "        *   `T4J5DE` (Distance: 100 miles)\n",
      "        *   `JYRKG2` (Distance: 100 miles)\n",
      "        *   `0MW25Z` (Distance: 208 miles)\n",
      "        *   `FP0QV8` (Distance: 208 miles)\n",
      "        *   `OY1UE5` (Distance: 10187 miles)\n",
      "        *   `67F8ZB`, `ABGQV8` (both Distance: 11218 miles)\n",
      "9.  **Item:** `16249305` - `GearSet_7MCLV`\n",
      "    *   **Recommended Supplier:** `T4J5DE` (Distance: 100 miles)\n",
      "    *   **Other Suppliers:**\n",
      "        *   `JYRKG2` (Distance: 100 miles)\n",
      "        *   `F9MVG2` (Distance: 432 miles)\n",
      "        *   `RO6UY3` (Distance: 1377 miles)\n",
      "        *   `PQSIH9` (Distance: 1436 miles)\n",
      "        *   `1AS9EK` (Distance: 1627 miles)\n",
      "        *   `OY1UE5` (Distance: 10187 miles)\n",
      "        *   `6TIPXK` (Distance: 11170 miles)\n",
      "        *   `ABGQV8`, `ZCOX6M`, `DSKDW4` (all Distance: 11218 miles)\n",
      "10. **Item:** `28202339` - `HydraulicFitting_B24BJ`\n",
      "    *   **Recommended Supplier:** `T4J5DE` (Distance: 100 miles)\n",
      "    *   **Other Suppliers:**\n",
      "        *   `JYRKG2` (Distance: 100 miles)\n",
      "        *   `F9MVG2` (Distance: 432 miles)\n",
      "        *   `MX9142` (Distance: 611 miles)\n",
      "        *   `OKNNDD` (Distance: 1220 miles)\n",
      "        *   `RO6UY3` (Distance: 1377 miles)\n",
      "        *   `NLBFEK` (Distance: 10642 miles)\n",
      "        *   `6TIPXK` (Distance: 11170 miles)\n",
      "        *   `67F8ZB`, `LDZSV0`, `ABGQV8`, `ZCOX6M` (all Distance: 11218 miles)\n",
      "11. **Item:** `28232078` - `Clamp_P9GLY`\n",
      "    *   **Recommended Supplier:** `T4J5DE` (Distance: 100 miles)\n",
      "    *   **Other Suppliers:**\n",
      "        *   `JYRKG2` (Distance: 100 miles)\n",
      "        *   `F9MVG2` (Distance: 432 miles)\n",
      "        *   `RO6UY3` (Distance: 1377 miles)\n",
      "        *   `Z09DJG` (Distance: 1627 miles)\n",
      "        *   `THRFXZ` (Distance: 10187 miles)\n",
      "        *   `NLBFEK` (Distance: 10642 miles)\n",
      "        *   `6TIPXK` (Distance: 11170 miles)\n",
      "        *   `67F8ZB`, `LDZSV0`, `ABGQV8` (all Distance: 11218 miles)\n",
      "12. **Item:** `28083943` - `GearSet_QVLA1`\n",
      "    *   **Recommended Supplier:** `T4J5DE` (Distance: 100 miles)\n",
      "    *   **Other Suppliers:**\n",
      "        *   `36G09B`, `AYFNW0`, `GZWGBJ` (all Distance: 332 miles)\n",
      "        *   `RO6UY3` (Distance: 1377 miles)\n",
      "        *   `OY1UE5` (Distance: 10187 miles)\n",
      "        *   `NLBFEK` (Distance: 10642 miles)\n",
      "        *   `6YIZBB` (Distance: 11161 miles)\n",
      "        *   `6TIPXK` (Distance: 11170 miles)\n",
      "13. **Item:** `DED9230001530` - `CabWiringUnit_CA92P`\n",
      "    *   **Recommended Supplier:** `T4J5DE` (Distance: 100 miles)\n",
      "    *   **Other Suppliers:** None found.\n",
      "\n",
      "This list provides the closest recommended supplier (`T4J5DE` appears frequently) and other options sorted by distance for each component previously supplied by `YP8UYT`. You can use the supplier codes (e.g., `T4J5DE`, `RO6UY3`) for further investigation if needed. None None\n",
      "\n",
      "\n",
      "\n",
      "\n",
      "Final Response:\n"
     ]
    },
    {
     "data": {
      "text/markdown": [
       "Okay, I can help with that. Here are the items supplied by supplier `YP8UYT` and recommended alternative suppliers based on proximity (distance in miles):\n",
       "\n",
       "1.  **Item:** `28710197` - `Harness_YU5KA`\n",
       "    *   **Recommended Supplier:** `T4J5DE` (Distance: 100 miles)\n",
       "    *   **Other Suppliers:** None found.\n",
       "2.  **Item:** `28018274` - `Clamp_MRVR0`\n",
       "    *   **Recommended Supplier:** `T4J5DE` (Distance: 100 miles)\n",
       "    *   **Other Suppliers:**\n",
       "        *   `RO6UY3` (Distance: 1377 miles)\n",
       "        *   `6TIPXK` (Distance: 11170 miles)\n",
       "3.  **Item:** `DED9021006200` - `HydraulicSystem_KY7NM`\n",
       "    *   **Recommended Supplier:** `T4J5DE` (Distance: 100 miles)\n",
       "    *   **Other Suppliers:**\n",
       "        *   `67F8ZB` (Distance: 11218 miles)\n",
       "4.  **Item:** `28189847` - `Sensor_M5TC1`\n",
       "    *   **Recommended Supplier:** `T4J5DE` (Distance: 100 miles)\n",
       "    *   **Other Suppliers:**\n",
       "        *   `EY2DU5` (Distance: 134 miles)\n",
       "        *   `CC2XO0` (Distance: 1359 miles)\n",
       "        *   `RO6UY3` (Distance: 1377 miles)\n",
       "        *   `6TIPXK` (Distance: 11170 miles)\n",
       "        *   `ZCOX6M` (Distance: 11218 miles)\n",
       "5.  **Item:** `28428194` - `Pulley_JG25U`\n",
       "    *   **Recommended Supplier:** `T4J5DE` (Distance: 100 miles)\n",
       "    *   **Other Suppliers:** None found.\n",
       "6.  **Item:** `16228496` - `Gear_HIE2T`\n",
       "    *   **Recommended Supplier:** `T4J5DE` (Distance: 100 miles)\n",
       "    *   **Other Suppliers:**\n",
       "        *   `JYRKG2` (Distance: 100 miles)\n",
       "        *   `EY2DU5` (Distance: 134 miles)\n",
       "        *   `TCUA8H` (Distance: 228 miles)\n",
       "        *   `RO6UY3` (Distance: 1377 miles)\n",
       "        *   `PQSIH9` (Distance: 1436 miles)\n",
       "        *   `Z09DJG` (Distance: 1627 miles)\n",
       "        *   `OY1UE5` (Distance: 10187 miles)\n",
       "        *   `R0AZ6C` (Distance: 10415 miles)\n",
       "        *   `NLBFEK` (Distance: 10642 miles)\n",
       "        *   `6TIPXK` (Distance: 11170 miles)\n",
       "        *   `67F8ZB`, `LDZSV0`, `3VOH4R`, `ABGQV8`, `DSKDW4` (all Distance: 11218 miles)\n",
       "7.  **Item:** `28443180` - `Belt_TC5XP`\n",
       "    *   **Recommended Supplier:** `T4J5DE` (Distance: 100 miles)\n",
       "    *   **Other Suppliers:**\n",
       "        *   `RO6UY3` (Distance: 1377 miles)\n",
       "8.  **Item:** `28469393` - `Bearing_XMY98`\n",
       "    *   **Recommended Supplier:** `WOYEWL` (Distance: 0 miles - *Note: Distance 0 suggests this might be the same location or a very close co-located supplier*)\n",
       "    *   **Other Suppliers:**\n",
       "        *   `T4J5DE` (Distance: 100 miles)\n",
       "        *   `JYRKG2` (Distance: 100 miles)\n",
       "        *   `0MW25Z` (Distance: 208 miles)\n",
       "        *   `FP0QV8` (Distance: 208 miles)\n",
       "        *   `OY1UE5` (Distance: 10187 miles)\n",
       "        *   `67F8ZB`, `ABGQV8` (both Distance: 11218 miles)\n",
       "9.  **Item:** `16249305` - `GearSet_7MCLV`\n",
       "    *   **Recommended Supplier:** `T4J5DE` (Distance: 100 miles)\n",
       "    *   **Other Suppliers:**\n",
       "        *   `JYRKG2` (Distance: 100 miles)\n",
       "        *   `F9MVG2` (Distance: 432 miles)\n",
       "        *   `RO6UY3` (Distance: 1377 miles)\n",
       "        *   `PQSIH9` (Distance: 1436 miles)\n",
       "        *   `1AS9EK` (Distance: 1627 miles)\n",
       "        *   `OY1UE5` (Distance: 10187 miles)\n",
       "        *   `6TIPXK` (Distance: 11170 miles)\n",
       "        *   `ABGQV8`, `ZCOX6M`, `DSKDW4` (all Distance: 11218 miles)\n",
       "10. **Item:** `28202339` - `HydraulicFitting_B24BJ`\n",
       "    *   **Recommended Supplier:** `T4J5DE` (Distance: 100 miles)\n",
       "    *   **Other Suppliers:**\n",
       "        *   `JYRKG2` (Distance: 100 miles)\n",
       "        *   `F9MVG2` (Distance: 432 miles)\n",
       "        *   `MX9142` (Distance: 611 miles)\n",
       "        *   `OKNNDD` (Distance: 1220 miles)\n",
       "        *   `RO6UY3` (Distance: 1377 miles)\n",
       "        *   `NLBFEK` (Distance: 10642 miles)\n",
       "        *   `6TIPXK` (Distance: 11170 miles)\n",
       "        *   `67F8ZB`, `LDZSV0`, `ABGQV8`, `ZCOX6M` (all Distance: 11218 miles)\n",
       "11. **Item:** `28232078` - `Clamp_P9GLY`\n",
       "    *   **Recommended Supplier:** `T4J5DE` (Distance: 100 miles)\n",
       "    *   **Other Suppliers:**\n",
       "        *   `JYRKG2` (Distance: 100 miles)\n",
       "        *   `F9MVG2` (Distance: 432 miles)\n",
       "        *   `RO6UY3` (Distance: 1377 miles)\n",
       "        *   `Z09DJG` (Distance: 1627 miles)\n",
       "        *   `THRFXZ` (Distance: 10187 miles)\n",
       "        *   `NLBFEK` (Distance: 10642 miles)\n",
       "        *   `6TIPXK` (Distance: 11170 miles)\n",
       "        *   `67F8ZB`, `LDZSV0`, `ABGQV8` (all Distance: 11218 miles)\n",
       "12. **Item:** `28083943` - `GearSet_QVLA1`\n",
       "    *   **Recommended Supplier:** `T4J5DE` (Distance: 100 miles)\n",
       "    *   **Other Suppliers:**\n",
       "        *   `36G09B`, `AYFNW0`, `GZWGBJ` (all Distance: 332 miles)\n",
       "        *   `RO6UY3` (Distance: 1377 miles)\n",
       "        *   `OY1UE5` (Distance: 10187 miles)\n",
       "        *   `NLBFEK` (Distance: 10642 miles)\n",
       "        *   `6YIZBB` (Distance: 11161 miles)\n",
       "        *   `6TIPXK` (Distance: 11170 miles)\n",
       "13. **Item:** `DED9230001530` - `CabWiringUnit_CA92P`\n",
       "    *   **Recommended Supplier:** `T4J5DE` (Distance: 100 miles)\n",
       "    *   **Other Suppliers:** None found.\n",
       "\n",
       "This list provides the closest recommended supplier (`T4J5DE` appears frequently) and other options sorted by distance for each component previously supplied by `YP8UYT`. You can use the supplier codes (e.g., `T4J5DE`, `RO6UY3`) for further investigation if needed."
      ],
      "text/plain": [
       "<IPython.core.display.Markdown object>"
      ]
     },
     "metadata": {},
     "output_type": "display_data"
    }
   ],
   "source": [
    "res = await run_prompt('Supplier YP8UYT had a fire and is out of ooperation. I need to source alternatives.  Can you help?')\n",
    "print(\"\\n\\n\\n\\nFinal Response:\")\n",
    "display(Markdown(res))"
   ]
  },
  {
   "cell_type": "code",
   "execution_count": 86,
   "metadata": {
    "ExecuteTime": {
     "end_time": "2025-04-23T16:27:31.939218Z",
     "start_time": "2025-04-23T16:27:31.905297Z"
    },
    "colab": {
     "base_uri": "https://localhost:8080/"
    },
    "id": "bsutZ5xe2TxK",
    "outputId": "5cb66b09-9a28-4d36-b00a-0d8fd33044b1"
   },
   "outputs": [
    {
     "name": "stdout",
     "output_type": "stream",
     "text": [
      "{'id': '1dc8f2e6-b83e-4520-8793-de95f15df8c6', 'app_name': 'BOM & Supplier Analyst', 'user_id': 'Zach Blumenfeld', 'state': {}, 'events': [], 'last_update_time': 1745425492.120841}\n"
     ]
    }
   ],
   "source": [
    "for session in runner.session_service.list_sessions(app_name=APP_NAME, user_id=USER_ID).sessions:\n",
    "  print(session.model_dump())"
   ]
  },
  {
   "cell_type": "code",
   "execution_count": 87,
   "metadata": {
    "ExecuteTime": {
     "end_time": "2025-04-23T16:27:51.186485Z",
     "start_time": "2025-04-23T16:27:34.218753Z"
    },
    "colab": {
     "base_uri": "https://localhost:8080/",
     "height": 198
    },
    "id": "1LBAZrGX7cQa",
    "outputId": "2f58cc04-952a-4023-c818-737df992b8d9"
   },
   "outputs": [
    {
     "name": "stdout",
     "output_type": "stream",
     "text": [
      "Okay, here's a summary of our conversation and the research findings:\n",
      "\n",
      "1.  **Finished Product Families:** You asked for the types of finished products. We identified several families, including `FarmTractor`, `SeedPlanter`, `FieldSprayer`, `CropHarvester`, `HayCollector`, and smaller numbers of units like `CabWiringUnit`, `ControlAssembly`, `MachineRig`, `HydraulicSystem`, `ChassisFrame`, and `DrivePlatform`.\n",
      "2.  **BOM and Dependencies for 35472245A:** We examined the product `35472245A` (identified as `35472245 (CabWiringUnit_Z5OO3)`).\n",
      "    *   **BOM:** It has a complex Bill of Materials including various sub-assemblies like Drive Platforms, Machine Rigs, Hydraulic Systems, Chassis Frames, Control Assemblies, and other Cab Wiring Units.\n",
      "    *   **Country Dependencies:** Specific components within its BOM, such as `M7307U91X (RawWire_YCBEO)`, `M7307U92X (PrecisionBolt_O12J1)`, and `M7307U93X (Fastener_CP82S)`, have known dependencies on countries like Chile, Peru (copper), Mexico, Viet Nam (drawing/annealing), Japan (titanium sponge), Russia (alloying elements, titanium), USA (machining), and Germany (forging).\n",
      "3.  **Canadian Nickel Dependencies:** You asked which products depend on nickel from Canada (`CAN`).\n",
      "    *   We found that several finished products in the `FieldSprayer`, `SeedPlanter`, `FarmTractor`, `CropHarvester`, and `HayCollector` families are affected.\n",
      "    *   This dependency stems primarily from two components: `E0301006 (PrecisionBolt_66KS7)` and `D0301002 (PrecisionBolt_252A1)`, which rely on Canadian nickel sourcing.\n",
      "4.  **Supplier Substitution for YP8UYT:** Due to a disruption (fire) at supplier `YP8UYT`, you needed alternative sources.\n",
      "    *   We identified the specific items (components like `Harness_YU5KA`, `Clamp_MRVR0`, `Gear_HIE2T`, `Bearing_XMY98`, etc.) supplied by `YP8UYT`.\n",
      "    *   For each item, we provided a list of potential substitute suppliers, ranked by geographical proximity (distance in miles), including a primary recommended supplier (often `T4J5DE`) and other alternatives with their respective codes and distances. None None\n",
      "\n",
      "\n",
      "\n",
      "\n",
      "Final Response:\n"
     ]
    },
    {
     "data": {
      "text/markdown": [
       "Okay, here's a summary of our conversation and the research findings:\n",
       "\n",
       "1.  **Finished Product Families:** You asked for the types of finished products. We identified several families, including `FarmTractor`, `SeedPlanter`, `FieldSprayer`, `CropHarvester`, `HayCollector`, and smaller numbers of units like `CabWiringUnit`, `ControlAssembly`, `MachineRig`, `HydraulicSystem`, `ChassisFrame`, and `DrivePlatform`.\n",
       "2.  **BOM and Dependencies for 35472245A:** We examined the product `35472245A` (identified as `35472245 (CabWiringUnit_Z5OO3)`).\n",
       "    *   **BOM:** It has a complex Bill of Materials including various sub-assemblies like Drive Platforms, Machine Rigs, Hydraulic Systems, Chassis Frames, Control Assemblies, and other Cab Wiring Units.\n",
       "    *   **Country Dependencies:** Specific components within its BOM, such as `M7307U91X (RawWire_YCBEO)`, `M7307U92X (PrecisionBolt_O12J1)`, and `M7307U93X (Fastener_CP82S)`, have known dependencies on countries like Chile, Peru (copper), Mexico, Viet Nam (drawing/annealing), Japan (titanium sponge), Russia (alloying elements, titanium), USA (machining), and Germany (forging).\n",
       "3.  **Canadian Nickel Dependencies:** You asked which products depend on nickel from Canada (`CAN`).\n",
       "    *   We found that several finished products in the `FieldSprayer`, `SeedPlanter`, `FarmTractor`, `CropHarvester`, and `HayCollector` families are affected.\n",
       "    *   This dependency stems primarily from two components: `E0301006 (PrecisionBolt_66KS7)` and `D0301002 (PrecisionBolt_252A1)`, which rely on Canadian nickel sourcing.\n",
       "4.  **Supplier Substitution for YP8UYT:** Due to a disruption (fire) at supplier `YP8UYT`, you needed alternative sources.\n",
       "    *   We identified the specific items (components like `Harness_YU5KA`, `Clamp_MRVR0`, `Gear_HIE2T`, `Bearing_XMY98`, etc.) supplied by `YP8UYT`.\n",
       "    *   For each item, we provided a list of potential substitute suppliers, ranked by geographical proximity (distance in miles), including a primary recommended supplier (often `T4J5DE`) and other alternatives with their respective codes and distances."
      ],
      "text/plain": [
       "<IPython.core.display.Markdown object>"
      ]
     },
     "metadata": {},
     "output_type": "display_data"
    }
   ],
   "source": [
    "result = await run_prompt(\"Summarize the results of the previous research questions\")\n",
    "print(\"\\n\\n\\n\\nFinal Response:\")\n",
    "display(Markdown(result))"
   ]
  },
  {
   "cell_type": "code",
   "execution_count": 66,
   "metadata": {
    "ExecuteTime": {
     "end_time": "2025-04-21T01:41:31.820235Z",
     "start_time": "2025-04-21T01:41:31.814768Z"
    },
    "colab": {
     "base_uri": "https://localhost:8080/"
    },
    "id": "2DWthTncLmtm",
    "outputId": "e619ee13-cf4f-44c5-a273-a78905f05776"
   },
   "outputs": [
    {
     "name": "stdout",
     "output_type": "stream",
     "text": [
      "Deleting session id='6bb051de-50d7-4739-ac26-be45b6ed51c4' app_name='BOM & Supplier Analyst' user_id='Zach Blumenfeld' state={} events=[] last_update_time=1745199634.542561\n"
     ]
    }
   ],
   "source": [
    "for session in runner.session_service.list_sessions(app_name=APP_NAME, user_id=USER_ID).sessions:\n",
    "  print(f\"Deleting session {session}\")\n",
    "  runner.session_service.delete_session(app_name=APP_NAME, user_id=USER_ID, session_id=session.id)"
   ]
  }
 ],
 "metadata": {
  "colab": {
   "provenance": []
  },
  "environment": {
   "kernel": "conda-base-py",
   "name": "workbench-notebooks.m129",
   "type": "gcloud",
   "uri": "us-docker.pkg.dev/deeplearning-platform-release/gcr.io/workbench-notebooks:m129"
  },
  "kernelspec": {
   "display_name": "Python 3 (ipykernel)",
   "language": "python",
   "name": "python3"
  },
  "language_info": {
   "codemirror_mode": {
    "name": "ipython",
    "version": 3
   },
   "file_extension": ".py",
   "mimetype": "text/x-python",
   "name": "python",
   "nbconvert_exporter": "python",
   "pygments_lexer": "ipython3",
   "version": "3.11.6"
  }
 },
 "nbformat": 4,
 "nbformat_minor": 4
}
